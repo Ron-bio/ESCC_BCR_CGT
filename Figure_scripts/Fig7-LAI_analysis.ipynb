{
 "cells": [
  {
   "cell_type": "code",
   "execution_count": 4,
   "metadata": {
    "vscode": {
     "languageId": "r"
    }
   },
   "outputs": [],
   "source": [
    "library(ggplot2)\n",
    "library(plyr)\n",
    "library(dplyr)\n",
    "library(data.table)\n",
    "library(tidyr)\n",
    "library(tidyverse)\n",
    "library(ggplot2)\n",
    "library(ggsignif) \n",
    "library(ggpubr) \n",
    "library(reshape2)\n",
    "library(ggsci) \n",
    "library(stringr)\n",
    "library(ggvenn)\n",
    "library(ggpubr)\n",
    "\n",
    "library(dowser)\n",
    "library(ggtree)\n",
    "\n",
    "options(repr.matrix.max.rows=600, repr.matrix.max.cols=200) \n",
    "options(repr.plot.width = 6, repr.plot.height = 6)"
   ]
  },
  {
   "cell_type": "code",
   "execution_count": 5,
   "metadata": {
    "vscode": {
     "languageId": "r"
    }
   },
   "outputs": [],
   "source": [
    "#IG类型比较\n",
    "mypal <- ggsci::pal_npg(palette =\"nrc\", alpha = 0.7)(10)\n",
    "mypal2<-ggsci::pal_jama(palette =\"default\", alpha = 0.7)(6)\n",
    "mypal3<-ggsci::pal_lancet(palette =\"lanonc\", alpha = 0.7)(9)\n",
    "mypal4 <- ggsci::pal_npg(palette =\"nrc\", alpha = 0.5)(10)\n",
    "mypal5<-ggsci::pal_jama(palette =\"default\", alpha = 0.5)(6)\n",
    "mypal6<-ggsci::pal_lancet(palette =\"lanonc\", alpha = 0.5)(9)\n",
    "mypal7 <- ggsci::pal_npg(palette =\"nrc\", alpha = 0.3)(10)\n",
    "mypal8<-ggsci::pal_jama(palette =\"default\", alpha = 0.3)(6)\n",
    "mypal9<-ggsci::pal_lancet(palette =\"lanonc\", alpha = 0.3)(9)\n",
    "\n",
    "mypal<-c(mypal3,mypal2,mypal,mypal6,mypal5,mypal4,mypal9,mypal8,mypal7)\n",
    "mypal[3]<-\"#FFBD7A\"\n"
   ]
  },
  {
   "attachments": {},
   "cell_type": "markdown",
   "metadata": {},
   "source": [
    "## 1.1 读取L样本与T样本的平均overlap数据"
   ]
  },
  {
   "cell_type": "code",
   "execution_count": 7,
   "metadata": {
    "vscode": {
     "languageId": "r"
    }
   },
   "outputs": [
    {
     "data": {
      "text/html": [
       "27"
      ],
      "text/latex": [
       "27"
      ],
      "text/markdown": [
       "27"
      ],
      "text/plain": [
       "[1] 27"
      ]
     },
     "metadata": {},
     "output_type": "display_data"
    }
   ],
   "source": [
    "db<-fread(\"all3up_clone-pass_germ-pass_mutation-pass_selected_rows.tsv\")%>%as.data.frame()\n",
    "db$sample=str_split(db$sequence_id,\"_\",simplify = TRUE)[,1]\n",
    "db$patient=str_sub(db$sequence_id,1,7)\n",
    "db$tissue=str_sub(db$sequence_id,8,8)\n",
    "db$tissue<-factor(db$tissue,levels=c(\"T\",\"N\",\"L\"),ordered = TRUE)\n",
    "#db$c_call<-factor(db$c_call,levels=c(\"IGHD\",\"IGHM\",\"IGHA1\",\"IGHA2\",\"IGHG1\",\"IGHG2\",\"IGHG3\",\"IGHG4\",\"IGHE\"),ordered = TRUE)\n",
    "db$with_l<-\"\"\n",
    "patients_with_L<-db$patient[db$tissue==\"L\"] %>% unique()\n",
    "patients_with_L %>%length()\n",
    "\n",
    "db$with_l[db$patient %in% patients_with_L]<-\"with_L\"\n",
    "db$with_l[!db$patient %in% patients_with_L]<-\"without_L\"\n",
    "db_with_L<-db[db$with_l==\"with_L\",]\n",
    "\n",
    "### step1 计算所有L样本的平均和中位数突变频率\n",
    "L_data<-db[db$tissue==\"L\",]\n"
   ]
  },
  {
   "cell_type": "code",
   "execution_count": 11,
   "metadata": {
    "vscode": {
     "languageId": "r"
    }
   },
   "outputs": [
    {
     "data": {
      "text/html": [
       "<table class=\"dataframe\">\n",
       "<caption>A data.frame: 3 × 5</caption>\n",
       "<thead>\n",
       "\t<tr><th></th><th scope=col>sample</th><th scope=col>average_mutation</th><th scope=col>median_mutation</th><th scope=col>delta_average_mutation</th><th scope=col>delta_median_mutation</th></tr>\n",
       "\t<tr><th></th><th scope=col>&lt;chr&gt;</th><th scope=col>&lt;chr&gt;</th><th scope=col>&lt;chr&gt;</th><th scope=col>&lt;chr&gt;</th><th scope=col>&lt;chr&gt;</th></tr>\n",
       "</thead>\n",
       "<tbody>\n",
       "\t<tr><th scope=row>1</th><td>ESCC007L1</td><td>0.0320127155313407</td><td>0.0275293671845396</td><td>-0.017086572756059 </td><td>-0.014724153942221  </td></tr>\n",
       "\t<tr><th scope=row>2</th><td>ESCC007L2</td><td>0.0243811153626213</td><td>0.0148698884758364</td><td>-0.0247181729247784</td><td>-0.0273836326509242 </td></tr>\n",
       "\t<tr><th scope=row>3</th><td>ESCC007L3</td><td>0.0369614814743971</td><td>0.0353982300884956</td><td>-0.0121378068130026</td><td>-0.00685529103826499</td></tr>\n",
       "</tbody>\n",
       "</table>\n"
      ],
      "text/latex": [
       "A data.frame: 3 × 5\n",
       "\\begin{tabular}{r|lllll}\n",
       "  & sample & average\\_mutation & median\\_mutation & delta\\_average\\_mutation & delta\\_median\\_mutation\\\\\n",
       "  & <chr> & <chr> & <chr> & <chr> & <chr>\\\\\n",
       "\\hline\n",
       "\t1 & ESCC007L1 & 0.0320127155313407 & 0.0275293671845396 & -0.017086572756059  & -0.014724153942221  \\\\\n",
       "\t2 & ESCC007L2 & 0.0243811153626213 & 0.0148698884758364 & -0.0247181729247784 & -0.0273836326509242 \\\\\n",
       "\t3 & ESCC007L3 & 0.0369614814743971 & 0.0353982300884956 & -0.0121378068130026 & -0.00685529103826499\\\\\n",
       "\\end{tabular}\n"
      ],
      "text/markdown": [
       "\n",
       "A data.frame: 3 × 5\n",
       "\n",
       "| <!--/--> | sample &lt;chr&gt; | average_mutation &lt;chr&gt; | median_mutation &lt;chr&gt; | delta_average_mutation &lt;chr&gt; | delta_median_mutation &lt;chr&gt; |\n",
       "|---|---|---|---|---|---|\n",
       "| 1 | ESCC007L1 | 0.0320127155313407 | 0.0275293671845396 | -0.017086572756059  | -0.014724153942221   |\n",
       "| 2 | ESCC007L2 | 0.0243811153626213 | 0.0148698884758364 | -0.0247181729247784 | -0.0273836326509242  |\n",
       "| 3 | ESCC007L3 | 0.0369614814743971 | 0.0353982300884956 | -0.0121378068130026 | -0.00685529103826499 |\n",
       "\n"
      ],
      "text/plain": [
       "  sample    average_mutation   median_mutation    delta_average_mutation\n",
       "1 ESCC007L1 0.0320127155313407 0.0275293671845396 -0.017086572756059    \n",
       "2 ESCC007L2 0.0243811153626213 0.0148698884758364 -0.0247181729247784   \n",
       "3 ESCC007L3 0.0369614814743971 0.0353982300884956 -0.0121378068130026   \n",
       "  delta_median_mutation\n",
       "1 -0.014724153942221   \n",
       "2 -0.0273836326509242  \n",
       "3 -0.00685529103826499 "
      ]
     },
     "metadata": {},
     "output_type": "display_data"
    },
    {
     "data": {
      "text/html": [
       "<table class=\"dataframe\">\n",
       "<caption>A data.frame: 3 × 3</caption>\n",
       "<thead>\n",
       "\t<tr><th></th><th scope=col>sample</th><th scope=col>average_jaccard</th><th scope=col>median_jaccard</th></tr>\n",
       "\t<tr><th></th><th scope=col>&lt;chr&gt;</th><th scope=col>&lt;chr&gt;</th><th scope=col>&lt;chr&gt;</th></tr>\n",
       "</thead>\n",
       "<tbody>\n",
       "\t<tr><th scope=row>1</th><td>ESCC007L1</td><td>0.0641146111851165</td><td>0.0517737296260786</td></tr>\n",
       "\t<tr><th scope=row>2</th><td>ESCC007L2</td><td>0.0743262118270362</td><td>0.0916568742655699</td></tr>\n",
       "\t<tr><th scope=row>3</th><td>ESCC007L3</td><td>0.120291844836482 </td><td>0.137911136757069 </td></tr>\n",
       "</tbody>\n",
       "</table>\n"
      ],
      "text/latex": [
       "A data.frame: 3 × 3\n",
       "\\begin{tabular}{r|lll}\n",
       "  & sample & average\\_jaccard & median\\_jaccard\\\\\n",
       "  & <chr> & <chr> & <chr>\\\\\n",
       "\\hline\n",
       "\t1 & ESCC007L1 & 0.0641146111851165 & 0.0517737296260786\\\\\n",
       "\t2 & ESCC007L2 & 0.0743262118270362 & 0.0916568742655699\\\\\n",
       "\t3 & ESCC007L3 & 0.120291844836482  & 0.137911136757069 \\\\\n",
       "\\end{tabular}\n"
      ],
      "text/markdown": [
       "\n",
       "A data.frame: 3 × 3\n",
       "\n",
       "| <!--/--> | sample &lt;chr&gt; | average_jaccard &lt;chr&gt; | median_jaccard &lt;chr&gt; |\n",
       "|---|---|---|---|\n",
       "| 1 | ESCC007L1 | 0.0641146111851165 | 0.0517737296260786 |\n",
       "| 2 | ESCC007L2 | 0.0743262118270362 | 0.0916568742655699 |\n",
       "| 3 | ESCC007L3 | 0.120291844836482  | 0.137911136757069  |\n",
       "\n"
      ],
      "text/plain": [
       "  sample    average_jaccard    median_jaccard    \n",
       "1 ESCC007L1 0.0641146111851165 0.0517737296260786\n",
       "2 ESCC007L2 0.0743262118270362 0.0916568742655699\n",
       "3 ESCC007L3 0.120291844836482  0.137911136757069 "
      ]
     },
     "metadata": {},
     "output_type": "display_data"
    },
    {
     "data": {
      "text/html": [
       "<table class=\"dataframe\">\n",
       "<caption>A data.frame: 3 × 8</caption>\n",
       "<thead>\n",
       "\t<tr><th></th><th scope=col>sample</th><th scope=col>average_jaccard</th><th scope=col>median_jaccard</th><th scope=col>average_mutation</th><th scope=col>median_mutation</th><th scope=col>delta_average_mutation</th><th scope=col>delta_median_mutation</th><th scope=col>patient</th></tr>\n",
       "\t<tr><th></th><th scope=col>&lt;chr&gt;</th><th scope=col>&lt;dbl&gt;</th><th scope=col>&lt;dbl&gt;</th><th scope=col>&lt;dbl&gt;</th><th scope=col>&lt;dbl&gt;</th><th scope=col>&lt;dbl&gt;</th><th scope=col>&lt;dbl&gt;</th><th scope=col>&lt;chr&gt;</th></tr>\n",
       "</thead>\n",
       "<tbody>\n",
       "\t<tr><th scope=row>1</th><td>ESCC007L1</td><td>0.06411461</td><td>0.05177373</td><td>0.03201272</td><td>0.02752937</td><td>-0.01708657</td><td>-0.014724154</td><td>ESCC007</td></tr>\n",
       "\t<tr><th scope=row>2</th><td>ESCC007L2</td><td>0.07432621</td><td>0.09165687</td><td>0.02438112</td><td>0.01486989</td><td>-0.02471817</td><td>-0.027383633</td><td>ESCC007</td></tr>\n",
       "\t<tr><th scope=row>3</th><td>ESCC007L3</td><td>0.12029184</td><td>0.13791114</td><td>0.03696148</td><td>0.03539823</td><td>-0.01213781</td><td>-0.006855291</td><td>ESCC007</td></tr>\n",
       "</tbody>\n",
       "</table>\n"
      ],
      "text/latex": [
       "A data.frame: 3 × 8\n",
       "\\begin{tabular}{r|llllllll}\n",
       "  & sample & average\\_jaccard & median\\_jaccard & average\\_mutation & median\\_mutation & delta\\_average\\_mutation & delta\\_median\\_mutation & patient\\\\\n",
       "  & <chr> & <dbl> & <dbl> & <dbl> & <dbl> & <dbl> & <dbl> & <chr>\\\\\n",
       "\\hline\n",
       "\t1 & ESCC007L1 & 0.06411461 & 0.05177373 & 0.03201272 & 0.02752937 & -0.01708657 & -0.014724154 & ESCC007\\\\\n",
       "\t2 & ESCC007L2 & 0.07432621 & 0.09165687 & 0.02438112 & 0.01486989 & -0.02471817 & -0.027383633 & ESCC007\\\\\n",
       "\t3 & ESCC007L3 & 0.12029184 & 0.13791114 & 0.03696148 & 0.03539823 & -0.01213781 & -0.006855291 & ESCC007\\\\\n",
       "\\end{tabular}\n"
      ],
      "text/markdown": [
       "\n",
       "A data.frame: 3 × 8\n",
       "\n",
       "| <!--/--> | sample &lt;chr&gt; | average_jaccard &lt;dbl&gt; | median_jaccard &lt;dbl&gt; | average_mutation &lt;dbl&gt; | median_mutation &lt;dbl&gt; | delta_average_mutation &lt;dbl&gt; | delta_median_mutation &lt;dbl&gt; | patient &lt;chr&gt; |\n",
       "|---|---|---|---|---|---|---|---|---|\n",
       "| 1 | ESCC007L1 | 0.06411461 | 0.05177373 | 0.03201272 | 0.02752937 | -0.01708657 | -0.014724154 | ESCC007 |\n",
       "| 2 | ESCC007L2 | 0.07432621 | 0.09165687 | 0.02438112 | 0.01486989 | -0.02471817 | -0.027383633 | ESCC007 |\n",
       "| 3 | ESCC007L3 | 0.12029184 | 0.13791114 | 0.03696148 | 0.03539823 | -0.01213781 | -0.006855291 | ESCC007 |\n",
       "\n"
      ],
      "text/plain": [
       "  sample    average_jaccard median_jaccard average_mutation median_mutation\n",
       "1 ESCC007L1 0.06411461      0.05177373     0.03201272       0.02752937     \n",
       "2 ESCC007L2 0.07432621      0.09165687     0.02438112       0.01486989     \n",
       "3 ESCC007L3 0.12029184      0.13791114     0.03696148       0.03539823     \n",
       "  delta_average_mutation delta_median_mutation patient\n",
       "1 -0.01708657            -0.014724154          ESCC007\n",
       "2 -0.02471817            -0.027383633          ESCC007\n",
       "3 -0.01213781            -0.006855291          ESCC007"
      ]
     },
     "metadata": {},
     "output_type": "display_data"
    }
   ],
   "source": [
    "\n",
    "L_sample_mutation_level<-tibble()\n",
    "samples<-unique(db_with_L$sample)[order(unique(db_with_L$sample),decreasing = FALSE)]\n",
    "for (s in samples){\n",
    "    data_s<-L_data[L_data$sample==s,]\n",
    "    \n",
    "    p=substr(s,1,7)\n",
    "    data_T<-db_with_L[db_with_L$patient==p & db_with_L$tissue==\"T\",]\n",
    "    meanT=mean(data_T$mu_freq)\n",
    "    medianT=median(data_T$mu_freq)\n",
    "\n",
    "    row_s<-c(s,mean(data_s$mu_freq),median(data_s$mu_freq),mean(data_s$mu_freq)-meanT,median(data_s$mu_freq)-medianT)\n",
    "    L_sample_mutation_level<-rbind(L_sample_mutation_level,row_s)\n",
    "}\n",
    "\n",
    "\n",
    "colnames(L_sample_mutation_level)<-c(\"sample\",\"average_mutation\",\"median_mutation\",\"delta_average_mutation\",\"delta_median_mutation\")\n",
    "L_sample_mutation_level[1:3,]\n",
    "\n",
    "\n",
    "### step2 计算所有L样本与T的平均overlap(jaccard)和中位数overlap\n",
    "jac_long<-fread(\"Fig7-sample_seq_overlap_addflag.csv\") %>% as.data.frame()\n",
    "jac_LoT<-jac_long[jac_long$flag==\"self.ToL\",]\n",
    "\n",
    "L_T_jac_level<-tibble()\n",
    "samples<-unique(jac_LoT$sample2)[order(unique(jac_LoT$sample2),decreasing = FALSE)]\n",
    "for (s in samples){\n",
    "    data_s<-jac_LoT[jac_LoT$sample2==s,]\n",
    "    row_s<-c(s,mean(data_s$jaccard_index),median(data_s$jaccard_index))\n",
    "    L_T_jac_level<-rbind(L_T_jac_level,row_s)\n",
    "}\n",
    "\n",
    "colnames(L_T_jac_level)<-c(\"sample\",\"average_jaccard\",\"median_jaccard\")\n",
    "L_T_jac_level[1:3,]\n",
    "\n",
    "### step3 根据L样本名merge数据，分析相关性。\n",
    "L_jac_mu_data<-merge(L_T_jac_level,L_sample_mutation_level,by=\"sample\")\n",
    "L_jac_mu_data[,2:7]<-apply(L_jac_mu_data[,2:7],2,as.numeric)\n",
    "\n",
    "L_jac_mu_data$patient<-substr(L_jac_mu_data$sample,1,7)\n",
    "L_jac_mu_data[1:3,]\n",
    "\n"
   ]
  },
  {
   "attachments": {},
   "cell_type": "markdown",
   "metadata": {},
   "source": [
    "## 1.2 计算所有L样本中IgD IgM占比\n",
    "\n",
    "LAI与IGG和突变增加水平正相关，IGM、IGD、IGA等正相关，IGE与突变水平正相关"
   ]
  },
  {
   "cell_type": "code",
   "execution_count": 12,
   "metadata": {
    "vscode": {
     "languageId": "r"
    }
   },
   "outputs": [
    {
     "data": {
      "text/html": [
       "<table class=\"dataframe\">\n",
       "<caption>A data.frame: 3 × 8</caption>\n",
       "<thead>\n",
       "\t<tr><th></th><th scope=col>sample</th><th scope=col>average_jaccard</th><th scope=col>median_jaccard</th><th scope=col>average_mutation</th><th scope=col>median_mutation</th><th scope=col>delta_average_mutation</th><th scope=col>delta_median_mutation</th><th scope=col>patient</th></tr>\n",
       "\t<tr><th></th><th scope=col>&lt;chr&gt;</th><th scope=col>&lt;dbl&gt;</th><th scope=col>&lt;dbl&gt;</th><th scope=col>&lt;dbl&gt;</th><th scope=col>&lt;dbl&gt;</th><th scope=col>&lt;dbl&gt;</th><th scope=col>&lt;dbl&gt;</th><th scope=col>&lt;chr&gt;</th></tr>\n",
       "</thead>\n",
       "<tbody>\n",
       "\t<tr><th scope=row>1</th><td>ESCC007L1</td><td>0.06411461</td><td>0.05177373</td><td>0.03201272</td><td>0.02752937</td><td>-0.01708657</td><td>-0.014724154</td><td>ESCC007</td></tr>\n",
       "\t<tr><th scope=row>2</th><td>ESCC007L2</td><td>0.07432621</td><td>0.09165687</td><td>0.02438112</td><td>0.01486989</td><td>-0.02471817</td><td>-0.027383633</td><td>ESCC007</td></tr>\n",
       "\t<tr><th scope=row>3</th><td>ESCC007L3</td><td>0.12029184</td><td>0.13791114</td><td>0.03696148</td><td>0.03539823</td><td>-0.01213781</td><td>-0.006855291</td><td>ESCC007</td></tr>\n",
       "</tbody>\n",
       "</table>\n"
      ],
      "text/latex": [
       "A data.frame: 3 × 8\n",
       "\\begin{tabular}{r|llllllll}\n",
       "  & sample & average\\_jaccard & median\\_jaccard & average\\_mutation & median\\_mutation & delta\\_average\\_mutation & delta\\_median\\_mutation & patient\\\\\n",
       "  & <chr> & <dbl> & <dbl> & <dbl> & <dbl> & <dbl> & <dbl> & <chr>\\\\\n",
       "\\hline\n",
       "\t1 & ESCC007L1 & 0.06411461 & 0.05177373 & 0.03201272 & 0.02752937 & -0.01708657 & -0.014724154 & ESCC007\\\\\n",
       "\t2 & ESCC007L2 & 0.07432621 & 0.09165687 & 0.02438112 & 0.01486989 & -0.02471817 & -0.027383633 & ESCC007\\\\\n",
       "\t3 & ESCC007L3 & 0.12029184 & 0.13791114 & 0.03696148 & 0.03539823 & -0.01213781 & -0.006855291 & ESCC007\\\\\n",
       "\\end{tabular}\n"
      ],
      "text/markdown": [
       "\n",
       "A data.frame: 3 × 8\n",
       "\n",
       "| <!--/--> | sample &lt;chr&gt; | average_jaccard &lt;dbl&gt; | median_jaccard &lt;dbl&gt; | average_mutation &lt;dbl&gt; | median_mutation &lt;dbl&gt; | delta_average_mutation &lt;dbl&gt; | delta_median_mutation &lt;dbl&gt; | patient &lt;chr&gt; |\n",
       "|---|---|---|---|---|---|---|---|---|\n",
       "| 1 | ESCC007L1 | 0.06411461 | 0.05177373 | 0.03201272 | 0.02752937 | -0.01708657 | -0.014724154 | ESCC007 |\n",
       "| 2 | ESCC007L2 | 0.07432621 | 0.09165687 | 0.02438112 | 0.01486989 | -0.02471817 | -0.027383633 | ESCC007 |\n",
       "| 3 | ESCC007L3 | 0.12029184 | 0.13791114 | 0.03696148 | 0.03539823 | -0.01213781 | -0.006855291 | ESCC007 |\n",
       "\n"
      ],
      "text/plain": [
       "  sample    average_jaccard median_jaccard average_mutation median_mutation\n",
       "1 ESCC007L1 0.06411461      0.05177373     0.03201272       0.02752937     \n",
       "2 ESCC007L2 0.07432621      0.09165687     0.02438112       0.01486989     \n",
       "3 ESCC007L3 0.12029184      0.13791114     0.03696148       0.03539823     \n",
       "  delta_average_mutation delta_median_mutation patient\n",
       "1 -0.01708657            -0.014724154          ESCC007\n",
       "2 -0.02471817            -0.027383633          ESCC007\n",
       "3 -0.01213781            -0.006855291          ESCC007"
      ]
     },
     "metadata": {},
     "output_type": "display_data"
    },
    {
     "data": {
      "text/html": [
       "<table class=\"dataframe\">\n",
       "<caption>A matrix: 12 × 12 of type dbl</caption>\n",
       "<thead>\n",
       "\t<tr><th></th><th scope=col>IGHD</th><th scope=col>IGHM</th><th scope=col>IGHA</th><th scope=col>IGHG</th><th scope=col>IGHE</th><th scope=col>average_jaccard</th><th scope=col>median_jaccard</th><th scope=col>average_mutation</th><th scope=col>median_mutation</th><th scope=col>delta_average_mutation</th><th scope=col>delta_median_mutation</th><th scope=col>IGHDM</th></tr>\n",
       "</thead>\n",
       "<tbody>\n",
       "\t<tr><th scope=row>IGHD</th><td> 1.000000000</td><td> 0.47748664</td><td> 0.225253199</td><td>-0.479087666</td><td>-0.059536962</td><td>-0.01874131</td><td>-0.0634879</td><td> 0.34636278</td><td> 0.359598831</td><td>-0.062431979</td><td>-0.007145123</td><td> 0.53055372</td></tr>\n",
       "\t<tr><th scope=row>IGHM</th><td> 0.477486636</td><td> 1.00000000</td><td> 0.509404773</td><td>-0.878104392</td><td> 0.064118099</td><td>-0.37390077</td><td>-0.3862878</td><td> 0.04483769</td><td> 0.028661383</td><td>-0.272825971</td><td>-0.306807080</td><td> 0.99326819</td></tr>\n",
       "\t<tr><th scope=row>IGHA</th><td> 0.225253199</td><td> 0.50940477</td><td> 1.000000000</td><td>-0.809585844</td><td>-0.014891744</td><td>-0.30482807</td><td>-0.2827173</td><td> 0.14383803</td><td> 0.093521861</td><td> 0.007544712</td><td> 0.008847396</td><td> 0.51798171</td></tr>\n",
       "\t<tr><th scope=row>IGHG</th><td>-0.479087666</td><td>-0.87810439</td><td>-0.809585844</td><td> 1.000000000</td><td> 0.004702656</td><td> 0.39503894</td><td> 0.3966509</td><td>-0.15089424</td><td>-0.128911445</td><td> 0.142698184</td><td> 0.140201373</td><td>-0.88483566</td></tr>\n",
       "\t<tr><th scope=row>IGHE</th><td>-0.059536962</td><td> 0.06411810</td><td>-0.014891744</td><td> 0.004702656</td><td> 1.000000000</td><td>-0.10549339</td><td>-0.1208583</td><td> 0.10141786</td><td> 0.116779457</td><td> 0.015675095</td><td> 0.023355891</td><td> 0.05643647</td></tr>\n",
       "\t<tr><th scope=row>average_jaccard</th><td>-0.018741307</td><td>-0.37390077</td><td>-0.304828073</td><td> 0.395038945</td><td>-0.105493389</td><td> 1.00000000</td><td> 0.9872717</td><td>-0.18063396</td><td>-0.251302649</td><td> 0.539296570</td><td> 0.521819366</td><td>-0.37791771</td></tr>\n",
       "\t<tr><th scope=row>median_jaccard</th><td>-0.063487901</td><td>-0.38628776</td><td>-0.282717256</td><td> 0.396650925</td><td>-0.120858262</td><td> 0.98727169</td><td> 1.0000000</td><td>-0.21450864</td><td>-0.288544522</td><td> 0.562053899</td><td> 0.535837382</td><td>-0.39052195</td></tr>\n",
       "\t<tr><th scope=row>average_mutation</th><td> 0.346362783</td><td> 0.04483769</td><td> 0.143838033</td><td>-0.150894238</td><td> 0.101417864</td><td>-0.18063396</td><td>-0.2145086</td><td> 1.00000000</td><td> 0.959292228</td><td> 0.043638732</td><td> 0.080438558</td><td> 0.08913256</td></tr>\n",
       "\t<tr><th scope=row>median_mutation</th><td> 0.359598831</td><td> 0.02866138</td><td> 0.093521861</td><td>-0.128911445</td><td> 0.116779457</td><td>-0.25130265</td><td>-0.2885445</td><td> 0.95929223</td><td> 1.000000000</td><td> 0.005970473</td><td> 0.092596613</td><td> 0.07339051</td></tr>\n",
       "\t<tr><th scope=row>delta_average_mutation</th><td>-0.062431979</td><td>-0.27282597</td><td> 0.007544712</td><td> 0.142698184</td><td> 0.015675095</td><td> 0.53929657</td><td> 0.5620539</td><td> 0.04363873</td><td> 0.005970473</td><td> 1.000000000</td><td> 0.960920538</td><td>-0.29377918</td></tr>\n",
       "\t<tr><th scope=row>delta_median_mutation</th><td>-0.007145123</td><td>-0.30680708</td><td> 0.008847396</td><td> 0.140201373</td><td> 0.023355891</td><td> 0.52181937</td><td> 0.5358374</td><td> 0.08043856</td><td> 0.092596613</td><td> 0.960920538</td><td> 1.000000000</td><td>-0.32081207</td></tr>\n",
       "\t<tr><th scope=row>IGHDM</th><td> 0.530553723</td><td> 0.99326819</td><td> 0.517981708</td><td>-0.884835657</td><td> 0.056436468</td><td>-0.37791771</td><td>-0.3905219</td><td> 0.08913256</td><td> 0.073390512</td><td>-0.293779179</td><td>-0.320812074</td><td> 1.00000000</td></tr>\n",
       "</tbody>\n",
       "</table>\n"
      ],
      "text/latex": [
       "A matrix: 12 × 12 of type dbl\n",
       "\\begin{tabular}{r|llllllllllll}\n",
       "  & IGHD & IGHM & IGHA & IGHG & IGHE & average\\_jaccard & median\\_jaccard & average\\_mutation & median\\_mutation & delta\\_average\\_mutation & delta\\_median\\_mutation & IGHDM\\\\\n",
       "\\hline\n",
       "\tIGHD &  1.000000000 &  0.47748664 &  0.225253199 & -0.479087666 & -0.059536962 & -0.01874131 & -0.0634879 &  0.34636278 &  0.359598831 & -0.062431979 & -0.007145123 &  0.53055372\\\\\n",
       "\tIGHM &  0.477486636 &  1.00000000 &  0.509404773 & -0.878104392 &  0.064118099 & -0.37390077 & -0.3862878 &  0.04483769 &  0.028661383 & -0.272825971 & -0.306807080 &  0.99326819\\\\\n",
       "\tIGHA &  0.225253199 &  0.50940477 &  1.000000000 & -0.809585844 & -0.014891744 & -0.30482807 & -0.2827173 &  0.14383803 &  0.093521861 &  0.007544712 &  0.008847396 &  0.51798171\\\\\n",
       "\tIGHG & -0.479087666 & -0.87810439 & -0.809585844 &  1.000000000 &  0.004702656 &  0.39503894 &  0.3966509 & -0.15089424 & -0.128911445 &  0.142698184 &  0.140201373 & -0.88483566\\\\\n",
       "\tIGHE & -0.059536962 &  0.06411810 & -0.014891744 &  0.004702656 &  1.000000000 & -0.10549339 & -0.1208583 &  0.10141786 &  0.116779457 &  0.015675095 &  0.023355891 &  0.05643647\\\\\n",
       "\taverage\\_jaccard & -0.018741307 & -0.37390077 & -0.304828073 &  0.395038945 & -0.105493389 &  1.00000000 &  0.9872717 & -0.18063396 & -0.251302649 &  0.539296570 &  0.521819366 & -0.37791771\\\\\n",
       "\tmedian\\_jaccard & -0.063487901 & -0.38628776 & -0.282717256 &  0.396650925 & -0.120858262 &  0.98727169 &  1.0000000 & -0.21450864 & -0.288544522 &  0.562053899 &  0.535837382 & -0.39052195\\\\\n",
       "\taverage\\_mutation &  0.346362783 &  0.04483769 &  0.143838033 & -0.150894238 &  0.101417864 & -0.18063396 & -0.2145086 &  1.00000000 &  0.959292228 &  0.043638732 &  0.080438558 &  0.08913256\\\\\n",
       "\tmedian\\_mutation &  0.359598831 &  0.02866138 &  0.093521861 & -0.128911445 &  0.116779457 & -0.25130265 & -0.2885445 &  0.95929223 &  1.000000000 &  0.005970473 &  0.092596613 &  0.07339051\\\\\n",
       "\tdelta\\_average\\_mutation & -0.062431979 & -0.27282597 &  0.007544712 &  0.142698184 &  0.015675095 &  0.53929657 &  0.5620539 &  0.04363873 &  0.005970473 &  1.000000000 &  0.960920538 & -0.29377918\\\\\n",
       "\tdelta\\_median\\_mutation & -0.007145123 & -0.30680708 &  0.008847396 &  0.140201373 &  0.023355891 &  0.52181937 &  0.5358374 &  0.08043856 &  0.092596613 &  0.960920538 &  1.000000000 & -0.32081207\\\\\n",
       "\tIGHDM &  0.530553723 &  0.99326819 &  0.517981708 & -0.884835657 &  0.056436468 & -0.37791771 & -0.3905219 &  0.08913256 &  0.073390512 & -0.293779179 & -0.320812074 &  1.00000000\\\\\n",
       "\\end{tabular}\n"
      ],
      "text/markdown": [
       "\n",
       "A matrix: 12 × 12 of type dbl\n",
       "\n",
       "| <!--/--> | IGHD | IGHM | IGHA | IGHG | IGHE | average_jaccard | median_jaccard | average_mutation | median_mutation | delta_average_mutation | delta_median_mutation | IGHDM |\n",
       "|---|---|---|---|---|---|---|---|---|---|---|---|---|\n",
       "| IGHD |  1.000000000 |  0.47748664 |  0.225253199 | -0.479087666 | -0.059536962 | -0.01874131 | -0.0634879 |  0.34636278 |  0.359598831 | -0.062431979 | -0.007145123 |  0.53055372 |\n",
       "| IGHM |  0.477486636 |  1.00000000 |  0.509404773 | -0.878104392 |  0.064118099 | -0.37390077 | -0.3862878 |  0.04483769 |  0.028661383 | -0.272825971 | -0.306807080 |  0.99326819 |\n",
       "| IGHA |  0.225253199 |  0.50940477 |  1.000000000 | -0.809585844 | -0.014891744 | -0.30482807 | -0.2827173 |  0.14383803 |  0.093521861 |  0.007544712 |  0.008847396 |  0.51798171 |\n",
       "| IGHG | -0.479087666 | -0.87810439 | -0.809585844 |  1.000000000 |  0.004702656 |  0.39503894 |  0.3966509 | -0.15089424 | -0.128911445 |  0.142698184 |  0.140201373 | -0.88483566 |\n",
       "| IGHE | -0.059536962 |  0.06411810 | -0.014891744 |  0.004702656 |  1.000000000 | -0.10549339 | -0.1208583 |  0.10141786 |  0.116779457 |  0.015675095 |  0.023355891 |  0.05643647 |\n",
       "| average_jaccard | -0.018741307 | -0.37390077 | -0.304828073 |  0.395038945 | -0.105493389 |  1.00000000 |  0.9872717 | -0.18063396 | -0.251302649 |  0.539296570 |  0.521819366 | -0.37791771 |\n",
       "| median_jaccard | -0.063487901 | -0.38628776 | -0.282717256 |  0.396650925 | -0.120858262 |  0.98727169 |  1.0000000 | -0.21450864 | -0.288544522 |  0.562053899 |  0.535837382 | -0.39052195 |\n",
       "| average_mutation |  0.346362783 |  0.04483769 |  0.143838033 | -0.150894238 |  0.101417864 | -0.18063396 | -0.2145086 |  1.00000000 |  0.959292228 |  0.043638732 |  0.080438558 |  0.08913256 |\n",
       "| median_mutation |  0.359598831 |  0.02866138 |  0.093521861 | -0.128911445 |  0.116779457 | -0.25130265 | -0.2885445 |  0.95929223 |  1.000000000 |  0.005970473 |  0.092596613 |  0.07339051 |\n",
       "| delta_average_mutation | -0.062431979 | -0.27282597 |  0.007544712 |  0.142698184 |  0.015675095 |  0.53929657 |  0.5620539 |  0.04363873 |  0.005970473 |  1.000000000 |  0.960920538 | -0.29377918 |\n",
       "| delta_median_mutation | -0.007145123 | -0.30680708 |  0.008847396 |  0.140201373 |  0.023355891 |  0.52181937 |  0.5358374 |  0.08043856 |  0.092596613 |  0.960920538 |  1.000000000 | -0.32081207 |\n",
       "| IGHDM |  0.530553723 |  0.99326819 |  0.517981708 | -0.884835657 |  0.056436468 | -0.37791771 | -0.3905219 |  0.08913256 |  0.073390512 | -0.293779179 | -0.320812074 |  1.00000000 |\n",
       "\n"
      ],
      "text/plain": [
       "                       IGHD         IGHM        IGHA         IGHG        \n",
       "IGHD                    1.000000000  0.47748664  0.225253199 -0.479087666\n",
       "IGHM                    0.477486636  1.00000000  0.509404773 -0.878104392\n",
       "IGHA                    0.225253199  0.50940477  1.000000000 -0.809585844\n",
       "IGHG                   -0.479087666 -0.87810439 -0.809585844  1.000000000\n",
       "IGHE                   -0.059536962  0.06411810 -0.014891744  0.004702656\n",
       "average_jaccard        -0.018741307 -0.37390077 -0.304828073  0.395038945\n",
       "median_jaccard         -0.063487901 -0.38628776 -0.282717256  0.396650925\n",
       "average_mutation        0.346362783  0.04483769  0.143838033 -0.150894238\n",
       "median_mutation         0.359598831  0.02866138  0.093521861 -0.128911445\n",
       "delta_average_mutation -0.062431979 -0.27282597  0.007544712  0.142698184\n",
       "delta_median_mutation  -0.007145123 -0.30680708  0.008847396  0.140201373\n",
       "IGHDM                   0.530553723  0.99326819  0.517981708 -0.884835657\n",
       "                       IGHE         average_jaccard median_jaccard\n",
       "IGHD                   -0.059536962 -0.01874131     -0.0634879    \n",
       "IGHM                    0.064118099 -0.37390077     -0.3862878    \n",
       "IGHA                   -0.014891744 -0.30482807     -0.2827173    \n",
       "IGHG                    0.004702656  0.39503894      0.3966509    \n",
       "IGHE                    1.000000000 -0.10549339     -0.1208583    \n",
       "average_jaccard        -0.105493389  1.00000000      0.9872717    \n",
       "median_jaccard         -0.120858262  0.98727169      1.0000000    \n",
       "average_mutation        0.101417864 -0.18063396     -0.2145086    \n",
       "median_mutation         0.116779457 -0.25130265     -0.2885445    \n",
       "delta_average_mutation  0.015675095  0.53929657      0.5620539    \n",
       "delta_median_mutation   0.023355891  0.52181937      0.5358374    \n",
       "IGHDM                   0.056436468 -0.37791771     -0.3905219    \n",
       "                       average_mutation median_mutation delta_average_mutation\n",
       "IGHD                    0.34636278       0.359598831    -0.062431979          \n",
       "IGHM                    0.04483769       0.028661383    -0.272825971          \n",
       "IGHA                    0.14383803       0.093521861     0.007544712          \n",
       "IGHG                   -0.15089424      -0.128911445     0.142698184          \n",
       "IGHE                    0.10141786       0.116779457     0.015675095          \n",
       "average_jaccard        -0.18063396      -0.251302649     0.539296570          \n",
       "median_jaccard         -0.21450864      -0.288544522     0.562053899          \n",
       "average_mutation        1.00000000       0.959292228     0.043638732          \n",
       "median_mutation         0.95929223       1.000000000     0.005970473          \n",
       "delta_average_mutation  0.04363873       0.005970473     1.000000000          \n",
       "delta_median_mutation   0.08043856       0.092596613     0.960920538          \n",
       "IGHDM                   0.08913256       0.073390512    -0.293779179          \n",
       "                       delta_median_mutation IGHDM      \n",
       "IGHD                   -0.007145123           0.53055372\n",
       "IGHM                   -0.306807080           0.99326819\n",
       "IGHA                    0.008847396           0.51798171\n",
       "IGHG                    0.140201373          -0.88483566\n",
       "IGHE                    0.023355891           0.05643647\n",
       "average_jaccard         0.521819366          -0.37791771\n",
       "median_jaccard          0.535837382          -0.39052195\n",
       "average_mutation        0.080438558           0.08913256\n",
       "median_mutation         0.092596613           0.07339051\n",
       "delta_average_mutation  0.960920538          -0.29377918\n",
       "delta_median_mutation   1.000000000          -0.32081207\n",
       "IGHDM                  -0.320812074           1.00000000"
      ]
     },
     "metadata": {},
     "output_type": "display_data"
    },
    {
     "data": {
      "image/png": "[encoded data removed]",
      "text/plain": [
       "plot without title"
      ]
     },
     "metadata": {
      "image/png": {
       "height": 360,
       "width": 360
      }
     },
     "output_type": "display_data"
    }
   ],
   "source": [
    "L_data<-db[grep(\"L\",db$sample),]\n",
    "L_data$c_call<-substr(L_data$c_call,1,4)\n",
    "L_data$c_call<-factor(L_data$c_call,levels=c(\"IGHD\",\"IGHM\",\"IGHA\",\"IGHG\",\"IGHE\"))\n",
    "\n",
    "IGDIGM_prop_in_L<-tibble()\n",
    "\n",
    "for (s in sort(unique(L_data$sample))){\n",
    "    L_data_s<-L_data[L_data$sample==s,]\n",
    "    IGH_type_prop<-prop.table(table(L_data_s$c_call))\n",
    "    data_r<-c(s,IGH_type_prop)\n",
    "    IGDIGM_prop_in_L<-rbind(IGDIGM_prop_in_L,data_r)\n",
    "}\n",
    "\n",
    "colnames(IGDIGM_prop_in_L)=c(\"sample\",\"IGHD\",\"IGHM\",\"IGHA\",\"IGHG\",\"IGHE\")\n",
    "IGDIGM_prop_in_L[,2:6]<-apply(IGDIGM_prop_in_L[,2:6],2,as.numeric)\n",
    "\n",
    "### step3 根据L样本名merge数据，分析相关性。\n",
    "L_jac_mu_data<-merge(L_T_jac_level,L_sample_mutation_level,by=\"sample\")\n",
    "L_jac_mu_data[,2:7]<-apply(L_jac_mu_data[,2:7],2,as.numeric)\n",
    "\n",
    "L_jac_mu_data$patient<-substr(L_jac_mu_data$sample,1,7)\n",
    "L_jac_mu_data[1:3,]\n",
    "\n",
    "L_features<-merge(IGDIGM_prop_in_L,L_jac_mu_data,by=\"sample\")\n",
    "L_features$IGHDM<-L_features$IGHD+L_features$IGHM\n",
    "\n",
    "library(pheatmap)\n",
    "cor_mat<-cor(L_features[,-c(1,13)],method=\"spearman\",)\n",
    "cor_mat\n",
    "\n",
    "pheatmap(cor_mat,display_numbers = T, number_format = \"%.1f\")"
   ]
  },
  {
   "attachments": {},
   "cell_type": "markdown",
   "metadata": {},
   "source": [
    "## 计算4个相关性和p"
   ]
  },
  {
   "cell_type": "code",
   "execution_count": 13,
   "metadata": {
    "vscode": {
     "languageId": "r"
    }
   },
   "outputs": [
    {
     "name": "stderr",
     "output_type": "stream",
     "text": [
      "Warning message in cor.test.default(L_features$IGHD + L_features$IGHM, L_features$average_jaccard, :\n",
      "\"Cannot compute exact p-value with ties\"\n",
      "Warning message in cor.test.default(L_features$IGHG, L_features$average_jaccard, :\n",
      "\"Cannot compute exact p-value with ties\"\n"
     ]
    }
   ],
   "source": [
    "options(repr.plot.width = 5, repr.plot.height = 5)\n",
    "cor_LAI_IGHDM<-cor.test(L_features$IGHD+L_features$IGHM,L_features$average_jaccard,method=\"spearman\")\n",
    "cor_LAI_IGHG<-cor.test(L_features$IGHG,L_features$average_jaccard,method=\"spearman\")\n",
    "cor_LAI_mu<-cor.test(L_features$average_mutation,L_features$average_jaccard,method=\"spearman\")\n",
    "cor_LAI_delt_mu<-cor.test(L_features$delta_average_mutation,L_features$average_jaccard,method=\"spearman\")\n",
    "\n",
    "#annotate(\"text\",x=-Inf,y=Inf,vjust=1.5,hjust=-0.2,label=paste(\"chisq.test p=\",p))+\n",
    "\n",
    "r1<-paste0(\"Spearman's Rho = \",round(cor_LAI_IGHDM$estimate,digits=2))\n",
    "p1<-paste0(\"p = \",round(cor_LAI_IGHDM$p.value,digits=5))\n",
    "\n",
    "r2<-paste0(\"Spearman's Rho = \",round(cor_LAI_IGHG$estimate,digits=2))\n",
    "p2<-paste0(\"p = \",round(cor_LAI_IGHG$p.value,digits=5))\n",
    "\n",
    "r3<-paste0(\"Spearman's Rho = \",round(cor_LAI_mu$estimate,digits=2))\n",
    "p3<-paste0(\"p = \",round(cor_LAI_mu$p.value,digits=5))\n",
    "\n",
    "r4<-paste0(\"Spearman's Rho = \",round(cor_LAI_delt_mu$estimate,digits=2))\n",
    "p4<-paste0(\"p = \",round(cor_LAI_delt_mu$p.value,digits=5))\n"
   ]
  },
  {
   "attachments": {},
   "cell_type": "markdown",
   "metadata": {},
   "source": [
    "## Fig7E-H"
   ]
  },
  {
   "attachments": {},
   "cell_type": "markdown",
   "metadata": {},
   "source": [
    "### LAI相关性作图"
   ]
  },
  {
   "cell_type": "code",
   "execution_count": 14,
   "metadata": {
    "vscode": {
     "languageId": "r"
    }
   },
   "outputs": [
    {
     "name": "stderr",
     "output_type": "stream",
     "text": [
      "\u001b[1m\u001b[22m`geom_smooth()` using formula = 'y ~ x'\n",
      "\u001b[1m\u001b[22m`geom_smooth()` using formula = 'y ~ x'\n",
      "\u001b[1m\u001b[22m`geom_smooth()` using formula = 'y ~ x'\n",
      "\u001b[1m\u001b[22m`geom_smooth()` using formula = 'y ~ x'\n"
     ]
    },
    {
     "data": {
      "image/png": "[encoded data removed]",
      "text/plain": [
       "plot without title"
      ]
     },
     "metadata": {
      "image/png": {
       "height": 180,
       "width": 360
      }
     },
     "output_type": "display_data"
    },
    {
     "name": "stderr",
     "output_type": "stream",
     "text": [
      "\u001b[1m\u001b[22m`geom_smooth()` using formula = 'y ~ x'\n",
      "\u001b[1m\u001b[22m`geom_smooth()` using formula = 'y ~ x'\n"
     ]
    },
    {
     "data": {
      "image/png": "[encoded data removed]",
      "text/plain": [
       "plot without title"
      ]
     },
     "metadata": {
      "image/png": {
       "height": 360,
       "width": 240
      }
     },
     "output_type": "display_data"
    },
    {
     "name": "stderr",
     "output_type": "stream",
     "text": [
      "\u001b[1m\u001b[22m`geom_smooth()` using formula = 'y ~ x'\n",
      "\u001b[1m\u001b[22m`geom_smooth()` using formula = 'y ~ x'\n",
      "\u001b[1m\u001b[22m`geom_smooth()` using formula = 'y ~ x'\n",
      "\u001b[1m\u001b[22m`geom_smooth()` using formula = 'y ~ x'\n"
     ]
    },
    {
     "data": {
      "image/png": "[encoded data removed]",
      "text/plain": [
       "plot without title"
      ]
     },
     "metadata": {
      "image/png": {
       "height": 180,
       "width": 360
      }
     },
     "output_type": "display_data"
    },
    {
     "data": {
      "text/html": [
       "<strong>null device:</strong> 1"
      ],
      "text/latex": [
       "\\textbf{null device:} 1"
      ],
      "text/markdown": [
       "**null device:** 1"
      ],
      "text/plain": [
       "null device \n",
       "          1 "
      ]
     },
     "metadata": {},
     "output_type": "display_data"
    },
    {
     "data": {
      "image/png": "[encoded data removed]",
      "text/plain": [
       "plot without title"
      ]
     },
     "metadata": {
      "image/png": {
       "height": 180,
       "width": 360
      }
     },
     "output_type": "display_data"
    }
   ],
   "source": [
    "\n",
    "g_dm<-ggplot(L_features,aes(x=average_jaccard,y=IGHD+IGHM))+geom_point(size=1)+\n",
    "geom_smooth(method=\"lm\")+\n",
    "labs(x=\"LAI Index\",y=\"IGHD+IGHM Proportion\")+\n",
    "annotate(\"text\",x=Inf,y=Inf,vjust=c(1.5,3.5),hjust=c(1,1),label=c(r1,p1),size=2)+\n",
    "theme_classic2()+\n",
    "theme(text =element_text(size=8))\n",
    "\n",
    "g_g<-ggplot(L_features,aes(x=average_jaccard,y=IGHG))+\n",
    "geom_point(size=1)+\n",
    "geom_smooth(method=\"lm\")+\n",
    "labs(x=\"LAI Index\",y=\"IGHG Proportion\")+\n",
    "annotate(\"text\",x=Inf,y=-Inf,vjust=c(-3.5,-1.5),hjust=c(1,1),label=c(r2,p2),size=2)+\n",
    "theme_classic2()+\n",
    "theme(text =element_text(size=8))\n",
    "\n",
    "g_mu<-ggplot(L_features,aes(x=average_jaccard,y=average_mutation))+geom_point(size=1)+\n",
    "geom_smooth(method=\"lm\")+\n",
    "labs(x=\"LAI Index\",y=\"Mutation\")+\n",
    "annotate(\"text\",x=Inf,y=Inf,vjust=c(1.5,3.5),hjust=c(1,1),label=c(r3,p3),size=2)+\n",
    "theme_classic2()+\n",
    "theme(text =element_text(size=8))\n",
    "\n",
    "g_delt_mu<-ggplot(L_features,aes(x=average_jaccard,y=delta_average_mutation))+\n",
    "geom_point(size=1)+\n",
    "geom_smooth(method=\"lm\")+\n",
    "labs(x=\"LAI Index\",y=\"Mutation\\nDifference(L-T)\")+\n",
    "annotate(\"text\",x=Inf,y=-Inf,vjust=c(-3.5,-1.5),hjust=c(1,1),label=c(r4,p4),size=2)+\n",
    "theme_classic2()+\n",
    "theme(text =element_text(size=8))\n",
    "\n",
    "library(patchwork)\n",
    "options(repr.plot.width = 6, repr.plot.height = 3)\n",
    "g_dm+g_g+plot_layout(ncol=2)\n",
    "\n",
    "options(repr.plot.width = 4, repr.plot.height = 6)\n",
    "g_mu+g_delt_mu+plot_layout(ncol=1)\n",
    "\n",
    "options(repr.plot.width = 6, repr.plot.height = 3)\n",
    "g_mu+g_delt_mu+plot_layout(ncol=2)\n",
    "\n",
    "\n",
    "#pdf(\"Fig7.LAI_cor_mutation.pdf\",8,2)\n",
    "g_dm+g_g+g_mu+g_delt_mu+plot_layout(nrow=1)\n",
    "dev.off()"
   ]
  },
  {
   "cell_type": "code",
   "execution_count": 16,
   "metadata": {
    "vscode": {
     "languageId": "r"
    }
   },
   "outputs": [],
   "source": [
    "write.csv(L_features,\"Fig7EFGH.csv\",row.names=FALSE,quote=FALSE)"
   ]
  },
  {
   "attachments": {},
   "cell_type": "markdown",
   "metadata": {},
   "source": [
    "## Fig7D"
   ]
  },
  {
   "attachments": {},
   "cell_type": "markdown",
   "metadata": {},
   "source": [
    "### LAI排序作图"
   ]
  },
  {
   "cell_type": "code",
   "execution_count": 17,
   "metadata": {
    "vscode": {
     "languageId": "r"
    }
   },
   "outputs": [
    {
     "name": "stderr",
     "output_type": "stream",
     "text": [
      "Warning message:\n",
      "\"\u001b[1m\u001b[22mUsing `size` aesthetic for lines was deprecated in ggplot2 3.4.0.\n",
      "\u001b[36mi\u001b[39m Please use `linewidth` instead.\"\n"
     ]
    },
    {
     "data": {
      "image/png": "[encoded data removed]",
      "text/plain": [
       "plot without title"
      ]
     },
     "metadata": {
      "image/png": {
       "height": 300,
       "width": 480
      }
     },
     "output_type": "display_data"
    }
   ],
   "source": [
    "options(repr.plot.width = 8, repr.plot.height = 5)\n",
    "\n",
    "level_LAI<-L_jac_mu_data$sample[order(L_jac_mu_data$average_jaccard,decreasing = TRUE)]\n",
    "\n",
    "IGDIGM_prop_in_L$sample<-factor(IGDIGM_prop_in_L$sample,levels=level_LAI)\n",
    "\n",
    "ce<-melt(data = IGDIGM_prop_in_L,id.vars=c(\"sample\"),variable=\"IGHC_gene\",value.name=\"Proportion\")\n",
    "bot<-ggplot(ce,aes(x=sample,y=Proportion,fill=IGHC_gene))+\n",
    "    geom_bar(aes(x=sample,y=Proportion,fill=IGHC_gene),stat=\"identity\",width=0.7,size=0.5)+\n",
    "    theme_classic()+\n",
    "    labs(x='',y='Proportion')+\n",
    "    scale_fill_manual(values=    c(\"#1fa0b4\",\"#5394b7\",\"#c8f19f\",\"#fd6f6f\",\"#dbc2e8\"))+\n",
    "    theme(text =element_text(size=8),\n",
    "      axis.text.x =element_text(angle=90,size=8))\n",
    "\n",
    "\n",
    "L_jac_mu_data$sample<-factor(L_jac_mu_data$sample,levels=level_LAI)\n",
    "top<-ggplot(L_jac_mu_data,aes(x=sample,y=average_jaccard,col=IGHC_gene))+\n",
    "geom_bar(stat=\"identity\",width=0.7,size=0.5,colour=\"#222222\")+\n",
    "theme_classic()+\n",
    "xlab(NULL)+\n",
    "theme(text =element_text(size=8),axis.text.x = element_blank())+\n",
    "ylab(\"LAI index\")\n",
    "\n",
    "top_mu<-ggplot(L_jac_mu_data,aes(x=sample,y=delta_average_mutation,col=level_LAI))+\n",
    "geom_bar(stat=\"identity\",width=0.7,size=0.5,colour=\"#222222\")+\n",
    "theme_classic()+\n",
    "xlab(NULL)+\n",
    "theme(text =element_text(size=8),axis.text.x = element_blank())+\n",
    "ylab(\"L-T Mutation\\nDifference\")\n",
    "\n",
    "library(patchwork)\n",
    "top+top_mu+bot+plot_layout(ncol=1,heights = c(0.7,0.7,2))"
   ]
  },
  {
   "cell_type": "code",
   "execution_count": 24,
   "metadata": {
    "vscode": {
     "languageId": "r"
    }
   },
   "outputs": [
    {
     "data": {
      "text/html": [
       "<strong>png:</strong> 2"
      ],
      "text/latex": [
       "\\textbf{png:} 2"
      ],
      "text/markdown": [
       "**png:** 2"
      ],
      "text/plain": [
       "png \n",
       "  2 "
      ]
     },
     "metadata": {},
     "output_type": "display_data"
    }
   ],
   "source": [
    "pdf('Fig6.LAI_Mutation_IGHproportion.pdf',6.5,5)\n",
    "top+top_mu+bot+plot_layout(ncol=1,heights = c(0.7,0.7,2))\n",
    "dev.off()"
   ]
  },
  {
   "cell_type": "code",
   "execution_count": 18,
   "metadata": {
    "vscode": {
     "languageId": "r"
    }
   },
   "outputs": [],
   "source": [
    "write.csv(L_jac_mu_data,\"Fig7up_middle.csv\",quote=FALSE,row.names=FALSE)\n",
    "write.csv(IGDIGM_prop_in_L,\"Fig7bottom.csv\",quote=FALSE,row.names=FALSE)\n"
   ]
  },
  {
   "attachments": {},
   "cell_type": "markdown",
   "metadata": {},
   "source": [
    "## 【***】Fig7BC"
   ]
  },
  {
   "cell_type": "code",
   "execution_count": 19,
   "metadata": {
    "vscode": {
     "languageId": "r"
    }
   },
   "outputs": [
    {
     "data": {
      "text/html": [
       "27"
      ],
      "text/latex": [
       "27"
      ],
      "text/markdown": [
       "27"
      ],
      "text/plain": [
       "[1] 27"
      ]
     },
     "metadata": {},
     "output_type": "display_data"
    },
    {
     "data": {
      "text/html": [
       "<table class=\"dataframe\">\n",
       "<caption>A data.frame: 3 × 5</caption>\n",
       "<thead>\n",
       "\t<tr><th></th><th scope=col>sample</th><th scope=col>average_mutation</th><th scope=col>median_mutation</th><th scope=col>delta_average_mutation</th><th scope=col>delta_median_mutation</th></tr>\n",
       "\t<tr><th></th><th scope=col>&lt;chr&gt;</th><th scope=col>&lt;chr&gt;</th><th scope=col>&lt;chr&gt;</th><th scope=col>&lt;chr&gt;</th><th scope=col>&lt;chr&gt;</th></tr>\n",
       "</thead>\n",
       "<tbody>\n",
       "\t<tr><th scope=row>1</th><td>ESCC007L1</td><td>0.0320127155313407</td><td>0.0275293671845396</td><td>-0.017086572756059 </td><td>-0.014724153942221  </td></tr>\n",
       "\t<tr><th scope=row>2</th><td>ESCC007L2</td><td>0.0243811153626213</td><td>0.0148698884758364</td><td>-0.0247181729247784</td><td>-0.0273836326509242 </td></tr>\n",
       "\t<tr><th scope=row>3</th><td>ESCC007L3</td><td>0.0369614814743971</td><td>0.0353982300884956</td><td>-0.0121378068130026</td><td>-0.00685529103826499</td></tr>\n",
       "</tbody>\n",
       "</table>\n"
      ],
      "text/latex": [
       "A data.frame: 3 × 5\n",
       "\\begin{tabular}{r|lllll}\n",
       "  & sample & average\\_mutation & median\\_mutation & delta\\_average\\_mutation & delta\\_median\\_mutation\\\\\n",
       "  & <chr> & <chr> & <chr> & <chr> & <chr>\\\\\n",
       "\\hline\n",
       "\t1 & ESCC007L1 & 0.0320127155313407 & 0.0275293671845396 & -0.017086572756059  & -0.014724153942221  \\\\\n",
       "\t2 & ESCC007L2 & 0.0243811153626213 & 0.0148698884758364 & -0.0247181729247784 & -0.0273836326509242 \\\\\n",
       "\t3 & ESCC007L3 & 0.0369614814743971 & 0.0353982300884956 & -0.0121378068130026 & -0.00685529103826499\\\\\n",
       "\\end{tabular}\n"
      ],
      "text/markdown": [
       "\n",
       "A data.frame: 3 × 5\n",
       "\n",
       "| <!--/--> | sample &lt;chr&gt; | average_mutation &lt;chr&gt; | median_mutation &lt;chr&gt; | delta_average_mutation &lt;chr&gt; | delta_median_mutation &lt;chr&gt; |\n",
       "|---|---|---|---|---|---|\n",
       "| 1 | ESCC007L1 | 0.0320127155313407 | 0.0275293671845396 | -0.017086572756059  | -0.014724153942221   |\n",
       "| 2 | ESCC007L2 | 0.0243811153626213 | 0.0148698884758364 | -0.0247181729247784 | -0.0273836326509242  |\n",
       "| 3 | ESCC007L3 | 0.0369614814743971 | 0.0353982300884956 | -0.0121378068130026 | -0.00685529103826499 |\n",
       "\n"
      ],
      "text/plain": [
       "  sample    average_mutation   median_mutation    delta_average_mutation\n",
       "1 ESCC007L1 0.0320127155313407 0.0275293671845396 -0.017086572756059    \n",
       "2 ESCC007L2 0.0243811153626213 0.0148698884758364 -0.0247181729247784   \n",
       "3 ESCC007L3 0.0369614814743971 0.0353982300884956 -0.0121378068130026   \n",
       "  delta_median_mutation\n",
       "1 -0.014724153942221   \n",
       "2 -0.0273836326509242  \n",
       "3 -0.00685529103826499 "
      ]
     },
     "metadata": {},
     "output_type": "display_data"
    },
    {
     "data": {
      "text/html": [
       "<table class=\"dataframe\">\n",
       "<caption>A data.frame: 3 × 3</caption>\n",
       "<thead>\n",
       "\t<tr><th></th><th scope=col>sample</th><th scope=col>average_jaccard</th><th scope=col>median_jaccard</th></tr>\n",
       "\t<tr><th></th><th scope=col>&lt;chr&gt;</th><th scope=col>&lt;chr&gt;</th><th scope=col>&lt;chr&gt;</th></tr>\n",
       "</thead>\n",
       "<tbody>\n",
       "\t<tr><th scope=row>1</th><td>ESCC007L1</td><td>0.0641146111851165</td><td>0.0517737296260786</td></tr>\n",
       "\t<tr><th scope=row>2</th><td>ESCC007L2</td><td>0.0743262118270362</td><td>0.0916568742655699</td></tr>\n",
       "\t<tr><th scope=row>3</th><td>ESCC007L3</td><td>0.120291844836482 </td><td>0.137911136757069 </td></tr>\n",
       "</tbody>\n",
       "</table>\n"
      ],
      "text/latex": [
       "A data.frame: 3 × 3\n",
       "\\begin{tabular}{r|lll}\n",
       "  & sample & average\\_jaccard & median\\_jaccard\\\\\n",
       "  & <chr> & <chr> & <chr>\\\\\n",
       "\\hline\n",
       "\t1 & ESCC007L1 & 0.0641146111851165 & 0.0517737296260786\\\\\n",
       "\t2 & ESCC007L2 & 0.0743262118270362 & 0.0916568742655699\\\\\n",
       "\t3 & ESCC007L3 & 0.120291844836482  & 0.137911136757069 \\\\\n",
       "\\end{tabular}\n"
      ],
      "text/markdown": [
       "\n",
       "A data.frame: 3 × 3\n",
       "\n",
       "| <!--/--> | sample &lt;chr&gt; | average_jaccard &lt;chr&gt; | median_jaccard &lt;chr&gt; |\n",
       "|---|---|---|---|\n",
       "| 1 | ESCC007L1 | 0.0641146111851165 | 0.0517737296260786 |\n",
       "| 2 | ESCC007L2 | 0.0743262118270362 | 0.0916568742655699 |\n",
       "| 3 | ESCC007L3 | 0.120291844836482  | 0.137911136757069  |\n",
       "\n"
      ],
      "text/plain": [
       "  sample    average_jaccard    median_jaccard    \n",
       "1 ESCC007L1 0.0641146111851165 0.0517737296260786\n",
       "2 ESCC007L2 0.0743262118270362 0.0916568742655699\n",
       "3 ESCC007L3 0.120291844836482  0.137911136757069 "
      ]
     },
     "metadata": {},
     "output_type": "display_data"
    },
    {
     "data": {
      "text/html": [
       "<table class=\"dataframe\">\n",
       "<caption>A data.frame: 3 × 8</caption>\n",
       "<thead>\n",
       "\t<tr><th></th><th scope=col>sample</th><th scope=col>average_jaccard</th><th scope=col>median_jaccard</th><th scope=col>average_mutation</th><th scope=col>median_mutation</th><th scope=col>delta_average_mutation</th><th scope=col>delta_median_mutation</th><th scope=col>patient</th></tr>\n",
       "\t<tr><th></th><th scope=col>&lt;chr&gt;</th><th scope=col>&lt;dbl&gt;</th><th scope=col>&lt;dbl&gt;</th><th scope=col>&lt;dbl&gt;</th><th scope=col>&lt;dbl&gt;</th><th scope=col>&lt;dbl&gt;</th><th scope=col>&lt;dbl&gt;</th><th scope=col>&lt;chr&gt;</th></tr>\n",
       "</thead>\n",
       "<tbody>\n",
       "\t<tr><th scope=row>1</th><td>ESCC007L1</td><td>0.06411461</td><td>0.05177373</td><td>0.03201272</td><td>0.02752937</td><td>-0.01708657</td><td>-0.014724154</td><td>ESCC007</td></tr>\n",
       "\t<tr><th scope=row>2</th><td>ESCC007L2</td><td>0.07432621</td><td>0.09165687</td><td>0.02438112</td><td>0.01486989</td><td>-0.02471817</td><td>-0.027383633</td><td>ESCC007</td></tr>\n",
       "\t<tr><th scope=row>3</th><td>ESCC007L3</td><td>0.12029184</td><td>0.13791114</td><td>0.03696148</td><td>0.03539823</td><td>-0.01213781</td><td>-0.006855291</td><td>ESCC007</td></tr>\n",
       "</tbody>\n",
       "</table>\n"
      ],
      "text/latex": [
       "A data.frame: 3 × 8\n",
       "\\begin{tabular}{r|llllllll}\n",
       "  & sample & average\\_jaccard & median\\_jaccard & average\\_mutation & median\\_mutation & delta\\_average\\_mutation & delta\\_median\\_mutation & patient\\\\\n",
       "  & <chr> & <dbl> & <dbl> & <dbl> & <dbl> & <dbl> & <dbl> & <chr>\\\\\n",
       "\\hline\n",
       "\t1 & ESCC007L1 & 0.06411461 & 0.05177373 & 0.03201272 & 0.02752937 & -0.01708657 & -0.014724154 & ESCC007\\\\\n",
       "\t2 & ESCC007L2 & 0.07432621 & 0.09165687 & 0.02438112 & 0.01486989 & -0.02471817 & -0.027383633 & ESCC007\\\\\n",
       "\t3 & ESCC007L3 & 0.12029184 & 0.13791114 & 0.03696148 & 0.03539823 & -0.01213781 & -0.006855291 & ESCC007\\\\\n",
       "\\end{tabular}\n"
      ],
      "text/markdown": [
       "\n",
       "A data.frame: 3 × 8\n",
       "\n",
       "| <!--/--> | sample &lt;chr&gt; | average_jaccard &lt;dbl&gt; | median_jaccard &lt;dbl&gt; | average_mutation &lt;dbl&gt; | median_mutation &lt;dbl&gt; | delta_average_mutation &lt;dbl&gt; | delta_median_mutation &lt;dbl&gt; | patient &lt;chr&gt; |\n",
       "|---|---|---|---|---|---|---|---|---|\n",
       "| 1 | ESCC007L1 | 0.06411461 | 0.05177373 | 0.03201272 | 0.02752937 | -0.01708657 | -0.014724154 | ESCC007 |\n",
       "| 2 | ESCC007L2 | 0.07432621 | 0.09165687 | 0.02438112 | 0.01486989 | -0.02471817 | -0.027383633 | ESCC007 |\n",
       "| 3 | ESCC007L3 | 0.12029184 | 0.13791114 | 0.03696148 | 0.03539823 | -0.01213781 | -0.006855291 | ESCC007 |\n",
       "\n"
      ],
      "text/plain": [
       "  sample    average_jaccard median_jaccard average_mutation median_mutation\n",
       "1 ESCC007L1 0.06411461      0.05177373     0.03201272       0.02752937     \n",
       "2 ESCC007L2 0.07432621      0.09165687     0.02438112       0.01486989     \n",
       "3 ESCC007L3 0.12029184      0.13791114     0.03696148       0.03539823     \n",
       "  delta_average_mutation delta_median_mutation patient\n",
       "1 -0.01708657            -0.014724154          ESCC007\n",
       "2 -0.02471817            -0.027383633          ESCC007\n",
       "3 -0.01213781            -0.006855291          ESCC007"
      ]
     },
     "metadata": {},
     "output_type": "display_data"
    }
   ],
   "source": [
    "db<-fread(\"all3up_clone-pass_germ-pass_mutation-pass_selected_rows.tsv\")%>%as.data.frame()\n",
    "db$sample=str_split(db$sequence_id,\"_\",simplify = TRUE)[,1]\n",
    "db$patient=str_sub(db$sequence_id,1,7)\n",
    "db$tissue=str_sub(db$sequence_id,8,8)\n",
    "db$tissue<-factor(db$tissue,levels=c(\"T\",\"N\",\"L\"),ordered = TRUE)\n",
    "#db$c_call<-factor(db$c_call,levels=c(\"IGHD\",\"IGHM\",\"IGHA1\",\"IGHA2\",\"IGHG1\",\"IGHG2\",\"IGHG3\",\"IGHG4\",\"IGHE\"),ordered = TRUE)\n",
    "db$with_l<-\"\"\n",
    "patients_with_L<-db$patient[db$tissue==\"L\"] %>% unique()\n",
    "patients_with_L %>%length()\n",
    "\n",
    "db$with_l[db$patient %in% patients_with_L]<-\"with_L\"\n",
    "db$with_l[!db$patient %in% patients_with_L]<-\"without_L\"\n",
    "db_with_L<-db[db$with_l==\"with_L\",]\n",
    "\n",
    "### step1 计算所有L样本的平均和中位数突变频率\n",
    "L_data<-db[db$tissue==\"L\",]\n",
    "\n",
    "L_sample_mutation_level<-tibble()\n",
    "samples<-unique(db_with_L$sample)[order(unique(db_with_L$sample),decreasing = FALSE)]\n",
    "for (s in samples){\n",
    "    data_s<-L_data[L_data$sample==s,]\n",
    "    \n",
    "    p=substr(s,1,7)\n",
    "    data_T<-db_with_L[db_with_L$patient==p & db_with_L$tissue==\"T\",]\n",
    "    meanT=mean(data_T$mu_freq)\n",
    "    medianT=median(data_T$mu_freq)\n",
    "\n",
    "    row_s<-c(s,mean(data_s$mu_freq),median(data_s$mu_freq),mean(data_s$mu_freq)-meanT,median(data_s$mu_freq)-medianT)\n",
    "    L_sample_mutation_level<-rbind(L_sample_mutation_level,row_s)\n",
    "}\n",
    "\n",
    "colnames(L_sample_mutation_level)<-c(\"sample\",\"average_mutation\",\"median_mutation\",\"delta_average_mutation\",\"delta_median_mutation\")\n",
    "L_sample_mutation_level[1:3,]\n",
    "\n",
    "\n",
    "### step2 计算所有L样本与T的平均overlap(jaccard)和中位数overlap\n",
    "jac_long<-fread(\"Fig7-sample_seq_overlap_addflag.csv\") %>% as.data.frame()\n",
    "jac_LoT<-jac_long[jac_long$flag==\"self.ToL\",]\n",
    "\n",
    "L_T_jac_level<-tibble()\n",
    "samples<-unique(jac_LoT$sample2)[order(unique(jac_LoT$sample2),decreasing = FALSE)]\n",
    "for (s in samples){\n",
    "    data_s<-jac_LoT[jac_LoT$sample2==s,]\n",
    "    row_s<-c(s,mean(data_s$jaccard_index),median(data_s$jaccard_index))\n",
    "    L_T_jac_level<-rbind(L_T_jac_level,row_s)\n",
    "}\n",
    "\n",
    "colnames(L_T_jac_level)<-c(\"sample\",\"average_jaccard\",\"median_jaccard\")\n",
    "L_T_jac_level[1:3,]\n",
    "\n",
    "### step3 根据L样本名merge数据，分析相关性。\n",
    "L_jac_mu_data<-merge(L_T_jac_level,L_sample_mutation_level,by=\"sample\")\n",
    "L_jac_mu_data[,2:7]<-apply(L_jac_mu_data[,2:7],2,as.numeric)\n",
    "\n",
    "L_jac_mu_data$patient<-substr(L_jac_mu_data$sample,1,7)\n",
    "L_jac_mu_data[1:3,]\n"
   ]
  },
  {
   "cell_type": "code",
   "execution_count": 20,
   "metadata": {
    "vscode": {
     "languageId": "r"
    }
   },
   "outputs": [
    {
     "data": {
      "text/html": [
       "<table class=\"dataframe\">\n",
       "<caption>A data.frame: 3 × 3</caption>\n",
       "<thead>\n",
       "\t<tr><th></th><th scope=col>patient</th><th scope=col>individual's max LAI</th><th scope=col>individual's min LAI</th></tr>\n",
       "\t<tr><th></th><th scope=col>&lt;chr&gt;</th><th scope=col>&lt;dbl&gt;</th><th scope=col>&lt;dbl&gt;</th></tr>\n",
       "</thead>\n",
       "<tbody>\n",
       "\t<tr><th scope=row>1</th><td>ESCC007</td><td>0.12029184</td><td>0.06411461</td></tr>\n",
       "\t<tr><th scope=row>2</th><td>ESCC009</td><td>0.06282372</td><td>0.06282372</td></tr>\n",
       "\t<tr><th scope=row>3</th><td>ESCC012</td><td>0.07189503</td><td>0.06612658</td></tr>\n",
       "</tbody>\n",
       "</table>\n"
      ],
      "text/latex": [
       "A data.frame: 3 × 3\n",
       "\\begin{tabular}{r|lll}\n",
       "  & patient & individual's max LAI & individual's min LAI\\\\\n",
       "  & <chr> & <dbl> & <dbl>\\\\\n",
       "\\hline\n",
       "\t1 & ESCC007 & 0.12029184 & 0.06411461\\\\\n",
       "\t2 & ESCC009 & 0.06282372 & 0.06282372\\\\\n",
       "\t3 & ESCC012 & 0.07189503 & 0.06612658\\\\\n",
       "\\end{tabular}\n"
      ],
      "text/markdown": [
       "\n",
       "A data.frame: 3 × 3\n",
       "\n",
       "| <!--/--> | patient &lt;chr&gt; | individual's max LAI &lt;dbl&gt; | individual's min LAI &lt;dbl&gt; |\n",
       "|---|---|---|---|\n",
       "| 1 | ESCC007 | 0.12029184 | 0.06411461 |\n",
       "| 2 | ESCC009 | 0.06282372 | 0.06282372 |\n",
       "| 3 | ESCC012 | 0.07189503 | 0.06612658 |\n",
       "\n"
      ],
      "text/plain": [
       "  patient individual's max LAI individual's min LAI\n",
       "1 ESCC007 0.12029184           0.06411461          \n",
       "2 ESCC009 0.06282372           0.06282372          \n",
       "3 ESCC012 0.07189503           0.06612658          "
      ]
     },
     "metadata": {},
     "output_type": "display_data"
    },
    {
     "name": "stderr",
     "output_type": "stream",
     "text": [
      "\n",
      "载入程辑包：'survminer'\n",
      "\n",
      "\n",
      "The following object is masked from 'package:survival':\n",
      "\n",
      "    myeloma\n",
      "\n",
      "\n"
     ]
    },
    {
     "data": {
      "image/png": "[encoded data removed]",
      "text/plain": [
       "plot without title"
      ]
     },
     "metadata": {
      "image/png": {
       "height": 300,
       "width": 300
      }
     },
     "output_type": "display_data"
    },
    {
     "data": {
      "text/html": [
       "<strong>null device:</strong> 1"
      ],
      "text/latex": [
       "\\textbf{null device:} 1"
      ],
      "text/markdown": [
       "**null device:** 1"
      ],
      "text/plain": [
       "null device \n",
       "          1 "
      ]
     },
     "metadata": {},
     "output_type": "display_data"
    },
    {
     "data": {
      "image/png": "[encoded data removed]",
      "text/plain": [
       "plot without title"
      ]
     },
     "metadata": {
      "image/png": {
       "height": 300,
       "width": 300
      }
     },
     "output_type": "display_data"
    }
   ],
   "source": [
    "data<-L_jac_mu_data\n",
    "surv_data<-tibble()\n",
    "for(p in unique(data$patient)){\n",
    "    data_p<-data[data$patient==p,]\n",
    "    row<-c(p,max(data_p$average_jaccard),min(data_p$average_jaccard))\n",
    "    surv_data<-rbind(surv_data,row)\n",
    "}\n",
    "colnames(surv_data)<-c(\"patient\",\"individual's max LAI\",\"individual's min LAI\")\n",
    "surv_data[,2:3]<-apply(surv_data[,2:3],2,as.numeric)\n",
    "surv_data[1:3,]\n",
    "\n",
    "data<-surv_data\n",
    "\n",
    "library(survival)\n",
    "library(survminer)\n",
    "options(repr.plot.width = 5, repr.plot.height = 5)\n",
    "\n",
    "MR_survival_gene_data<-fread(\"Fig7-MR_survival_gene_data.test.csv\") %>% as.data.frame(check.names=FALSE)\n",
    "rows_selected<-!duplicated(MR_survival_gene_data$Patient_ID)\n",
    "cols_selected<-colnames(MR_survival_gene_data) %in% c('Patient_ID','Gender','Age','Location','Smoking_status','Drinking_status','T','N','M','TNM','Tumor_grade','Lymphatic_metastasis','Survival_status','Survival_time')\n",
    "MR_survival_data<-MR_survival_gene_data[rows_selected,cols_selected]\n",
    "colnames(MR_survival_data)[1]<-\"patient\"\n",
    "\n",
    "data<-merge(MR_survival_data,data,by=\"patient\")\n",
    "\n",
    "genes<-c(\"individual's max LAI\",\"individual's min LAI\")\n",
    "#pdf(\"MR_individual_LAI_survival.pdf\",5,6)\n",
    "for (gene in genes){\n",
    "data$gene_flag[data[,gene]>median(data[,gene])]<-\"high\"\n",
    "data$gene_flag[data[,gene]<=median(data[,gene])]<-\"low\"\n",
    "\n",
    "fit<-survfit(Surv(Survival_time,Survival_status) ~gene_flag, data=data)\n",
    "\n",
    "xx<-ggsurvplot(fit, data = data,\n",
    "           conf.int = FALSE,\n",
    "           pval = TRUE,\n",
    "           fun = \"pct\",\n",
    "           risk.table = TRUE,\n",
    "           size = 1,\n",
    "           linetype = \"strata\",\n",
    "           palette = c(rgb(234,123,11,maxColorValue=255),rgb(121,23,234,maxColorValue=255)),\n",
    "           legend = \"bottom\",\n",
    "           legend.labs = c(\"above median\",\"below median\"),\n",
    "           legend.title=(gene),\n",
    "           add.title=(gene)\n",
    "           )\n",
    "print(xx)\n",
    "}\n",
    "dev.off()"
   ]
  },
  {
   "cell_type": "code",
   "execution_count": 22,
   "metadata": {
    "vscode": {
     "languageId": "r"
    }
   },
   "outputs": [],
   "source": [
    "\n",
    "write.csv(data[,c(1,13,14,15,16)],\"Fig7BC.csv\",quote=FALSE,row.names=FALSE)"
   ]
  }
 ],
 "metadata": {
  "kernelspec": {
   "display_name": "R",
   "language": "R",
   "name": "ir"
  },
  "language_info": {
   "codemirror_mode": "r",
   "file_extension": ".r",
   "mimetype": "text/x-r-source",
   "name": "R",
   "pygments_lexer": "r",
   "version": "4.1.3"
  },
  "orig_nbformat": 4
 },
 "nbformat": 4,
 "nbformat_minor": 2
}

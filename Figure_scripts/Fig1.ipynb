{
 "cells": [
  {
   "cell_type": "code",
   "execution_count": 1,
   "metadata": {
    "vscode": {
     "languageId": "r"
    }
   },
   "outputs": [
    {
     "name": "stderr",
     "output_type": "stream",
     "text": [
      "\n",
      "载入程辑包：'dplyr'\n",
      "\n",
      "\n",
      "The following objects are masked from 'package:plyr':\n",
      "\n",
      "    arrange, count, desc, failwith, id, mutate, rename, summarise,\n",
      "    summarize\n",
      "\n",
      "\n",
      "The following objects are masked from 'package:stats':\n",
      "\n",
      "    filter, lag\n",
      "\n",
      "\n",
      "The following objects are masked from 'package:base':\n",
      "\n",
      "    intersect, setdiff, setequal, union\n",
      "\n",
      "\n",
      "\n",
      "载入程辑包：'data.table'\n",
      "\n",
      "\n",
      "The following objects are masked from 'package:dplyr':\n",
      "\n",
      "    between, first, last\n",
      "\n",
      "\n",
      "-- \u001b[1mAttaching core tidyverse packages\u001b[22m ------------------------ tidyverse 2.0.0 --\n",
      "\u001b[32mv\u001b[39m \u001b[34mforcats  \u001b[39m 1.0.0     \u001b[32mv\u001b[39m \u001b[34mreadr    \u001b[39m 2.1.4\n",
      "\u001b[32mv\u001b[39m \u001b[34mlubridate\u001b[39m 1.9.2     \u001b[32mv\u001b[39m \u001b[34mstringr  \u001b[39m 1.5.0\n",
      "\u001b[32mv\u001b[39m \u001b[34mpurrr    \u001b[39m 1.0.1     \u001b[32mv\u001b[39m \u001b[34mtibble   \u001b[39m 3.2.1\n",
      "-- \u001b[1mConflicts\u001b[22m ------------------------------------------ tidyverse_conflicts() --\n",
      "\u001b[31mx\u001b[39m \u001b[34mdplyr\u001b[39m::\u001b[32marrange()\u001b[39m      masks \u001b[34mplyr\u001b[39m::arrange()\n",
      "\u001b[31mx\u001b[39m \u001b[34mdata.table\u001b[39m::\u001b[32mbetween()\u001b[39m masks \u001b[34mdplyr\u001b[39m::between()\n",
      "\u001b[31mx\u001b[39m \u001b[34mpurrr\u001b[39m::\u001b[32mcompact()\u001b[39m      masks \u001b[34mplyr\u001b[39m::compact()\n",
      "\u001b[31mx\u001b[39m \u001b[34mdplyr\u001b[39m::\u001b[32mcount()\u001b[39m        masks \u001b[34mplyr\u001b[39m::count()\n",
      "\u001b[31mx\u001b[39m \u001b[34mdplyr\u001b[39m::\u001b[32mdesc()\u001b[39m         masks \u001b[34mplyr\u001b[39m::desc()\n",
      "\u001b[31mx\u001b[39m \u001b[34mdplyr\u001b[39m::\u001b[32mfailwith()\u001b[39m     masks \u001b[34mplyr\u001b[39m::failwith()\n",
      "\u001b[31mx\u001b[39m \u001b[34mdplyr\u001b[39m::\u001b[32mfilter()\u001b[39m       masks \u001b[34mstats\u001b[39m::filter()\n",
      "\u001b[31mx\u001b[39m \u001b[34mdata.table\u001b[39m::\u001b[32mfirst()\u001b[39m   masks \u001b[34mdplyr\u001b[39m::first()\n",
      "\u001b[31mx\u001b[39m \u001b[34mlubridate\u001b[39m::\u001b[32mhour()\u001b[39m     masks \u001b[34mdata.table\u001b[39m::hour()\n",
      "\u001b[31mx\u001b[39m \u001b[34mdplyr\u001b[39m::\u001b[32mid()\u001b[39m           masks \u001b[34mplyr\u001b[39m::id()\n",
      "\u001b[31mx\u001b[39m \u001b[34mlubridate\u001b[39m::\u001b[32misoweek()\u001b[39m  masks \u001b[34mdata.table\u001b[39m::isoweek()\n",
      "\u001b[31mx\u001b[39m \u001b[34mdplyr\u001b[39m::\u001b[32mlag()\u001b[39m          masks \u001b[34mstats\u001b[39m::lag()\n",
      "\u001b[31mx\u001b[39m \u001b[34mdata.table\u001b[39m::\u001b[32mlast()\u001b[39m    masks \u001b[34mdplyr\u001b[39m::last()\n",
      "\u001b[31mx\u001b[39m \u001b[34mlubridate\u001b[39m::\u001b[32mmday()\u001b[39m     masks \u001b[34mdata.table\u001b[39m::mday()\n",
      "\u001b[31mx\u001b[39m \u001b[34mlubridate\u001b[39m::\u001b[32mminute()\u001b[39m   masks \u001b[34mdata.table\u001b[39m::minute()\n",
      "\u001b[31mx\u001b[39m \u001b[34mlubridate\u001b[39m::\u001b[32mmonth()\u001b[39m    masks \u001b[34mdata.table\u001b[39m::month()\n",
      "\u001b[31mx\u001b[39m \u001b[34mdplyr\u001b[39m::\u001b[32mmutate()\u001b[39m       masks \u001b[34mplyr\u001b[39m::mutate()\n",
      "\u001b[31mx\u001b[39m \u001b[34mlubridate\u001b[39m::\u001b[32mquarter()\u001b[39m  masks \u001b[34mdata.table\u001b[39m::quarter()\n",
      "\u001b[31mx\u001b[39m \u001b[34mdplyr\u001b[39m::\u001b[32mrename()\u001b[39m       masks \u001b[34mplyr\u001b[39m::rename()\n",
      "\u001b[31mx\u001b[39m \u001b[34mlubridate\u001b[39m::\u001b[32msecond()\u001b[39m   masks \u001b[34mdata.table\u001b[39m::second()\n",
      "\u001b[31mx\u001b[39m \u001b[34mdplyr\u001b[39m::\u001b[32msummarise()\u001b[39m    masks \u001b[34mplyr\u001b[39m::summarise()\n",
      "\u001b[31mx\u001b[39m \u001b[34mdplyr\u001b[39m::\u001b[32msummarize()\u001b[39m    masks \u001b[34mplyr\u001b[39m::summarize()\n",
      "\u001b[31mx\u001b[39m \u001b[34mpurrr\u001b[39m::\u001b[32mtranspose()\u001b[39m    masks \u001b[34mdata.table\u001b[39m::transpose()\n",
      "\u001b[31mx\u001b[39m \u001b[34mlubridate\u001b[39m::\u001b[32mwday()\u001b[39m     masks \u001b[34mdata.table\u001b[39m::wday()\n",
      "\u001b[31mx\u001b[39m \u001b[34mlubridate\u001b[39m::\u001b[32mweek()\u001b[39m     masks \u001b[34mdata.table\u001b[39m::week()\n",
      "\u001b[31mx\u001b[39m \u001b[34mlubridate\u001b[39m::\u001b[32myday()\u001b[39m     masks \u001b[34mdata.table\u001b[39m::yday()\n",
      "\u001b[31mx\u001b[39m \u001b[34mlubridate\u001b[39m::\u001b[32myear()\u001b[39m     masks \u001b[34mdata.table\u001b[39m::year()\n",
      "\u001b[36mi\u001b[39m Use the conflicted package (\u001b[3m\u001b[34m<http://conflicted.r-lib.org/>\u001b[39m\u001b[23m) to force all conflicts to become errors\n",
      "\n",
      "载入程辑包：'gridExtra'\n",
      "\n",
      "\n",
      "The following object is masked from 'package:dplyr':\n",
      "\n",
      "    combine\n",
      "\n",
      "\n",
      "载入需要的程辑包：ggpubr\n",
      "\n",
      "\n",
      "载入程辑包：'ggpubr'\n",
      "\n",
      "\n",
      "The following object is masked from 'package:plyr':\n",
      "\n",
      "    mutate\n",
      "\n",
      "\n",
      "\n",
      "载入程辑包：'survminer'\n",
      "\n",
      "\n",
      "The following object is masked from 'package:survival':\n",
      "\n",
      "    myeloma\n",
      "\n",
      "\n",
      "\n",
      "载入程辑包：'reshape2'\n",
      "\n",
      "\n",
      "The following object is masked from 'package:tidyr':\n",
      "\n",
      "    smiths\n",
      "\n",
      "\n",
      "The following objects are masked from 'package:data.table':\n",
      "\n",
      "    dcast, melt\n",
      "\n",
      "\n",
      "\n",
      "载入程辑包：'cowplot'\n",
      "\n",
      "\n",
      "The following object is masked from 'package:patchwork':\n",
      "\n",
      "    align_plots\n",
      "\n",
      "\n",
      "The following object is masked from 'package:ggpubr':\n",
      "\n",
      "    get_legend\n",
      "\n",
      "\n",
      "The following object is masked from 'package:lubridate':\n",
      "\n",
      "    stamp\n",
      "\n",
      "\n"
     ]
    }
   ],
   "source": [
    "library(ggplot2)\n",
    "library(plyr)\n",
    "library(dplyr)\n",
    "library(data.table)\n",
    "library(readxl)\n",
    "library(tidyr)\n",
    "library(tidyverse)\n",
    "library(grid)\n",
    "library(gridExtra)\n",
    "library(survival)\n",
    "library(survminer)\n",
    "library(ggplot2)\n",
    "library(ggsignif) \n",
    "library(ggpubr) \n",
    "library(reshape2)\n",
    "library(ggsci) \n",
    "library(patchwork)\n",
    "library(cowplot)\n",
    "\n",
    "options(repr.matrix.max.rows=600, repr.matrix.max.cols=200) \n",
    "options(repr.plot.width = 6, repr.plot.height = 6)"
   ]
  },
  {
   "attachments": {},
   "cell_type": "markdown",
   "metadata": {},
   "source": [
    "## define the diversity calculate function"
   ]
  },
  {
   "cell_type": "code",
   "execution_count": 2,
   "metadata": {
    "vscode": {
     "languageId": "r"
    }
   },
   "outputs": [
    {
     "name": "stdout",
     "output_type": "stream",
     "text": [
      "[1] \"richness is:\"\n"
     ]
    },
    {
     "data": {
      "text/html": [
       "2"
      ],
      "text/latex": [
       "2"
      ],
      "text/markdown": [
       "2"
      ],
      "text/plain": [
       "[1] 2"
      ]
     },
     "metadata": {},
     "output_type": "display_data"
    },
    {
     "name": "stdout",
     "output_type": "stream",
     "text": [
      "[1] \"Shannon index is:\"\n"
     ]
    },
    {
     "data": {
      "text/html": [
       "0.693147180559945"
      ],
      "text/latex": [
       "0.693147180559945"
      ],
      "text/markdown": [
       "0.693147180559945"
      ],
      "text/plain": [
       "[1] 0.6931472"
      ]
     },
     "metadata": {},
     "output_type": "display_data"
    },
    {
     "name": "stdout",
     "output_type": "stream",
     "text": [
      "[1] \"Clonality index is:\"\n"
     ]
    },
    {
     "data": {
      "text/html": [
       "0"
      ],
      "text/latex": [
       "0"
      ],
      "text/markdown": [
       "0"
      ],
      "text/plain": [
       "[1] 0"
      ]
     },
     "metadata": {},
     "output_type": "display_data"
    }
   ],
   "source": [
    "#diversity calc function: https://www.jianshu.com/p/c5ff5446fd79\n",
    "\n",
    "Shannon_index <- function(list_p){\n",
    "  sum=0\n",
    "  for (p in list_p){\n",
    "    sum <- p*log(p) + sum\n",
    "  }\n",
    "  H <- -sum\n",
    "  return(H)\n",
    "}\n",
    "clonality <- function(diversity,richness){\n",
    "  E<- diversity/log(richness)##log equals loge\n",
    "  C <- 1-E\n",
    "  return(C)\n",
    "}\n",
    "\n",
    "list_p <- c(0.5,0.5)\n",
    "print('richness is:')\n",
    "length(list_p)\n",
    "print('Shannon index is:')\n",
    "Shannon_index(list_p)\n",
    "print('Clonality index is:')\n",
    "clonality(Shannon_index(list_p),length(list_p))"
   ]
  },
  {
   "cell_type": "code",
   "execution_count": 3,
   "metadata": {
    "vscode": {
     "languageId": "r"
    }
   },
   "outputs": [],
   "source": [
    "ROIE <- function(crosstab){\n",
    "  ## Calculate the Ro/e value from the given crosstab\n",
    "  ##\n",
    "  ## Args:\n",
    "  #' @crosstab: the contingency table of given distribution\n",
    "  ##\n",
    "  ## Return:\n",
    "  ## The Ro/e matrix \n",
    "  rowsum.matrix <- matrix(0, nrow = nrow(crosstab), ncol = ncol(crosstab))\n",
    "  rowsum.matrix[,1] <- rowSums(crosstab)\n",
    "  colsum.matrix <- matrix(0, nrow = ncol(crosstab), ncol = ncol(crosstab))\n",
    "  colsum.matrix[1,] <- colSums(crosstab)\n",
    "  allsum <- sum(crosstab)\n",
    "  roie <- divMatrix(crosstab, rowsum.matrix %*% colsum.matrix / allsum)\n",
    "  row.names(roie) <- row.names(crosstab)\n",
    "  colnames(roie) <- colnames(crosstab)\n",
    "  return(roie)\n",
    "}\n",
    "\n",
    "divMatrix <- function(m1, m2){\n",
    "  ## Divide each element in turn in two same dimension matrixes\n",
    "  ##\n",
    "  ## Args:\n",
    "  #' @m1: the first matrix\n",
    "  #' @m2: the second matrix\n",
    "  ##\n",
    "  ## Returns:\n",
    "  ## a matrix with the same dimension, row names and column names as m1. \n",
    "  ## result[i,j] = m1[i,j] / m2[i,j]\n",
    "  dim_m1 <- dim(m1)\n",
    "  dim_m2 <- dim(m2)\n",
    "  if( sum(dim_m1 == dim_m2) == 2 ){\n",
    "    div.result <- matrix( rep(0,dim_m1[1] * dim_m1[2]) , nrow = dim_m1[1] )\n",
    "    row.names(div.result) <- row.names(m1)\n",
    "    colnames(div.result) <- colnames(m1)\n",
    "    for(i in 1:dim_m1[1]){\n",
    "      for(j in 1:dim_m1[2]){\n",
    "        div.result[i,j] <- m1[i,j] / m2[i,j]\n",
    "      }\n",
    "    }   \n",
    "    return(div.result)\n",
    "  }\n",
    "  else{\n",
    "    warning(\"The dimensions of m1 and m2 are different\")\n",
    "  }\n",
    "}"
   ]
  },
  {
   "attachments": {},
   "cell_type": "markdown",
   "metadata": {},
   "source": [
    "## 1. read Baidu IGH data"
   ]
  },
  {
   "cell_type": "code",
   "execution_count": 2,
   "metadata": {
    "vscode": {
     "languageId": "r"
    }
   },
   "outputs": [
    {
     "data": {
      "text/html": [
       "<table class=\"dataframe\">\n",
       "<caption>A data.frame: 6 × 84</caption>\n",
       "<thead>\n",
       "\t<tr><th></th><th scope=col>RNA-DataID.exprname</th><th scope=col>sample ID</th><th scope=col>RNA-DataID</th><th scope=col>RNA-DataID.old</th><th scope=col>WGBS-DataID</th><th scope=col>WGS-DataID</th><th scope=col>sRNA-DataID</th><th scope=col>baibu-id</th><th scope=col>type</th><th scope=col>Gender</th><th scope=col>Age</th><th scope=col>Location</th><th scope=col>personal history</th><th scope=col>Family History of ESCC</th><th scope=col>Family History of other cancers</th><th scope=col>Smoking history</th><th scope=col>Drinking history</th><th scope=col>Intravascular cancer embolus</th><th scope=col>Perineural Invasion（PNI）</th><th scope=col>Intravascular cancer embolus and PNI</th><th scope=col>TNM_7th</th><th scope=col>Grade</th><th scope=col>T</th><th scope=col>N</th><th scope=col>M</th><th scope=col>TNM status</th><th scope=col>TNM_8th</th><th scope=col>STATE</th><th scope=col>recurrence or metastasis</th><th scope=col>TIME_days</th><th scope=col>Disease-free       Survival time</th><th scope=col>CIMP subtypes</th><th scope=col>TIME_month</th><th scope=col>ID</th><th scope=col>cohort</th><th scope=col>count</th><th scope=col>frequency</th><th scope=col>CDR3nt</th><th scope=col>CDR3aa</th><th scope=col>V</th><th scope=col>D</th><th scope=col>J</th><th scope=col>C</th><th scope=col>cid</th><th scope=col>cid_full_length</th><th scope=col>s_richness</th><th scope=col>s_shannon</th><th scope=col>s_clonality</th><th scope=col>IGHM_proportion_unique</th><th scope=col>IGHM_proportion_redundant</th><th scope=col>s_richness_IGHM</th><th scope=col>s_count_IGHM</th><th scope=col>IGHD_proportion_unique</th><th scope=col>IGHD_proportion_redundant</th><th scope=col>s_richness_IGHD</th><th scope=col>s_count_IGHD</th><th scope=col>IGHA1_proportion_unique</th><th scope=col>IGHA1_proportion_redundant</th><th scope=col>s_richness_IGHA1</th><th scope=col>s_count_IGHA1</th><th scope=col>IGHA2_proportion_unique</th><th scope=col>IGHA2_proportion_redundant</th><th scope=col>s_richness_IGHA2</th><th scope=col>s_count_IGHA2</th><th scope=col>IGHG1_proportion_unique</th><th scope=col>IGHG1_proportion_redundant</th><th scope=col>s_richness_IGHG1</th><th scope=col>s_count_IGHG1</th><th scope=col>IGHG2_proportion_unique</th><th scope=col>IGHG2_proportion_redundant</th><th scope=col>s_richness_IGHG2</th><th scope=col>s_count_IGHG2</th><th scope=col>IGHG3_proportion_unique</th><th scope=col>IGHG3_proportion_redundant</th><th scope=col>s_richness_IGHG3</th><th scope=col>s_count_IGHG3</th><th scope=col>IGHG4_proportion_unique</th><th scope=col>IGHG4_proportion_redundant</th><th scope=col>s_richness_IGHG4</th><th scope=col>s_count_IGHG4</th><th scope=col>IGHE_proportion_unique</th><th scope=col>IGHE_proportion_redundant</th><th scope=col>s_richness_IGHE</th><th scope=col>s_count_IGHE</th></tr>\n",
       "\t<tr><th></th><th scope=col>&lt;chr&gt;</th><th scope=col>&lt;chr&gt;</th><th scope=col>&lt;chr&gt;</th><th scope=col>&lt;chr&gt;</th><th scope=col>&lt;chr&gt;</th><th scope=col>&lt;chr&gt;</th><th scope=col>&lt;chr&gt;</th><th scope=col>&lt;chr&gt;</th><th scope=col>&lt;chr&gt;</th><th scope=col>&lt;chr&gt;</th><th scope=col>&lt;int&gt;</th><th scope=col>&lt;chr&gt;</th><th scope=col>&lt;int&gt;</th><th scope=col>&lt;chr&gt;</th><th scope=col>&lt;chr&gt;</th><th scope=col>&lt;chr&gt;</th><th scope=col>&lt;chr&gt;</th><th scope=col>&lt;chr&gt;</th><th scope=col>&lt;chr&gt;</th><th scope=col>&lt;chr&gt;</th><th scope=col>&lt;chr&gt;</th><th scope=col>&lt;chr&gt;</th><th scope=col>&lt;int&gt;</th><th scope=col>&lt;int&gt;</th><th scope=col>&lt;int&gt;</th><th scope=col>&lt;chr&gt;</th><th scope=col>&lt;chr&gt;</th><th scope=col>&lt;int&gt;</th><th scope=col>&lt;chr&gt;</th><th scope=col>&lt;int&gt;</th><th scope=col>&lt;int&gt;</th><th scope=col>&lt;int&gt;</th><th scope=col>&lt;dbl&gt;</th><th scope=col>&lt;chr&gt;</th><th scope=col>&lt;chr&gt;</th><th scope=col>&lt;int&gt;</th><th scope=col>&lt;dbl&gt;</th><th scope=col>&lt;chr&gt;</th><th scope=col>&lt;chr&gt;</th><th scope=col>&lt;chr&gt;</th><th scope=col>&lt;chr&gt;</th><th scope=col>&lt;chr&gt;</th><th scope=col>&lt;chr&gt;</th><th scope=col>&lt;chr&gt;</th><th scope=col>&lt;int&gt;</th><th scope=col>&lt;int&gt;</th><th scope=col>&lt;dbl&gt;</th><th scope=col>&lt;dbl&gt;</th><th scope=col>&lt;dbl&gt;</th><th scope=col>&lt;dbl&gt;</th><th scope=col>&lt;int&gt;</th><th scope=col>&lt;int&gt;</th><th scope=col>&lt;dbl&gt;</th><th scope=col>&lt;dbl&gt;</th><th scope=col>&lt;int&gt;</th><th scope=col>&lt;int&gt;</th><th scope=col>&lt;dbl&gt;</th><th scope=col>&lt;dbl&gt;</th><th scope=col>&lt;int&gt;</th><th scope=col>&lt;int&gt;</th><th scope=col>&lt;dbl&gt;</th><th scope=col>&lt;dbl&gt;</th><th scope=col>&lt;int&gt;</th><th scope=col>&lt;int&gt;</th><th scope=col>&lt;dbl&gt;</th><th scope=col>&lt;dbl&gt;</th><th scope=col>&lt;int&gt;</th><th scope=col>&lt;int&gt;</th><th scope=col>&lt;dbl&gt;</th><th scope=col>&lt;dbl&gt;</th><th scope=col>&lt;int&gt;</th><th scope=col>&lt;int&gt;</th><th scope=col>&lt;dbl&gt;</th><th scope=col>&lt;dbl&gt;</th><th scope=col>&lt;int&gt;</th><th scope=col>&lt;int&gt;</th><th scope=col>&lt;dbl&gt;</th><th scope=col>&lt;dbl&gt;</th><th scope=col>&lt;int&gt;</th><th scope=col>&lt;int&gt;</th><th scope=col>&lt;dbl&gt;</th><th scope=col>&lt;dbl&gt;</th><th scope=col>&lt;int&gt;</th><th scope=col>&lt;int&gt;</th></tr>\n",
       "</thead>\n",
       "<tbody>\n",
       "\t<tr><th scope=row>1</th><td>R17001923LR01</td><td>001</td><td>R17001923</td><td>R17001923LR01</td><td>R17022784LF01</td><td>R17025772LD01</td><td>R17001923LM01</td><td>001N</td><td>N</td><td>Male</td><td>74</td><td>Lower</td><td>0</td><td>0</td><td>0</td><td>light</td><td>light</td><td>0</td><td>0</td><td>0</td><td>IIIC</td><td>G2</td><td>3</td><td>3</td><td>0</td><td>T3N3M0</td><td>ⅣA</td><td>1</td><td>1</td><td>265</td><td>265</td><td>2</td><td>8.833333</td><td>R17001923LR01</td><td>Baidu</td><td>23</td><td>0.01795764</td><td>TGTGCGAGAGGGGTCGTAAGTGGAACTTACGGCATTGACTCCTGG                     </td><td>CARGVVSGTYGIDSW       </td><td>IGHV3-11</td><td>IGHD1-7*01 </td><td>IGHJ4</td><td>IGHA1</td><td>assemble9   </td><td>1</td><td>119</td><td>2.78799</td><td>0.4166314</td><td>0.01680672</td><td>0.01438849</td><td>2</td><td>10</td><td>0.008403361</td><td>0.004316547</td><td>1</td><td>3</td><td>0.4285714</td><td>0.4345324</td><td>51</td><td>302</td><td>0.1680672</td><td>0.181295</td><td>20</td><td>126</td><td>0.2941176</td><td>0.2964029</td><td>35</td><td>206</td><td>0.05042017</td><td>0.04028777</td><td>6</td><td>28</td><td>0</td><td>0</td><td>0</td><td>0</td><td>0.03361345</td><td>0.02877698</td><td>4</td><td>20</td><td>0</td><td>0</td><td>0</td><td>0</td></tr>\n",
       "\t<tr><th scope=row>2</th><td>R17001923LR01</td><td>001</td><td>R17001923</td><td>R17001923LR01</td><td>R17022784LF01</td><td>R17025772LD01</td><td>R17001923LM01</td><td>001N</td><td>N</td><td>Male</td><td>74</td><td>Lower</td><td>0</td><td>0</td><td>0</td><td>light</td><td>light</td><td>0</td><td>0</td><td>0</td><td>IIIC</td><td>G2</td><td>3</td><td>3</td><td>0</td><td>T3N3M0</td><td>ⅣA</td><td>1</td><td>1</td><td>265</td><td>265</td><td>2</td><td>8.833333</td><td>R17001923LR01</td><td>Baidu</td><td>19</td><td>0.01437216</td><td>TGTACGAAAGACCCTCGTGTAGCAACAGTCAATGTCCGGTTCGACCCCTGG               </td><td>CTKDPRVATVNVRFDPW     </td><td>IGHV3-23</td><td>IGHD6-13*01</td><td>IGHJ5</td><td>IGHA2</td><td>assemble34  </td><td>0</td><td>119</td><td>2.78799</td><td>0.4166314</td><td>0.01680672</td><td>0.01438849</td><td>2</td><td>10</td><td>0.008403361</td><td>0.004316547</td><td>1</td><td>3</td><td>0.4285714</td><td>0.4345324</td><td>51</td><td>302</td><td>0.1680672</td><td>0.181295</td><td>20</td><td>126</td><td>0.2941176</td><td>0.2964029</td><td>35</td><td>206</td><td>0.05042017</td><td>0.04028777</td><td>6</td><td>28</td><td>0</td><td>0</td><td>0</td><td>0</td><td>0.03361345</td><td>0.02877698</td><td>4</td><td>20</td><td>0</td><td>0</td><td>0</td><td>0</td></tr>\n",
       "\t<tr><th scope=row>3</th><td>R17001923LR01</td><td>001</td><td>R17001923</td><td>R17001923LR01</td><td>R17022784LF01</td><td>R17025772LD01</td><td>R17001923LM01</td><td>001N</td><td>N</td><td>Male</td><td>74</td><td>Lower</td><td>0</td><td>0</td><td>0</td><td>light</td><td>light</td><td>0</td><td>0</td><td>0</td><td>IIIC</td><td>G2</td><td>3</td><td>3</td><td>0</td><td>T3N3M0</td><td>ⅣA</td><td>1</td><td>1</td><td>265</td><td>265</td><td>2</td><td>8.833333</td><td>R17001923LR01</td><td>Baidu</td><td>16</td><td>0.01232980</td><td>TGTGCGAGAGATCTGACTGCAACTACATCGAGGGGGGACTACTATTATTACGGCATGGACGTCTGG</td><td>CARDLTATTSRGDYYYYGMDVW</td><td>IGHV4-59</td><td>IGHD1-7*01 </td><td>IGHJ6</td><td>IGHA1</td><td>assemble2609</td><td>1</td><td>119</td><td>2.78799</td><td>0.4166314</td><td>0.01680672</td><td>0.01438849</td><td>2</td><td>10</td><td>0.008403361</td><td>0.004316547</td><td>1</td><td>3</td><td>0.4285714</td><td>0.4345324</td><td>51</td><td>302</td><td>0.1680672</td><td>0.181295</td><td>20</td><td>126</td><td>0.2941176</td><td>0.2964029</td><td>35</td><td>206</td><td>0.05042017</td><td>0.04028777</td><td>6</td><td>28</td><td>0</td><td>0</td><td>0</td><td>0</td><td>0.03361345</td><td>0.02877698</td><td>4</td><td>20</td><td>0</td><td>0</td><td>0</td><td>0</td></tr>\n",
       "\t<tr><th scope=row>4</th><td>R17001923LR01</td><td>001</td><td>R17001923</td><td>R17001923LR01</td><td>R17022784LF01</td><td>R17025772LD01</td><td>R17001923LM01</td><td>001N</td><td>N</td><td>Male</td><td>74</td><td>Lower</td><td>0</td><td>0</td><td>0</td><td>light</td><td>light</td><td>0</td><td>0</td><td>0</td><td>IIIC</td><td>G2</td><td>3</td><td>3</td><td>0</td><td>T3N3M0</td><td>ⅣA</td><td>1</td><td>1</td><td>265</td><td>265</td><td>2</td><td>8.833333</td><td>R17001923LR01</td><td>Baidu</td><td>16</td><td>0.01210287</td><td>TGTGTTAGAGACTACGGTGACTACATGAATTGGTTCGAGTCCTGG                     </td><td>CVRDYGDYMNWFESW       </td><td>IGHV3-49</td><td>IGHD4-17*01</td><td>IGHJ5</td><td>IGHA1</td><td>assemble59  </td><td>0</td><td>119</td><td>2.78799</td><td>0.4166314</td><td>0.01680672</td><td>0.01438849</td><td>2</td><td>10</td><td>0.008403361</td><td>0.004316547</td><td>1</td><td>3</td><td>0.4285714</td><td>0.4345324</td><td>51</td><td>302</td><td>0.1680672</td><td>0.181295</td><td>20</td><td>126</td><td>0.2941176</td><td>0.2964029</td><td>35</td><td>206</td><td>0.05042017</td><td>0.04028777</td><td>6</td><td>28</td><td>0</td><td>0</td><td>0</td><td>0</td><td>0.03361345</td><td>0.02877698</td><td>4</td><td>20</td><td>0</td><td>0</td><td>0</td><td>0</td></tr>\n",
       "\t<tr><th scope=row>5</th><td>R17001923LR01</td><td>001</td><td>R17001923</td><td>R17001923LR01</td><td>R17022784LF01</td><td>R17025772LD01</td><td>R17001923LM01</td><td>001N</td><td>N</td><td>Male</td><td>74</td><td>Lower</td><td>0</td><td>0</td><td>0</td><td>light</td><td>light</td><td>0</td><td>0</td><td>0</td><td>IIIC</td><td>G2</td><td>3</td><td>3</td><td>0</td><td>T3N3M0</td><td>ⅣA</td><td>1</td><td>1</td><td>265</td><td>265</td><td>2</td><td>8.833333</td><td>R17001923LR01</td><td>Baidu</td><td>15</td><td>0.01134644</td><td>TGTGCGAAAGATCGGGACTACGGTGACTACCGGTCGGCTTTCTTTGACTCCTGG            </td><td>CAKDRDYGDYRSAFFDSW    </td><td>IGHV3-30</td><td>IGHD4-17*01</td><td>IGHJ4</td><td>IGHA1</td><td>assemble77  </td><td>0</td><td>119</td><td>2.78799</td><td>0.4166314</td><td>0.01680672</td><td>0.01438849</td><td>2</td><td>10</td><td>0.008403361</td><td>0.004316547</td><td>1</td><td>3</td><td>0.4285714</td><td>0.4345324</td><td>51</td><td>302</td><td>0.1680672</td><td>0.181295</td><td>20</td><td>126</td><td>0.2941176</td><td>0.2964029</td><td>35</td><td>206</td><td>0.05042017</td><td>0.04028777</td><td>6</td><td>28</td><td>0</td><td>0</td><td>0</td><td>0</td><td>0.03361345</td><td>0.02877698</td><td>4</td><td>20</td><td>0</td><td>0</td><td>0</td><td>0</td></tr>\n",
       "\t<tr><th scope=row>6</th><td>R17001923LR01</td><td>001</td><td>R17001923</td><td>R17001923LR01</td><td>R17022784LF01</td><td>R17025772LD01</td><td>R17001923LM01</td><td>001N</td><td>N</td><td>Male</td><td>74</td><td>Lower</td><td>0</td><td>0</td><td>0</td><td>light</td><td>light</td><td>0</td><td>0</td><td>0</td><td>IIIC</td><td>G2</td><td>3</td><td>3</td><td>0</td><td>T3N3M0</td><td>ⅣA</td><td>1</td><td>1</td><td>265</td><td>265</td><td>2</td><td>8.833333</td><td>R17001923LR01</td><td>Baidu</td><td>15</td><td>0.01134644</td><td>TGTGCGAGAGATCGACACTATAGTAGCGACATATATTACGAGTACTACTTTGCTATGGACGTCTGG</td><td>CARDRHYSSDIYYEYYFAMDVW</td><td>IGHV3-33</td><td>IGHD3-16*01</td><td>IGHJ4</td><td>IGHG1</td><td>assemble132 </td><td>0</td><td>119</td><td>2.78799</td><td>0.4166314</td><td>0.01680672</td><td>0.01438849</td><td>2</td><td>10</td><td>0.008403361</td><td>0.004316547</td><td>1</td><td>3</td><td>0.4285714</td><td>0.4345324</td><td>51</td><td>302</td><td>0.1680672</td><td>0.181295</td><td>20</td><td>126</td><td>0.2941176</td><td>0.2964029</td><td>35</td><td>206</td><td>0.05042017</td><td>0.04028777</td><td>6</td><td>28</td><td>0</td><td>0</td><td>0</td><td>0</td><td>0.03361345</td><td>0.02877698</td><td>4</td><td>20</td><td>0</td><td>0</td><td>0</td><td>0</td></tr>\n",
       "</tbody>\n",
       "</table>\n"
      ],
      "text/latex": [
       "A data.frame: 6 × 84\n",
       "\\begin{tabular}{r|llllllllllllllllllllllllllllllllllllllllllllllllllllllllllllllllllllllllllllllllllll}\n",
       "  & RNA-DataID.exprname & sample ID & RNA-DataID & RNA-DataID.old & WGBS-DataID & WGS-DataID & sRNA-DataID & baibu-id & type & Gender & Age & Location & personal history & Family History of ESCC & Family History of other cancers & Smoking history & Drinking history & Intravascular cancer embolus & Perineural Invasion（PNI） & Intravascular cancer embolus and PNI & TNM\\_7th & Grade & T & N & M & TNM status & TNM\\_8th & STATE & recurrence or metastasis & TIME\\_days & Disease-free       Survival time & CIMP subtypes & TIME\\_month & ID & cohort & count & frequency & CDR3nt & CDR3aa & V & D & J & C & cid & cid\\_full\\_length & s\\_richness & s\\_shannon & s\\_clonality & IGHM\\_proportion\\_unique & IGHM\\_proportion\\_redundant & s\\_richness\\_IGHM & s\\_count\\_IGHM & IGHD\\_proportion\\_unique & IGHD\\_proportion\\_redundant & s\\_richness\\_IGHD & s\\_count\\_IGHD & IGHA1\\_proportion\\_unique & IGHA1\\_proportion\\_redundant & s\\_richness\\_IGHA1 & s\\_count\\_IGHA1 & IGHA2\\_proportion\\_unique & IGHA2\\_proportion\\_redundant & s\\_richness\\_IGHA2 & s\\_count\\_IGHA2 & IGHG1\\_proportion\\_unique & IGHG1\\_proportion\\_redundant & s\\_richness\\_IGHG1 & s\\_count\\_IGHG1 & IGHG2\\_proportion\\_unique & IGHG2\\_proportion\\_redundant & s\\_richness\\_IGHG2 & s\\_count\\_IGHG2 & IGHG3\\_proportion\\_unique & IGHG3\\_proportion\\_redundant & s\\_richness\\_IGHG3 & s\\_count\\_IGHG3 & IGHG4\\_proportion\\_unique & IGHG4\\_proportion\\_redundant & s\\_richness\\_IGHG4 & s\\_count\\_IGHG4 & IGHE\\_proportion\\_unique & IGHE\\_proportion\\_redundant & s\\_richness\\_IGHE & s\\_count\\_IGHE\\\\\n",
       "  & <chr> & <chr> & <chr> & <chr> & <chr> & <chr> & <chr> & <chr> & <chr> & <chr> & <int> & <chr> & <int> & <chr> & <chr> & <chr> & <chr> & <chr> & <chr> & <chr> & <chr> & <chr> & <int> & <int> & <int> & <chr> & <chr> & <int> & <chr> & <int> & <int> & <int> & <dbl> & <chr> & <chr> & <int> & <dbl> & <chr> & <chr> & <chr> & <chr> & <chr> & <chr> & <chr> & <int> & <int> & <dbl> & <dbl> & <dbl> & <dbl> & <int> & <int> & <dbl> & <dbl> & <int> & <int> & <dbl> & <dbl> & <int> & <int> & <dbl> & <dbl> & <int> & <int> & <dbl> & <dbl> & <int> & <int> & <dbl> & <dbl> & <int> & <int> & <dbl> & <dbl> & <int> & <int> & <dbl> & <dbl> & <int> & <int> & <dbl> & <dbl> & <int> & <int>\\\\\n",
       "\\hline\n",
       "\t1 & R17001923LR01 & 001 & R17001923 & R17001923LR01 & R17022784LF01 & R17025772LD01 & R17001923LM01 & 001N & N & Male & 74 & Lower & 0 & 0 & 0 & light & light & 0 & 0 & 0 & IIIC & G2 & 3 & 3 & 0 & T3N3M0 & ⅣA & 1 & 1 & 265 & 265 & 2 & 8.833333 & R17001923LR01 & Baidu & 23 & 0.01795764 & TGTGCGAGAGGGGTCGTAAGTGGAACTTACGGCATTGACTCCTGG                      & CARGVVSGTYGIDSW        & IGHV3-11 & IGHD1-7*01  & IGHJ4 & IGHA1 & assemble9    & 1 & 119 & 2.78799 & 0.4166314 & 0.01680672 & 0.01438849 & 2 & 10 & 0.008403361 & 0.004316547 & 1 & 3 & 0.4285714 & 0.4345324 & 51 & 302 & 0.1680672 & 0.181295 & 20 & 126 & 0.2941176 & 0.2964029 & 35 & 206 & 0.05042017 & 0.04028777 & 6 & 28 & 0 & 0 & 0 & 0 & 0.03361345 & 0.02877698 & 4 & 20 & 0 & 0 & 0 & 0\\\\\n",
       "\t2 & R17001923LR01 & 001 & R17001923 & R17001923LR01 & R17022784LF01 & R17025772LD01 & R17001923LM01 & 001N & N & Male & 74 & Lower & 0 & 0 & 0 & light & light & 0 & 0 & 0 & IIIC & G2 & 3 & 3 & 0 & T3N3M0 & ⅣA & 1 & 1 & 265 & 265 & 2 & 8.833333 & R17001923LR01 & Baidu & 19 & 0.01437216 & TGTACGAAAGACCCTCGTGTAGCAACAGTCAATGTCCGGTTCGACCCCTGG                & CTKDPRVATVNVRFDPW      & IGHV3-23 & IGHD6-13*01 & IGHJ5 & IGHA2 & assemble34   & 0 & 119 & 2.78799 & 0.4166314 & 0.01680672 & 0.01438849 & 2 & 10 & 0.008403361 & 0.004316547 & 1 & 3 & 0.4285714 & 0.4345324 & 51 & 302 & 0.1680672 & 0.181295 & 20 & 126 & 0.2941176 & 0.2964029 & 35 & 206 & 0.05042017 & 0.04028777 & 6 & 28 & 0 & 0 & 0 & 0 & 0.03361345 & 0.02877698 & 4 & 20 & 0 & 0 & 0 & 0\\\\\n",
       "\t3 & R17001923LR01 & 001 & R17001923 & R17001923LR01 & R17022784LF01 & R17025772LD01 & R17001923LM01 & 001N & N & Male & 74 & Lower & 0 & 0 & 0 & light & light & 0 & 0 & 0 & IIIC & G2 & 3 & 3 & 0 & T3N3M0 & ⅣA & 1 & 1 & 265 & 265 & 2 & 8.833333 & R17001923LR01 & Baidu & 16 & 0.01232980 & TGTGCGAGAGATCTGACTGCAACTACATCGAGGGGGGACTACTATTATTACGGCATGGACGTCTGG & CARDLTATTSRGDYYYYGMDVW & IGHV4-59 & IGHD1-7*01  & IGHJ6 & IGHA1 & assemble2609 & 1 & 119 & 2.78799 & 0.4166314 & 0.01680672 & 0.01438849 & 2 & 10 & 0.008403361 & 0.004316547 & 1 & 3 & 0.4285714 & 0.4345324 & 51 & 302 & 0.1680672 & 0.181295 & 20 & 126 & 0.2941176 & 0.2964029 & 35 & 206 & 0.05042017 & 0.04028777 & 6 & 28 & 0 & 0 & 0 & 0 & 0.03361345 & 0.02877698 & 4 & 20 & 0 & 0 & 0 & 0\\\\\n",
       "\t4 & R17001923LR01 & 001 & R17001923 & R17001923LR01 & R17022784LF01 & R17025772LD01 & R17001923LM01 & 001N & N & Male & 74 & Lower & 0 & 0 & 0 & light & light & 0 & 0 & 0 & IIIC & G2 & 3 & 3 & 0 & T3N3M0 & ⅣA & 1 & 1 & 265 & 265 & 2 & 8.833333 & R17001923LR01 & Baidu & 16 & 0.01210287 & TGTGTTAGAGACTACGGTGACTACATGAATTGGTTCGAGTCCTGG                      & CVRDYGDYMNWFESW        & IGHV3-49 & IGHD4-17*01 & IGHJ5 & IGHA1 & assemble59   & 0 & 119 & 2.78799 & 0.4166314 & 0.01680672 & 0.01438849 & 2 & 10 & 0.008403361 & 0.004316547 & 1 & 3 & 0.4285714 & 0.4345324 & 51 & 302 & 0.1680672 & 0.181295 & 20 & 126 & 0.2941176 & 0.2964029 & 35 & 206 & 0.05042017 & 0.04028777 & 6 & 28 & 0 & 0 & 0 & 0 & 0.03361345 & 0.02877698 & 4 & 20 & 0 & 0 & 0 & 0\\\\\n",
       "\t5 & R17001923LR01 & 001 & R17001923 & R17001923LR01 & R17022784LF01 & R17025772LD01 & R17001923LM01 & 001N & N & Male & 74 & Lower & 0 & 0 & 0 & light & light & 0 & 0 & 0 & IIIC & G2 & 3 & 3 & 0 & T3N3M0 & ⅣA & 1 & 1 & 265 & 265 & 2 & 8.833333 & R17001923LR01 & Baidu & 15 & 0.01134644 & TGTGCGAAAGATCGGGACTACGGTGACTACCGGTCGGCTTTCTTTGACTCCTGG             & CAKDRDYGDYRSAFFDSW     & IGHV3-30 & IGHD4-17*01 & IGHJ4 & IGHA1 & assemble77   & 0 & 119 & 2.78799 & 0.4166314 & 0.01680672 & 0.01438849 & 2 & 10 & 0.008403361 & 0.004316547 & 1 & 3 & 0.4285714 & 0.4345324 & 51 & 302 & 0.1680672 & 0.181295 & 20 & 126 & 0.2941176 & 0.2964029 & 35 & 206 & 0.05042017 & 0.04028777 & 6 & 28 & 0 & 0 & 0 & 0 & 0.03361345 & 0.02877698 & 4 & 20 & 0 & 0 & 0 & 0\\\\\n",
       "\t6 & R17001923LR01 & 001 & R17001923 & R17001923LR01 & R17022784LF01 & R17025772LD01 & R17001923LM01 & 001N & N & Male & 74 & Lower & 0 & 0 & 0 & light & light & 0 & 0 & 0 & IIIC & G2 & 3 & 3 & 0 & T3N3M0 & ⅣA & 1 & 1 & 265 & 265 & 2 & 8.833333 & R17001923LR01 & Baidu & 15 & 0.01134644 & TGTGCGAGAGATCGACACTATAGTAGCGACATATATTACGAGTACTACTTTGCTATGGACGTCTGG & CARDRHYSSDIYYEYYFAMDVW & IGHV3-33 & IGHD3-16*01 & IGHJ4 & IGHG1 & assemble132  & 0 & 119 & 2.78799 & 0.4166314 & 0.01680672 & 0.01438849 & 2 & 10 & 0.008403361 & 0.004316547 & 1 & 3 & 0.4285714 & 0.4345324 & 51 & 302 & 0.1680672 & 0.181295 & 20 & 126 & 0.2941176 & 0.2964029 & 35 & 206 & 0.05042017 & 0.04028777 & 6 & 28 & 0 & 0 & 0 & 0 & 0.03361345 & 0.02877698 & 4 & 20 & 0 & 0 & 0 & 0\\\\\n",
       "\\end{tabular}\n"
      ],
      "text/markdown": [
       "\n",
       "A data.frame: 6 × 84\n",
       "\n",
       "| <!--/--> | RNA-DataID.exprname &lt;chr&gt; | sample ID &lt;chr&gt; | RNA-DataID &lt;chr&gt; | RNA-DataID.old &lt;chr&gt; | WGBS-DataID &lt;chr&gt; | WGS-DataID &lt;chr&gt; | sRNA-DataID &lt;chr&gt; | baibu-id &lt;chr&gt; | type &lt;chr&gt; | Gender &lt;chr&gt; | Age &lt;int&gt; | Location &lt;chr&gt; | personal history &lt;int&gt; | Family History of ESCC &lt;chr&gt; | Family History of other cancers &lt;chr&gt; | Smoking history &lt;chr&gt; | Drinking history &lt;chr&gt; | Intravascular cancer embolus &lt;chr&gt; | Perineural Invasion（PNI） &lt;chr&gt; | Intravascular cancer embolus and PNI &lt;chr&gt; | TNM_7th &lt;chr&gt; | Grade &lt;chr&gt; | T &lt;int&gt; | N &lt;int&gt; | M &lt;int&gt; | TNM status &lt;chr&gt; | TNM_8th &lt;chr&gt; | STATE &lt;int&gt; | recurrence or metastasis &lt;chr&gt; | TIME_days &lt;int&gt; | Disease-free       Survival time &lt;int&gt; | CIMP subtypes &lt;int&gt; | TIME_month &lt;dbl&gt; | ID &lt;chr&gt; | cohort &lt;chr&gt; | count &lt;int&gt; | frequency &lt;dbl&gt; | CDR3nt &lt;chr&gt; | CDR3aa &lt;chr&gt; | V &lt;chr&gt; | D &lt;chr&gt; | J &lt;chr&gt; | C &lt;chr&gt; | cid &lt;chr&gt; | cid_full_length &lt;int&gt; | s_richness &lt;int&gt; | s_shannon &lt;dbl&gt; | s_clonality &lt;dbl&gt; | IGHM_proportion_unique &lt;dbl&gt; | IGHM_proportion_redundant &lt;dbl&gt; | s_richness_IGHM &lt;int&gt; | s_count_IGHM &lt;int&gt; | IGHD_proportion_unique &lt;dbl&gt; | IGHD_proportion_redundant &lt;dbl&gt; | s_richness_IGHD &lt;int&gt; | s_count_IGHD &lt;int&gt; | IGHA1_proportion_unique &lt;dbl&gt; | IGHA1_proportion_redundant &lt;dbl&gt; | s_richness_IGHA1 &lt;int&gt; | s_count_IGHA1 &lt;int&gt; | IGHA2_proportion_unique &lt;dbl&gt; | IGHA2_proportion_redundant &lt;dbl&gt; | s_richness_IGHA2 &lt;int&gt; | s_count_IGHA2 &lt;int&gt; | IGHG1_proportion_unique &lt;dbl&gt; | IGHG1_proportion_redundant &lt;dbl&gt; | s_richness_IGHG1 &lt;int&gt; | s_count_IGHG1 &lt;int&gt; | IGHG2_proportion_unique &lt;dbl&gt; | IGHG2_proportion_redundant &lt;dbl&gt; | s_richness_IGHG2 &lt;int&gt; | s_count_IGHG2 &lt;int&gt; | IGHG3_proportion_unique &lt;dbl&gt; | IGHG3_proportion_redundant &lt;dbl&gt; | s_richness_IGHG3 &lt;int&gt; | s_count_IGHG3 &lt;int&gt; | IGHG4_proportion_unique &lt;dbl&gt; | IGHG4_proportion_redundant &lt;dbl&gt; | s_richness_IGHG4 &lt;int&gt; | s_count_IGHG4 &lt;int&gt; | IGHE_proportion_unique &lt;dbl&gt; | IGHE_proportion_redundant &lt;dbl&gt; | s_richness_IGHE &lt;int&gt; | s_count_IGHE &lt;int&gt; |\n",
       "|---|---|---|---|---|---|---|---|---|---|---|---|---|---|---|---|---|---|---|---|---|---|---|---|---|---|---|---|---|---|---|---|---|---|---|---|---|---|---|---|---|---|---|---|---|---|---|---|---|---|---|---|---|---|---|---|---|---|---|---|---|---|---|---|---|---|---|---|---|---|---|---|---|---|---|---|---|---|---|---|---|---|---|---|---|\n",
       "| 1 | R17001923LR01 | 001 | R17001923 | R17001923LR01 | R17022784LF01 | R17025772LD01 | R17001923LM01 | 001N | N | Male | 74 | Lower | 0 | 0 | 0 | light | light | 0 | 0 | 0 | IIIC | G2 | 3 | 3 | 0 | T3N3M0 | ⅣA | 1 | 1 | 265 | 265 | 2 | 8.833333 | R17001923LR01 | Baidu | 23 | 0.01795764 | TGTGCGAGAGGGGTCGTAAGTGGAACTTACGGCATTGACTCCTGG                      | CARGVVSGTYGIDSW        | IGHV3-11 | IGHD1-7*01  | IGHJ4 | IGHA1 | assemble9    | 1 | 119 | 2.78799 | 0.4166314 | 0.01680672 | 0.01438849 | 2 | 10 | 0.008403361 | 0.004316547 | 1 | 3 | 0.4285714 | 0.4345324 | 51 | 302 | 0.1680672 | 0.181295 | 20 | 126 | 0.2941176 | 0.2964029 | 35 | 206 | 0.05042017 | 0.04028777 | 6 | 28 | 0 | 0 | 0 | 0 | 0.03361345 | 0.02877698 | 4 | 20 | 0 | 0 | 0 | 0 |\n",
       "| 2 | R17001923LR01 | 001 | R17001923 | R17001923LR01 | R17022784LF01 | R17025772LD01 | R17001923LM01 | 001N | N | Male | 74 | Lower | 0 | 0 | 0 | light | light | 0 | 0 | 0 | IIIC | G2 | 3 | 3 | 0 | T3N3M0 | ⅣA | 1 | 1 | 265 | 265 | 2 | 8.833333 | R17001923LR01 | Baidu | 19 | 0.01437216 | TGTACGAAAGACCCTCGTGTAGCAACAGTCAATGTCCGGTTCGACCCCTGG                | CTKDPRVATVNVRFDPW      | IGHV3-23 | IGHD6-13*01 | IGHJ5 | IGHA2 | assemble34   | 0 | 119 | 2.78799 | 0.4166314 | 0.01680672 | 0.01438849 | 2 | 10 | 0.008403361 | 0.004316547 | 1 | 3 | 0.4285714 | 0.4345324 | 51 | 302 | 0.1680672 | 0.181295 | 20 | 126 | 0.2941176 | 0.2964029 | 35 | 206 | 0.05042017 | 0.04028777 | 6 | 28 | 0 | 0 | 0 | 0 | 0.03361345 | 0.02877698 | 4 | 20 | 0 | 0 | 0 | 0 |\n",
       "| 3 | R17001923LR01 | 001 | R17001923 | R17001923LR01 | R17022784LF01 | R17025772LD01 | R17001923LM01 | 001N | N | Male | 74 | Lower | 0 | 0 | 0 | light | light | 0 | 0 | 0 | IIIC | G2 | 3 | 3 | 0 | T3N3M0 | ⅣA | 1 | 1 | 265 | 265 | 2 | 8.833333 | R17001923LR01 | Baidu | 16 | 0.01232980 | TGTGCGAGAGATCTGACTGCAACTACATCGAGGGGGGACTACTATTATTACGGCATGGACGTCTGG | CARDLTATTSRGDYYYYGMDVW | IGHV4-59 | IGHD1-7*01  | IGHJ6 | IGHA1 | assemble2609 | 1 | 119 | 2.78799 | 0.4166314 | 0.01680672 | 0.01438849 | 2 | 10 | 0.008403361 | 0.004316547 | 1 | 3 | 0.4285714 | 0.4345324 | 51 | 302 | 0.1680672 | 0.181295 | 20 | 126 | 0.2941176 | 0.2964029 | 35 | 206 | 0.05042017 | 0.04028777 | 6 | 28 | 0 | 0 | 0 | 0 | 0.03361345 | 0.02877698 | 4 | 20 | 0 | 0 | 0 | 0 |\n",
       "| 4 | R17001923LR01 | 001 | R17001923 | R17001923LR01 | R17022784LF01 | R17025772LD01 | R17001923LM01 | 001N | N | Male | 74 | Lower | 0 | 0 | 0 | light | light | 0 | 0 | 0 | IIIC | G2 | 3 | 3 | 0 | T3N3M0 | ⅣA | 1 | 1 | 265 | 265 | 2 | 8.833333 | R17001923LR01 | Baidu | 16 | 0.01210287 | TGTGTTAGAGACTACGGTGACTACATGAATTGGTTCGAGTCCTGG                      | CVRDYGDYMNWFESW        | IGHV3-49 | IGHD4-17*01 | IGHJ5 | IGHA1 | assemble59   | 0 | 119 | 2.78799 | 0.4166314 | 0.01680672 | 0.01438849 | 2 | 10 | 0.008403361 | 0.004316547 | 1 | 3 | 0.4285714 | 0.4345324 | 51 | 302 | 0.1680672 | 0.181295 | 20 | 126 | 0.2941176 | 0.2964029 | 35 | 206 | 0.05042017 | 0.04028777 | 6 | 28 | 0 | 0 | 0 | 0 | 0.03361345 | 0.02877698 | 4 | 20 | 0 | 0 | 0 | 0 |\n",
       "| 5 | R17001923LR01 | 001 | R17001923 | R17001923LR01 | R17022784LF01 | R17025772LD01 | R17001923LM01 | 001N | N | Male | 74 | Lower | 0 | 0 | 0 | light | light | 0 | 0 | 0 | IIIC | G2 | 3 | 3 | 0 | T3N3M0 | ⅣA | 1 | 1 | 265 | 265 | 2 | 8.833333 | R17001923LR01 | Baidu | 15 | 0.01134644 | TGTGCGAAAGATCGGGACTACGGTGACTACCGGTCGGCTTTCTTTGACTCCTGG             | CAKDRDYGDYRSAFFDSW     | IGHV3-30 | IGHD4-17*01 | IGHJ4 | IGHA1 | assemble77   | 0 | 119 | 2.78799 | 0.4166314 | 0.01680672 | 0.01438849 | 2 | 10 | 0.008403361 | 0.004316547 | 1 | 3 | 0.4285714 | 0.4345324 | 51 | 302 | 0.1680672 | 0.181295 | 20 | 126 | 0.2941176 | 0.2964029 | 35 | 206 | 0.05042017 | 0.04028777 | 6 | 28 | 0 | 0 | 0 | 0 | 0.03361345 | 0.02877698 | 4 | 20 | 0 | 0 | 0 | 0 |\n",
       "| 6 | R17001923LR01 | 001 | R17001923 | R17001923LR01 | R17022784LF01 | R17025772LD01 | R17001923LM01 | 001N | N | Male | 74 | Lower | 0 | 0 | 0 | light | light | 0 | 0 | 0 | IIIC | G2 | 3 | 3 | 0 | T3N3M0 | ⅣA | 1 | 1 | 265 | 265 | 2 | 8.833333 | R17001923LR01 | Baidu | 15 | 0.01134644 | TGTGCGAGAGATCGACACTATAGTAGCGACATATATTACGAGTACTACTTTGCTATGGACGTCTGG | CARDRHYSSDIYYEYYFAMDVW | IGHV3-33 | IGHD3-16*01 | IGHJ4 | IGHG1 | assemble132  | 0 | 119 | 2.78799 | 0.4166314 | 0.01680672 | 0.01438849 | 2 | 10 | 0.008403361 | 0.004316547 | 1 | 3 | 0.4285714 | 0.4345324 | 51 | 302 | 0.1680672 | 0.181295 | 20 | 126 | 0.2941176 | 0.2964029 | 35 | 206 | 0.05042017 | 0.04028777 | 6 | 28 | 0 | 0 | 0 | 0 | 0.03361345 | 0.02877698 | 4 | 20 | 0 | 0 | 0 | 0 |\n",
       "\n"
      ],
      "text/plain": [
       "  RNA-DataID.exprname sample ID RNA-DataID RNA-DataID.old WGBS-DataID  \n",
       "1 R17001923LR01       001       R17001923  R17001923LR01  R17022784LF01\n",
       "2 R17001923LR01       001       R17001923  R17001923LR01  R17022784LF01\n",
       "3 R17001923LR01       001       R17001923  R17001923LR01  R17022784LF01\n",
       "4 R17001923LR01       001       R17001923  R17001923LR01  R17022784LF01\n",
       "5 R17001923LR01       001       R17001923  R17001923LR01  R17022784LF01\n",
       "6 R17001923LR01       001       R17001923  R17001923LR01  R17022784LF01\n",
       "  WGS-DataID    sRNA-DataID   baibu-id type Gender Age Location\n",
       "1 R17025772LD01 R17001923LM01 001N     N    Male   74  Lower   \n",
       "2 R17025772LD01 R17001923LM01 001N     N    Male   74  Lower   \n",
       "3 R17025772LD01 R17001923LM01 001N     N    Male   74  Lower   \n",
       "4 R17025772LD01 R17001923LM01 001N     N    Male   74  Lower   \n",
       "5 R17025772LD01 R17001923LM01 001N     N    Male   74  Lower   \n",
       "6 R17025772LD01 R17001923LM01 001N     N    Male   74  Lower   \n",
       "  personal history Family History of ESCC Family History of other cancers\n",
       "1 0                0                      0                              \n",
       "2 0                0                      0                              \n",
       "3 0                0                      0                              \n",
       "4 0                0                      0                              \n",
       "5 0                0                      0                              \n",
       "6 0                0                      0                              \n",
       "  Smoking history Drinking history Intravascular cancer embolus\n",
       "1 light           light            0                           \n",
       "2 light           light            0                           \n",
       "3 light           light            0                           \n",
       "4 light           light            0                           \n",
       "5 light           light            0                           \n",
       "6 light           light            0                           \n",
       "  Perineural Invasion（PNI） Intravascular cancer embolus and PNI TNM_7th Grade\n",
       "1 0                          0                                    IIIC    G2   \n",
       "2 0                          0                                    IIIC    G2   \n",
       "3 0                          0                                    IIIC    G2   \n",
       "4 0                          0                                    IIIC    G2   \n",
       "5 0                          0                                    IIIC    G2   \n",
       "6 0                          0                                    IIIC    G2   \n",
       "  T N M TNM status TNM_8th STATE recurrence or metastasis TIME_days\n",
       "1 3 3 0 T3N3M0     ⅣA      1     1                        265      \n",
       "2 3 3 0 T3N3M0     ⅣA      1     1                        265      \n",
       "3 3 3 0 T3N3M0     ⅣA      1     1                        265      \n",
       "4 3 3 0 T3N3M0     ⅣA      1     1                        265      \n",
       "5 3 3 0 T3N3M0     ⅣA      1     1                        265      \n",
       "6 3 3 0 T3N3M0     ⅣA      1     1                        265      \n",
       "  Disease-free       Survival time CIMP subtypes TIME_month ID           \n",
       "1 265                              2             8.833333   R17001923LR01\n",
       "2 265                              2             8.833333   R17001923LR01\n",
       "3 265                              2             8.833333   R17001923LR01\n",
       "4 265                              2             8.833333   R17001923LR01\n",
       "5 265                              2             8.833333   R17001923LR01\n",
       "6 265                              2             8.833333   R17001923LR01\n",
       "  cohort count frequency \n",
       "1 Baidu  23    0.01795764\n",
       "2 Baidu  19    0.01437216\n",
       "3 Baidu  16    0.01232980\n",
       "4 Baidu  16    0.01210287\n",
       "5 Baidu  15    0.01134644\n",
       "6 Baidu  15    0.01134644\n",
       "  CDR3nt                                                            \n",
       "1 TGTGCGAGAGGGGTCGTAAGTGGAACTTACGGCATTGACTCCTGG                     \n",
       "2 TGTACGAAAGACCCTCGTGTAGCAACAGTCAATGTCCGGTTCGACCCCTGG               \n",
       "3 TGTGCGAGAGATCTGACTGCAACTACATCGAGGGGGGACTACTATTATTACGGCATGGACGTCTGG\n",
       "4 TGTGTTAGAGACTACGGTGACTACATGAATTGGTTCGAGTCCTGG                     \n",
       "5 TGTGCGAAAGATCGGGACTACGGTGACTACCGGTCGGCTTTCTTTGACTCCTGG            \n",
       "6 TGTGCGAGAGATCGACACTATAGTAGCGACATATATTACGAGTACTACTTTGCTATGGACGTCTGG\n",
       "  CDR3aa                 V        D           J     C     cid         \n",
       "1 CARGVVSGTYGIDSW        IGHV3-11 IGHD1-7*01  IGHJ4 IGHA1 assemble9   \n",
       "2 CTKDPRVATVNVRFDPW      IGHV3-23 IGHD6-13*01 IGHJ5 IGHA2 assemble34  \n",
       "3 CARDLTATTSRGDYYYYGMDVW IGHV4-59 IGHD1-7*01  IGHJ6 IGHA1 assemble2609\n",
       "4 CVRDYGDYMNWFESW        IGHV3-49 IGHD4-17*01 IGHJ5 IGHA1 assemble59  \n",
       "5 CAKDRDYGDYRSAFFDSW     IGHV3-30 IGHD4-17*01 IGHJ4 IGHA1 assemble77  \n",
       "6 CARDRHYSSDIYYEYYFAMDVW IGHV3-33 IGHD3-16*01 IGHJ4 IGHG1 assemble132 \n",
       "  cid_full_length s_richness s_shannon s_clonality IGHM_proportion_unique\n",
       "1 1               119        2.78799   0.4166314   0.01680672            \n",
       "2 0               119        2.78799   0.4166314   0.01680672            \n",
       "3 1               119        2.78799   0.4166314   0.01680672            \n",
       "4 0               119        2.78799   0.4166314   0.01680672            \n",
       "5 0               119        2.78799   0.4166314   0.01680672            \n",
       "6 0               119        2.78799   0.4166314   0.01680672            \n",
       "  IGHM_proportion_redundant s_richness_IGHM s_count_IGHM IGHD_proportion_unique\n",
       "1 0.01438849                2               10           0.008403361           \n",
       "2 0.01438849                2               10           0.008403361           \n",
       "3 0.01438849                2               10           0.008403361           \n",
       "4 0.01438849                2               10           0.008403361           \n",
       "5 0.01438849                2               10           0.008403361           \n",
       "6 0.01438849                2               10           0.008403361           \n",
       "  IGHD_proportion_redundant s_richness_IGHD s_count_IGHD\n",
       "1 0.004316547               1               3           \n",
       "2 0.004316547               1               3           \n",
       "3 0.004316547               1               3           \n",
       "4 0.004316547               1               3           \n",
       "5 0.004316547               1               3           \n",
       "6 0.004316547               1               3           \n",
       "  IGHA1_proportion_unique IGHA1_proportion_redundant s_richness_IGHA1\n",
       "1 0.4285714               0.4345324                  51              \n",
       "2 0.4285714               0.4345324                  51              \n",
       "3 0.4285714               0.4345324                  51              \n",
       "4 0.4285714               0.4345324                  51              \n",
       "5 0.4285714               0.4345324                  51              \n",
       "6 0.4285714               0.4345324                  51              \n",
       "  s_count_IGHA1 IGHA2_proportion_unique IGHA2_proportion_redundant\n",
       "1 302           0.1680672               0.181295                  \n",
       "2 302           0.1680672               0.181295                  \n",
       "3 302           0.1680672               0.181295                  \n",
       "4 302           0.1680672               0.181295                  \n",
       "5 302           0.1680672               0.181295                  \n",
       "6 302           0.1680672               0.181295                  \n",
       "  s_richness_IGHA2 s_count_IGHA2 IGHG1_proportion_unique\n",
       "1 20               126           0.2941176              \n",
       "2 20               126           0.2941176              \n",
       "3 20               126           0.2941176              \n",
       "4 20               126           0.2941176              \n",
       "5 20               126           0.2941176              \n",
       "6 20               126           0.2941176              \n",
       "  IGHG1_proportion_redundant s_richness_IGHG1 s_count_IGHG1\n",
       "1 0.2964029                  35               206          \n",
       "2 0.2964029                  35               206          \n",
       "3 0.2964029                  35               206          \n",
       "4 0.2964029                  35               206          \n",
       "5 0.2964029                  35               206          \n",
       "6 0.2964029                  35               206          \n",
       "  IGHG2_proportion_unique IGHG2_proportion_redundant s_richness_IGHG2\n",
       "1 0.05042017              0.04028777                 6               \n",
       "2 0.05042017              0.04028777                 6               \n",
       "3 0.05042017              0.04028777                 6               \n",
       "4 0.05042017              0.04028777                 6               \n",
       "5 0.05042017              0.04028777                 6               \n",
       "6 0.05042017              0.04028777                 6               \n",
       "  s_count_IGHG2 IGHG3_proportion_unique IGHG3_proportion_redundant\n",
       "1 28            0                       0                         \n",
       "2 28            0                       0                         \n",
       "3 28            0                       0                         \n",
       "4 28            0                       0                         \n",
       "5 28            0                       0                         \n",
       "6 28            0                       0                         \n",
       "  s_richness_IGHG3 s_count_IGHG3 IGHG4_proportion_unique\n",
       "1 0                0             0.03361345             \n",
       "2 0                0             0.03361345             \n",
       "3 0                0             0.03361345             \n",
       "4 0                0             0.03361345             \n",
       "5 0                0             0.03361345             \n",
       "6 0                0             0.03361345             \n",
       "  IGHG4_proportion_redundant s_richness_IGHG4 s_count_IGHG4\n",
       "1 0.02877698                 4                20           \n",
       "2 0.02877698                 4                20           \n",
       "3 0.02877698                 4                20           \n",
       "4 0.02877698                 4                20           \n",
       "5 0.02877698                 4                20           \n",
       "6 0.02877698                 4                20           \n",
       "  IGHE_proportion_unique IGHE_proportion_redundant s_richness_IGHE s_count_IGHE\n",
       "1 0                      0                         0               0           \n",
       "2 0                      0                         0               0           \n",
       "3 0                      0                         0               0           \n",
       "4 0                      0                         0               0           \n",
       "5 0                      0                         0               0           \n",
       "6 0                      0                         0               0           "
      ]
     },
     "metadata": {},
     "output_type": "display_data"
    }
   ],
   "source": [
    "Trust_cdr3_baidu_merged_diversity<-read.csv(\"Trust_cdr3_baidu_merged_diversity_IGH.csv\",header=TRUE,quote = \"\\\"\", skipNul = TRUE,check.names=FALSE)\n",
    "Trust_cdr3_baidu_merged_diversity$`sample ID`<-sprintf('%03d',Trust_cdr3_baidu_merged_diversity$`sample ID`)\n",
    "\n",
    "Trust_cdr3_baidu_merged_diversity$V<-str_extract(Trust_cdr3_baidu_merged_diversity$V,pattern = \".*(?=\\\\*)\")\n",
    "Trust_cdr3_baidu_merged_diversity$J<-str_extract(Trust_cdr3_baidu_merged_diversity$J,pattern = \".*(?=\\\\*)\")\n",
    "\n",
    "head(Trust_cdr3_baidu_merged_diversity)"
   ]
  },
  {
   "attachments": {},
   "cell_type": "markdown",
   "metadata": {},
   "source": [
    "## 2. read Multi Region data"
   ]
  },
  {
   "cell_type": "code",
   "execution_count": 3,
   "metadata": {
    "vscode": {
     "languageId": "r"
    }
   },
   "outputs": [
    {
     "data": {
      "text/html": [
       "<table class=\"dataframe\">\n",
       "<caption>A data.frame: 6 × 73</caption>\n",
       "<thead>\n",
       "\t<tr><th></th><th scope=col>Patient_ID</th><th scope=col>Gender</th><th scope=col>Age</th><th scope=col>Location</th><th scope=col>Smoking_status</th><th scope=col>Drinking_status</th><th scope=col>T</th><th scope=col>N</th><th scope=col>M</th><th scope=col>TNM</th><th scope=col>Tumor_grade</th><th scope=col>Lymphatic_metastasis</th><th scope=col>Surgery_date</th><th scope=col>Follow-up_date</th><th scope=col>Followup_death_date1</th><th scope=col>Death_date</th><th scope=col>Survival_status</th><th scope=col>Survival_time</th><th scope=col>Chemotherapy</th><th scope=col>Radiotherapy</th><th scope=col>Other_therapy</th><th scope=col>ID</th><th scope=col>Cohort</th><th scope=col>Count</th><th scope=col>Frequency</th><th scope=col>CDR3nt</th><th scope=col>CDR3aa</th><th scope=col>V</th><th scope=col>D</th><th scope=col>J</th><th scope=col>C</th><th scope=col>cid</th><th scope=col>cid_full_length</th><th scope=col>type</th><th scope=col>s_richness</th><th scope=col>s_shannon</th><th scope=col>s_clonality</th><th scope=col>IGHM_proportion_unique</th><th scope=col>IGHM_proportion_redundant</th><th scope=col>s_richness_IGHM</th><th scope=col>s_count_IGHM</th><th scope=col>IGHD_proportion_unique</th><th scope=col>IGHD_proportion_redundant</th><th scope=col>s_richness_IGHD</th><th scope=col>s_count_IGHD</th><th scope=col>IGHA1_proportion_unique</th><th scope=col>IGHA1_proportion_redundant</th><th scope=col>s_richness_IGHA1</th><th scope=col>s_count_IGHA1</th><th scope=col>IGHA2_proportion_unique</th><th scope=col>IGHA2_proportion_redundant</th><th scope=col>s_richness_IGHA2</th><th scope=col>s_count_IGHA2</th><th scope=col>IGHG1_proportion_unique</th><th scope=col>IGHG1_proportion_redundant</th><th scope=col>s_richness_IGHG1</th><th scope=col>s_count_IGHG1</th><th scope=col>IGHG2_proportion_unique</th><th scope=col>IGHG2_proportion_redundant</th><th scope=col>s_richness_IGHG2</th><th scope=col>s_count_IGHG2</th><th scope=col>IGHG3_proportion_unique</th><th scope=col>IGHG3_proportion_redundant</th><th scope=col>s_richness_IGHG3</th><th scope=col>s_count_IGHG3</th><th scope=col>IGHG4_proportion_unique</th><th scope=col>IGHG4_proportion_redundant</th><th scope=col>s_richness_IGHG4</th><th scope=col>s_count_IGHG4</th><th scope=col>IGHE_proportion_unique</th><th scope=col>IGHE_proportion_redundant</th><th scope=col>s_richness_IGHE</th><th scope=col>s_count_IGHE</th></tr>\n",
       "\t<tr><th></th><th scope=col>&lt;chr&gt;</th><th scope=col>&lt;chr&gt;</th><th scope=col>&lt;int&gt;</th><th scope=col>&lt;chr&gt;</th><th scope=col>&lt;chr&gt;</th><th scope=col>&lt;chr&gt;</th><th scope=col>&lt;chr&gt;</th><th scope=col>&lt;chr&gt;</th><th scope=col>&lt;chr&gt;</th><th scope=col>&lt;chr&gt;</th><th scope=col>&lt;chr&gt;</th><th scope=col>&lt;chr&gt;</th><th scope=col>&lt;chr&gt;</th><th scope=col>&lt;chr&gt;</th><th scope=col>&lt;int&gt;</th><th scope=col>&lt;chr&gt;</th><th scope=col>&lt;int&gt;</th><th scope=col>&lt;dbl&gt;</th><th scope=col>&lt;chr&gt;</th><th scope=col>&lt;chr&gt;</th><th scope=col>&lt;chr&gt;</th><th scope=col>&lt;chr&gt;</th><th scope=col>&lt;chr&gt;</th><th scope=col>&lt;int&gt;</th><th scope=col>&lt;dbl&gt;</th><th scope=col>&lt;chr&gt;</th><th scope=col>&lt;chr&gt;</th><th scope=col>&lt;chr&gt;</th><th scope=col>&lt;chr&gt;</th><th scope=col>&lt;chr&gt;</th><th scope=col>&lt;chr&gt;</th><th scope=col>&lt;chr&gt;</th><th scope=col>&lt;int&gt;</th><th scope=col>&lt;chr&gt;</th><th scope=col>&lt;int&gt;</th><th scope=col>&lt;dbl&gt;</th><th scope=col>&lt;dbl&gt;</th><th scope=col>&lt;dbl&gt;</th><th scope=col>&lt;dbl&gt;</th><th scope=col>&lt;int&gt;</th><th scope=col>&lt;int&gt;</th><th scope=col>&lt;dbl&gt;</th><th scope=col>&lt;dbl&gt;</th><th scope=col>&lt;int&gt;</th><th scope=col>&lt;int&gt;</th><th scope=col>&lt;dbl&gt;</th><th scope=col>&lt;dbl&gt;</th><th scope=col>&lt;int&gt;</th><th scope=col>&lt;int&gt;</th><th scope=col>&lt;dbl&gt;</th><th scope=col>&lt;dbl&gt;</th><th scope=col>&lt;int&gt;</th><th scope=col>&lt;int&gt;</th><th scope=col>&lt;dbl&gt;</th><th scope=col>&lt;dbl&gt;</th><th scope=col>&lt;int&gt;</th><th scope=col>&lt;int&gt;</th><th scope=col>&lt;dbl&gt;</th><th scope=col>&lt;dbl&gt;</th><th scope=col>&lt;int&gt;</th><th scope=col>&lt;int&gt;</th><th scope=col>&lt;dbl&gt;</th><th scope=col>&lt;dbl&gt;</th><th scope=col>&lt;int&gt;</th><th scope=col>&lt;int&gt;</th><th scope=col>&lt;dbl&gt;</th><th scope=col>&lt;dbl&gt;</th><th scope=col>&lt;int&gt;</th><th scope=col>&lt;int&gt;</th><th scope=col>&lt;dbl&gt;</th><th scope=col>&lt;dbl&gt;</th><th scope=col>&lt;int&gt;</th><th scope=col>&lt;int&gt;</th></tr>\n",
       "</thead>\n",
       "<tbody>\n",
       "\t<tr><th scope=row>1</th><td>ESCC001</td><td>Male</td><td>60</td><td>Middle</td><td>never</td><td>never</td><td>T3</td><td>N0</td><td>M0</td><td>Ⅱb</td><td>G2</td><td>No</td><td>2016-05-26</td><td>42949</td><td>NA</td><td>NA</td><td>0</td><td>14</td><td>无</td><td>无</td><td>无</td><td>ESCC001N</td><td>Multi_region</td><td>17</td><td>0.08947368</td><td>TGTGCGAGACAAACACACTCACGTTTTTCGTGGAGGGACCTCTACGGTTTGGACGTCTGG                  </td><td>CARQTHSRFSWRDLYGLDVW      </td><td>IGHV4-39*01</td><td>IGHD3-10*01</td><td>IGHJ4*02</td><td>IGHG1</td><td>assemble2   </td><td>0</td><td>N</td><td>14</td><td>2.482157</td><td>0.05945309</td><td>0.1428571</td><td>0.175</td><td>2</td><td>14</td><td>0</td><td>0</td><td>0</td><td>0</td><td>0.5</td><td>0.425</td><td>7</td><td>34</td><td>0.07142857</td><td>0.0625</td><td>1</td><td>5</td><td>0.2142857</td><td>0.3</td><td>3</td><td>24</td><td>0.07142857</td><td>0.0375</td><td>1</td><td>3</td><td>0</td><td>0</td><td>0</td><td>0</td><td>0</td><td>0</td><td>0</td><td>0</td><td>0</td><td>0</td><td>0</td><td>0</td></tr>\n",
       "\t<tr><th scope=row>2</th><td>ESCC001</td><td>Male</td><td>60</td><td>Middle</td><td>never</td><td>never</td><td>T3</td><td>N0</td><td>M0</td><td>Ⅱb</td><td>G2</td><td>No</td><td>2016-05-26</td><td>42949</td><td>NA</td><td>NA</td><td>0</td><td>14</td><td>无</td><td>无</td><td>无</td><td>ESCC001N</td><td>Multi_region</td><td> 9</td><td>0.04736842</td><td>TGTGCGAGACGCCGGACGTATAACTGGAACGACCGGTACTTTGACTACTGG                           </td><td>CARRRTYNWNDRYFDYW         </td><td>IGHV4-59*01</td><td>IGHD1-20*01</td><td>IGHJ4*02</td><td>IGHM </td><td>assemble12  </td><td>1</td><td>N</td><td>14</td><td>2.482157</td><td>0.05945309</td><td>0.1428571</td><td>0.175</td><td>2</td><td>14</td><td>0</td><td>0</td><td>0</td><td>0</td><td>0.5</td><td>0.425</td><td>7</td><td>34</td><td>0.07142857</td><td>0.0625</td><td>1</td><td>5</td><td>0.2142857</td><td>0.3</td><td>3</td><td>24</td><td>0.07142857</td><td>0.0375</td><td>1</td><td>3</td><td>0</td><td>0</td><td>0</td><td>0</td><td>0</td><td>0</td><td>0</td><td>0</td><td>0</td><td>0</td><td>0</td><td>0</td></tr>\n",
       "\t<tr><th scope=row>3</th><td>ESCC001</td><td>Male</td><td>60</td><td>Middle</td><td>never</td><td>never</td><td>T3</td><td>N0</td><td>M0</td><td>Ⅱb</td><td>G2</td><td>No</td><td>2016-05-26</td><td>42949</td><td>NA</td><td>NA</td><td>0</td><td>14</td><td>无</td><td>无</td><td>无</td><td>ESCC001N</td><td>Multi_region</td><td> 8</td><td>0.04210526</td><td>TGTGCGAGACATGAGCGTCAGAAACGGGGGTGGATACCAGCTGCCCCTCGGTTCGACCCCTGG               </td><td>CARHERQKRGWIPAAPRFDPW     </td><td>IGHV4-39*01</td><td>IGHD5-18*01</td><td>IGHJ5*02</td><td>IGHA1</td><td>assemble3   </td><td>0</td><td>N</td><td>14</td><td>2.482157</td><td>0.05945309</td><td>0.1428571</td><td>0.175</td><td>2</td><td>14</td><td>0</td><td>0</td><td>0</td><td>0</td><td>0.5</td><td>0.425</td><td>7</td><td>34</td><td>0.07142857</td><td>0.0625</td><td>1</td><td>5</td><td>0.2142857</td><td>0.3</td><td>3</td><td>24</td><td>0.07142857</td><td>0.0375</td><td>1</td><td>3</td><td>0</td><td>0</td><td>0</td><td>0</td><td>0</td><td>0</td><td>0</td><td>0</td><td>0</td><td>0</td><td>0</td><td>0</td></tr>\n",
       "\t<tr><th scope=row>4</th><td>ESCC001</td><td>Male</td><td>60</td><td>Middle</td><td>never</td><td>never</td><td>T3</td><td>N0</td><td>M0</td><td>Ⅱb</td><td>G2</td><td>No</td><td>2016-05-26</td><td>42949</td><td>NA</td><td>NA</td><td>0</td><td>14</td><td>无</td><td>无</td><td>无</td><td>ESCC001N</td><td>Multi_region</td><td> 6</td><td>0.03157895</td><td>TGTGGTAGACATAAACCCCACCTCCTAGGGGTACTGGTGGTCGCTGCTACTGCATTTGACTACTGG            </td><td>CGRHKPHLLGVLVVAATAFDYW    </td><td>IGHV4-39*01</td><td>IGHD2-15*01</td><td>IGHJ4*02</td><td>IGHA1</td><td>assemble141 </td><td>0</td><td>N</td><td>14</td><td>2.482157</td><td>0.05945309</td><td>0.1428571</td><td>0.175</td><td>2</td><td>14</td><td>0</td><td>0</td><td>0</td><td>0</td><td>0.5</td><td>0.425</td><td>7</td><td>34</td><td>0.07142857</td><td>0.0625</td><td>1</td><td>5</td><td>0.2142857</td><td>0.3</td><td>3</td><td>24</td><td>0.07142857</td><td>0.0375</td><td>1</td><td>3</td><td>0</td><td>0</td><td>0</td><td>0</td><td>0</td><td>0</td><td>0</td><td>0</td><td>0</td><td>0</td><td>0</td><td>0</td></tr>\n",
       "\t<tr><th scope=row>5</th><td>ESCC001</td><td>Male</td><td>60</td><td>Middle</td><td>never</td><td>never</td><td>T3</td><td>N0</td><td>M0</td><td>Ⅱb</td><td>G2</td><td>No</td><td>2016-05-26</td><td>42949</td><td>NA</td><td>NA</td><td>0</td><td>14</td><td>无</td><td>无</td><td>无</td><td>ESCC001N</td><td>Multi_region</td><td> 6</td><td>0.03157895</td><td>TGTGCGAGAGATGCATCCCGGTTCGACCCCTGG                                             </td><td>CARDASRFDPW               </td><td>IGHV4-59*01</td><td>IGHD5-24*01</td><td>IGHJ5*02</td><td>IGHA1</td><td>assemble1310</td><td>0</td><td>N</td><td>14</td><td>2.482157</td><td>0.05945309</td><td>0.1428571</td><td>0.175</td><td>2</td><td>14</td><td>0</td><td>0</td><td>0</td><td>0</td><td>0.5</td><td>0.425</td><td>7</td><td>34</td><td>0.07142857</td><td>0.0625</td><td>1</td><td>5</td><td>0.2142857</td><td>0.3</td><td>3</td><td>24</td><td>0.07142857</td><td>0.0375</td><td>1</td><td>3</td><td>0</td><td>0</td><td>0</td><td>0</td><td>0</td><td>0</td><td>0</td><td>0</td><td>0</td><td>0</td><td>0</td><td>0</td></tr>\n",
       "\t<tr><th scope=row>6</th><td>ESCC001</td><td>Male</td><td>60</td><td>Middle</td><td>never</td><td>never</td><td>T3</td><td>N0</td><td>M0</td><td>Ⅱb</td><td>G2</td><td>No</td><td>2016-05-26</td><td>42949</td><td>NA</td><td>NA</td><td>0</td><td>14</td><td>无</td><td>无</td><td>无</td><td>ESCC001N</td><td>Multi_region</td><td> 5</td><td>0.02631579</td><td>TGTGCGAGGTCCAGTAGAGCAGCTGGACTCGACCGCGTATGGAAGGGTTTCTACTACTACTACTACATGGACGTCTGG</td><td>CARSSRAAGLDRVWKGFYYYYYMDVW</td><td>IGHV3-11*06</td><td>IGHD6-6*01 </td><td>IGHJ6*04</td><td>IGHM </td><td>assemble362 </td><td>0</td><td>N</td><td>14</td><td>2.482157</td><td>0.05945309</td><td>0.1428571</td><td>0.175</td><td>2</td><td>14</td><td>0</td><td>0</td><td>0</td><td>0</td><td>0.5</td><td>0.425</td><td>7</td><td>34</td><td>0.07142857</td><td>0.0625</td><td>1</td><td>5</td><td>0.2142857</td><td>0.3</td><td>3</td><td>24</td><td>0.07142857</td><td>0.0375</td><td>1</td><td>3</td><td>0</td><td>0</td><td>0</td><td>0</td><td>0</td><td>0</td><td>0</td><td>0</td><td>0</td><td>0</td><td>0</td><td>0</td></tr>\n",
       "</tbody>\n",
       "</table>\n"
      ],
      "text/latex": [
       "A data.frame: 6 × 73\n",
       "\\begin{tabular}{r|lllllllllllllllllllllllllllllllllllllllllllllllllllllllllllllllllllllllll}\n",
       "  & Patient\\_ID & Gender & Age & Location & Smoking\\_status & Drinking\\_status & T & N & M & TNM & Tumor\\_grade & Lymphatic\\_metastasis & Surgery\\_date & Follow-up\\_date & Followup\\_death\\_date1 & Death\\_date & Survival\\_status & Survival\\_time & Chemotherapy & Radiotherapy & Other\\_therapy & ID & Cohort & Count & Frequency & CDR3nt & CDR3aa & V & D & J & C & cid & cid\\_full\\_length & type & s\\_richness & s\\_shannon & s\\_clonality & IGHM\\_proportion\\_unique & IGHM\\_proportion\\_redundant & s\\_richness\\_IGHM & s\\_count\\_IGHM & IGHD\\_proportion\\_unique & IGHD\\_proportion\\_redundant & s\\_richness\\_IGHD & s\\_count\\_IGHD & IGHA1\\_proportion\\_unique & IGHA1\\_proportion\\_redundant & s\\_richness\\_IGHA1 & s\\_count\\_IGHA1 & IGHA2\\_proportion\\_unique & IGHA2\\_proportion\\_redundant & s\\_richness\\_IGHA2 & s\\_count\\_IGHA2 & IGHG1\\_proportion\\_unique & IGHG1\\_proportion\\_redundant & s\\_richness\\_IGHG1 & s\\_count\\_IGHG1 & IGHG2\\_proportion\\_unique & IGHG2\\_proportion\\_redundant & s\\_richness\\_IGHG2 & s\\_count\\_IGHG2 & IGHG3\\_proportion\\_unique & IGHG3\\_proportion\\_redundant & s\\_richness\\_IGHG3 & s\\_count\\_IGHG3 & IGHG4\\_proportion\\_unique & IGHG4\\_proportion\\_redundant & s\\_richness\\_IGHG4 & s\\_count\\_IGHG4 & IGHE\\_proportion\\_unique & IGHE\\_proportion\\_redundant & s\\_richness\\_IGHE & s\\_count\\_IGHE\\\\\n",
       "  & <chr> & <chr> & <int> & <chr> & <chr> & <chr> & <chr> & <chr> & <chr> & <chr> & <chr> & <chr> & <chr> & <chr> & <int> & <chr> & <int> & <dbl> & <chr> & <chr> & <chr> & <chr> & <chr> & <int> & <dbl> & <chr> & <chr> & <chr> & <chr> & <chr> & <chr> & <chr> & <int> & <chr> & <int> & <dbl> & <dbl> & <dbl> & <dbl> & <int> & <int> & <dbl> & <dbl> & <int> & <int> & <dbl> & <dbl> & <int> & <int> & <dbl> & <dbl> & <int> & <int> & <dbl> & <dbl> & <int> & <int> & <dbl> & <dbl> & <int> & <int> & <dbl> & <dbl> & <int> & <int> & <dbl> & <dbl> & <int> & <int> & <dbl> & <dbl> & <int> & <int>\\\\\n",
       "\\hline\n",
       "\t1 & ESCC001 & Male & 60 & Middle & never & never & T3 & N0 & M0 & Ⅱb & G2 & No & 2016-05-26 & 42949 & NA & NA & 0 & 14 & 无 & 无 & 无 & ESCC001N & Multi\\_region & 17 & 0.08947368 & TGTGCGAGACAAACACACTCACGTTTTTCGTGGAGGGACCTCTACGGTTTGGACGTCTGG                   & CARQTHSRFSWRDLYGLDVW       & IGHV4-39*01 & IGHD3-10*01 & IGHJ4*02 & IGHG1 & assemble2    & 0 & N & 14 & 2.482157 & 0.05945309 & 0.1428571 & 0.175 & 2 & 14 & 0 & 0 & 0 & 0 & 0.5 & 0.425 & 7 & 34 & 0.07142857 & 0.0625 & 1 & 5 & 0.2142857 & 0.3 & 3 & 24 & 0.07142857 & 0.0375 & 1 & 3 & 0 & 0 & 0 & 0 & 0 & 0 & 0 & 0 & 0 & 0 & 0 & 0\\\\\n",
       "\t2 & ESCC001 & Male & 60 & Middle & never & never & T3 & N0 & M0 & Ⅱb & G2 & No & 2016-05-26 & 42949 & NA & NA & 0 & 14 & 无 & 无 & 无 & ESCC001N & Multi\\_region &  9 & 0.04736842 & TGTGCGAGACGCCGGACGTATAACTGGAACGACCGGTACTTTGACTACTGG                            & CARRRTYNWNDRYFDYW          & IGHV4-59*01 & IGHD1-20*01 & IGHJ4*02 & IGHM  & assemble12   & 1 & N & 14 & 2.482157 & 0.05945309 & 0.1428571 & 0.175 & 2 & 14 & 0 & 0 & 0 & 0 & 0.5 & 0.425 & 7 & 34 & 0.07142857 & 0.0625 & 1 & 5 & 0.2142857 & 0.3 & 3 & 24 & 0.07142857 & 0.0375 & 1 & 3 & 0 & 0 & 0 & 0 & 0 & 0 & 0 & 0 & 0 & 0 & 0 & 0\\\\\n",
       "\t3 & ESCC001 & Male & 60 & Middle & never & never & T3 & N0 & M0 & Ⅱb & G2 & No & 2016-05-26 & 42949 & NA & NA & 0 & 14 & 无 & 无 & 无 & ESCC001N & Multi\\_region &  8 & 0.04210526 & TGTGCGAGACATGAGCGTCAGAAACGGGGGTGGATACCAGCTGCCCCTCGGTTCGACCCCTGG                & CARHERQKRGWIPAAPRFDPW      & IGHV4-39*01 & IGHD5-18*01 & IGHJ5*02 & IGHA1 & assemble3    & 0 & N & 14 & 2.482157 & 0.05945309 & 0.1428571 & 0.175 & 2 & 14 & 0 & 0 & 0 & 0 & 0.5 & 0.425 & 7 & 34 & 0.07142857 & 0.0625 & 1 & 5 & 0.2142857 & 0.3 & 3 & 24 & 0.07142857 & 0.0375 & 1 & 3 & 0 & 0 & 0 & 0 & 0 & 0 & 0 & 0 & 0 & 0 & 0 & 0\\\\\n",
       "\t4 & ESCC001 & Male & 60 & Middle & never & never & T3 & N0 & M0 & Ⅱb & G2 & No & 2016-05-26 & 42949 & NA & NA & 0 & 14 & 无 & 无 & 无 & ESCC001N & Multi\\_region &  6 & 0.03157895 & TGTGGTAGACATAAACCCCACCTCCTAGGGGTACTGGTGGTCGCTGCTACTGCATTTGACTACTGG             & CGRHKPHLLGVLVVAATAFDYW     & IGHV4-39*01 & IGHD2-15*01 & IGHJ4*02 & IGHA1 & assemble141  & 0 & N & 14 & 2.482157 & 0.05945309 & 0.1428571 & 0.175 & 2 & 14 & 0 & 0 & 0 & 0 & 0.5 & 0.425 & 7 & 34 & 0.07142857 & 0.0625 & 1 & 5 & 0.2142857 & 0.3 & 3 & 24 & 0.07142857 & 0.0375 & 1 & 3 & 0 & 0 & 0 & 0 & 0 & 0 & 0 & 0 & 0 & 0 & 0 & 0\\\\\n",
       "\t5 & ESCC001 & Male & 60 & Middle & never & never & T3 & N0 & M0 & Ⅱb & G2 & No & 2016-05-26 & 42949 & NA & NA & 0 & 14 & 无 & 无 & 无 & ESCC001N & Multi\\_region &  6 & 0.03157895 & TGTGCGAGAGATGCATCCCGGTTCGACCCCTGG                                              & CARDASRFDPW                & IGHV4-59*01 & IGHD5-24*01 & IGHJ5*02 & IGHA1 & assemble1310 & 0 & N & 14 & 2.482157 & 0.05945309 & 0.1428571 & 0.175 & 2 & 14 & 0 & 0 & 0 & 0 & 0.5 & 0.425 & 7 & 34 & 0.07142857 & 0.0625 & 1 & 5 & 0.2142857 & 0.3 & 3 & 24 & 0.07142857 & 0.0375 & 1 & 3 & 0 & 0 & 0 & 0 & 0 & 0 & 0 & 0 & 0 & 0 & 0 & 0\\\\\n",
       "\t6 & ESCC001 & Male & 60 & Middle & never & never & T3 & N0 & M0 & Ⅱb & G2 & No & 2016-05-26 & 42949 & NA & NA & 0 & 14 & 无 & 无 & 无 & ESCC001N & Multi\\_region &  5 & 0.02631579 & TGTGCGAGGTCCAGTAGAGCAGCTGGACTCGACCGCGTATGGAAGGGTTTCTACTACTACTACTACATGGACGTCTGG & CARSSRAAGLDRVWKGFYYYYYMDVW & IGHV3-11*06 & IGHD6-6*01  & IGHJ6*04 & IGHM  & assemble362  & 0 & N & 14 & 2.482157 & 0.05945309 & 0.1428571 & 0.175 & 2 & 14 & 0 & 0 & 0 & 0 & 0.5 & 0.425 & 7 & 34 & 0.07142857 & 0.0625 & 1 & 5 & 0.2142857 & 0.3 & 3 & 24 & 0.07142857 & 0.0375 & 1 & 3 & 0 & 0 & 0 & 0 & 0 & 0 & 0 & 0 & 0 & 0 & 0 & 0\\\\\n",
       "\\end{tabular}\n"
      ],
      "text/markdown": [
       "\n",
       "A data.frame: 6 × 73\n",
       "\n",
       "| <!--/--> | Patient_ID &lt;chr&gt; | Gender &lt;chr&gt; | Age &lt;int&gt; | Location &lt;chr&gt; | Smoking_status &lt;chr&gt; | Drinking_status &lt;chr&gt; | T &lt;chr&gt; | N &lt;chr&gt; | M &lt;chr&gt; | TNM &lt;chr&gt; | Tumor_grade &lt;chr&gt; | Lymphatic_metastasis &lt;chr&gt; | Surgery_date &lt;chr&gt; | Follow-up_date &lt;chr&gt; | Followup_death_date1 &lt;int&gt; | Death_date &lt;chr&gt; | Survival_status &lt;int&gt; | Survival_time &lt;dbl&gt; | Chemotherapy &lt;chr&gt; | Radiotherapy &lt;chr&gt; | Other_therapy &lt;chr&gt; | ID &lt;chr&gt; | Cohort &lt;chr&gt; | Count &lt;int&gt; | Frequency &lt;dbl&gt; | CDR3nt &lt;chr&gt; | CDR3aa &lt;chr&gt; | V &lt;chr&gt; | D &lt;chr&gt; | J &lt;chr&gt; | C &lt;chr&gt; | cid &lt;chr&gt; | cid_full_length &lt;int&gt; | type &lt;chr&gt; | s_richness &lt;int&gt; | s_shannon &lt;dbl&gt; | s_clonality &lt;dbl&gt; | IGHM_proportion_unique &lt;dbl&gt; | IGHM_proportion_redundant &lt;dbl&gt; | s_richness_IGHM &lt;int&gt; | s_count_IGHM &lt;int&gt; | IGHD_proportion_unique &lt;dbl&gt; | IGHD_proportion_redundant &lt;dbl&gt; | s_richness_IGHD &lt;int&gt; | s_count_IGHD &lt;int&gt; | IGHA1_proportion_unique &lt;dbl&gt; | IGHA1_proportion_redundant &lt;dbl&gt; | s_richness_IGHA1 &lt;int&gt; | s_count_IGHA1 &lt;int&gt; | IGHA2_proportion_unique &lt;dbl&gt; | IGHA2_proportion_redundant &lt;dbl&gt; | s_richness_IGHA2 &lt;int&gt; | s_count_IGHA2 &lt;int&gt; | IGHG1_proportion_unique &lt;dbl&gt; | IGHG1_proportion_redundant &lt;dbl&gt; | s_richness_IGHG1 &lt;int&gt; | s_count_IGHG1 &lt;int&gt; | IGHG2_proportion_unique &lt;dbl&gt; | IGHG2_proportion_redundant &lt;dbl&gt; | s_richness_IGHG2 &lt;int&gt; | s_count_IGHG2 &lt;int&gt; | IGHG3_proportion_unique &lt;dbl&gt; | IGHG3_proportion_redundant &lt;dbl&gt; | s_richness_IGHG3 &lt;int&gt; | s_count_IGHG3 &lt;int&gt; | IGHG4_proportion_unique &lt;dbl&gt; | IGHG4_proportion_redundant &lt;dbl&gt; | s_richness_IGHG4 &lt;int&gt; | s_count_IGHG4 &lt;int&gt; | IGHE_proportion_unique &lt;dbl&gt; | IGHE_proportion_redundant &lt;dbl&gt; | s_richness_IGHE &lt;int&gt; | s_count_IGHE &lt;int&gt; |\n",
       "|---|---|---|---|---|---|---|---|---|---|---|---|---|---|---|---|---|---|---|---|---|---|---|---|---|---|---|---|---|---|---|---|---|---|---|---|---|---|---|---|---|---|---|---|---|---|---|---|---|---|---|---|---|---|---|---|---|---|---|---|---|---|---|---|---|---|---|---|---|---|---|---|---|---|\n",
       "| 1 | ESCC001 | Male | 60 | Middle | never | never | T3 | N0 | M0 | Ⅱb | G2 | No | 2016-05-26 | 42949 | NA | NA | 0 | 14 | 无 | 无 | 无 | ESCC001N | Multi_region | 17 | 0.08947368 | TGTGCGAGACAAACACACTCACGTTTTTCGTGGAGGGACCTCTACGGTTTGGACGTCTGG                   | CARQTHSRFSWRDLYGLDVW       | IGHV4-39*01 | IGHD3-10*01 | IGHJ4*02 | IGHG1 | assemble2    | 0 | N | 14 | 2.482157 | 0.05945309 | 0.1428571 | 0.175 | 2 | 14 | 0 | 0 | 0 | 0 | 0.5 | 0.425 | 7 | 34 | 0.07142857 | 0.0625 | 1 | 5 | 0.2142857 | 0.3 | 3 | 24 | 0.07142857 | 0.0375 | 1 | 3 | 0 | 0 | 0 | 0 | 0 | 0 | 0 | 0 | 0 | 0 | 0 | 0 |\n",
       "| 2 | ESCC001 | Male | 60 | Middle | never | never | T3 | N0 | M0 | Ⅱb | G2 | No | 2016-05-26 | 42949 | NA | NA | 0 | 14 | 无 | 无 | 无 | ESCC001N | Multi_region |  9 | 0.04736842 | TGTGCGAGACGCCGGACGTATAACTGGAACGACCGGTACTTTGACTACTGG                            | CARRRTYNWNDRYFDYW          | IGHV4-59*01 | IGHD1-20*01 | IGHJ4*02 | IGHM  | assemble12   | 1 | N | 14 | 2.482157 | 0.05945309 | 0.1428571 | 0.175 | 2 | 14 | 0 | 0 | 0 | 0 | 0.5 | 0.425 | 7 | 34 | 0.07142857 | 0.0625 | 1 | 5 | 0.2142857 | 0.3 | 3 | 24 | 0.07142857 | 0.0375 | 1 | 3 | 0 | 0 | 0 | 0 | 0 | 0 | 0 | 0 | 0 | 0 | 0 | 0 |\n",
       "| 3 | ESCC001 | Male | 60 | Middle | never | never | T3 | N0 | M0 | Ⅱb | G2 | No | 2016-05-26 | 42949 | NA | NA | 0 | 14 | 无 | 无 | 无 | ESCC001N | Multi_region |  8 | 0.04210526 | TGTGCGAGACATGAGCGTCAGAAACGGGGGTGGATACCAGCTGCCCCTCGGTTCGACCCCTGG                | CARHERQKRGWIPAAPRFDPW      | IGHV4-39*01 | IGHD5-18*01 | IGHJ5*02 | IGHA1 | assemble3    | 0 | N | 14 | 2.482157 | 0.05945309 | 0.1428571 | 0.175 | 2 | 14 | 0 | 0 | 0 | 0 | 0.5 | 0.425 | 7 | 34 | 0.07142857 | 0.0625 | 1 | 5 | 0.2142857 | 0.3 | 3 | 24 | 0.07142857 | 0.0375 | 1 | 3 | 0 | 0 | 0 | 0 | 0 | 0 | 0 | 0 | 0 | 0 | 0 | 0 |\n",
       "| 4 | ESCC001 | Male | 60 | Middle | never | never | T3 | N0 | M0 | Ⅱb | G2 | No | 2016-05-26 | 42949 | NA | NA | 0 | 14 | 无 | 无 | 无 | ESCC001N | Multi_region |  6 | 0.03157895 | TGTGGTAGACATAAACCCCACCTCCTAGGGGTACTGGTGGTCGCTGCTACTGCATTTGACTACTGG             | CGRHKPHLLGVLVVAATAFDYW     | IGHV4-39*01 | IGHD2-15*01 | IGHJ4*02 | IGHA1 | assemble141  | 0 | N | 14 | 2.482157 | 0.05945309 | 0.1428571 | 0.175 | 2 | 14 | 0 | 0 | 0 | 0 | 0.5 | 0.425 | 7 | 34 | 0.07142857 | 0.0625 | 1 | 5 | 0.2142857 | 0.3 | 3 | 24 | 0.07142857 | 0.0375 | 1 | 3 | 0 | 0 | 0 | 0 | 0 | 0 | 0 | 0 | 0 | 0 | 0 | 0 |\n",
       "| 5 | ESCC001 | Male | 60 | Middle | never | never | T3 | N0 | M0 | Ⅱb | G2 | No | 2016-05-26 | 42949 | NA | NA | 0 | 14 | 无 | 无 | 无 | ESCC001N | Multi_region |  6 | 0.03157895 | TGTGCGAGAGATGCATCCCGGTTCGACCCCTGG                                              | CARDASRFDPW                | IGHV4-59*01 | IGHD5-24*01 | IGHJ5*02 | IGHA1 | assemble1310 | 0 | N | 14 | 2.482157 | 0.05945309 | 0.1428571 | 0.175 | 2 | 14 | 0 | 0 | 0 | 0 | 0.5 | 0.425 | 7 | 34 | 0.07142857 | 0.0625 | 1 | 5 | 0.2142857 | 0.3 | 3 | 24 | 0.07142857 | 0.0375 | 1 | 3 | 0 | 0 | 0 | 0 | 0 | 0 | 0 | 0 | 0 | 0 | 0 | 0 |\n",
       "| 6 | ESCC001 | Male | 60 | Middle | never | never | T3 | N0 | M0 | Ⅱb | G2 | No | 2016-05-26 | 42949 | NA | NA | 0 | 14 | 无 | 无 | 无 | ESCC001N | Multi_region |  5 | 0.02631579 | TGTGCGAGGTCCAGTAGAGCAGCTGGACTCGACCGCGTATGGAAGGGTTTCTACTACTACTACTACATGGACGTCTGG | CARSSRAAGLDRVWKGFYYYYYMDVW | IGHV3-11*06 | IGHD6-6*01  | IGHJ6*04 | IGHM  | assemble362  | 0 | N | 14 | 2.482157 | 0.05945309 | 0.1428571 | 0.175 | 2 | 14 | 0 | 0 | 0 | 0 | 0.5 | 0.425 | 7 | 34 | 0.07142857 | 0.0625 | 1 | 5 | 0.2142857 | 0.3 | 3 | 24 | 0.07142857 | 0.0375 | 1 | 3 | 0 | 0 | 0 | 0 | 0 | 0 | 0 | 0 | 0 | 0 | 0 | 0 |\n",
       "\n"
      ],
      "text/plain": [
       "  Patient_ID Gender Age Location Smoking_status Drinking_status T  N  M  TNM\n",
       "1 ESCC001    Male   60  Middle   never          never           T3 N0 M0 Ⅱb \n",
       "2 ESCC001    Male   60  Middle   never          never           T3 N0 M0 Ⅱb \n",
       "3 ESCC001    Male   60  Middle   never          never           T3 N0 M0 Ⅱb \n",
       "4 ESCC001    Male   60  Middle   never          never           T3 N0 M0 Ⅱb \n",
       "5 ESCC001    Male   60  Middle   never          never           T3 N0 M0 Ⅱb \n",
       "6 ESCC001    Male   60  Middle   never          never           T3 N0 M0 Ⅱb \n",
       "  Tumor_grade Lymphatic_metastasis Surgery_date Follow-up_date\n",
       "1 G2          No                   2016-05-26   42949         \n",
       "2 G2          No                   2016-05-26   42949         \n",
       "3 G2          No                   2016-05-26   42949         \n",
       "4 G2          No                   2016-05-26   42949         \n",
       "5 G2          No                   2016-05-26   42949         \n",
       "6 G2          No                   2016-05-26   42949         \n",
       "  Followup_death_date1 Death_date Survival_status Survival_time Chemotherapy\n",
       "1 NA                   NA         0               14            无          \n",
       "2 NA                   NA         0               14            无          \n",
       "3 NA                   NA         0               14            无          \n",
       "4 NA                   NA         0               14            无          \n",
       "5 NA                   NA         0               14            无          \n",
       "6 NA                   NA         0               14            无          \n",
       "  Radiotherapy Other_therapy ID       Cohort       Count Frequency \n",
       "1 无           无            ESCC001N Multi_region 17    0.08947368\n",
       "2 无           无            ESCC001N Multi_region  9    0.04736842\n",
       "3 无           无            ESCC001N Multi_region  8    0.04210526\n",
       "4 无           无            ESCC001N Multi_region  6    0.03157895\n",
       "5 无           无            ESCC001N Multi_region  6    0.03157895\n",
       "6 无           无            ESCC001N Multi_region  5    0.02631579\n",
       "  CDR3nt                                                                        \n",
       "1 TGTGCGAGACAAACACACTCACGTTTTTCGTGGAGGGACCTCTACGGTTTGGACGTCTGG                  \n",
       "2 TGTGCGAGACGCCGGACGTATAACTGGAACGACCGGTACTTTGACTACTGG                           \n",
       "3 TGTGCGAGACATGAGCGTCAGAAACGGGGGTGGATACCAGCTGCCCCTCGGTTCGACCCCTGG               \n",
       "4 TGTGGTAGACATAAACCCCACCTCCTAGGGGTACTGGTGGTCGCTGCTACTGCATTTGACTACTGG            \n",
       "5 TGTGCGAGAGATGCATCCCGGTTCGACCCCTGG                                             \n",
       "6 TGTGCGAGGTCCAGTAGAGCAGCTGGACTCGACCGCGTATGGAAGGGTTTCTACTACTACTACTACATGGACGTCTGG\n",
       "  CDR3aa                     V           D           J        C    \n",
       "1 CARQTHSRFSWRDLYGLDVW       IGHV4-39*01 IGHD3-10*01 IGHJ4*02 IGHG1\n",
       "2 CARRRTYNWNDRYFDYW          IGHV4-59*01 IGHD1-20*01 IGHJ4*02 IGHM \n",
       "3 CARHERQKRGWIPAAPRFDPW      IGHV4-39*01 IGHD5-18*01 IGHJ5*02 IGHA1\n",
       "4 CGRHKPHLLGVLVVAATAFDYW     IGHV4-39*01 IGHD2-15*01 IGHJ4*02 IGHA1\n",
       "5 CARDASRFDPW                IGHV4-59*01 IGHD5-24*01 IGHJ5*02 IGHA1\n",
       "6 CARSSRAAGLDRVWKGFYYYYYMDVW IGHV3-11*06 IGHD6-6*01  IGHJ6*04 IGHM \n",
       "  cid          cid_full_length type s_richness s_shannon s_clonality\n",
       "1 assemble2    0               N    14         2.482157  0.05945309 \n",
       "2 assemble12   1               N    14         2.482157  0.05945309 \n",
       "3 assemble3    0               N    14         2.482157  0.05945309 \n",
       "4 assemble141  0               N    14         2.482157  0.05945309 \n",
       "5 assemble1310 0               N    14         2.482157  0.05945309 \n",
       "6 assemble362  0               N    14         2.482157  0.05945309 \n",
       "  IGHM_proportion_unique IGHM_proportion_redundant s_richness_IGHM s_count_IGHM\n",
       "1 0.1428571              0.175                     2               14          \n",
       "2 0.1428571              0.175                     2               14          \n",
       "3 0.1428571              0.175                     2               14          \n",
       "4 0.1428571              0.175                     2               14          \n",
       "5 0.1428571              0.175                     2               14          \n",
       "6 0.1428571              0.175                     2               14          \n",
       "  IGHD_proportion_unique IGHD_proportion_redundant s_richness_IGHD s_count_IGHD\n",
       "1 0                      0                         0               0           \n",
       "2 0                      0                         0               0           \n",
       "3 0                      0                         0               0           \n",
       "4 0                      0                         0               0           \n",
       "5 0                      0                         0               0           \n",
       "6 0                      0                         0               0           \n",
       "  IGHA1_proportion_unique IGHA1_proportion_redundant s_richness_IGHA1\n",
       "1 0.5                     0.425                      7               \n",
       "2 0.5                     0.425                      7               \n",
       "3 0.5                     0.425                      7               \n",
       "4 0.5                     0.425                      7               \n",
       "5 0.5                     0.425                      7               \n",
       "6 0.5                     0.425                      7               \n",
       "  s_count_IGHA1 IGHA2_proportion_unique IGHA2_proportion_redundant\n",
       "1 34            0.07142857              0.0625                    \n",
       "2 34            0.07142857              0.0625                    \n",
       "3 34            0.07142857              0.0625                    \n",
       "4 34            0.07142857              0.0625                    \n",
       "5 34            0.07142857              0.0625                    \n",
       "6 34            0.07142857              0.0625                    \n",
       "  s_richness_IGHA2 s_count_IGHA2 IGHG1_proportion_unique\n",
       "1 1                5             0.2142857              \n",
       "2 1                5             0.2142857              \n",
       "3 1                5             0.2142857              \n",
       "4 1                5             0.2142857              \n",
       "5 1                5             0.2142857              \n",
       "6 1                5             0.2142857              \n",
       "  IGHG1_proportion_redundant s_richness_IGHG1 s_count_IGHG1\n",
       "1 0.3                        3                24           \n",
       "2 0.3                        3                24           \n",
       "3 0.3                        3                24           \n",
       "4 0.3                        3                24           \n",
       "5 0.3                        3                24           \n",
       "6 0.3                        3                24           \n",
       "  IGHG2_proportion_unique IGHG2_proportion_redundant s_richness_IGHG2\n",
       "1 0.07142857              0.0375                     1               \n",
       "2 0.07142857              0.0375                     1               \n",
       "3 0.07142857              0.0375                     1               \n",
       "4 0.07142857              0.0375                     1               \n",
       "5 0.07142857              0.0375                     1               \n",
       "6 0.07142857              0.0375                     1               \n",
       "  s_count_IGHG2 IGHG3_proportion_unique IGHG3_proportion_redundant\n",
       "1 3             0                       0                         \n",
       "2 3             0                       0                         \n",
       "3 3             0                       0                         \n",
       "4 3             0                       0                         \n",
       "5 3             0                       0                         \n",
       "6 3             0                       0                         \n",
       "  s_richness_IGHG3 s_count_IGHG3 IGHG4_proportion_unique\n",
       "1 0                0             0                      \n",
       "2 0                0             0                      \n",
       "3 0                0             0                      \n",
       "4 0                0             0                      \n",
       "5 0                0             0                      \n",
       "6 0                0             0                      \n",
       "  IGHG4_proportion_redundant s_richness_IGHG4 s_count_IGHG4\n",
       "1 0                          0                0            \n",
       "2 0                          0                0            \n",
       "3 0                          0                0            \n",
       "4 0                          0                0            \n",
       "5 0                          0                0            \n",
       "6 0                          0                0            \n",
       "  IGHE_proportion_unique IGHE_proportion_redundant s_richness_IGHE s_count_IGHE\n",
       "1 0                      0                         0               0           \n",
       "2 0                      0                         0               0           \n",
       "3 0                      0                         0               0           \n",
       "4 0                      0                         0               0           \n",
       "5 0                      0                         0               0           \n",
       "6 0                      0                         0               0           "
      ]
     },
     "metadata": {},
     "output_type": "display_data"
    }
   ],
   "source": [
    "meta_multi_region_merged_diversity<-read.csv(\"meta_multi_region_merged_diversity_IGH.csv\",header=TRUE,quote = \"\\\"\", skipNul = TRUE,check.names=FALSE)\n",
    "\n",
    "#meta_multi_region_merged_diversity$V<-str_extract(meta_multi_region_merged_diversity$V,pattern = \".*(?=\\\\*)\")\n",
    "#meta_multi_region_merged_diversity$J<-str_extract(meta_multi_region_merged_diversity$J,pattern = \".*(?=\\\\*)\")\n",
    "head(meta_multi_region_merged_diversity)\n"
   ]
  },
  {
   "cell_type": "code",
   "execution_count": 4,
   "metadata": {
    "vscode": {
     "languageId": "r"
    }
   },
   "outputs": [
    {
     "data": {
      "text/html": [
       "<style>\n",
       ".list-inline {list-style: none; margin:0; padding: 0}\n",
       ".list-inline>li {display: inline-block}\n",
       ".list-inline>li:not(:last-child)::after {content: \"\\00b7\"; padding: 0 .5ex}\n",
       "</style>\n",
       "<ol class=list-inline><li>596034</li><li>73</li></ol>\n"
      ],
      "text/latex": [
       "\\begin{enumerate*}\n",
       "\\item 596034\n",
       "\\item 73\n",
       "\\end{enumerate*}\n"
      ],
      "text/markdown": [
       "1. 596034\n",
       "2. 73\n",
       "\n",
       "\n"
      ],
      "text/plain": [
       "[1] 596034     73"
      ]
     },
     "metadata": {},
     "output_type": "display_data"
    },
    {
     "data": {
      "text/html": [
       "<style>\n",
       ".list-inline {list-style: none; margin:0; padding: 0}\n",
       ".list-inline>li {display: inline-block}\n",
       ".list-inline>li:not(:last-child)::after {content: \"\\00b7\"; padding: 0 .5ex}\n",
       "</style>\n",
       "<ol class=list-inline><li>596034</li><li>73</li></ol>\n"
      ],
      "text/latex": [
       "\\begin{enumerate*}\n",
       "\\item 596034\n",
       "\\item 73\n",
       "\\end{enumerate*}\n"
      ],
      "text/markdown": [
       "1. 596034\n",
       "2. 73\n",
       "\n",
       "\n"
      ],
      "text/plain": [
       "[1] 596034     73"
      ]
     },
     "metadata": {},
     "output_type": "display_data"
    }
   ],
   "source": [
    "dim(meta_multi_region_merged_diversity)\n",
    "\n",
    "meta_multi_region_merged_diversity<-meta_multi_region_merged_diversity[meta_multi_region_merged_diversity$Count>=3,]\n",
    "dim(meta_multi_region_merged_diversity)"
   ]
  },
  {
   "cell_type": "code",
   "execution_count": 5,
   "metadata": {
    "vscode": {
     "languageId": "r"
    }
   },
   "outputs": [],
   "source": [
    "#IG类型比较\n",
    "mypal <- ggsci::pal_npg(palette =\"nrc\", alpha = 0.7)(10)\n",
    "mypal2<-ggsci::pal_jama(palette =\"default\", alpha = 0.7)(6)\n",
    "mypal3<-ggsci::pal_lancet(palette =\"lanonc\", alpha = 0.7)(9)\n",
    "mypal4 <- ggsci::pal_npg(palette =\"nrc\", alpha = 0.5)(10)\n",
    "mypal5<-ggsci::pal_jama(palette =\"default\", alpha = 0.5)(6)\n",
    "mypal6<-ggsci::pal_lancet(palette =\"lanonc\", alpha = 0.5)(9)\n",
    "mypal7 <- ggsci::pal_npg(palette =\"nrc\", alpha = 0.3)(10)\n",
    "mypal8<-ggsci::pal_jama(palette =\"default\", alpha = 0.3)(6)\n",
    "mypal9<-ggsci::pal_lancet(palette =\"lanonc\", alpha = 0.3)(9)\n",
    "\n",
    "mypal<-c(mypal3,mypal2,mypal,mypal6,mypal5,mypal4,mypal9,mypal8,mypal7)\n",
    "mypal[3]<-\"#FFBD7A\"\n"
   ]
  },
  {
   "attachments": {},
   "cell_type": "markdown",
   "metadata": {},
   "source": [
    "## MR IGH proportion"
   ]
  },
  {
   "attachments": {},
   "cell_type": "markdown",
   "metadata": {},
   "source": [
    "## Fig1E"
   ]
  },
  {
   "attachments": {},
   "cell_type": "markdown",
   "metadata": {},
   "source": [
    "## 3.2 campare IGHC genes between tissues Multi_Region"
   ]
  },
  {
   "cell_type": "code",
   "execution_count": 6,
   "metadata": {
    "vscode": {
     "languageId": "r"
    }
   },
   "outputs": [],
   "source": [
    "Cellratio<-prop.table(table(meta_multi_region_merged_diversity$type,meta_multi_region_merged_diversity$C),margin=1)\n",
    "Cellratio <- as.data.frame(Cellratio)\n",
    "Cellratio$Var1<-factor(Cellratio$Var1,levels=c(\"T1\",\"T2\",\"T3\",\"T4\",\"T5\",\"N\",\"L1\",\"L2\",\"L3\",\"L4\"))\n",
    "Cellratio$Var2<-factor(Cellratio$Var2,levels=c(\"IGHA1\",\"IGHA2\",\"IGHG1\",\"IGHG2\",\"IGHG3\",\"IGHG4\",\"IGHD\",\"IGHM\",\"IGHE\"))\n"
   ]
  },
  {
   "cell_type": "code",
   "execution_count": 10,
   "metadata": {
    "vscode": {
     "languageId": "r"
    }
   },
   "outputs": [],
   "source": [
    "write.csv(Cellratio,\"Fig1E.csv\",row.names=FALSE,quote=FALSE)"
   ]
  },
  {
   "cell_type": "code",
   "execution_count": 14,
   "metadata": {
    "vscode": {
     "languageId": "r"
    }
   },
   "outputs": [
    {
     "name": "stderr",
     "output_type": "stream",
     "text": [
      "Warning message:\n",
      "\"\u001b[1m\u001b[22mUsing `size` aesthetic for lines was deprecated in ggplot2 3.4.0.\n",
      "\u001b[36mi\u001b[39m Please use `linewidth` instead.\"\n"
     ]
    },
    {
     "data": {
      "text/html": [
       "<strong>null device:</strong> 1"
      ],
      "text/latex": [
       "\\textbf{null device:} 1"
      ],
      "text/markdown": [
       "**null device:** 1"
      ],
      "text/plain": [
       "null device \n",
       "          1 "
      ]
     },
     "metadata": {},
     "output_type": "display_data"
    },
    {
     "data": {
      "image/png": "[encoded data removed]",
      "text/plain": [
       "plot without title"
      ]
     },
     "metadata": {
      "image/png": {
       "height": 360,
       "width": 360
      }
     },
     "output_type": "display_data"
    }
   ],
   "source": [
    "Cellratio<-prop.table(table(meta_multi_region_merged_diversity$type,meta_multi_region_merged_diversity$C),margin=1)\n",
    "Cellratio <- as.data.frame(Cellratio)\n",
    "Cellratio$Var1<-factor(Cellratio$Var1,levels=c(\"T1\",\"T2\",\"T3\",\"T4\",\"T5\",\"N\",\"L1\",\"L2\",\"L3\",\"L4\"))\n",
    "Cellratio$Var2<-factor(Cellratio$Var2,levels=c(\"IGHA1\",\"IGHA2\",\"IGHG1\",\"IGHG2\",\"IGHG3\",\"IGHG4\",\"IGHD\",\"IGHM\",\"IGHE\"))\n",
    "\n",
    "g_IGH_propM<-ggplot(Cellratio)+\n",
    "    geom_bar(aes(x=Var1,y=Freq,fill=Var2),stat=\"identity\",width=0.7,size=0.5,colour=\"#222222\")+\n",
    "    theme_classic2()+\n",
    "    labs(x='Region',y='Proportion')+\n",
    "    scale_fill_manual(values=mypal)+\n",
    "    guides(fill=guide_legend(title=\"IGH Isotype\"))\n",
    "    #theme(panel.border = element_rect(fill=NA,color=\"black\",size=0.5,linetype=\"solid\"))\n",
    "    \n",
    "#pdf(\"Fig1.IGH_prop_bar.pdf\",4,4)\n",
    "g_IGH_propM\n",
    "dev.off()"
   ]
  },
  {
   "attachments": {},
   "cell_type": "markdown",
   "metadata": {},
   "source": [
    "## Fig1G"
   ]
  },
  {
   "cell_type": "code",
   "execution_count": 11,
   "metadata": {
    "vscode": {
     "languageId": "r"
    }
   },
   "outputs": [
    {
     "name": "stderr",
     "output_type": "stream",
     "text": [
      "Warning message:\n",
      "\"\u001b[1m\u001b[22mThe `size` argument of `element_rect()` is deprecated as of ggplot2 3.4.0.\n",
      "\u001b[36mi\u001b[39m Please use the `linewidth` argument instead.\"\n",
      "Warning message:\n",
      "\"\u001b[1m\u001b[22mTransformation introduced infinite values in continuous y-axis\"\n",
      "Warning message:\n",
      "\"\u001b[1m\u001b[22mTransformation introduced infinite values in continuous y-axis\"\n",
      "Warning message:\n",
      "\"\u001b[1m\u001b[22mRemoved 1446 rows containing non-finite values (`stat_boxplot()`).\"\n",
      "Warning message:\n",
      "\"\u001b[1m\u001b[22mRemoved 1446 rows containing non-finite values (`stat_signif()`).\"\n"
     ]
    },
    {
     "data": {
      "image/png": "[encoded data removed]",
      "text/plain": [
       "plot without title"
      ]
     },
     "metadata": {
      "image/png": {
       "height": 480,
       "width": 360
      }
     },
     "output_type": "display_data"
    }
   ],
   "source": [
    "MR_IGH_data=meta_multi_region_merged_diversity\n",
    "#MR_IGH_data$type=str_sub(MR_IGH_data$type,1,1)\n",
    "Cellratio<-prop.table(table(MR_IGH_data$C,MR_IGH_data$`ID`),margin=2)\n",
    "Cellratio<- as.data.frame(Cellratio)\n",
    "\n",
    "#library(reshape2)\n",
    "#Cellratio_long<-melt(Cellratio,value.name=\"Frequency\")\n",
    "colnames(Cellratio)<-c(\"C_Genes\",\"ID\",\"Proportion\")\n",
    "\n",
    "Cellratio$type<-str_sub(Cellratio$ID,8,8)\n",
    "\n",
    "Cellratio$type<-factor(Cellratio$type, levels = c(\"T\",\"N\",\"L\"))\n",
    "Cellratio$C_Genes<-factor(Cellratio$C_Genes, levels = c(\"IGHD\",\"IGHM\",\"IGHA1\",\"IGHA2\",\"IGHG1\",\"IGHG2\",\"IGHG3\",\"IGHG4\",\"IGHE\"))\n",
    "colnames(Cellratio)[4]=\"Tissue\"\n",
    "\n",
    "gg<-ggplot(Cellratio,aes(x=Tissue,y=Proportion,col=Tissue))+\n",
    "    geom_boxplot(outlier.size = .1)+\n",
    "    geom_signif(comparisons = list(c(\"T\", \"N\"),c(\"T\",\"L\"),c(\"L\",\"N\")),\n",
    "              map_signif_level=T,\n",
    "              textsize=4,test=wilcox.test,step_increase=0.1,vjust=1.5,tip_length=0.02) +\n",
    "    theme_classic()+\n",
    "    #labs(x='CDR3 Length',y='Proportion')+\n",
    "    scale_color_manual(values=mypal)+\n",
    "    theme(panel.border = element_rect(fill=NA,color=\"black\",size=0.5,linetype=\"solid\"))+\n",
    "    #theme(axis.text.x=element_text(angle=90,hjust=1,vjust=.5))+\n",
    "    #theme(axis.text=element_text(size=12))+\n",
    "    scale_y_log10(labels = function(x) format(x, scientific = FALSE),breaks=(c(0.0001,0.01,1)))+\n",
    "        guides(fill=guide_legend(title=\"IGH Isotype\"))+\n",
    "    facet_wrap(.~C_Genes,scales=\"free_x\")\n",
    "\n",
    "options(repr.plot.width = 6, repr.plot.height = 8)\n",
    "gg\n",
    "\n",
    "#pdf(\"Fig1.MR_IGH_type_proportion_boxplot.pdf\",6,6)\n",
    "#gg\n",
    "#dev.off()"
   ]
  },
  {
   "cell_type": "code",
   "execution_count": 13,
   "metadata": {
    "vscode": {
     "languageId": "r"
    }
   },
   "outputs": [],
   "source": [
    "write.csv(Cellratio,\"Fig1G.csv\",row.names=FALSE,quote=FALSE)"
   ]
  },
  {
   "attachments": {},
   "cell_type": "markdown",
   "metadata": {},
   "source": [
    "## FigBCD"
   ]
  },
  {
   "attachments": {},
   "cell_type": "markdown",
   "metadata": {},
   "source": [
    "## 3.3 compare diversity"
   ]
  },
  {
   "cell_type": "code",
   "execution_count": 14,
   "metadata": {
    "vscode": {
     "languageId": "r"
    }
   },
   "outputs": [
    {
     "data": {
      "text/html": [
       "<style>\n",
       ".list-inline {list-style: none; margin:0; padding: 0}\n",
       ".list-inline>li {display: inline-block}\n",
       ".list-inline>li:not(:last-child)::after {content: \"\\00b7\"; padding: 0 .5ex}\n",
       "</style>\n",
       "<ol class=list-inline><li>596034</li><li>73</li></ol>\n"
      ],
      "text/latex": [
       "\\begin{enumerate*}\n",
       "\\item 596034\n",
       "\\item 73\n",
       "\\end{enumerate*}\n"
      ],
      "text/markdown": [
       "1. 596034\n",
       "2. 73\n",
       "\n",
       "\n"
      ],
      "text/plain": [
       "[1] 596034     73"
      ]
     },
     "metadata": {},
     "output_type": "display_data"
    }
   ],
   "source": [
    "dim(meta_multi_region_merged_diversity)\n",
    "MR_diversity<-meta_multi_region_merged_diversity[!duplicated(meta_multi_region_merged_diversity$ID),]\n",
    "MR_diversity$type<-str_sub(MR_diversity$type,1,1)\n",
    "MR_diversity$type<-factor(MR_diversity$type, levels = c(\"T\",\"N\",\"L\"))"
   ]
  },
  {
   "cell_type": "code",
   "execution_count": 16,
   "metadata": {
    "vscode": {
     "languageId": "r"
    }
   },
   "outputs": [],
   "source": [
    "MR_diversity_selected<-MR_diversity[,c('type','s_richness','s_clonality','s_shannon')]\n",
    "write.csv(MR_diversity_selected,\"Fig1BCD.csv\",row.names=FALSE,quote=FALSE)"
   ]
  },
  {
   "cell_type": "code",
   "execution_count": 16,
   "metadata": {
    "vscode": {
     "languageId": "r"
    }
   },
   "outputs": [
    {
     "name": "stderr",
     "output_type": "stream",
     "text": [
      "Warning message:\n",
      "\"\u001b[1m\u001b[22mThe `size` argument of `element_rect()` is deprecated as of ggplot2 3.4.0.\n",
      "\u001b[36mi\u001b[39m Please use the `linewidth` argument instead.\"\n"
     ]
    }
   ],
   "source": [
    "library(cowplot)\n",
    "\n",
    "g1<-ggplot(MR_diversity,aes(x=type,y=s_richness,fill=type))+geom_violin()+\n",
    "    geom_boxplot(col=\"black\",fill=\"white\",width=.1,outlier.size = 0)+\n",
    "    geom_signif(comparisons = list(c(\"T\", \"N\"),c(\"T\", \"L\"),c(\"L\", \"N\")),\n",
    "              map_signif_level=T,\n",
    "              textsize=5,test=wilcox.test,step_increase=0.1,vjust=1.5,tip_length=0.02) +\n",
    "    theme_classic()+\n",
    "    #labs(x='CDR3 Length',y='Proportion')+\n",
    "    scale_color_manual(values=mypal)+\n",
    "    scale_fill_manual(values=mypal)+\n",
    "    theme(panel.border = element_rect(fill=NA,color=\"black\",size=0.5,linetype=\"solid\"))+\n",
    "    theme(axis.text=element_text(size=8))+\n",
    "    theme(axis.title = element_text(size = 8))+\n",
    "    labs(x=\"Tissue\",y=\"IGH Richness\")+\n",
    "    scale_y_log10(labels = function(x) format(x, scientific = FALSE))\n",
    "\n",
    "\n",
    "g2<-ggplot(MR_diversity,aes(x=type,y=s_clonality,fill=type))+geom_violin()+\n",
    "    geom_boxplot(col=\"black\",fill=\"white\",width=.1,outlier.size = 0)+\n",
    "    geom_signif(comparisons = list(c(\"T\", \"N\"),c(\"T\", \"L\"),c(\"L\", \"N\")),\n",
    "              map_signif_level=T,\n",
    "              textsize=5,test=wilcox.test,step_increase=0.1,vjust=1.5,tip_length=0.02) +\n",
    "    theme_classic()+\n",
    "    #labs(x='CDR3 Length',y='Proportion')+\n",
    "    scale_color_manual(values=mypal)+\n",
    "    scale_fill_manual(values=mypal)+\n",
    "    theme(panel.border = element_rect(fill=NA,color=\"black\",size=0.5,linetype=\"solid\"))+\n",
    "    theme(axis.text=element_text(size=8))+\n",
    "    theme(axis.title = element_text(size = 8))+\n",
    "    labs(x=\"Tissue\",y=\"IGH Clonality\")+\n",
    "    scale_y_log10(labels = function(x) format(x, scientific = FALSE))\n",
    "\n",
    "g3<-ggplot(MR_diversity,aes(x=type,y=s_shannon,fill=type))+geom_violin()+\n",
    "    geom_boxplot(col=\"black\",fill=\"white\",width=.1,outlier.size = 0)+\n",
    "    geom_signif(comparisons = list(c(\"T\", \"N\"),c(\"T\", \"L\"),c(\"L\", \"N\")),\n",
    "              map_signif_level=T,\n",
    "              textsize=5,test=wilcox.test,step_increase=0.1,vjust=1.5,tip_length=0.02) +\n",
    "    theme_classic()+\n",
    "    #labs(x='CDR3 Length',y='Proportion')+\n",
    "    scale_color_manual(values=mypal)+\n",
    "    scale_fill_manual(values=mypal)+\n",
    "    theme(panel.border = element_rect(fill=NA,color=\"black\",size=0.5,linetype=\"solid\"))+\n",
    "    theme(axis.text=element_text(size=8))+\n",
    "    theme(axis.title = element_text(size = 8))+\n",
    "    labs(x=\"Tissue\",y=\"IGH Shannon\")+\n",
    "    scale_y_log10(labels = function(x) format(x, scientific = FALSE))\n",
    "\n",
    "options(repr.plot.width = 15, repr.plot.height = 5)\n",
    "diversity_plot<-g1+g2+g3+plot_layout(nrow=1)"
   ]
  },
  {
   "cell_type": "code",
   "execution_count": 17,
   "metadata": {
    "vscode": {
     "languageId": "r"
    }
   },
   "outputs": [
    {
     "name": "stderr",
     "output_type": "stream",
     "text": [
      "Warning message:\n",
      "\"\u001b[1m\u001b[22mRemoved 1 rows containing non-finite values (`stat_ydensity()`).\"\n",
      "Warning message:\n",
      "\"\u001b[1m\u001b[22mRemoved 1 rows containing non-finite values (`stat_boxplot()`).\"\n",
      "Warning message:\n",
      "\"\u001b[1m\u001b[22mRemoved 1 rows containing non-finite values (`stat_signif()`).\"\n",
      "Warning message:\n",
      "\"\u001b[1m\u001b[22mTransformation introduced infinite values in continuous y-axis\"\n",
      "Warning message:\n",
      "\"\u001b[1m\u001b[22mTransformation introduced infinite values in continuous y-axis\"\n",
      "Warning message:\n",
      "\"\u001b[1m\u001b[22mTransformation introduced infinite values in continuous y-axis\"\n",
      "Warning message:\n",
      "\"\u001b[1m\u001b[22mRemoved 1 rows containing non-finite values (`stat_ydensity()`).\"\n",
      "Warning message:\n",
      "\"\u001b[1m\u001b[22mRemoved 1 rows containing non-finite values (`stat_boxplot()`).\"\n",
      "Warning message:\n",
      "\"\u001b[1m\u001b[22mRemoved 1 rows containing non-finite values (`stat_signif()`).\"\n"
     ]
    },
    {
     "data": {
      "image/png": "[encoded data removed]",
      "text/plain": [
       "plot without title"
      ]
     },
     "metadata": {
      "image/png": {
       "height": 300,
       "width": 900
      }
     },
     "output_type": "display_data"
    }
   ],
   "source": [
    "diversity_plot"
   ]
  },
  {
   "cell_type": "code",
   "execution_count": 26,
   "metadata": {
    "vscode": {
     "languageId": "r"
    }
   },
   "outputs": [
    {
     "name": "stderr",
     "output_type": "stream",
     "text": [
      "Warning message:\n",
      "\"Removed 1 rows containing non-finite values (stat_ydensity).\"\n",
      "Warning message:\n",
      "\"Removed 1 rows containing non-finite values (stat_boxplot).\"\n",
      "Warning message:\n",
      "\"Removed 1 rows containing non-finite values (stat_signif).\"\n",
      "Warning message:\n",
      "\"Transformation introduced infinite values in continuous y-axis\"\n",
      "Warning message:\n",
      "\"Transformation introduced infinite values in continuous y-axis\"\n",
      "Warning message:\n",
      "\"Transformation introduced infinite values in continuous y-axis\"\n",
      "Warning message:\n",
      "\"Removed 1 rows containing non-finite values (stat_ydensity).\"\n",
      "Warning message:\n",
      "\"Removed 1 rows containing non-finite values (stat_boxplot).\"\n",
      "Warning message:\n",
      "\"Removed 1 rows containing non-finite values (stat_signif).\"\n"
     ]
    },
    {
     "data": {
      "text/html": [
       "<strong>png:</strong> 2"
      ],
      "text/latex": [
       "\\textbf{png:} 2"
      ],
      "text/markdown": [
       "**png:** 2"
      ],
      "text/plain": [
       "png \n",
       "  2 "
      ]
     },
     "metadata": {},
     "output_type": "display_data"
    }
   ],
   "source": [
    "pdf(\"Fig1.Diversity.plot.pdf\",12,4)\n",
    "diversity_plot\n",
    "dev.off()"
   ]
  },
  {
   "cell_type": "code",
   "execution_count": 18,
   "metadata": {
    "vscode": {
     "languageId": "r"
    }
   },
   "outputs": [],
   "source": [
    "MR_diversity_selected<-MR_diversity[,c('type','s_richness_IGHM','s_richness_IGHD','s_richness_IGHA1','s_richness_IGHA2',\n",
    "                                    's_richness_IGHG1','s_richness_IGHG2','s_richness_IGHG3','s_richness_IGHG4','s_richness_IGHE')]\n",
    "write.csv(MR_diversity_selected,\"Fig1F.csv\",row.names=FALSE,quote=FALSE)"
   ]
  },
  {
   "cell_type": "code",
   "execution_count": 18,
   "metadata": {
    "vscode": {
     "languageId": "r"
    }
   },
   "outputs": [],
   "source": [
    "\n",
    "g2<-ggplot(MR_diversity,aes(x=type,y=s_richness_IGHM,fill=type))+geom_violin()+\n",
    "    geom_boxplot(col=\"black\",fill=\"white\",width=.1,outlier.size = 0)+\n",
    "    geom_signif(comparisons = list(c(\"T\", \"N\"),c(\"T\", \"L\"),c(\"L\", \"N\")),\n",
    "              map_signif_level=T,\n",
    "              textsize=5,test=wilcox.test,step_increase=0.1,vjust=1.5,tip_length=0.02) +\n",
    "    theme_classic()+\n",
    "    #labs(x='CDR3 Length',y='Proportion')+\n",
    "    scale_color_manual(values=mypal)+\n",
    "    scale_fill_manual(values=mypal)+\n",
    "    theme(axis.text=element_text(size=14))+\n",
    "    theme(axis.title = element_text(size = 16))+\n",
    "    labs(x=\"Tissue\",y=\"IGHM Richness\")+\n",
    "    scale_y_log10(labels = function(x) format(x, scientific = FALSE))\n",
    "    \n",
    "g1<-ggplot(MR_diversity,aes(x=type,y=s_richness_IGHD,fill=type))+geom_violin()+\n",
    "    geom_boxplot(col=\"black\",fill=\"white\",width=.1,outlier.size = 0)+\n",
    "    geom_signif(comparisons = list(c(\"T\", \"N\"),c(\"T\", \"L\"),c(\"L\", \"N\")),\n",
    "              map_signif_level=T,\n",
    "              textsize=5,test=wilcox.test,step_increase=0.1,vjust=1.5,tip_length=0.02) +\n",
    "    theme_classic()+\n",
    "    #labs(x='CDR3 Length',y='Proportion')+\n",
    "    scale_color_manual(values=mypal)+\n",
    "    scale_fill_manual(values=mypal)+\n",
    "    theme(axis.text=element_text(size=14))+\n",
    "    theme(axis.title = element_text(size = 16))+\n",
    "    labs(x=\"Tissue\",y=\"IGHD Richness\")+\n",
    "    scale_y_log10(labels = function(x) format(x, scientific = FALSE))\n",
    "\n",
    "g3<-ggplot(MR_diversity,aes(x=type,y=s_richness_IGHA1,fill=type))+geom_violin()+\n",
    "    geom_boxplot(col=\"black\",fill=\"white\",width=.1,outlier.size = 0)+\n",
    "    geom_signif(comparisons = list(c(\"T\", \"N\"),c(\"T\", \"L\"),c(\"L\", \"N\")),\n",
    "              map_signif_level=T,\n",
    "              textsize=5,test=wilcox.test,step_increase=0.1,vjust=1.5,tip_length=0.02) +\n",
    "    theme_classic()+\n",
    "    #labs(x='CDR3 Length',y='Proportion')+\n",
    "    scale_color_manual(values=mypal)+\n",
    "    scale_fill_manual(values=mypal)+\n",
    "    theme(axis.text=element_text(size=14))+\n",
    "    theme(axis.title = element_text(size = 16))+\n",
    "    labs(x=\"Tissue\",y=\"IGHA1 Richness\")+\n",
    "    scale_y_log10(labels = function(x) format(x, scientific = FALSE))\n",
    "\n",
    "g4<-ggplot(MR_diversity,aes(x=type,y=s_richness_IGHA2,fill=type))+geom_violin()+\n",
    "    geom_boxplot(col=\"black\",fill=\"white\",width=.1,outlier.size = 0)+\n",
    "    geom_signif(comparisons = list(c(\"T\", \"N\"),c(\"T\", \"L\"),c(\"L\", \"N\")),\n",
    "              map_signif_level=T,\n",
    "              textsize=5,test=wilcox.test,step_increase=0.1,vjust=1.5,tip_length=0.02) +\n",
    "    theme_classic()+\n",
    "    #labs(x='CDR3 Length',y='Proportion')+\n",
    "    scale_color_manual(values=mypal)+\n",
    "    scale_fill_manual(values=mypal)+\n",
    "    theme(axis.text=element_text(size=14))+\n",
    "    theme(axis.title = element_text(size = 16))+\n",
    "    labs(x=\"Tissue\",y=\"IGHA2 Richness\")+\n",
    "    scale_y_log10(labels = function(x) format(x, scientific = FALSE))\n",
    "\n",
    "g5<-ggplot(MR_diversity,aes(x=type,y=s_richness_IGHG1,fill=type))+geom_violin()+\n",
    "    geom_boxplot(col=\"black\",fill=\"white\",width=.1,outlier.size = 0)+\n",
    "    geom_signif(comparisons = list(c(\"T\", \"N\"),c(\"T\", \"L\"),c(\"L\", \"N\")),\n",
    "              map_signif_level=T,\n",
    "              textsize=5,test=wilcox.test,step_increase=0.1,vjust=1.5,tip_length=0.02) +\n",
    "    theme_classic()+\n",
    "    #labs(x='CDR3 Length',y='Proportion')+\n",
    "    scale_color_manual(values=mypal)+\n",
    "    scale_fill_manual(values=mypal)+\n",
    "    theme(axis.text=element_text(size=14))+\n",
    "    theme(axis.title = element_text(size = 16))+\n",
    "    labs(x=\"Tissue\",y=\"IGHG1 Richness\")+\n",
    "    scale_y_log10(labels = function(x) format(x, scientific = FALSE))\n",
    "\n",
    "g6<-ggplot(MR_diversity,aes(x=type,y=s_richness_IGHG2,fill=type))+geom_violin()+\n",
    "    geom_boxplot(col=\"black\",fill=\"white\",width=.1,outlier.size = 0)+\n",
    "    geom_signif(comparisons = list(c(\"T\", \"N\"),c(\"T\", \"L\"),c(\"L\", \"N\")),\n",
    "              map_signif_level=T,\n",
    "              textsize=5,test=wilcox.test,step_increase=0.1,vjust=1.5,tip_length=0.02) +\n",
    "    theme_classic()+\n",
    "    #labs(x='CDR3 Length',y='Proportion')+\n",
    "    scale_color_manual(values=mypal)+\n",
    "    scale_fill_manual(values=mypal)+\n",
    "    theme(axis.text=element_text(size=14))+\n",
    "    theme(axis.title = element_text(size = 16))+\n",
    "    labs(x=\"Tissue\",y=\"IGHG2 Richness\")+\n",
    "    scale_y_log10(labels = function(x) format(x, scientific = FALSE))\n",
    "\n",
    "g7<-ggplot(MR_diversity,aes(x=type,y=s_richness_IGHG3,fill=type))+geom_violin()+\n",
    "    geom_boxplot(col=\"black\",fill=\"white\",width=.1,outlier.size = 0)+\n",
    "    geom_signif(comparisons = list(c(\"T\", \"N\"),c(\"T\", \"L\"),c(\"L\", \"N\")),\n",
    "              map_signif_level=T,\n",
    "              textsize=5,test=wilcox.test,step_increase=0.1,vjust=1.5,tip_length=0.02) +\n",
    "    theme_classic()+\n",
    "    #labs(x='CDR3 Length',y='Proportion')+\n",
    "    scale_color_manual(values=mypal)+\n",
    "    scale_fill_manual(values=mypal)+\n",
    "    theme(axis.text=element_text(size=12))+\n",
    "    theme(axis.title = element_text(size = 12))+\n",
    "    labs(x=\"Tissue\",y=\"IGHG3 Richness\")+\n",
    "    scale_y_log10(labels = function(x) format(x, scientific = FALSE))\n",
    "\n",
    "g8<-ggplot(MR_diversity,aes(x=type,y=s_richness_IGHG4,fill=type))+geom_violin()+\n",
    "    geom_boxplot(col=\"black\",fill=\"white\",width=.1,outlier.size = 0)+\n",
    "    geom_signif(comparisons = list(c(\"T\", \"N\"),c(\"T\", \"L\"),c(\"L\", \"N\")),\n",
    "              map_signif_level=T,\n",
    "              textsize=5,test=wilcox.test,step_increase=0.1,vjust=1.5,tip_length=0.02) +\n",
    "    theme_classic()+\n",
    "    #labs(x='CDR3 Length',y='Proportion')+\n",
    "    scale_color_manual(values=mypal)+\n",
    "    scale_fill_manual(values=mypal)+\n",
    "    theme(axis.text=element_text(size=12))+\n",
    "    theme(axis.title = element_text(size = 12))+\n",
    "    labs(x=\"Tissue\",y=\"IGHG4 Richness\")+\n",
    "    scale_y_log10(labels = function(x) format(x, scientific = FALSE))    \n",
    "\n",
    "g9<-ggplot(MR_diversity,aes(x=type,y=s_richness_IGHE,fill=type))+geom_violin()+\n",
    "    geom_boxplot(col=\"black\",fill=\"white\",width=.1,outlier.size = 0)+\n",
    "    geom_signif(comparisons = list(c(\"T\", \"N\"),c(\"T\", \"L\"),c(\"L\", \"N\")),\n",
    "              map_signif_level=T,\n",
    "              textsize=5,test=wilcox.test,step_increase=0.1,vjust=1.5,tip_length=0.02) +\n",
    "    theme_classic()+\n",
    "    #labs(x='CDR3 Length',y='Proportion')+\n",
    "    scale_color_manual(values=mypal)+\n",
    "    scale_fill_manual(values=mypal)+\n",
    "    theme(axis.text=element_text(size=12))+\n",
    "    theme(axis.title = element_text(size = 12))+\n",
    "    labs(x=\"Tissue\",y=\"IGHE Richness\")+\n",
    "    scale_y_log10(labels = function(x) format(x, scientific = FALSE))\n"
   ]
  },
  {
   "cell_type": "code",
   "execution_count": 20,
   "metadata": {
    "vscode": {
     "languageId": "r"
    }
   },
   "outputs": [
    {
     "name": "stderr",
     "output_type": "stream",
     "text": [
      "Warning message:\n",
      "\"\u001b[1m\u001b[22mTransformation introduced infinite values in continuous y-axis\"\n",
      "Warning message:\n",
      "\"\u001b[1m\u001b[22mTransformation introduced infinite values in continuous y-axis\"\n",
      "Warning message:\n",
      "\"\u001b[1m\u001b[22mTransformation introduced infinite values in continuous y-axis\"\n",
      "Warning message:\n",
      "\"\u001b[1m\u001b[22mRemoved 436 rows containing non-finite values (`stat_ydensity()`).\"\n",
      "Warning message:\n",
      "\"\u001b[1m\u001b[22mRemoved 436 rows containing non-finite values (`stat_boxplot()`).\"\n",
      "Warning message:\n",
      "\"\u001b[1m\u001b[22mRemoved 436 rows containing non-finite values (`stat_signif()`).\"\n",
      "Warning message:\n",
      "\"\u001b[1m\u001b[22mTransformation introduced infinite values in continuous y-axis\"\n",
      "Warning message:\n",
      "\"\u001b[1m\u001b[22mTransformation introduced infinite values in continuous y-axis\"\n",
      "Warning message:\n",
      "\"\u001b[1m\u001b[22mTransformation introduced infinite values in continuous y-axis\"\n",
      "Warning message:\n",
      "\"\u001b[1m\u001b[22mRemoved 89 rows containing non-finite values (`stat_ydensity()`).\"\n",
      "Warning message:\n",
      "\"\u001b[1m\u001b[22mRemoved 89 rows containing non-finite values (`stat_boxplot()`).\"\n",
      "Warning message:\n",
      "\"\u001b[1m\u001b[22mRemoved 89 rows containing non-finite values (`stat_signif()`).\"\n",
      "Warning message:\n",
      "\"\u001b[1m\u001b[22mTransformation introduced infinite values in continuous y-axis\"\n",
      "Warning message:\n",
      "\"\u001b[1m\u001b[22mTransformation introduced infinite values in continuous y-axis\"\n",
      "Warning message:\n",
      "\"\u001b[1m\u001b[22mTransformation introduced infinite values in continuous y-axis\"\n",
      "Warning message:\n",
      "\"\u001b[1m\u001b[22mRemoved 39 rows containing non-finite values (`stat_ydensity()`).\"\n",
      "Warning message:\n",
      "\"\u001b[1m\u001b[22mRemoved 39 rows containing non-finite values (`stat_boxplot()`).\"\n",
      "Warning message:\n",
      "\"\u001b[1m\u001b[22mRemoved 39 rows containing non-finite values (`stat_signif()`).\"\n",
      "Warning message:\n",
      "\"\u001b[1m\u001b[22mTransformation introduced infinite values in continuous y-axis\"\n",
      "Warning message:\n",
      "\"\u001b[1m\u001b[22mTransformation introduced infinite values in continuous y-axis\"\n",
      "Warning message:\n",
      "\"\u001b[1m\u001b[22mTransformation introduced infinite values in continuous y-axis\"\n",
      "Warning message:\n",
      "\"\u001b[1m\u001b[22mRemoved 81 rows containing non-finite values (`stat_ydensity()`).\"\n",
      "Warning message:\n",
      "\"\u001b[1m\u001b[22mRemoved 81 rows containing non-finite values (`stat_boxplot()`).\"\n",
      "Warning message:\n",
      "\"\u001b[1m\u001b[22mRemoved 81 rows containing non-finite values (`stat_signif()`).\"\n",
      "Warning message:\n",
      "\"\u001b[1m\u001b[22mTransformation introduced infinite values in continuous y-axis\"\n",
      "Warning message:\n",
      "\"\u001b[1m\u001b[22mTransformation introduced infinite values in continuous y-axis\"\n",
      "Warning message:\n",
      "\"\u001b[1m\u001b[22mTransformation introduced infinite values in continuous y-axis\"\n",
      "Warning message:\n",
      "\"\u001b[1m\u001b[22mRemoved 15 rows containing non-finite values (`stat_ydensity()`).\"\n",
      "Warning message:\n",
      "\"\u001b[1m\u001b[22mRemoved 15 rows containing non-finite values (`stat_boxplot()`).\"\n",
      "Warning message:\n",
      "\"\u001b[1m\u001b[22mRemoved 15 rows containing non-finite values (`stat_signif()`).\"\n",
      "Warning message:\n",
      "\"\u001b[1m\u001b[22mTransformation introduced infinite values in continuous y-axis\"\n",
      "Warning message:\n",
      "\"\u001b[1m\u001b[22mTransformation introduced infinite values in continuous y-axis\"\n",
      "Warning message:\n",
      "\"\u001b[1m\u001b[22mTransformation introduced infinite values in continuous y-axis\"\n",
      "Warning message:\n",
      "\"\u001b[1m\u001b[22mRemoved 67 rows containing non-finite values (`stat_ydensity()`).\"\n",
      "Warning message:\n",
      "\"\u001b[1m\u001b[22mRemoved 67 rows containing non-finite values (`stat_boxplot()`).\"\n",
      "Warning message:\n",
      "\"\u001b[1m\u001b[22mRemoved 67 rows containing non-finite values (`stat_signif()`).\"\n",
      "Warning message:\n",
      "\"\u001b[1m\u001b[22mTransformation introduced infinite values in continuous y-axis\"\n",
      "Warning message:\n",
      "\"\u001b[1m\u001b[22mTransformation introduced infinite values in continuous y-axis\"\n",
      "Warning message:\n",
      "\"\u001b[1m\u001b[22mTransformation introduced infinite values in continuous y-axis\"\n",
      "Warning message:\n",
      "\"\u001b[1m\u001b[22mRemoved 111 rows containing non-finite values (`stat_ydensity()`).\"\n",
      "Warning message:\n",
      "\"\u001b[1m\u001b[22mRemoved 111 rows containing non-finite values (`stat_boxplot()`).\"\n",
      "Warning message:\n",
      "\"\u001b[1m\u001b[22mRemoved 111 rows containing non-finite values (`stat_signif()`).\"\n",
      "Warning message:\n",
      "\"\u001b[1m\u001b[22mTransformation introduced infinite values in continuous y-axis\"\n",
      "Warning message:\n",
      "\"\u001b[1m\u001b[22mTransformation introduced infinite values in continuous y-axis\"\n",
      "Warning message:\n",
      "\"\u001b[1m\u001b[22mTransformation introduced infinite values in continuous y-axis\"\n",
      "Warning message:\n",
      "\"\u001b[1m\u001b[22mRemoved 608 rows containing non-finite values (`stat_ydensity()`).\"\n",
      "Warning message:\n",
      "\"\u001b[1m\u001b[22mRemoved 608 rows containing non-finite values (`stat_boxplot()`).\"\n",
      "Warning message:\n",
      "\"\u001b[1m\u001b[22mRemoved 608 rows containing non-finite values (`stat_signif()`).\"\n",
      "Warning message:\n",
      "\"\u001b[1m\u001b[22mTransformation introduced infinite values in continuous y-axis\"\n",
      "Warning message:\n",
      "\"\u001b[1m\u001b[22mTransformation introduced infinite values in continuous y-axis\"\n",
      "Warning message:\n",
      "\"\u001b[1m\u001b[22mTransformation introduced infinite values in continuous y-axis\"\n",
      "Warning message:\n",
      "\"\u001b[1m\u001b[22mRemoved 436 rows containing non-finite values (`stat_ydensity()`).\"\n",
      "Warning message:\n",
      "\"\u001b[1m\u001b[22mRemoved 436 rows containing non-finite values (`stat_boxplot()`).\"\n",
      "Warning message:\n",
      "\"\u001b[1m\u001b[22mRemoved 436 rows containing non-finite values (`stat_signif()`).\"\n",
      "Warning message:\n",
      "\"\u001b[1m\u001b[22mTransformation introduced infinite values in continuous y-axis\"\n",
      "Warning message:\n",
      "\"\u001b[1m\u001b[22mTransformation introduced infinite values in continuous y-axis\"\n",
      "Warning message:\n",
      "\"\u001b[1m\u001b[22mTransformation introduced infinite values in continuous y-axis\"\n",
      "Warning message:\n",
      "\"\u001b[1m\u001b[22mRemoved 89 rows containing non-finite values (`stat_ydensity()`).\"\n",
      "Warning message:\n",
      "\"\u001b[1m\u001b[22mRemoved 89 rows containing non-finite values (`stat_boxplot()`).\"\n",
      "Warning message:\n",
      "\"\u001b[1m\u001b[22mRemoved 89 rows containing non-finite values (`stat_signif()`).\"\n",
      "Warning message:\n",
      "\"\u001b[1m\u001b[22mTransformation introduced infinite values in continuous y-axis\"\n",
      "Warning message:\n",
      "\"\u001b[1m\u001b[22mTransformation introduced infinite values in continuous y-axis\"\n",
      "Warning message:\n",
      "\"\u001b[1m\u001b[22mTransformation introduced infinite values in continuous y-axis\"\n",
      "Warning message:\n",
      "\"\u001b[1m\u001b[22mRemoved 39 rows containing non-finite values (`stat_ydensity()`).\"\n",
      "Warning message:\n",
      "\"\u001b[1m\u001b[22mRemoved 39 rows containing non-finite values (`stat_boxplot()`).\"\n",
      "Warning message:\n",
      "\"\u001b[1m\u001b[22mRemoved 39 rows containing non-finite values (`stat_signif()`).\"\n",
      "Warning message:\n",
      "\"\u001b[1m\u001b[22mTransformation introduced infinite values in continuous y-axis\"\n",
      "Warning message:\n",
      "\"\u001b[1m\u001b[22mTransformation introduced infinite values in continuous y-axis\"\n",
      "Warning message:\n",
      "\"\u001b[1m\u001b[22mTransformation introduced infinite values in continuous y-axis\"\n",
      "Warning message:\n",
      "\"\u001b[1m\u001b[22mRemoved 81 rows containing non-finite values (`stat_ydensity()`).\"\n",
      "Warning message:\n",
      "\"\u001b[1m\u001b[22mRemoved 81 rows containing non-finite values (`stat_boxplot()`).\"\n",
      "Warning message:\n",
      "\"\u001b[1m\u001b[22mRemoved 81 rows containing non-finite values (`stat_signif()`).\"\n",
      "Warning message:\n",
      "\"\u001b[1m\u001b[22mTransformation introduced infinite values in continuous y-axis\"\n",
      "Warning message:\n",
      "\"\u001b[1m\u001b[22mTransformation introduced infinite values in continuous y-axis\"\n",
      "Warning message:\n",
      "\"\u001b[1m\u001b[22mTransformation introduced infinite values in continuous y-axis\"\n",
      "Warning message:\n",
      "\"\u001b[1m\u001b[22mRemoved 15 rows containing non-finite values (`stat_ydensity()`).\"\n",
      "Warning message:\n",
      "\"\u001b[1m\u001b[22mRemoved 15 rows containing non-finite values (`stat_boxplot()`).\"\n",
      "Warning message:\n",
      "\"\u001b[1m\u001b[22mRemoved 15 rows containing non-finite values (`stat_signif()`).\"\n",
      "Warning message:\n",
      "\"\u001b[1m\u001b[22mTransformation introduced infinite values in continuous y-axis\"\n",
      "Warning message:\n",
      "\"\u001b[1m\u001b[22mTransformation introduced infinite values in continuous y-axis\"\n",
      "Warning message:\n",
      "\"\u001b[1m\u001b[22mTransformation introduced infinite values in continuous y-axis\"\n",
      "Warning message:\n",
      "\"\u001b[1m\u001b[22mRemoved 67 rows containing non-finite values (`stat_ydensity()`).\"\n",
      "Warning message:\n",
      "\"\u001b[1m\u001b[22mRemoved 67 rows containing non-finite values (`stat_boxplot()`).\"\n",
      "Warning message:\n",
      "\"\u001b[1m\u001b[22mRemoved 67 rows containing non-finite values (`stat_signif()`).\"\n",
      "Warning message:\n",
      "\"\u001b[1m\u001b[22mTransformation introduced infinite values in continuous y-axis\"\n",
      "Warning message:\n",
      "\"\u001b[1m\u001b[22mTransformation introduced infinite values in continuous y-axis\"\n",
      "Warning message:\n",
      "\"\u001b[1m\u001b[22mTransformation introduced infinite values in continuous y-axis\"\n",
      "Warning message:\n",
      "\"\u001b[1m\u001b[22mRemoved 111 rows containing non-finite values (`stat_ydensity()`).\"\n",
      "Warning message:\n",
      "\"\u001b[1m\u001b[22mRemoved 111 rows containing non-finite values (`stat_boxplot()`).\"\n",
      "Warning message:\n",
      "\"\u001b[1m\u001b[22mRemoved 111 rows containing non-finite values (`stat_signif()`).\"\n",
      "Warning message:\n",
      "\"\u001b[1m\u001b[22mTransformation introduced infinite values in continuous y-axis\"\n",
      "Warning message:\n",
      "\"\u001b[1m\u001b[22mTransformation introduced infinite values in continuous y-axis\"\n",
      "Warning message:\n",
      "\"\u001b[1m\u001b[22mTransformation introduced infinite values in continuous y-axis\"\n",
      "Warning message:\n",
      "\"\u001b[1m\u001b[22mRemoved 608 rows containing non-finite values (`stat_ydensity()`).\"\n",
      "Warning message:\n",
      "\"\u001b[1m\u001b[22mRemoved 608 rows containing non-finite values (`stat_boxplot()`).\"\n",
      "Warning message:\n",
      "\"\u001b[1m\u001b[22mRemoved 608 rows containing non-finite values (`stat_signif()`).\"\n"
     ]
    },
    {
     "data": {
      "text/html": [
       "<strong>png:</strong> 2"
      ],
      "text/latex": [
       "\\textbf{png:} 2"
      ],
      "text/markdown": [
       "**png:** 2"
      ],
      "text/plain": [
       "png \n",
       "  2 "
      ]
     },
     "metadata": {},
     "output_type": "display_data"
    },
    {
     "data": {
      "image/png": "[encoded data removed]",
      "text/plain": [
       "plot without title"
      ]
     },
     "metadata": {
      "image/png": {
       "height": 600,
       "width": 600
      }
     },
     "output_type": "display_data"
    }
   ],
   "source": [
    "options(repr.plot.width = 10, repr.plot.height = 10)\n",
    "isotype_richness<-g1+g2+g3+g4+g5+g6+g7+g8+g9+plot_layout(nrow = 3)\n",
    "plot_grid(g1,g2,g3,g4,g5,g6,g7,g8,g9,nrow = 3,align=c(\"h\"))\n",
    "\n",
    "pdf(\"Fig1.isotype.richness.pdf\",15,12)\n",
    "plot_grid(g1,g2,g3,g4,g5,g6,g7,g8,g9,nrow = 3,align=c(\"h\"))\n",
    "dev.off()"
   ]
  }
 ],
 "metadata": {
  "kernelspec": {
   "display_name": "R",
   "language": "R",
   "name": "ir"
  },
  "language_info": {
   "codemirror_mode": "r",
   "file_extension": ".r",
   "mimetype": "text/x-r-source",
   "name": "R",
   "pygments_lexer": "r",
   "version": "4.1.3"
  },
  "orig_nbformat": 4
 },
 "nbformat": 4,
 "nbformat_minor": 2
}

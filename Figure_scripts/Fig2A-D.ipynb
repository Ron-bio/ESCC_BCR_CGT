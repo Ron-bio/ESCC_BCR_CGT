{
 "cells": [
  {
   "cell_type": "code",
   "execution_count": 2,
   "metadata": {
    "vscode": {
     "languageId": "r"
    }
   },
   "outputs": [],
   "source": [
    "library(ggplot2)\n",
    "library(plyr)\n",
    "library(dplyr)\n",
    "library(data.table)\n",
    "library(readxl)\n",
    "library(tidyr)\n",
    "library(tidyverse)\n",
    "library(grid)\n",
    "library(gridExtra)\n",
    "library(ggplot2)\n",
    "library(ggsignif) \n",
    "library(ggpubr) \n",
    "library(reshape2)\n",
    "library(ggsci) \n",
    "library(patchwork)\n",
    "\n",
    "options(repr.matrix.max.rows=600, repr.matrix.max.cols=200) \n",
    "options(repr.plot.width = 6, repr.plot.height = 6)"
   ]
  },
  {
   "attachments": {},
   "cell_type": "markdown",
   "metadata": {},
   "source": [
    "## read data"
   ]
  },
  {
   "cell_type": "code",
   "execution_count": 3,
   "metadata": {
    "vscode": {
     "languageId": "r"
    }
   },
   "outputs": [],
   "source": [
    "#  Multi Region read\n",
    "meta_multi_region_merged_diversity<-read.csv(\"meta_multi_region_merged_diversity_IGH.csv\",header=TRUE,quote = \"\\\"\", skipNul = TRUE,check.names=FALSE)\n",
    "meta_multi_region_merged_diversity<-meta_multi_region_merged_diversity[meta_multi_region_merged_diversity$Count>=3,]\n"
   ]
  },
  {
   "cell_type": "code",
   "execution_count": 4,
   "metadata": {
    "vscode": {
     "languageId": "r"
    }
   },
   "outputs": [
    {
     "data": {
      "text/html": [
       "<table class=\"dataframe\">\n",
       "<caption>A data.frame: 6 × 84</caption>\n",
       "<thead>\n",
       "\t<tr><th></th><th scope=col>RNA-DataID.exprname</th><th scope=col>sample ID</th><th scope=col>RNA-DataID</th><th scope=col>RNA-DataID.old</th><th scope=col>WGBS-DataID</th><th scope=col>WGS-DataID</th><th scope=col>sRNA-DataID</th><th scope=col>baibu-id</th><th scope=col>type</th><th scope=col>Gender</th><th scope=col>Age</th><th scope=col>Location</th><th scope=col>personal history</th><th scope=col>Family History of ESCC</th><th scope=col>Family History of other cancers</th><th scope=col>Smoking history</th><th scope=col>Drinking history</th><th scope=col>Intravascular cancer embolus</th><th scope=col>Perineural Invasion（PNI）</th><th scope=col>Intravascular cancer embolus and PNI</th><th scope=col>TNM_7th</th><th scope=col>Grade</th><th scope=col>T</th><th scope=col>N</th><th scope=col>M</th><th scope=col>TNM status</th><th scope=col>TNM_8th</th><th scope=col>STATE</th><th scope=col>recurrence or metastasis</th><th scope=col>TIME_days</th><th scope=col>Disease-free       Survival time</th><th scope=col>CIMP subtypes</th><th scope=col>TIME_month</th><th scope=col>ID</th><th scope=col>cohort</th><th scope=col>count</th><th scope=col>frequency</th><th scope=col>CDR3nt</th><th scope=col>CDR3aa</th><th scope=col>V</th><th scope=col>D</th><th scope=col>J</th><th scope=col>C</th><th scope=col>cid</th><th scope=col>cid_full_length</th><th scope=col>s_richness</th><th scope=col>s_shannon</th><th scope=col>s_clonality</th><th scope=col>IGHM_proportion_unique</th><th scope=col>IGHM_proportion_redundant</th><th scope=col>s_richness_IGHM</th><th scope=col>s_count_IGHM</th><th scope=col>IGHD_proportion_unique</th><th scope=col>IGHD_proportion_redundant</th><th scope=col>s_richness_IGHD</th><th scope=col>s_count_IGHD</th><th scope=col>IGHA1_proportion_unique</th><th scope=col>IGHA1_proportion_redundant</th><th scope=col>s_richness_IGHA1</th><th scope=col>s_count_IGHA1</th><th scope=col>IGHA2_proportion_unique</th><th scope=col>IGHA2_proportion_redundant</th><th scope=col>s_richness_IGHA2</th><th scope=col>s_count_IGHA2</th><th scope=col>IGHG1_proportion_unique</th><th scope=col>IGHG1_proportion_redundant</th><th scope=col>s_richness_IGHG1</th><th scope=col>s_count_IGHG1</th><th scope=col>IGHG2_proportion_unique</th><th scope=col>IGHG2_proportion_redundant</th><th scope=col>s_richness_IGHG2</th><th scope=col>s_count_IGHG2</th><th scope=col>IGHG3_proportion_unique</th><th scope=col>IGHG3_proportion_redundant</th><th scope=col>s_richness_IGHG3</th><th scope=col>s_count_IGHG3</th><th scope=col>IGHG4_proportion_unique</th><th scope=col>IGHG4_proportion_redundant</th><th scope=col>s_richness_IGHG4</th><th scope=col>s_count_IGHG4</th><th scope=col>IGHE_proportion_unique</th><th scope=col>IGHE_proportion_redundant</th><th scope=col>s_richness_IGHE</th><th scope=col>s_count_IGHE</th></tr>\n",
       "\t<tr><th></th><th scope=col>&lt;chr&gt;</th><th scope=col>&lt;chr&gt;</th><th scope=col>&lt;chr&gt;</th><th scope=col>&lt;chr&gt;</th><th scope=col>&lt;chr&gt;</th><th scope=col>&lt;chr&gt;</th><th scope=col>&lt;chr&gt;</th><th scope=col>&lt;chr&gt;</th><th scope=col>&lt;chr&gt;</th><th scope=col>&lt;chr&gt;</th><th scope=col>&lt;int&gt;</th><th scope=col>&lt;chr&gt;</th><th scope=col>&lt;int&gt;</th><th scope=col>&lt;chr&gt;</th><th scope=col>&lt;chr&gt;</th><th scope=col>&lt;chr&gt;</th><th scope=col>&lt;chr&gt;</th><th scope=col>&lt;chr&gt;</th><th scope=col>&lt;chr&gt;</th><th scope=col>&lt;chr&gt;</th><th scope=col>&lt;chr&gt;</th><th scope=col>&lt;chr&gt;</th><th scope=col>&lt;int&gt;</th><th scope=col>&lt;int&gt;</th><th scope=col>&lt;int&gt;</th><th scope=col>&lt;chr&gt;</th><th scope=col>&lt;chr&gt;</th><th scope=col>&lt;int&gt;</th><th scope=col>&lt;chr&gt;</th><th scope=col>&lt;int&gt;</th><th scope=col>&lt;int&gt;</th><th scope=col>&lt;int&gt;</th><th scope=col>&lt;dbl&gt;</th><th scope=col>&lt;chr&gt;</th><th scope=col>&lt;chr&gt;</th><th scope=col>&lt;int&gt;</th><th scope=col>&lt;dbl&gt;</th><th scope=col>&lt;chr&gt;</th><th scope=col>&lt;chr&gt;</th><th scope=col>&lt;chr&gt;</th><th scope=col>&lt;chr&gt;</th><th scope=col>&lt;chr&gt;</th><th scope=col>&lt;chr&gt;</th><th scope=col>&lt;chr&gt;</th><th scope=col>&lt;int&gt;</th><th scope=col>&lt;int&gt;</th><th scope=col>&lt;dbl&gt;</th><th scope=col>&lt;dbl&gt;</th><th scope=col>&lt;dbl&gt;</th><th scope=col>&lt;dbl&gt;</th><th scope=col>&lt;int&gt;</th><th scope=col>&lt;int&gt;</th><th scope=col>&lt;dbl&gt;</th><th scope=col>&lt;dbl&gt;</th><th scope=col>&lt;int&gt;</th><th scope=col>&lt;int&gt;</th><th scope=col>&lt;dbl&gt;</th><th scope=col>&lt;dbl&gt;</th><th scope=col>&lt;int&gt;</th><th scope=col>&lt;int&gt;</th><th scope=col>&lt;dbl&gt;</th><th scope=col>&lt;dbl&gt;</th><th scope=col>&lt;int&gt;</th><th scope=col>&lt;int&gt;</th><th scope=col>&lt;dbl&gt;</th><th scope=col>&lt;dbl&gt;</th><th scope=col>&lt;int&gt;</th><th scope=col>&lt;int&gt;</th><th scope=col>&lt;dbl&gt;</th><th scope=col>&lt;dbl&gt;</th><th scope=col>&lt;int&gt;</th><th scope=col>&lt;int&gt;</th><th scope=col>&lt;dbl&gt;</th><th scope=col>&lt;dbl&gt;</th><th scope=col>&lt;int&gt;</th><th scope=col>&lt;int&gt;</th><th scope=col>&lt;dbl&gt;</th><th scope=col>&lt;dbl&gt;</th><th scope=col>&lt;int&gt;</th><th scope=col>&lt;int&gt;</th><th scope=col>&lt;dbl&gt;</th><th scope=col>&lt;dbl&gt;</th><th scope=col>&lt;int&gt;</th><th scope=col>&lt;int&gt;</th></tr>\n",
       "</thead>\n",
       "<tbody>\n",
       "\t<tr><th scope=row>1</th><td>R17001923LR01</td><td>001</td><td>R17001923</td><td>R17001923LR01</td><td>R17022784LF01</td><td>R17025772LD01</td><td>R17001923LM01</td><td>001N</td><td>N</td><td>Male</td><td>74</td><td>Lower</td><td>0</td><td>0</td><td>0</td><td>light</td><td>light</td><td>0</td><td>0</td><td>0</td><td>IIIC</td><td>G2</td><td>3</td><td>3</td><td>0</td><td>T3N3M0</td><td>ⅣA</td><td>1</td><td>1</td><td>265</td><td>265</td><td>2</td><td>8.833333</td><td>R17001923LR01</td><td>Baidu</td><td>23</td><td>0.01795764</td><td>TGTGCGAGAGGGGTCGTAAGTGGAACTTACGGCATTGACTCCTGG                     </td><td>CARGVVSGTYGIDSW       </td><td>IGHV3-11</td><td>IGHD1-7*01 </td><td>IGHJ4</td><td>IGHA1</td><td>assemble9   </td><td>1</td><td>119</td><td>2.78799</td><td>0.4166314</td><td>0.01680672</td><td>0.01438849</td><td>2</td><td>10</td><td>0.008403361</td><td>0.004316547</td><td>1</td><td>3</td><td>0.4285714</td><td>0.4345324</td><td>51</td><td>302</td><td>0.1680672</td><td>0.181295</td><td>20</td><td>126</td><td>0.2941176</td><td>0.2964029</td><td>35</td><td>206</td><td>0.05042017</td><td>0.04028777</td><td>6</td><td>28</td><td>0</td><td>0</td><td>0</td><td>0</td><td>0.03361345</td><td>0.02877698</td><td>4</td><td>20</td><td>0</td><td>0</td><td>0</td><td>0</td></tr>\n",
       "\t<tr><th scope=row>2</th><td>R17001923LR01</td><td>001</td><td>R17001923</td><td>R17001923LR01</td><td>R17022784LF01</td><td>R17025772LD01</td><td>R17001923LM01</td><td>001N</td><td>N</td><td>Male</td><td>74</td><td>Lower</td><td>0</td><td>0</td><td>0</td><td>light</td><td>light</td><td>0</td><td>0</td><td>0</td><td>IIIC</td><td>G2</td><td>3</td><td>3</td><td>0</td><td>T3N3M0</td><td>ⅣA</td><td>1</td><td>1</td><td>265</td><td>265</td><td>2</td><td>8.833333</td><td>R17001923LR01</td><td>Baidu</td><td>19</td><td>0.01437216</td><td>TGTACGAAAGACCCTCGTGTAGCAACAGTCAATGTCCGGTTCGACCCCTGG               </td><td>CTKDPRVATVNVRFDPW     </td><td>IGHV3-23</td><td>IGHD6-13*01</td><td>IGHJ5</td><td>IGHA2</td><td>assemble34  </td><td>0</td><td>119</td><td>2.78799</td><td>0.4166314</td><td>0.01680672</td><td>0.01438849</td><td>2</td><td>10</td><td>0.008403361</td><td>0.004316547</td><td>1</td><td>3</td><td>0.4285714</td><td>0.4345324</td><td>51</td><td>302</td><td>0.1680672</td><td>0.181295</td><td>20</td><td>126</td><td>0.2941176</td><td>0.2964029</td><td>35</td><td>206</td><td>0.05042017</td><td>0.04028777</td><td>6</td><td>28</td><td>0</td><td>0</td><td>0</td><td>0</td><td>0.03361345</td><td>0.02877698</td><td>4</td><td>20</td><td>0</td><td>0</td><td>0</td><td>0</td></tr>\n",
       "\t<tr><th scope=row>3</th><td>R17001923LR01</td><td>001</td><td>R17001923</td><td>R17001923LR01</td><td>R17022784LF01</td><td>R17025772LD01</td><td>R17001923LM01</td><td>001N</td><td>N</td><td>Male</td><td>74</td><td>Lower</td><td>0</td><td>0</td><td>0</td><td>light</td><td>light</td><td>0</td><td>0</td><td>0</td><td>IIIC</td><td>G2</td><td>3</td><td>3</td><td>0</td><td>T3N3M0</td><td>ⅣA</td><td>1</td><td>1</td><td>265</td><td>265</td><td>2</td><td>8.833333</td><td>R17001923LR01</td><td>Baidu</td><td>16</td><td>0.01232980</td><td>TGTGCGAGAGATCTGACTGCAACTACATCGAGGGGGGACTACTATTATTACGGCATGGACGTCTGG</td><td>CARDLTATTSRGDYYYYGMDVW</td><td>IGHV4-59</td><td>IGHD1-7*01 </td><td>IGHJ6</td><td>IGHA1</td><td>assemble2609</td><td>1</td><td>119</td><td>2.78799</td><td>0.4166314</td><td>0.01680672</td><td>0.01438849</td><td>2</td><td>10</td><td>0.008403361</td><td>0.004316547</td><td>1</td><td>3</td><td>0.4285714</td><td>0.4345324</td><td>51</td><td>302</td><td>0.1680672</td><td>0.181295</td><td>20</td><td>126</td><td>0.2941176</td><td>0.2964029</td><td>35</td><td>206</td><td>0.05042017</td><td>0.04028777</td><td>6</td><td>28</td><td>0</td><td>0</td><td>0</td><td>0</td><td>0.03361345</td><td>0.02877698</td><td>4</td><td>20</td><td>0</td><td>0</td><td>0</td><td>0</td></tr>\n",
       "\t<tr><th scope=row>4</th><td>R17001923LR01</td><td>001</td><td>R17001923</td><td>R17001923LR01</td><td>R17022784LF01</td><td>R17025772LD01</td><td>R17001923LM01</td><td>001N</td><td>N</td><td>Male</td><td>74</td><td>Lower</td><td>0</td><td>0</td><td>0</td><td>light</td><td>light</td><td>0</td><td>0</td><td>0</td><td>IIIC</td><td>G2</td><td>3</td><td>3</td><td>0</td><td>T3N3M0</td><td>ⅣA</td><td>1</td><td>1</td><td>265</td><td>265</td><td>2</td><td>8.833333</td><td>R17001923LR01</td><td>Baidu</td><td>16</td><td>0.01210287</td><td>TGTGTTAGAGACTACGGTGACTACATGAATTGGTTCGAGTCCTGG                     </td><td>CVRDYGDYMNWFESW       </td><td>IGHV3-49</td><td>IGHD4-17*01</td><td>IGHJ5</td><td>IGHA1</td><td>assemble59  </td><td>0</td><td>119</td><td>2.78799</td><td>0.4166314</td><td>0.01680672</td><td>0.01438849</td><td>2</td><td>10</td><td>0.008403361</td><td>0.004316547</td><td>1</td><td>3</td><td>0.4285714</td><td>0.4345324</td><td>51</td><td>302</td><td>0.1680672</td><td>0.181295</td><td>20</td><td>126</td><td>0.2941176</td><td>0.2964029</td><td>35</td><td>206</td><td>0.05042017</td><td>0.04028777</td><td>6</td><td>28</td><td>0</td><td>0</td><td>0</td><td>0</td><td>0.03361345</td><td>0.02877698</td><td>4</td><td>20</td><td>0</td><td>0</td><td>0</td><td>0</td></tr>\n",
       "\t<tr><th scope=row>5</th><td>R17001923LR01</td><td>001</td><td>R17001923</td><td>R17001923LR01</td><td>R17022784LF01</td><td>R17025772LD01</td><td>R17001923LM01</td><td>001N</td><td>N</td><td>Male</td><td>74</td><td>Lower</td><td>0</td><td>0</td><td>0</td><td>light</td><td>light</td><td>0</td><td>0</td><td>0</td><td>IIIC</td><td>G2</td><td>3</td><td>3</td><td>0</td><td>T3N3M0</td><td>ⅣA</td><td>1</td><td>1</td><td>265</td><td>265</td><td>2</td><td>8.833333</td><td>R17001923LR01</td><td>Baidu</td><td>15</td><td>0.01134644</td><td>TGTGCGAAAGATCGGGACTACGGTGACTACCGGTCGGCTTTCTTTGACTCCTGG            </td><td>CAKDRDYGDYRSAFFDSW    </td><td>IGHV3-30</td><td>IGHD4-17*01</td><td>IGHJ4</td><td>IGHA1</td><td>assemble77  </td><td>0</td><td>119</td><td>2.78799</td><td>0.4166314</td><td>0.01680672</td><td>0.01438849</td><td>2</td><td>10</td><td>0.008403361</td><td>0.004316547</td><td>1</td><td>3</td><td>0.4285714</td><td>0.4345324</td><td>51</td><td>302</td><td>0.1680672</td><td>0.181295</td><td>20</td><td>126</td><td>0.2941176</td><td>0.2964029</td><td>35</td><td>206</td><td>0.05042017</td><td>0.04028777</td><td>6</td><td>28</td><td>0</td><td>0</td><td>0</td><td>0</td><td>0.03361345</td><td>0.02877698</td><td>4</td><td>20</td><td>0</td><td>0</td><td>0</td><td>0</td></tr>\n",
       "\t<tr><th scope=row>6</th><td>R17001923LR01</td><td>001</td><td>R17001923</td><td>R17001923LR01</td><td>R17022784LF01</td><td>R17025772LD01</td><td>R17001923LM01</td><td>001N</td><td>N</td><td>Male</td><td>74</td><td>Lower</td><td>0</td><td>0</td><td>0</td><td>light</td><td>light</td><td>0</td><td>0</td><td>0</td><td>IIIC</td><td>G2</td><td>3</td><td>3</td><td>0</td><td>T3N3M0</td><td>ⅣA</td><td>1</td><td>1</td><td>265</td><td>265</td><td>2</td><td>8.833333</td><td>R17001923LR01</td><td>Baidu</td><td>15</td><td>0.01134644</td><td>TGTGCGAGAGATCGACACTATAGTAGCGACATATATTACGAGTACTACTTTGCTATGGACGTCTGG</td><td>CARDRHYSSDIYYEYYFAMDVW</td><td>IGHV3-33</td><td>IGHD3-16*01</td><td>IGHJ4</td><td>IGHG1</td><td>assemble132 </td><td>0</td><td>119</td><td>2.78799</td><td>0.4166314</td><td>0.01680672</td><td>0.01438849</td><td>2</td><td>10</td><td>0.008403361</td><td>0.004316547</td><td>1</td><td>3</td><td>0.4285714</td><td>0.4345324</td><td>51</td><td>302</td><td>0.1680672</td><td>0.181295</td><td>20</td><td>126</td><td>0.2941176</td><td>0.2964029</td><td>35</td><td>206</td><td>0.05042017</td><td>0.04028777</td><td>6</td><td>28</td><td>0</td><td>0</td><td>0</td><td>0</td><td>0.03361345</td><td>0.02877698</td><td>4</td><td>20</td><td>0</td><td>0</td><td>0</td><td>0</td></tr>\n",
       "</tbody>\n",
       "</table>\n"
      ],
      "text/latex": [
       "A data.frame: 6 × 84\n",
       "\\begin{tabular}{r|llllllllllllllllllllllllllllllllllllllllllllllllllllllllllllllllllllllllllllllllllll}\n",
       "  & RNA-DataID.exprname & sample ID & RNA-DataID & RNA-DataID.old & WGBS-DataID & WGS-DataID & sRNA-DataID & baibu-id & type & Gender & Age & Location & personal history & Family History of ESCC & Family History of other cancers & Smoking history & Drinking history & Intravascular cancer embolus & Perineural Invasion（PNI） & Intravascular cancer embolus and PNI & TNM\\_7th & Grade & T & N & M & TNM status & TNM\\_8th & STATE & recurrence or metastasis & TIME\\_days & Disease-free       Survival time & CIMP subtypes & TIME\\_month & ID & cohort & count & frequency & CDR3nt & CDR3aa & V & D & J & C & cid & cid\\_full\\_length & s\\_richness & s\\_shannon & s\\_clonality & IGHM\\_proportion\\_unique & IGHM\\_proportion\\_redundant & s\\_richness\\_IGHM & s\\_count\\_IGHM & IGHD\\_proportion\\_unique & IGHD\\_proportion\\_redundant & s\\_richness\\_IGHD & s\\_count\\_IGHD & IGHA1\\_proportion\\_unique & IGHA1\\_proportion\\_redundant & s\\_richness\\_IGHA1 & s\\_count\\_IGHA1 & IGHA2\\_proportion\\_unique & IGHA2\\_proportion\\_redundant & s\\_richness\\_IGHA2 & s\\_count\\_IGHA2 & IGHG1\\_proportion\\_unique & IGHG1\\_proportion\\_redundant & s\\_richness\\_IGHG1 & s\\_count\\_IGHG1 & IGHG2\\_proportion\\_unique & IGHG2\\_proportion\\_redundant & s\\_richness\\_IGHG2 & s\\_count\\_IGHG2 & IGHG3\\_proportion\\_unique & IGHG3\\_proportion\\_redundant & s\\_richness\\_IGHG3 & s\\_count\\_IGHG3 & IGHG4\\_proportion\\_unique & IGHG4\\_proportion\\_redundant & s\\_richness\\_IGHG4 & s\\_count\\_IGHG4 & IGHE\\_proportion\\_unique & IGHE\\_proportion\\_redundant & s\\_richness\\_IGHE & s\\_count\\_IGHE\\\\\n",
       "  & <chr> & <chr> & <chr> & <chr> & <chr> & <chr> & <chr> & <chr> & <chr> & <chr> & <int> & <chr> & <int> & <chr> & <chr> & <chr> & <chr> & <chr> & <chr> & <chr> & <chr> & <chr> & <int> & <int> & <int> & <chr> & <chr> & <int> & <chr> & <int> & <int> & <int> & <dbl> & <chr> & <chr> & <int> & <dbl> & <chr> & <chr> & <chr> & <chr> & <chr> & <chr> & <chr> & <int> & <int> & <dbl> & <dbl> & <dbl> & <dbl> & <int> & <int> & <dbl> & <dbl> & <int> & <int> & <dbl> & <dbl> & <int> & <int> & <dbl> & <dbl> & <int> & <int> & <dbl> & <dbl> & <int> & <int> & <dbl> & <dbl> & <int> & <int> & <dbl> & <dbl> & <int> & <int> & <dbl> & <dbl> & <int> & <int> & <dbl> & <dbl> & <int> & <int>\\\\\n",
       "\\hline\n",
       "\t1 & R17001923LR01 & 001 & R17001923 & R17001923LR01 & R17022784LF01 & R17025772LD01 & R17001923LM01 & 001N & N & Male & 74 & Lower & 0 & 0 & 0 & light & light & 0 & 0 & 0 & IIIC & G2 & 3 & 3 & 0 & T3N3M0 & ⅣA & 1 & 1 & 265 & 265 & 2 & 8.833333 & R17001923LR01 & Baidu & 23 & 0.01795764 & TGTGCGAGAGGGGTCGTAAGTGGAACTTACGGCATTGACTCCTGG                      & CARGVVSGTYGIDSW        & IGHV3-11 & IGHD1-7*01  & IGHJ4 & IGHA1 & assemble9    & 1 & 119 & 2.78799 & 0.4166314 & 0.01680672 & 0.01438849 & 2 & 10 & 0.008403361 & 0.004316547 & 1 & 3 & 0.4285714 & 0.4345324 & 51 & 302 & 0.1680672 & 0.181295 & 20 & 126 & 0.2941176 & 0.2964029 & 35 & 206 & 0.05042017 & 0.04028777 & 6 & 28 & 0 & 0 & 0 & 0 & 0.03361345 & 0.02877698 & 4 & 20 & 0 & 0 & 0 & 0\\\\\n",
       "\t2 & R17001923LR01 & 001 & R17001923 & R17001923LR01 & R17022784LF01 & R17025772LD01 & R17001923LM01 & 001N & N & Male & 74 & Lower & 0 & 0 & 0 & light & light & 0 & 0 & 0 & IIIC & G2 & 3 & 3 & 0 & T3N3M0 & ⅣA & 1 & 1 & 265 & 265 & 2 & 8.833333 & R17001923LR01 & Baidu & 19 & 0.01437216 & TGTACGAAAGACCCTCGTGTAGCAACAGTCAATGTCCGGTTCGACCCCTGG                & CTKDPRVATVNVRFDPW      & IGHV3-23 & IGHD6-13*01 & IGHJ5 & IGHA2 & assemble34   & 0 & 119 & 2.78799 & 0.4166314 & 0.01680672 & 0.01438849 & 2 & 10 & 0.008403361 & 0.004316547 & 1 & 3 & 0.4285714 & 0.4345324 & 51 & 302 & 0.1680672 & 0.181295 & 20 & 126 & 0.2941176 & 0.2964029 & 35 & 206 & 0.05042017 & 0.04028777 & 6 & 28 & 0 & 0 & 0 & 0 & 0.03361345 & 0.02877698 & 4 & 20 & 0 & 0 & 0 & 0\\\\\n",
       "\t3 & R17001923LR01 & 001 & R17001923 & R17001923LR01 & R17022784LF01 & R17025772LD01 & R17001923LM01 & 001N & N & Male & 74 & Lower & 0 & 0 & 0 & light & light & 0 & 0 & 0 & IIIC & G2 & 3 & 3 & 0 & T3N3M0 & ⅣA & 1 & 1 & 265 & 265 & 2 & 8.833333 & R17001923LR01 & Baidu & 16 & 0.01232980 & TGTGCGAGAGATCTGACTGCAACTACATCGAGGGGGGACTACTATTATTACGGCATGGACGTCTGG & CARDLTATTSRGDYYYYGMDVW & IGHV4-59 & IGHD1-7*01  & IGHJ6 & IGHA1 & assemble2609 & 1 & 119 & 2.78799 & 0.4166314 & 0.01680672 & 0.01438849 & 2 & 10 & 0.008403361 & 0.004316547 & 1 & 3 & 0.4285714 & 0.4345324 & 51 & 302 & 0.1680672 & 0.181295 & 20 & 126 & 0.2941176 & 0.2964029 & 35 & 206 & 0.05042017 & 0.04028777 & 6 & 28 & 0 & 0 & 0 & 0 & 0.03361345 & 0.02877698 & 4 & 20 & 0 & 0 & 0 & 0\\\\\n",
       "\t4 & R17001923LR01 & 001 & R17001923 & R17001923LR01 & R17022784LF01 & R17025772LD01 & R17001923LM01 & 001N & N & Male & 74 & Lower & 0 & 0 & 0 & light & light & 0 & 0 & 0 & IIIC & G2 & 3 & 3 & 0 & T3N3M0 & ⅣA & 1 & 1 & 265 & 265 & 2 & 8.833333 & R17001923LR01 & Baidu & 16 & 0.01210287 & TGTGTTAGAGACTACGGTGACTACATGAATTGGTTCGAGTCCTGG                      & CVRDYGDYMNWFESW        & IGHV3-49 & IGHD4-17*01 & IGHJ5 & IGHA1 & assemble59   & 0 & 119 & 2.78799 & 0.4166314 & 0.01680672 & 0.01438849 & 2 & 10 & 0.008403361 & 0.004316547 & 1 & 3 & 0.4285714 & 0.4345324 & 51 & 302 & 0.1680672 & 0.181295 & 20 & 126 & 0.2941176 & 0.2964029 & 35 & 206 & 0.05042017 & 0.04028777 & 6 & 28 & 0 & 0 & 0 & 0 & 0.03361345 & 0.02877698 & 4 & 20 & 0 & 0 & 0 & 0\\\\\n",
       "\t5 & R17001923LR01 & 001 & R17001923 & R17001923LR01 & R17022784LF01 & R17025772LD01 & R17001923LM01 & 001N & N & Male & 74 & Lower & 0 & 0 & 0 & light & light & 0 & 0 & 0 & IIIC & G2 & 3 & 3 & 0 & T3N3M0 & ⅣA & 1 & 1 & 265 & 265 & 2 & 8.833333 & R17001923LR01 & Baidu & 15 & 0.01134644 & TGTGCGAAAGATCGGGACTACGGTGACTACCGGTCGGCTTTCTTTGACTCCTGG             & CAKDRDYGDYRSAFFDSW     & IGHV3-30 & IGHD4-17*01 & IGHJ4 & IGHA1 & assemble77   & 0 & 119 & 2.78799 & 0.4166314 & 0.01680672 & 0.01438849 & 2 & 10 & 0.008403361 & 0.004316547 & 1 & 3 & 0.4285714 & 0.4345324 & 51 & 302 & 0.1680672 & 0.181295 & 20 & 126 & 0.2941176 & 0.2964029 & 35 & 206 & 0.05042017 & 0.04028777 & 6 & 28 & 0 & 0 & 0 & 0 & 0.03361345 & 0.02877698 & 4 & 20 & 0 & 0 & 0 & 0\\\\\n",
       "\t6 & R17001923LR01 & 001 & R17001923 & R17001923LR01 & R17022784LF01 & R17025772LD01 & R17001923LM01 & 001N & N & Male & 74 & Lower & 0 & 0 & 0 & light & light & 0 & 0 & 0 & IIIC & G2 & 3 & 3 & 0 & T3N3M0 & ⅣA & 1 & 1 & 265 & 265 & 2 & 8.833333 & R17001923LR01 & Baidu & 15 & 0.01134644 & TGTGCGAGAGATCGACACTATAGTAGCGACATATATTACGAGTACTACTTTGCTATGGACGTCTGG & CARDRHYSSDIYYEYYFAMDVW & IGHV3-33 & IGHD3-16*01 & IGHJ4 & IGHG1 & assemble132  & 0 & 119 & 2.78799 & 0.4166314 & 0.01680672 & 0.01438849 & 2 & 10 & 0.008403361 & 0.004316547 & 1 & 3 & 0.4285714 & 0.4345324 & 51 & 302 & 0.1680672 & 0.181295 & 20 & 126 & 0.2941176 & 0.2964029 & 35 & 206 & 0.05042017 & 0.04028777 & 6 & 28 & 0 & 0 & 0 & 0 & 0.03361345 & 0.02877698 & 4 & 20 & 0 & 0 & 0 & 0\\\\\n",
       "\\end{tabular}\n"
      ],
      "text/markdown": [
       "\n",
       "A data.frame: 6 × 84\n",
       "\n",
       "| <!--/--> | RNA-DataID.exprname &lt;chr&gt; | sample ID &lt;chr&gt; | RNA-DataID &lt;chr&gt; | RNA-DataID.old &lt;chr&gt; | WGBS-DataID &lt;chr&gt; | WGS-DataID &lt;chr&gt; | sRNA-DataID &lt;chr&gt; | baibu-id &lt;chr&gt; | type &lt;chr&gt; | Gender &lt;chr&gt; | Age &lt;int&gt; | Location &lt;chr&gt; | personal history &lt;int&gt; | Family History of ESCC &lt;chr&gt; | Family History of other cancers &lt;chr&gt; | Smoking history &lt;chr&gt; | Drinking history &lt;chr&gt; | Intravascular cancer embolus &lt;chr&gt; | Perineural Invasion（PNI） &lt;chr&gt; | Intravascular cancer embolus and PNI &lt;chr&gt; | TNM_7th &lt;chr&gt; | Grade &lt;chr&gt; | T &lt;int&gt; | N &lt;int&gt; | M &lt;int&gt; | TNM status &lt;chr&gt; | TNM_8th &lt;chr&gt; | STATE &lt;int&gt; | recurrence or metastasis &lt;chr&gt; | TIME_days &lt;int&gt; | Disease-free       Survival time &lt;int&gt; | CIMP subtypes &lt;int&gt; | TIME_month &lt;dbl&gt; | ID &lt;chr&gt; | cohort &lt;chr&gt; | count &lt;int&gt; | frequency &lt;dbl&gt; | CDR3nt &lt;chr&gt; | CDR3aa &lt;chr&gt; | V &lt;chr&gt; | D &lt;chr&gt; | J &lt;chr&gt; | C &lt;chr&gt; | cid &lt;chr&gt; | cid_full_length &lt;int&gt; | s_richness &lt;int&gt; | s_shannon &lt;dbl&gt; | s_clonality &lt;dbl&gt; | IGHM_proportion_unique &lt;dbl&gt; | IGHM_proportion_redundant &lt;dbl&gt; | s_richness_IGHM &lt;int&gt; | s_count_IGHM &lt;int&gt; | IGHD_proportion_unique &lt;dbl&gt; | IGHD_proportion_redundant &lt;dbl&gt; | s_richness_IGHD &lt;int&gt; | s_count_IGHD &lt;int&gt; | IGHA1_proportion_unique &lt;dbl&gt; | IGHA1_proportion_redundant &lt;dbl&gt; | s_richness_IGHA1 &lt;int&gt; | s_count_IGHA1 &lt;int&gt; | IGHA2_proportion_unique &lt;dbl&gt; | IGHA2_proportion_redundant &lt;dbl&gt; | s_richness_IGHA2 &lt;int&gt; | s_count_IGHA2 &lt;int&gt; | IGHG1_proportion_unique &lt;dbl&gt; | IGHG1_proportion_redundant &lt;dbl&gt; | s_richness_IGHG1 &lt;int&gt; | s_count_IGHG1 &lt;int&gt; | IGHG2_proportion_unique &lt;dbl&gt; | IGHG2_proportion_redundant &lt;dbl&gt; | s_richness_IGHG2 &lt;int&gt; | s_count_IGHG2 &lt;int&gt; | IGHG3_proportion_unique &lt;dbl&gt; | IGHG3_proportion_redundant &lt;dbl&gt; | s_richness_IGHG3 &lt;int&gt; | s_count_IGHG3 &lt;int&gt; | IGHG4_proportion_unique &lt;dbl&gt; | IGHG4_proportion_redundant &lt;dbl&gt; | s_richness_IGHG4 &lt;int&gt; | s_count_IGHG4 &lt;int&gt; | IGHE_proportion_unique &lt;dbl&gt; | IGHE_proportion_redundant &lt;dbl&gt; | s_richness_IGHE &lt;int&gt; | s_count_IGHE &lt;int&gt; |\n",
       "|---|---|---|---|---|---|---|---|---|---|---|---|---|---|---|---|---|---|---|---|---|---|---|---|---|---|---|---|---|---|---|---|---|---|---|---|---|---|---|---|---|---|---|---|---|---|---|---|---|---|---|---|---|---|---|---|---|---|---|---|---|---|---|---|---|---|---|---|---|---|---|---|---|---|---|---|---|---|---|---|---|---|---|---|---|\n",
       "| 1 | R17001923LR01 | 001 | R17001923 | R17001923LR01 | R17022784LF01 | R17025772LD01 | R17001923LM01 | 001N | N | Male | 74 | Lower | 0 | 0 | 0 | light | light | 0 | 0 | 0 | IIIC | G2 | 3 | 3 | 0 | T3N3M0 | ⅣA | 1 | 1 | 265 | 265 | 2 | 8.833333 | R17001923LR01 | Baidu | 23 | 0.01795764 | TGTGCGAGAGGGGTCGTAAGTGGAACTTACGGCATTGACTCCTGG                      | CARGVVSGTYGIDSW        | IGHV3-11 | IGHD1-7*01  | IGHJ4 | IGHA1 | assemble9    | 1 | 119 | 2.78799 | 0.4166314 | 0.01680672 | 0.01438849 | 2 | 10 | 0.008403361 | 0.004316547 | 1 | 3 | 0.4285714 | 0.4345324 | 51 | 302 | 0.1680672 | 0.181295 | 20 | 126 | 0.2941176 | 0.2964029 | 35 | 206 | 0.05042017 | 0.04028777 | 6 | 28 | 0 | 0 | 0 | 0 | 0.03361345 | 0.02877698 | 4 | 20 | 0 | 0 | 0 | 0 |\n",
       "| 2 | R17001923LR01 | 001 | R17001923 | R17001923LR01 | R17022784LF01 | R17025772LD01 | R17001923LM01 | 001N | N | Male | 74 | Lower | 0 | 0 | 0 | light | light | 0 | 0 | 0 | IIIC | G2 | 3 | 3 | 0 | T3N3M0 | ⅣA | 1 | 1 | 265 | 265 | 2 | 8.833333 | R17001923LR01 | Baidu | 19 | 0.01437216 | TGTACGAAAGACCCTCGTGTAGCAACAGTCAATGTCCGGTTCGACCCCTGG                | CTKDPRVATVNVRFDPW      | IGHV3-23 | IGHD6-13*01 | IGHJ5 | IGHA2 | assemble34   | 0 | 119 | 2.78799 | 0.4166314 | 0.01680672 | 0.01438849 | 2 | 10 | 0.008403361 | 0.004316547 | 1 | 3 | 0.4285714 | 0.4345324 | 51 | 302 | 0.1680672 | 0.181295 | 20 | 126 | 0.2941176 | 0.2964029 | 35 | 206 | 0.05042017 | 0.04028777 | 6 | 28 | 0 | 0 | 0 | 0 | 0.03361345 | 0.02877698 | 4 | 20 | 0 | 0 | 0 | 0 |\n",
       "| 3 | R17001923LR01 | 001 | R17001923 | R17001923LR01 | R17022784LF01 | R17025772LD01 | R17001923LM01 | 001N | N | Male | 74 | Lower | 0 | 0 | 0 | light | light | 0 | 0 | 0 | IIIC | G2 | 3 | 3 | 0 | T3N3M0 | ⅣA | 1 | 1 | 265 | 265 | 2 | 8.833333 | R17001923LR01 | Baidu | 16 | 0.01232980 | TGTGCGAGAGATCTGACTGCAACTACATCGAGGGGGGACTACTATTATTACGGCATGGACGTCTGG | CARDLTATTSRGDYYYYGMDVW | IGHV4-59 | IGHD1-7*01  | IGHJ6 | IGHA1 | assemble2609 | 1 | 119 | 2.78799 | 0.4166314 | 0.01680672 | 0.01438849 | 2 | 10 | 0.008403361 | 0.004316547 | 1 | 3 | 0.4285714 | 0.4345324 | 51 | 302 | 0.1680672 | 0.181295 | 20 | 126 | 0.2941176 | 0.2964029 | 35 | 206 | 0.05042017 | 0.04028777 | 6 | 28 | 0 | 0 | 0 | 0 | 0.03361345 | 0.02877698 | 4 | 20 | 0 | 0 | 0 | 0 |\n",
       "| 4 | R17001923LR01 | 001 | R17001923 | R17001923LR01 | R17022784LF01 | R17025772LD01 | R17001923LM01 | 001N | N | Male | 74 | Lower | 0 | 0 | 0 | light | light | 0 | 0 | 0 | IIIC | G2 | 3 | 3 | 0 | T3N3M0 | ⅣA | 1 | 1 | 265 | 265 | 2 | 8.833333 | R17001923LR01 | Baidu | 16 | 0.01210287 | TGTGTTAGAGACTACGGTGACTACATGAATTGGTTCGAGTCCTGG                      | CVRDYGDYMNWFESW        | IGHV3-49 | IGHD4-17*01 | IGHJ5 | IGHA1 | assemble59   | 0 | 119 | 2.78799 | 0.4166314 | 0.01680672 | 0.01438849 | 2 | 10 | 0.008403361 | 0.004316547 | 1 | 3 | 0.4285714 | 0.4345324 | 51 | 302 | 0.1680672 | 0.181295 | 20 | 126 | 0.2941176 | 0.2964029 | 35 | 206 | 0.05042017 | 0.04028777 | 6 | 28 | 0 | 0 | 0 | 0 | 0.03361345 | 0.02877698 | 4 | 20 | 0 | 0 | 0 | 0 |\n",
       "| 5 | R17001923LR01 | 001 | R17001923 | R17001923LR01 | R17022784LF01 | R17025772LD01 | R17001923LM01 | 001N | N | Male | 74 | Lower | 0 | 0 | 0 | light | light | 0 | 0 | 0 | IIIC | G2 | 3 | 3 | 0 | T3N3M0 | ⅣA | 1 | 1 | 265 | 265 | 2 | 8.833333 | R17001923LR01 | Baidu | 15 | 0.01134644 | TGTGCGAAAGATCGGGACTACGGTGACTACCGGTCGGCTTTCTTTGACTCCTGG             | CAKDRDYGDYRSAFFDSW     | IGHV3-30 | IGHD4-17*01 | IGHJ4 | IGHA1 | assemble77   | 0 | 119 | 2.78799 | 0.4166314 | 0.01680672 | 0.01438849 | 2 | 10 | 0.008403361 | 0.004316547 | 1 | 3 | 0.4285714 | 0.4345324 | 51 | 302 | 0.1680672 | 0.181295 | 20 | 126 | 0.2941176 | 0.2964029 | 35 | 206 | 0.05042017 | 0.04028777 | 6 | 28 | 0 | 0 | 0 | 0 | 0.03361345 | 0.02877698 | 4 | 20 | 0 | 0 | 0 | 0 |\n",
       "| 6 | R17001923LR01 | 001 | R17001923 | R17001923LR01 | R17022784LF01 | R17025772LD01 | R17001923LM01 | 001N | N | Male | 74 | Lower | 0 | 0 | 0 | light | light | 0 | 0 | 0 | IIIC | G2 | 3 | 3 | 0 | T3N3M0 | ⅣA | 1 | 1 | 265 | 265 | 2 | 8.833333 | R17001923LR01 | Baidu | 15 | 0.01134644 | TGTGCGAGAGATCGACACTATAGTAGCGACATATATTACGAGTACTACTTTGCTATGGACGTCTGG | CARDRHYSSDIYYEYYFAMDVW | IGHV3-33 | IGHD3-16*01 | IGHJ4 | IGHG1 | assemble132  | 0 | 119 | 2.78799 | 0.4166314 | 0.01680672 | 0.01438849 | 2 | 10 | 0.008403361 | 0.004316547 | 1 | 3 | 0.4285714 | 0.4345324 | 51 | 302 | 0.1680672 | 0.181295 | 20 | 126 | 0.2941176 | 0.2964029 | 35 | 206 | 0.05042017 | 0.04028777 | 6 | 28 | 0 | 0 | 0 | 0 | 0.03361345 | 0.02877698 | 4 | 20 | 0 | 0 | 0 | 0 |\n",
       "\n"
      ],
      "text/plain": [
       "  RNA-DataID.exprname sample ID RNA-DataID RNA-DataID.old WGBS-DataID  \n",
       "1 R17001923LR01       001       R17001923  R17001923LR01  R17022784LF01\n",
       "2 R17001923LR01       001       R17001923  R17001923LR01  R17022784LF01\n",
       "3 R17001923LR01       001       R17001923  R17001923LR01  R17022784LF01\n",
       "4 R17001923LR01       001       R17001923  R17001923LR01  R17022784LF01\n",
       "5 R17001923LR01       001       R17001923  R17001923LR01  R17022784LF01\n",
       "6 R17001923LR01       001       R17001923  R17001923LR01  R17022784LF01\n",
       "  WGS-DataID    sRNA-DataID   baibu-id type Gender Age Location\n",
       "1 R17025772LD01 R17001923LM01 001N     N    Male   74  Lower   \n",
       "2 R17025772LD01 R17001923LM01 001N     N    Male   74  Lower   \n",
       "3 R17025772LD01 R17001923LM01 001N     N    Male   74  Lower   \n",
       "4 R17025772LD01 R17001923LM01 001N     N    Male   74  Lower   \n",
       "5 R17025772LD01 R17001923LM01 001N     N    Male   74  Lower   \n",
       "6 R17025772LD01 R17001923LM01 001N     N    Male   74  Lower   \n",
       "  personal history Family History of ESCC Family History of other cancers\n",
       "1 0                0                      0                              \n",
       "2 0                0                      0                              \n",
       "3 0                0                      0                              \n",
       "4 0                0                      0                              \n",
       "5 0                0                      0                              \n",
       "6 0                0                      0                              \n",
       "  Smoking history Drinking history Intravascular cancer embolus\n",
       "1 light           light            0                           \n",
       "2 light           light            0                           \n",
       "3 light           light            0                           \n",
       "4 light           light            0                           \n",
       "5 light           light            0                           \n",
       "6 light           light            0                           \n",
       "  Perineural Invasion（PNI） Intravascular cancer embolus and PNI TNM_7th Grade\n",
       "1 0                          0                                    IIIC    G2   \n",
       "2 0                          0                                    IIIC    G2   \n",
       "3 0                          0                                    IIIC    G2   \n",
       "4 0                          0                                    IIIC    G2   \n",
       "5 0                          0                                    IIIC    G2   \n",
       "6 0                          0                                    IIIC    G2   \n",
       "  T N M TNM status TNM_8th STATE recurrence or metastasis TIME_days\n",
       "1 3 3 0 T3N3M0     ⅣA      1     1                        265      \n",
       "2 3 3 0 T3N3M0     ⅣA      1     1                        265      \n",
       "3 3 3 0 T3N3M0     ⅣA      1     1                        265      \n",
       "4 3 3 0 T3N3M0     ⅣA      1     1                        265      \n",
       "5 3 3 0 T3N3M0     ⅣA      1     1                        265      \n",
       "6 3 3 0 T3N3M0     ⅣA      1     1                        265      \n",
       "  Disease-free       Survival time CIMP subtypes TIME_month ID           \n",
       "1 265                              2             8.833333   R17001923LR01\n",
       "2 265                              2             8.833333   R17001923LR01\n",
       "3 265                              2             8.833333   R17001923LR01\n",
       "4 265                              2             8.833333   R17001923LR01\n",
       "5 265                              2             8.833333   R17001923LR01\n",
       "6 265                              2             8.833333   R17001923LR01\n",
       "  cohort count frequency \n",
       "1 Baidu  23    0.01795764\n",
       "2 Baidu  19    0.01437216\n",
       "3 Baidu  16    0.01232980\n",
       "4 Baidu  16    0.01210287\n",
       "5 Baidu  15    0.01134644\n",
       "6 Baidu  15    0.01134644\n",
       "  CDR3nt                                                            \n",
       "1 TGTGCGAGAGGGGTCGTAAGTGGAACTTACGGCATTGACTCCTGG                     \n",
       "2 TGTACGAAAGACCCTCGTGTAGCAACAGTCAATGTCCGGTTCGACCCCTGG               \n",
       "3 TGTGCGAGAGATCTGACTGCAACTACATCGAGGGGGGACTACTATTATTACGGCATGGACGTCTGG\n",
       "4 TGTGTTAGAGACTACGGTGACTACATGAATTGGTTCGAGTCCTGG                     \n",
       "5 TGTGCGAAAGATCGGGACTACGGTGACTACCGGTCGGCTTTCTTTGACTCCTGG            \n",
       "6 TGTGCGAGAGATCGACACTATAGTAGCGACATATATTACGAGTACTACTTTGCTATGGACGTCTGG\n",
       "  CDR3aa                 V        D           J     C     cid         \n",
       "1 CARGVVSGTYGIDSW        IGHV3-11 IGHD1-7*01  IGHJ4 IGHA1 assemble9   \n",
       "2 CTKDPRVATVNVRFDPW      IGHV3-23 IGHD6-13*01 IGHJ5 IGHA2 assemble34  \n",
       "3 CARDLTATTSRGDYYYYGMDVW IGHV4-59 IGHD1-7*01  IGHJ6 IGHA1 assemble2609\n",
       "4 CVRDYGDYMNWFESW        IGHV3-49 IGHD4-17*01 IGHJ5 IGHA1 assemble59  \n",
       "5 CAKDRDYGDYRSAFFDSW     IGHV3-30 IGHD4-17*01 IGHJ4 IGHA1 assemble77  \n",
       "6 CARDRHYSSDIYYEYYFAMDVW IGHV3-33 IGHD3-16*01 IGHJ4 IGHG1 assemble132 \n",
       "  cid_full_length s_richness s_shannon s_clonality IGHM_proportion_unique\n",
       "1 1               119        2.78799   0.4166314   0.01680672            \n",
       "2 0               119        2.78799   0.4166314   0.01680672            \n",
       "3 1               119        2.78799   0.4166314   0.01680672            \n",
       "4 0               119        2.78799   0.4166314   0.01680672            \n",
       "5 0               119        2.78799   0.4166314   0.01680672            \n",
       "6 0               119        2.78799   0.4166314   0.01680672            \n",
       "  IGHM_proportion_redundant s_richness_IGHM s_count_IGHM IGHD_proportion_unique\n",
       "1 0.01438849                2               10           0.008403361           \n",
       "2 0.01438849                2               10           0.008403361           \n",
       "3 0.01438849                2               10           0.008403361           \n",
       "4 0.01438849                2               10           0.008403361           \n",
       "5 0.01438849                2               10           0.008403361           \n",
       "6 0.01438849                2               10           0.008403361           \n",
       "  IGHD_proportion_redundant s_richness_IGHD s_count_IGHD\n",
       "1 0.004316547               1               3           \n",
       "2 0.004316547               1               3           \n",
       "3 0.004316547               1               3           \n",
       "4 0.004316547               1               3           \n",
       "5 0.004316547               1               3           \n",
       "6 0.004316547               1               3           \n",
       "  IGHA1_proportion_unique IGHA1_proportion_redundant s_richness_IGHA1\n",
       "1 0.4285714               0.4345324                  51              \n",
       "2 0.4285714               0.4345324                  51              \n",
       "3 0.4285714               0.4345324                  51              \n",
       "4 0.4285714               0.4345324                  51              \n",
       "5 0.4285714               0.4345324                  51              \n",
       "6 0.4285714               0.4345324                  51              \n",
       "  s_count_IGHA1 IGHA2_proportion_unique IGHA2_proportion_redundant\n",
       "1 302           0.1680672               0.181295                  \n",
       "2 302           0.1680672               0.181295                  \n",
       "3 302           0.1680672               0.181295                  \n",
       "4 302           0.1680672               0.181295                  \n",
       "5 302           0.1680672               0.181295                  \n",
       "6 302           0.1680672               0.181295                  \n",
       "  s_richness_IGHA2 s_count_IGHA2 IGHG1_proportion_unique\n",
       "1 20               126           0.2941176              \n",
       "2 20               126           0.2941176              \n",
       "3 20               126           0.2941176              \n",
       "4 20               126           0.2941176              \n",
       "5 20               126           0.2941176              \n",
       "6 20               126           0.2941176              \n",
       "  IGHG1_proportion_redundant s_richness_IGHG1 s_count_IGHG1\n",
       "1 0.2964029                  35               206          \n",
       "2 0.2964029                  35               206          \n",
       "3 0.2964029                  35               206          \n",
       "4 0.2964029                  35               206          \n",
       "5 0.2964029                  35               206          \n",
       "6 0.2964029                  35               206          \n",
       "  IGHG2_proportion_unique IGHG2_proportion_redundant s_richness_IGHG2\n",
       "1 0.05042017              0.04028777                 6               \n",
       "2 0.05042017              0.04028777                 6               \n",
       "3 0.05042017              0.04028777                 6               \n",
       "4 0.05042017              0.04028777                 6               \n",
       "5 0.05042017              0.04028777                 6               \n",
       "6 0.05042017              0.04028777                 6               \n",
       "  s_count_IGHG2 IGHG3_proportion_unique IGHG3_proportion_redundant\n",
       "1 28            0                       0                         \n",
       "2 28            0                       0                         \n",
       "3 28            0                       0                         \n",
       "4 28            0                       0                         \n",
       "5 28            0                       0                         \n",
       "6 28            0                       0                         \n",
       "  s_richness_IGHG3 s_count_IGHG3 IGHG4_proportion_unique\n",
       "1 0                0             0.03361345             \n",
       "2 0                0             0.03361345             \n",
       "3 0                0             0.03361345             \n",
       "4 0                0             0.03361345             \n",
       "5 0                0             0.03361345             \n",
       "6 0                0             0.03361345             \n",
       "  IGHG4_proportion_redundant s_richness_IGHG4 s_count_IGHG4\n",
       "1 0.02877698                 4                20           \n",
       "2 0.02877698                 4                20           \n",
       "3 0.02877698                 4                20           \n",
       "4 0.02877698                 4                20           \n",
       "5 0.02877698                 4                20           \n",
       "6 0.02877698                 4                20           \n",
       "  IGHE_proportion_unique IGHE_proportion_redundant s_richness_IGHE s_count_IGHE\n",
       "1 0                      0                         0               0           \n",
       "2 0                      0                         0               0           \n",
       "3 0                      0                         0               0           \n",
       "4 0                      0                         0               0           \n",
       "5 0                      0                         0               0           \n",
       "6 0                      0                         0               0           "
      ]
     },
     "metadata": {},
     "output_type": "display_data"
    }
   ],
   "source": [
    "#BAIDU data read\n",
    "Trust_cdr3_baidu_merged_diversity<-read.csv(\"Trust_cdr3_baidu_merged_diversity_IGH.csv\",header=TRUE,quote = \"\\\"\", skipNul = TRUE,check.names=FALSE)\n",
    "Trust_cdr3_baidu_merged_diversity$`sample ID`<-sprintf('%03d',Trust_cdr3_baidu_merged_diversity$`sample ID`)\n",
    "\n",
    "Trust_cdr3_baidu_merged_diversity$V<-str_extract(Trust_cdr3_baidu_merged_diversity$V,pattern = \".*(?=\\\\*)\")\n",
    "Trust_cdr3_baidu_merged_diversity$J<-str_extract(Trust_cdr3_baidu_merged_diversity$J,pattern = \".*(?=\\\\*)\")\n",
    "\n",
    "head(Trust_cdr3_baidu_merged_diversity)"
   ]
  },
  {
   "cell_type": "code",
   "execution_count": 5,
   "metadata": {
    "vscode": {
     "languageId": "r"
    }
   },
   "outputs": [],
   "source": [
    "#IG类型比较\n",
    "mypal <- ggsci::pal_npg(palette =\"nrc\", alpha = 0.7)(10)\n",
    "mypal2<-ggsci::pal_jama(palette =\"default\", alpha = 0.7)(6)\n",
    "mypal3<-ggsci::pal_lancet(palette =\"lanonc\", alpha = 0.7)(9)\n",
    "mypal4 <- ggsci::pal_npg(palette =\"nrc\", alpha = 0.5)(10)\n",
    "mypal5<-ggsci::pal_jama(palette =\"default\", alpha = 0.5)(6)\n",
    "mypal6<-ggsci::pal_lancet(palette =\"lanonc\", alpha = 0.5)(9)\n",
    "mypal7 <- ggsci::pal_npg(palette =\"nrc\", alpha = 0.3)(10)\n",
    "mypal8<-ggsci::pal_jama(palette =\"default\", alpha = 0.3)(6)\n",
    "mypal9<-ggsci::pal_lancet(palette =\"lanonc\", alpha = 0.3)(9)\n",
    "\n",
    "mypal<-c(mypal3,mypal2,mypal,mypal6,mypal5,mypal4,mypal9,mypal8,mypal7)\n",
    "mypal[3]<-\"#FFBD7A\"\n"
   ]
  },
  {
   "attachments": {},
   "cell_type": "markdown",
   "metadata": {},
   "source": [
    "## 百度VJ分析"
   ]
  },
  {
   "cell_type": "code",
   "execution_count": 6,
   "metadata": {
    "vscode": {
     "languageId": "r"
    }
   },
   "outputs": [
    {
     "data": {
      "text/html": [
       "<table class=\"dataframe\">\n",
       "<caption>A data.frame: 6 × 7</caption>\n",
       "<thead>\n",
       "\t<tr><th></th><th scope=col>CDR3aa</th><th scope=col>V</th><th scope=col>J</th><th scope=col>C</th><th scope=col>type</th><th scope=col>baibu-id</th><th scope=col>ID</th></tr>\n",
       "\t<tr><th></th><th scope=col>&lt;chr&gt;</th><th scope=col>&lt;chr&gt;</th><th scope=col>&lt;chr&gt;</th><th scope=col>&lt;chr&gt;</th><th scope=col>&lt;chr&gt;</th><th scope=col>&lt;chr&gt;</th><th scope=col>&lt;chr&gt;</th></tr>\n",
       "</thead>\n",
       "<tbody>\n",
       "\t<tr><th scope=row>1</th><td>CARGVVSGTYGIDSW       </td><td>IGHV3-11</td><td>IGHJ4</td><td>IGHA1</td><td>N</td><td>001N</td><td>001N</td></tr>\n",
       "\t<tr><th scope=row>2</th><td>CTKDPRVATVNVRFDPW     </td><td>IGHV3-23</td><td>IGHJ5</td><td>IGHA2</td><td>N</td><td>001N</td><td>001N</td></tr>\n",
       "\t<tr><th scope=row>3</th><td>CARDLTATTSRGDYYYYGMDVW</td><td>IGHV4-59</td><td>IGHJ6</td><td>IGHA1</td><td>N</td><td>001N</td><td>001N</td></tr>\n",
       "\t<tr><th scope=row>4</th><td>CVRDYGDYMNWFESW       </td><td>IGHV3-49</td><td>IGHJ5</td><td>IGHA1</td><td>N</td><td>001N</td><td>001N</td></tr>\n",
       "\t<tr><th scope=row>5</th><td>CAKDRDYGDYRSAFFDSW    </td><td>IGHV3-30</td><td>IGHJ4</td><td>IGHA1</td><td>N</td><td>001N</td><td>001N</td></tr>\n",
       "\t<tr><th scope=row>6</th><td>CARDRHYSSDIYYEYYFAMDVW</td><td>IGHV3-33</td><td>IGHJ4</td><td>IGHG1</td><td>N</td><td>001N</td><td>001N</td></tr>\n",
       "</tbody>\n",
       "</table>\n"
      ],
      "text/latex": [
       "A data.frame: 6 × 7\n",
       "\\begin{tabular}{r|lllllll}\n",
       "  & CDR3aa & V & J & C & type & baibu-id & ID\\\\\n",
       "  & <chr> & <chr> & <chr> & <chr> & <chr> & <chr> & <chr>\\\\\n",
       "\\hline\n",
       "\t1 & CARGVVSGTYGIDSW        & IGHV3-11 & IGHJ4 & IGHA1 & N & 001N & 001N\\\\\n",
       "\t2 & CTKDPRVATVNVRFDPW      & IGHV3-23 & IGHJ5 & IGHA2 & N & 001N & 001N\\\\\n",
       "\t3 & CARDLTATTSRGDYYYYGMDVW & IGHV4-59 & IGHJ6 & IGHA1 & N & 001N & 001N\\\\\n",
       "\t4 & CVRDYGDYMNWFESW        & IGHV3-49 & IGHJ5 & IGHA1 & N & 001N & 001N\\\\\n",
       "\t5 & CAKDRDYGDYRSAFFDSW     & IGHV3-30 & IGHJ4 & IGHA1 & N & 001N & 001N\\\\\n",
       "\t6 & CARDRHYSSDIYYEYYFAMDVW & IGHV3-33 & IGHJ4 & IGHG1 & N & 001N & 001N\\\\\n",
       "\\end{tabular}\n"
      ],
      "text/markdown": [
       "\n",
       "A data.frame: 6 × 7\n",
       "\n",
       "| <!--/--> | CDR3aa &lt;chr&gt; | V &lt;chr&gt; | J &lt;chr&gt; | C &lt;chr&gt; | type &lt;chr&gt; | baibu-id &lt;chr&gt; | ID &lt;chr&gt; |\n",
       "|---|---|---|---|---|---|---|---|\n",
       "| 1 | CARGVVSGTYGIDSW        | IGHV3-11 | IGHJ4 | IGHA1 | N | 001N | 001N |\n",
       "| 2 | CTKDPRVATVNVRFDPW      | IGHV3-23 | IGHJ5 | IGHA2 | N | 001N | 001N |\n",
       "| 3 | CARDLTATTSRGDYYYYGMDVW | IGHV4-59 | IGHJ6 | IGHA1 | N | 001N | 001N |\n",
       "| 4 | CVRDYGDYMNWFESW        | IGHV3-49 | IGHJ5 | IGHA1 | N | 001N | 001N |\n",
       "| 5 | CAKDRDYGDYRSAFFDSW     | IGHV3-30 | IGHJ4 | IGHA1 | N | 001N | 001N |\n",
       "| 6 | CARDRHYSSDIYYEYYFAMDVW | IGHV3-33 | IGHJ4 | IGHG1 | N | 001N | 001N |\n",
       "\n"
      ],
      "text/plain": [
       "  CDR3aa                 V        J     C     type baibu-id ID  \n",
       "1 CARGVVSGTYGIDSW        IGHV3-11 IGHJ4 IGHA1 N    001N     001N\n",
       "2 CTKDPRVATVNVRFDPW      IGHV3-23 IGHJ5 IGHA2 N    001N     001N\n",
       "3 CARDLTATTSRGDYYYYGMDVW IGHV4-59 IGHJ6 IGHA1 N    001N     001N\n",
       "4 CVRDYGDYMNWFESW        IGHV3-49 IGHJ5 IGHA1 N    001N     001N\n",
       "5 CAKDRDYGDYRSAFFDSW     IGHV3-30 IGHJ4 IGHA1 N    001N     001N\n",
       "6 CARDRHYSSDIYYEYYFAMDVW IGHV3-33 IGHJ4 IGHG1 N    001N     001N"
      ]
     },
     "metadata": {},
     "output_type": "display_data"
    }
   ],
   "source": [
    "#VJ alleles - by sample ID\n",
    "baidu_cdr3_VJ_ID<-Trust_cdr3_baidu_merged_diversity[,c('CDR3aa','V','J','C','type','baibu-id')]\n",
    "\n",
    "#已经去掉了allele\n",
    "#baidu_cdr3_VJ_ID$V<-str_extract(baidu_cdr3_VJ_ID$V,pattern = \".*(?=\\\\*)\")\n",
    "#baidu_cdr3_VJ_ID$J<-str_extract(baidu_cdr3_VJ_ID$J,pattern = \".*(?=\\\\*)\")\n",
    "\n",
    "baidu_cdr3_VJ_ID$ID<-baidu_cdr3_VJ_ID$`baibu-id`\n",
    "head(baidu_cdr3_VJ_ID)"
   ]
  },
  {
   "attachments": {},
   "cell_type": "markdown",
   "metadata": {},
   "source": [
    "### 只用BD大于1/1000的VJ"
   ]
  },
  {
   "cell_type": "code",
   "execution_count": 7,
   "metadata": {
    "vscode": {
     "languageId": "r"
    }
   },
   "outputs": [],
   "source": [
    "\n",
    "IGHV_genes<-Trust_cdr3_baidu_merged_diversity$V %>% table() %>% prop.table()\n",
    "high_freq_IGHVs_MR<-names(IGHV_genes)[IGHV_genes>0.01][-1] #select 0.1%+ V genes\n",
    "\n",
    "IGHJ_genes<-Trust_cdr3_baidu_merged_diversity$J %>% table() %>% prop.table()\n",
    "#high_freq_IGHJs_MR<-names(IGHJ_genes)[IGHJ_genes>0.001][-1] #select 0.1%+ J genes\n",
    "\n",
    "baidu_cdr3_VJ_ID$V[!baidu_cdr3_VJ_ID$V %in% high_freq_IGHVs_MR]<-\"Others\"\n",
    "#baidu_cdr3_VJ_ID$J[!baidu_cdr3_VJ_ID$J %in% high_freq_IGHJs_MR]<-\"Others\"\n"
   ]
  },
  {
   "attachments": {},
   "cell_type": "markdown",
   "metadata": {},
   "source": [
    "## Fig2B"
   ]
  },
  {
   "attachments": {},
   "cell_type": "markdown",
   "metadata": {},
   "source": [
    "### BD V gene"
   ]
  },
  {
   "cell_type": "code",
   "execution_count": 8,
   "metadata": {
    "vscode": {
     "languageId": "r"
    }
   },
   "outputs": [
    {
     "name": "stderr",
     "output_type": "stream",
     "text": [
      "\n",
      "载入程辑包：'rstatix'\n",
      "\n",
      "\n",
      "The following objects are masked from 'package:plyr':\n",
      "\n",
      "    desc, mutate\n",
      "\n",
      "\n",
      "The following object is masked from 'package:stats':\n",
      "\n",
      "    filter\n",
      "\n",
      "\n"
     ]
    },
    {
     "data": {
      "text/html": [
       "<table class=\"dataframe\">\n",
       "<caption>A rstatix_test: 6 × 15</caption>\n",
       "<thead>\n",
       "\t<tr><th scope=col>V_Genes</th><th scope=col>.y.</th><th scope=col>group1</th><th scope=col>group2</th><th scope=col>n1</th><th scope=col>n2</th><th scope=col>statistic</th><th scope=col>p</th><th scope=col>p.adj</th><th scope=col>p.adj.signif</th><th scope=col>y.position</th><th scope=col>groups</th><th scope=col>x</th><th scope=col>xmin</th><th scope=col>xmax</th></tr>\n",
       "\t<tr><th scope=col>&lt;fct&gt;</th><th scope=col>&lt;chr&gt;</th><th scope=col>&lt;chr&gt;</th><th scope=col>&lt;chr&gt;</th><th scope=col>&lt;int&gt;</th><th scope=col>&lt;int&gt;</th><th scope=col>&lt;dbl&gt;</th><th scope=col>&lt;dbl&gt;</th><th scope=col>&lt;dbl&gt;</th><th scope=col>&lt;chr&gt;</th><th scope=col>&lt;dbl&gt;</th><th scope=col>&lt;named list&gt;</th><th scope=col>&lt;dbl&gt;</th><th scope=col>&lt;dbl&gt;</th><th scope=col>&lt;dbl&gt;</th></tr>\n",
       "</thead>\n",
       "<tbody>\n",
       "\t<tr><td>IGHV1-2 </td><td>Frequency</td><td>T</td><td>N</td><td>155</td><td>155</td><td>13001.0</td><td>2.10e-01</td><td>1.000e+00</td><td>ns  </td><td>0.1794</td><td>T, N</td><td>1</td><td>0.8</td><td>1.2</td></tr>\n",
       "\t<tr><td>IGHV1-3 </td><td>Frequency</td><td>T</td><td>N</td><td>155</td><td>155</td><td>13772.5</td><td>2.57e-02</td><td>7.453e-01</td><td>ns  </td><td>0.1654</td><td>T, N</td><td>2</td><td>1.8</td><td>2.2</td></tr>\n",
       "\t<tr><td>IGHV1-46</td><td>Frequency</td><td>T</td><td>N</td><td>155</td><td>155</td><td>13407.5</td><td>7.72e-02</td><td>1.000e+00</td><td>ns  </td><td>0.2224</td><td>T, N</td><td>3</td><td>2.8</td><td>3.2</td></tr>\n",
       "\t<tr><td>IGHV1-69</td><td>Frequency</td><td>T</td><td>N</td><td>155</td><td>155</td><td>17031.0</td><td>2.03e-10</td><td>5.887e-09</td><td>****</td><td>0.2394</td><td>T, N</td><td>4</td><td>3.8</td><td>4.2</td></tr>\n",
       "\t<tr><td>IGHV1-8 </td><td>Frequency</td><td>T</td><td>N</td><td>155</td><td>155</td><td>12857.0</td><td>2.85e-01</td><td>1.000e+00</td><td>ns  </td><td>0.2734</td><td>T, N</td><td>5</td><td>4.8</td><td>5.2</td></tr>\n",
       "\t<tr><td>IGHV2-5 </td><td>Frequency</td><td>T</td><td>N</td><td>155</td><td>155</td><td>11579.0</td><td>5.83e-01</td><td>1.000e+00</td><td>ns  </td><td>0.1464</td><td>T, N</td><td>6</td><td>5.8</td><td>6.2</td></tr>\n",
       "</tbody>\n",
       "</table>\n"
      ],
      "text/latex": [
       "A rstatix\\_test: 6 × 15\n",
       "\\begin{tabular}{lllllllllllllll}\n",
       " V\\_Genes & .y. & group1 & group2 & n1 & n2 & statistic & p & p.adj & p.adj.signif & y.position & groups & x & xmin & xmax\\\\\n",
       " <fct> & <chr> & <chr> & <chr> & <int> & <int> & <dbl> & <dbl> & <dbl> & <chr> & <dbl> & <named list> & <dbl> & <dbl> & <dbl>\\\\\n",
       "\\hline\n",
       "\t IGHV1-2  & Frequency & T & N & 155 & 155 & 13001.0 & 2.10e-01 & 1.000e+00 & ns   & 0.1794 & T, N & 1 & 0.8 & 1.2\\\\\n",
       "\t IGHV1-3  & Frequency & T & N & 155 & 155 & 13772.5 & 2.57e-02 & 7.453e-01 & ns   & 0.1654 & T, N & 2 & 1.8 & 2.2\\\\\n",
       "\t IGHV1-46 & Frequency & T & N & 155 & 155 & 13407.5 & 7.72e-02 & 1.000e+00 & ns   & 0.2224 & T, N & 3 & 2.8 & 3.2\\\\\n",
       "\t IGHV1-69 & Frequency & T & N & 155 & 155 & 17031.0 & 2.03e-10 & 5.887e-09 & **** & 0.2394 & T, N & 4 & 3.8 & 4.2\\\\\n",
       "\t IGHV1-8  & Frequency & T & N & 155 & 155 & 12857.0 & 2.85e-01 & 1.000e+00 & ns   & 0.2734 & T, N & 5 & 4.8 & 5.2\\\\\n",
       "\t IGHV2-5  & Frequency & T & N & 155 & 155 & 11579.0 & 5.83e-01 & 1.000e+00 & ns   & 0.1464 & T, N & 6 & 5.8 & 6.2\\\\\n",
       "\\end{tabular}\n"
      ],
      "text/markdown": [
       "\n",
       "A rstatix_test: 6 × 15\n",
       "\n",
       "| V_Genes &lt;fct&gt; | .y. &lt;chr&gt; | group1 &lt;chr&gt; | group2 &lt;chr&gt; | n1 &lt;int&gt; | n2 &lt;int&gt; | statistic &lt;dbl&gt; | p &lt;dbl&gt; | p.adj &lt;dbl&gt; | p.adj.signif &lt;chr&gt; | y.position &lt;dbl&gt; | groups &lt;named list&gt; | x &lt;dbl&gt; | xmin &lt;dbl&gt; | xmax &lt;dbl&gt; |\n",
       "|---|---|---|---|---|---|---|---|---|---|---|---|---|---|---|\n",
       "| IGHV1-2  | Frequency | T | N | 155 | 155 | 13001.0 | 2.10e-01 | 1.000e+00 | ns   | 0.1794 | T, N | 1 | 0.8 | 1.2 |\n",
       "| IGHV1-3  | Frequency | T | N | 155 | 155 | 13772.5 | 2.57e-02 | 7.453e-01 | ns   | 0.1654 | T, N | 2 | 1.8 | 2.2 |\n",
       "| IGHV1-46 | Frequency | T | N | 155 | 155 | 13407.5 | 7.72e-02 | 1.000e+00 | ns   | 0.2224 | T, N | 3 | 2.8 | 3.2 |\n",
       "| IGHV1-69 | Frequency | T | N | 155 | 155 | 17031.0 | 2.03e-10 | 5.887e-09 | **** | 0.2394 | T, N | 4 | 3.8 | 4.2 |\n",
       "| IGHV1-8  | Frequency | T | N | 155 | 155 | 12857.0 | 2.85e-01 | 1.000e+00 | ns   | 0.2734 | T, N | 5 | 4.8 | 5.2 |\n",
       "| IGHV2-5  | Frequency | T | N | 155 | 155 | 11579.0 | 5.83e-01 | 1.000e+00 | ns   | 0.1464 | T, N | 6 | 5.8 | 6.2 |\n",
       "\n"
      ],
      "text/plain": [
       "  V_Genes  .y.       group1 group2 n1  n2  statistic p        p.adj    \n",
       "1 IGHV1-2  Frequency T      N      155 155 13001.0   2.10e-01 1.000e+00\n",
       "2 IGHV1-3  Frequency T      N      155 155 13772.5   2.57e-02 7.453e-01\n",
       "3 IGHV1-46 Frequency T      N      155 155 13407.5   7.72e-02 1.000e+00\n",
       "4 IGHV1-69 Frequency T      N      155 155 17031.0   2.03e-10 5.887e-09\n",
       "5 IGHV1-8  Frequency T      N      155 155 12857.0   2.85e-01 1.000e+00\n",
       "6 IGHV2-5  Frequency T      N      155 155 11579.0   5.83e-01 1.000e+00\n",
       "  p.adj.signif y.position groups x xmin xmax\n",
       "1 ns           0.1794     T, N   1 0.8  1.2 \n",
       "2 ns           0.1654     T, N   2 1.8  2.2 \n",
       "3 ns           0.2224     T, N   3 2.8  3.2 \n",
       "4 ****         0.2394     T, N   4 3.8  4.2 \n",
       "5 ns           0.2734     T, N   5 4.8  5.2 \n",
       "6 ns           0.1464     T, N   6 5.8  6.2 "
      ]
     },
     "metadata": {},
     "output_type": "display_data"
    }
   ],
   "source": [
    "library(ggpubr)\n",
    "library(rstatix)\n",
    "library(reshape2)\n",
    "\n",
    "#IGH_Roe_mat<-table(multi_region_cdr3_VJ_type$V,multi_region_cdr3_VJ_type$type) #count  Reo\n",
    "IGH_Roe_mat<-prop.table(table(baidu_cdr3_VJ_ID$V,baidu_cdr3_VJ_ID$ID),margin=2)#frequency to calc Reo\n",
    "\n",
    "#IGH_Roe_mat<-IGH_Roe_mat[high_freq_IGHVs,]\n",
    "#dim(IGH_Roe_mat)\n",
    "## 各病人的V基因使用箱型图\n",
    "\n",
    "IGH_Roe_mat_long<-melt(IGH_Roe_mat,value.name=\"Frequency\")\n",
    "colnames(IGH_Roe_mat_long)<-c(\"V_Genes\",\"ID\",\"Frequency\")\n",
    "\n",
    "IGH_Roe_mat_long$type<-str_sub(IGH_Roe_mat_long$ID,4,4)\n",
    "\n",
    "IGH_Roe_mat_long$type<-factor(IGH_Roe_mat_long$type, levels = c(\"T\",\"N\"))\n",
    "\n",
    "#增加P值，参考：https://www.datanovia.com/en/blog/how-to-add-p-values-onto-a-grouped-ggplot-using-the-ggpubr-r-package/\n",
    "stat.test <- IGH_Roe_mat_long[,-2] %>%\n",
    "  group_by(V_Genes) %>%\n",
    "  wilcox_test(Frequency ~ type) %>%\n",
    "  #adjust_pvalue(method = \"BH\") %>%\n",
    "  adjust_pvalue(method = \"bonferroni\") %>%\n",
    "  add_significance(\"p.adj\")\n",
    "\n",
    "stat.test <- stat.test %>%\n",
    "  add_xy_position(x = \"V_Genes\", dodge = 0.8)\n",
    "\n",
    "head(stat.test)\n",
    "\n"
   ]
  },
  {
   "cell_type": "code",
   "execution_count": 11,
   "metadata": {
    "vscode": {
     "languageId": "r"
    }
   },
   "outputs": [
    {
     "data": {
      "text/html": [
       "<table class=\"dataframe\">\n",
       "<caption>A data.frame: 3 × 4</caption>\n",
       "<thead>\n",
       "\t<tr><th></th><th scope=col>V_Genes</th><th scope=col>ID</th><th scope=col>Frequency</th><th scope=col>type</th></tr>\n",
       "\t<tr><th></th><th scope=col>&lt;fct&gt;</th><th scope=col>&lt;fct&gt;</th><th scope=col>&lt;dbl&gt;</th><th scope=col>&lt;fct&gt;</th></tr>\n",
       "</thead>\n",
       "<tbody>\n",
       "\t<tr><th scope=row>1</th><td>IGHV1-2 </td><td>001N</td><td>0.000000000</td><td>N</td></tr>\n",
       "\t<tr><th scope=row>2</th><td>IGHV1-3 </td><td>001N</td><td>0.008403361</td><td>N</td></tr>\n",
       "\t<tr><th scope=row>3</th><td>IGHV1-46</td><td>001N</td><td>0.025210084</td><td>N</td></tr>\n",
       "</tbody>\n",
       "</table>\n"
      ],
      "text/latex": [
       "A data.frame: 3 × 4\n",
       "\\begin{tabular}{r|llll}\n",
       "  & V\\_Genes & ID & Frequency & type\\\\\n",
       "  & <fct> & <fct> & <dbl> & <fct>\\\\\n",
       "\\hline\n",
       "\t1 & IGHV1-2  & 001N & 0.000000000 & N\\\\\n",
       "\t2 & IGHV1-3  & 001N & 0.008403361 & N\\\\\n",
       "\t3 & IGHV1-46 & 001N & 0.025210084 & N\\\\\n",
       "\\end{tabular}\n"
      ],
      "text/markdown": [
       "\n",
       "A data.frame: 3 × 4\n",
       "\n",
       "| <!--/--> | V_Genes &lt;fct&gt; | ID &lt;fct&gt; | Frequency &lt;dbl&gt; | type &lt;fct&gt; |\n",
       "|---|---|---|---|---|\n",
       "| 1 | IGHV1-2  | 001N | 0.000000000 | N |\n",
       "| 2 | IGHV1-3  | 001N | 0.008403361 | N |\n",
       "| 3 | IGHV1-46 | 001N | 0.025210084 | N |\n",
       "\n"
      ],
      "text/plain": [
       "  V_Genes  ID   Frequency   type\n",
       "1 IGHV1-2  001N 0.000000000 N   \n",
       "2 IGHV1-3  001N 0.008403361 N   \n",
       "3 IGHV1-46 001N 0.025210084 N   "
      ]
     },
     "metadata": {},
     "output_type": "display_data"
    }
   ],
   "source": [
    "IGH_Roe_mat_long[1:3,]\n",
    "\n",
    "write.csv(IGH_Roe_mat_long,\"Fig2B.csv\",row.names=FALSE,quote=FALSE)"
   ]
  },
  {
   "cell_type": "code",
   "execution_count": 9,
   "metadata": {
    "vscode": {
     "languageId": "r"
    }
   },
   "outputs": [
    {
     "name": "stderr",
     "output_type": "stream",
     "text": [
      "Warning message:\n",
      "\"\u001b[1m\u001b[22mThe `size` argument of `element_rect()` is deprecated as of ggplot2 3.4.0.\n",
      "\u001b[36mi\u001b[39m Please use the `linewidth` argument instead.\"\n"
     ]
    },
    {
     "data": {
      "image/png": "[encoded data removed]",
      "text/plain": [
       "plot without title"
      ]
     },
     "metadata": {
      "image/png": {
       "height": 360,
       "width": 900
      }
     },
     "output_type": "display_data"
    }
   ],
   "source": [
    "options(repr.plot.width = 15, repr.plot.height = 6)\n",
    "\n",
    "g_v<-ggplot(IGH_Roe_mat_long,aes(x=V_Genes,y=Frequency,col=type))+\n",
    "    geom_boxplot(outlier.size = .1)+\n",
    "        #geom_signif(comparisons = list(c(\"T\", \"N\")),\n",
    "        #      map_signif_level=T,\n",
    "        #      textsize=5,test=wilcox.test,step_increase=0.1,vjust=1.5,tip_length=0.02) +\n",
    "    theme_classic()+\n",
    "    #labs(x='CDR3 Length',y='Proportion')+\n",
    "    scale_color_manual(values=mypal)+\n",
    "    theme(panel.border = element_rect(fill=NA,color=\"black\",size=0.5,linetype=\"solid\"))+\n",
    "    theme(axis.text.x=element_text(angle=90,hjust=1,vjust=.5))+\n",
    "    theme(axis.text=element_text(size=12))+\n",
    "    ylim(0,0.4)+\n",
    "    stat_pvalue_manual( stat.test,  label = \"p.adj.signif\", hide.ns = TRUE,tip.length = 0 )\n",
    "\n",
    "g_v"
   ]
  },
  {
   "attachments": {},
   "cell_type": "markdown",
   "metadata": {},
   "source": [
    "## Fig2D"
   ]
  },
  {
   "attachments": {},
   "cell_type": "markdown",
   "metadata": {},
   "source": [
    "### BD J gene"
   ]
  },
  {
   "cell_type": "code",
   "execution_count": 12,
   "metadata": {
    "vscode": {
     "languageId": "r"
    }
   },
   "outputs": [
    {
     "data": {
      "text/html": [
       "<table class=\"dataframe\">\n",
       "<caption>A rstatix_test: 6 × 15</caption>\n",
       "<thead>\n",
       "\t<tr><th scope=col>J_Genes</th><th scope=col>.y.</th><th scope=col>group1</th><th scope=col>group2</th><th scope=col>n1</th><th scope=col>n2</th><th scope=col>statistic</th><th scope=col>p</th><th scope=col>p.adj</th><th scope=col>p.adj.signif</th><th scope=col>y.position</th><th scope=col>groups</th><th scope=col>x</th><th scope=col>xmin</th><th scope=col>xmax</th></tr>\n",
       "\t<tr><th scope=col>&lt;fct&gt;</th><th scope=col>&lt;chr&gt;</th><th scope=col>&lt;chr&gt;</th><th scope=col>&lt;chr&gt;</th><th scope=col>&lt;int&gt;</th><th scope=col>&lt;int&gt;</th><th scope=col>&lt;dbl&gt;</th><th scope=col>&lt;dbl&gt;</th><th scope=col>&lt;dbl&gt;</th><th scope=col>&lt;chr&gt;</th><th scope=col>&lt;dbl&gt;</th><th scope=col>&lt;named list&gt;</th><th scope=col>&lt;dbl&gt;</th><th scope=col>&lt;dbl&gt;</th><th scope=col>&lt;dbl&gt;</th></tr>\n",
       "</thead>\n",
       "<tbody>\n",
       "\t<tr><td>IGHJ1</td><td>Frequency</td><td>T</td><td>N</td><td>155</td><td>155</td><td>11645.0</td><td>6.42e-01</td><td>1.000e+00</td><td>ns  </td><td>0.17932</td><td>T, N</td><td>1</td><td>0.8</td><td>1.2</td></tr>\n",
       "\t<tr><td>IGHJ2</td><td>Frequency</td><td>T</td><td>N</td><td>155</td><td>155</td><td> 9858.0</td><td>6.34e-03</td><td>3.804e-02</td><td>*   </td><td>0.17932</td><td>T, N</td><td>2</td><td>1.8</td><td>2.2</td></tr>\n",
       "\t<tr><td>IGHJ3</td><td>Frequency</td><td>T</td><td>N</td><td>155</td><td>155</td><td>11762.0</td><td>7.51e-01</td><td>1.000e+00</td><td>ns  </td><td>0.33832</td><td>T, N</td><td>3</td><td>2.8</td><td>3.2</td></tr>\n",
       "\t<tr><td>IGHJ4</td><td>Frequency</td><td>T</td><td>N</td><td>155</td><td>155</td><td> 8980.5</td><td>1.22e-04</td><td>7.320e-04</td><td>*** </td><td>0.87032</td><td>T, N</td><td>4</td><td>3.8</td><td>4.2</td></tr>\n",
       "\t<tr><td>IGHJ5</td><td>Frequency</td><td>T</td><td>N</td><td>155</td><td>155</td><td> 9171.5</td><td>3.19e-04</td><td>1.914e-03</td><td>**  </td><td>0.34832</td><td>T, N</td><td>5</td><td>4.8</td><td>5.2</td></tr>\n",
       "\t<tr><td>IGHJ6</td><td>Frequency</td><td>T</td><td>N</td><td>155</td><td>155</td><td>16863.0</td><td>7.93e-10</td><td>4.758e-09</td><td>****</td><td>0.50332</td><td>T, N</td><td>6</td><td>5.8</td><td>6.2</td></tr>\n",
       "</tbody>\n",
       "</table>\n"
      ],
      "text/latex": [
       "A rstatix\\_test: 6 × 15\n",
       "\\begin{tabular}{lllllllllllllll}\n",
       " J\\_Genes & .y. & group1 & group2 & n1 & n2 & statistic & p & p.adj & p.adj.signif & y.position & groups & x & xmin & xmax\\\\\n",
       " <fct> & <chr> & <chr> & <chr> & <int> & <int> & <dbl> & <dbl> & <dbl> & <chr> & <dbl> & <named list> & <dbl> & <dbl> & <dbl>\\\\\n",
       "\\hline\n",
       "\t IGHJ1 & Frequency & T & N & 155 & 155 & 11645.0 & 6.42e-01 & 1.000e+00 & ns   & 0.17932 & T, N & 1 & 0.8 & 1.2\\\\\n",
       "\t IGHJ2 & Frequency & T & N & 155 & 155 &  9858.0 & 6.34e-03 & 3.804e-02 & *    & 0.17932 & T, N & 2 & 1.8 & 2.2\\\\\n",
       "\t IGHJ3 & Frequency & T & N & 155 & 155 & 11762.0 & 7.51e-01 & 1.000e+00 & ns   & 0.33832 & T, N & 3 & 2.8 & 3.2\\\\\n",
       "\t IGHJ4 & Frequency & T & N & 155 & 155 &  8980.5 & 1.22e-04 & 7.320e-04 & ***  & 0.87032 & T, N & 4 & 3.8 & 4.2\\\\\n",
       "\t IGHJ5 & Frequency & T & N & 155 & 155 &  9171.5 & 3.19e-04 & 1.914e-03 & **   & 0.34832 & T, N & 5 & 4.8 & 5.2\\\\\n",
       "\t IGHJ6 & Frequency & T & N & 155 & 155 & 16863.0 & 7.93e-10 & 4.758e-09 & **** & 0.50332 & T, N & 6 & 5.8 & 6.2\\\\\n",
       "\\end{tabular}\n"
      ],
      "text/markdown": [
       "\n",
       "A rstatix_test: 6 × 15\n",
       "\n",
       "| J_Genes &lt;fct&gt; | .y. &lt;chr&gt; | group1 &lt;chr&gt; | group2 &lt;chr&gt; | n1 &lt;int&gt; | n2 &lt;int&gt; | statistic &lt;dbl&gt; | p &lt;dbl&gt; | p.adj &lt;dbl&gt; | p.adj.signif &lt;chr&gt; | y.position &lt;dbl&gt; | groups &lt;named list&gt; | x &lt;dbl&gt; | xmin &lt;dbl&gt; | xmax &lt;dbl&gt; |\n",
       "|---|---|---|---|---|---|---|---|---|---|---|---|---|---|---|\n",
       "| IGHJ1 | Frequency | T | N | 155 | 155 | 11645.0 | 6.42e-01 | 1.000e+00 | ns   | 0.17932 | T, N | 1 | 0.8 | 1.2 |\n",
       "| IGHJ2 | Frequency | T | N | 155 | 155 |  9858.0 | 6.34e-03 | 3.804e-02 | *    | 0.17932 | T, N | 2 | 1.8 | 2.2 |\n",
       "| IGHJ3 | Frequency | T | N | 155 | 155 | 11762.0 | 7.51e-01 | 1.000e+00 | ns   | 0.33832 | T, N | 3 | 2.8 | 3.2 |\n",
       "| IGHJ4 | Frequency | T | N | 155 | 155 |  8980.5 | 1.22e-04 | 7.320e-04 | ***  | 0.87032 | T, N | 4 | 3.8 | 4.2 |\n",
       "| IGHJ5 | Frequency | T | N | 155 | 155 |  9171.5 | 3.19e-04 | 1.914e-03 | **   | 0.34832 | T, N | 5 | 4.8 | 5.2 |\n",
       "| IGHJ6 | Frequency | T | N | 155 | 155 | 16863.0 | 7.93e-10 | 4.758e-09 | **** | 0.50332 | T, N | 6 | 5.8 | 6.2 |\n",
       "\n"
      ],
      "text/plain": [
       "  J_Genes .y.       group1 group2 n1  n2  statistic p        p.adj    \n",
       "1 IGHJ1   Frequency T      N      155 155 11645.0   6.42e-01 1.000e+00\n",
       "2 IGHJ2   Frequency T      N      155 155  9858.0   6.34e-03 3.804e-02\n",
       "3 IGHJ3   Frequency T      N      155 155 11762.0   7.51e-01 1.000e+00\n",
       "4 IGHJ4   Frequency T      N      155 155  8980.5   1.22e-04 7.320e-04\n",
       "5 IGHJ5   Frequency T      N      155 155  9171.5   3.19e-04 1.914e-03\n",
       "6 IGHJ6   Frequency T      N      155 155 16863.0   7.93e-10 4.758e-09\n",
       "  p.adj.signif y.position groups x xmin xmax\n",
       "1 ns           0.17932    T, N   1 0.8  1.2 \n",
       "2 *            0.17932    T, N   2 1.8  2.2 \n",
       "3 ns           0.33832    T, N   3 2.8  3.2 \n",
       "4 ***          0.87032    T, N   4 3.8  4.2 \n",
       "5 **           0.34832    T, N   5 4.8  5.2 \n",
       "6 ****         0.50332    T, N   6 5.8  6.2 "
      ]
     },
     "metadata": {},
     "output_type": "display_data"
    },
    {
     "name": "stderr",
     "output_type": "stream",
     "text": [
      "Warning message:\n",
      "\"\u001b[1m\u001b[22mThe `size` argument of `element_rect()` is deprecated as of ggplot2 3.4.0.\n",
      "\u001b[36mi\u001b[39m Please use the `linewidth` argument instead.\"\n"
     ]
    }
   ],
   "source": [
    "\n",
    "#IGH_Roe_mat<-table(multi_region_cdr3_VJ_type$V,multi_region_cdr3_VJ_type$type) #count  Reo\n",
    "IGH_Roe_mat<-prop.table(table(baidu_cdr3_VJ_ID$J,baidu_cdr3_VJ_ID$ID),margin=2)#frequency to calc Reo\n",
    "\n",
    "#IGH_Roe_mat<-IGH_Roe_mat[high_freq_IGHVs,]\n",
    "#dim(IGH_Roe_mat)\n",
    "## 各病人的V基因使用箱型图\n",
    "\n",
    "IGH_Roe_mat_long<-melt(IGH_Roe_mat,value.name=\"Frequency\")\n",
    "colnames(IGH_Roe_mat_long)<-c(\"J_Genes\",\"ID\",\"Frequency\")\n",
    "\n",
    "IGH_Roe_mat_long$type<-str_sub(IGH_Roe_mat_long$ID,4,4)\n",
    "\n",
    "IGH_Roe_mat_long$type<-factor(IGH_Roe_mat_long$type, levels = c(\"T\",\"N\"))\n",
    "\n",
    "#增加P值，参考：https://www.datanovia.com/en/blog/how-to-add-p-values-onto-a-grouped-ggplot-using-the-ggpubr-r-package/\n",
    "stat.test <- IGH_Roe_mat_long[,-2] %>%\n",
    "  group_by(J_Genes) %>%\n",
    "  wilcox_test(Frequency ~ type) %>%\n",
    "  #adjust_pvalue(method = \"BH\") %>%\n",
    "  adjust_pvalue(method = \"bonferroni\") %>%\n",
    "  add_significance(\"p.adj\")\n",
    "\n",
    "stat.test <- stat.test %>%\n",
    "  add_xy_position(x = \"J_Genes\", dodge = 0.8)\n",
    "\n",
    "head(stat.test)\n",
    "\n",
    "options(repr.plot.width = 3.5, repr.plot.height = 4)\n",
    "g_j<-ggplot(IGH_Roe_mat_long,aes(x=J_Genes,y=Frequency,col=type))+\n",
    "    geom_boxplot(width=0.3,outlier.size = .1)+\n",
    "        #geom_signif(comparisons = list(c(\"T\", \"N\")),\n",
    "        #      map_signif_level=T,\n",
    "        #      textsize=5,test=wilcox.test,step_increase=0.1,vjust=1.5,tip_length=0.02) +\n",
    "    theme_classic()+\n",
    "    #labs(x='CDR3 Length',y='Proportion')+\n",
    "    scale_color_manual(values=mypal)+\n",
    "    theme(panel.border = element_rect(fill=NA,color=\"black\",size=0.5,linetype=\"solid\"))+\n",
    "    theme(axis.text.x=element_text(angle=90,hjust=1,vjust=.5))+\n",
    "    theme(axis.text=element_text(size=12))+\n",
    "    ylim(0,1)+\n",
    "    stat_pvalue_manual( stat.test,  label = \"p.adj.signif\", hide.ns = TRUE,tip.length = 0 )\n"
   ]
  },
  {
   "cell_type": "code",
   "execution_count": 13,
   "metadata": {
    "vscode": {
     "languageId": "r"
    }
   },
   "outputs": [
    {
     "data": {
      "text/html": [
       "<table class=\"dataframe\">\n",
       "<caption>A data.frame: 3 × 4</caption>\n",
       "<thead>\n",
       "\t<tr><th></th><th scope=col>J_Genes</th><th scope=col>ID</th><th scope=col>Frequency</th><th scope=col>type</th></tr>\n",
       "\t<tr><th></th><th scope=col>&lt;fct&gt;</th><th scope=col>&lt;fct&gt;</th><th scope=col>&lt;dbl&gt;</th><th scope=col>&lt;fct&gt;</th></tr>\n",
       "</thead>\n",
       "<tbody>\n",
       "\t<tr><th scope=row>1</th><td>IGHJ1</td><td>001N</td><td>0.00000000</td><td>N</td></tr>\n",
       "\t<tr><th scope=row>2</th><td>IGHJ2</td><td>001N</td><td>0.01680672</td><td>N</td></tr>\n",
       "\t<tr><th scope=row>3</th><td>IGHJ3</td><td>001N</td><td>0.09243697</td><td>N</td></tr>\n",
       "</tbody>\n",
       "</table>\n"
      ],
      "text/latex": [
       "A data.frame: 3 × 4\n",
       "\\begin{tabular}{r|llll}\n",
       "  & J\\_Genes & ID & Frequency & type\\\\\n",
       "  & <fct> & <fct> & <dbl> & <fct>\\\\\n",
       "\\hline\n",
       "\t1 & IGHJ1 & 001N & 0.00000000 & N\\\\\n",
       "\t2 & IGHJ2 & 001N & 0.01680672 & N\\\\\n",
       "\t3 & IGHJ3 & 001N & 0.09243697 & N\\\\\n",
       "\\end{tabular}\n"
      ],
      "text/markdown": [
       "\n",
       "A data.frame: 3 × 4\n",
       "\n",
       "| <!--/--> | J_Genes &lt;fct&gt; | ID &lt;fct&gt; | Frequency &lt;dbl&gt; | type &lt;fct&gt; |\n",
       "|---|---|---|---|---|\n",
       "| 1 | IGHJ1 | 001N | 0.00000000 | N |\n",
       "| 2 | IGHJ2 | 001N | 0.01680672 | N |\n",
       "| 3 | IGHJ3 | 001N | 0.09243697 | N |\n",
       "\n"
      ],
      "text/plain": [
       "  J_Genes ID   Frequency  type\n",
       "1 IGHJ1   001N 0.00000000 N   \n",
       "2 IGHJ2   001N 0.01680672 N   \n",
       "3 IGHJ3   001N 0.09243697 N   "
      ]
     },
     "metadata": {},
     "output_type": "display_data"
    }
   ],
   "source": [
    "IGH_Roe_mat_long[1:3,]"
   ]
  },
  {
   "cell_type": "code",
   "execution_count": 14,
   "metadata": {
    "vscode": {
     "languageId": "r"
    }
   },
   "outputs": [],
   "source": [
    "write.csv(IGH_Roe_mat_long,\"Fig2D.csv\",row.names=FALSE,quote=FALSE)"
   ]
  },
  {
   "cell_type": "code",
   "execution_count": 11,
   "metadata": {
    "vscode": {
     "languageId": "r"
    }
   },
   "outputs": [
    {
     "data": {
      "text/html": [
       "<strong>null device:</strong> 1"
      ],
      "text/latex": [
       "\\textbf{null device:} 1"
      ],
      "text/markdown": [
       "**null device:** 1"
      ],
      "text/plain": [
       "null device \n",
       "          1 "
      ]
     },
     "metadata": {},
     "output_type": "display_data"
    },
    {
     "data": {
      "image/png": "[encoded data removed]",
      "text/plain": [
       "plot without title"
      ]
     },
     "metadata": {
      "image/png": {
       "height": 360,
       "width": 480
      }
     },
     "output_type": "display_data"
    }
   ],
   "source": [
    "options(repr.plot.width = 8, repr.plot.height = 6)\n",
    "#pdf(\"Fig2.Baidu.V_gene_usage_boxplot.pdf\",8,6)\n",
    "g_v+g_j+plot_layout(nrow=2)\n",
    "dev.off()"
   ]
  },
  {
   "attachments": {},
   "cell_type": "markdown",
   "metadata": {},
   "source": [
    "# 二、 MR的VJ分析"
   ]
  },
  {
   "attachments": {},
   "cell_type": "markdown",
   "metadata": {},
   "source": [
    "#### select the high freq V J genes in both cohort\n",
    "## MR V/J 基因使用分析及p值检验"
   ]
  },
  {
   "attachments": {},
   "cell_type": "markdown",
   "metadata": {},
   "source": [
    "使用BD和MR都大于1/1000的VJ"
   ]
  },
  {
   "cell_type": "code",
   "execution_count": 15,
   "metadata": {
    "vscode": {
     "languageId": "r"
    }
   },
   "outputs": [
    {
     "ename": "ERROR",
     "evalue": "Error in baidu_cdr3_VJ_type$V[!baidu_cdr3_VJ_type$V %in% high_freq_IGHVs] <- \"Others\": 找不到对象'baidu_cdr3_VJ_type'\n",
     "output_type": "error",
     "traceback": [
      "Error in baidu_cdr3_VJ_type$V[!baidu_cdr3_VJ_type$V %in% high_freq_IGHVs] <- \"Others\": 找不到对象'baidu_cdr3_VJ_type'\nTraceback:\n"
     ]
    }
   ],
   "source": [
    "IGHV_genes<-str_replace(meta_multi_region_merged_diversity$V, pattern='\\\\*\\\\d\\\\d',replacement=\"\") %>% table() %>% prop.table()\n",
    "high_freq_IGHVs_MR<-names(IGHV_genes)[IGHV_genes>0.001][-1] #select 1%+ V genes\n",
    "\n",
    "\n",
    "IGHV_genes<-str_replace(Trust_cdr3_baidu_merged_diversity$V, pattern='\\\\*\\\\d\\\\d',replacement=\"\") %>% table() %>% prop.table()\n",
    "high_freq_IGHVs_BD<-names(IGHV_genes)[IGHV_genes>0.001][-1] #select 1%+ V genes\n",
    "\n",
    "high_freq_IGHVs<-intersect(high_freq_IGHVs_MR,high_freq_IGHVs_BD)\n",
    "IGHJ_genes<-str_replace(meta_multi_region_merged_diversity$J, pattern='\\\\*\\\\d\\\\d',replacement=\"\") %>% table() %>% prop.table()\n",
    "high_freq_IGHJs<-names(IGHJ_genes)[IGHJ_genes>0.001][-1] #select 1%+ V genes\n",
    "baidu_cdr3_VJ_type$V[!baidu_cdr3_VJ_type$V %in% high_freq_IGHVs]<-\"Others\"\n",
    "multi_region_cdr3_VJ_type$V[!multi_region_cdr3_VJ_type$V %in% high_freq_IGHVs]<-\"Others\""
   ]
  },
  {
   "attachments": {},
   "cell_type": "markdown",
   "metadata": {},
   "source": [
    "## 2.1 只用MR大于1/100的VJ"
   ]
  },
  {
   "cell_type": "code",
   "execution_count": 16,
   "metadata": {
    "vscode": {
     "languageId": "r"
    }
   },
   "outputs": [
    {
     "data": {
      "text/html": [
       "<table class=\"dataframe\">\n",
       "<caption>A data.frame: 6 × 73</caption>\n",
       "<thead>\n",
       "\t<tr><th></th><th scope=col>Patient_ID</th><th scope=col>Gender</th><th scope=col>Age</th><th scope=col>Location</th><th scope=col>Smoking_status</th><th scope=col>Drinking_status</th><th scope=col>T</th><th scope=col>N</th><th scope=col>M</th><th scope=col>TNM</th><th scope=col>Tumor_grade</th><th scope=col>Lymphatic_metastasis</th><th scope=col>Surgery_date</th><th scope=col>Follow-up_date</th><th scope=col>Followup_death_date1</th><th scope=col>Death_date</th><th scope=col>Survival_status</th><th scope=col>Survival_time</th><th scope=col>Chemotherapy</th><th scope=col>Radiotherapy</th><th scope=col>Other_therapy</th><th scope=col>ID</th><th scope=col>Cohort</th><th scope=col>Count</th><th scope=col>Frequency</th><th scope=col>CDR3nt</th><th scope=col>CDR3aa</th><th scope=col>V</th><th scope=col>D</th><th scope=col>J</th><th scope=col>C</th><th scope=col>cid</th><th scope=col>cid_full_length</th><th scope=col>type</th><th scope=col>s_richness</th><th scope=col>s_shannon</th><th scope=col>s_clonality</th><th scope=col>IGHM_proportion_unique</th><th scope=col>IGHM_proportion_redundant</th><th scope=col>s_richness_IGHM</th><th scope=col>s_count_IGHM</th><th scope=col>IGHD_proportion_unique</th><th scope=col>IGHD_proportion_redundant</th><th scope=col>s_richness_IGHD</th><th scope=col>s_count_IGHD</th><th scope=col>IGHA1_proportion_unique</th><th scope=col>IGHA1_proportion_redundant</th><th scope=col>s_richness_IGHA1</th><th scope=col>s_count_IGHA1</th><th scope=col>IGHA2_proportion_unique</th><th scope=col>IGHA2_proportion_redundant</th><th scope=col>s_richness_IGHA2</th><th scope=col>s_count_IGHA2</th><th scope=col>IGHG1_proportion_unique</th><th scope=col>IGHG1_proportion_redundant</th><th scope=col>s_richness_IGHG1</th><th scope=col>s_count_IGHG1</th><th scope=col>IGHG2_proportion_unique</th><th scope=col>IGHG2_proportion_redundant</th><th scope=col>s_richness_IGHG2</th><th scope=col>s_count_IGHG2</th><th scope=col>IGHG3_proportion_unique</th><th scope=col>IGHG3_proportion_redundant</th><th scope=col>s_richness_IGHG3</th><th scope=col>s_count_IGHG3</th><th scope=col>IGHG4_proportion_unique</th><th scope=col>IGHG4_proportion_redundant</th><th scope=col>s_richness_IGHG4</th><th scope=col>s_count_IGHG4</th><th scope=col>IGHE_proportion_unique</th><th scope=col>IGHE_proportion_redundant</th><th scope=col>s_richness_IGHE</th><th scope=col>s_count_IGHE</th></tr>\n",
       "\t<tr><th></th><th scope=col>&lt;chr&gt;</th><th scope=col>&lt;chr&gt;</th><th scope=col>&lt;int&gt;</th><th scope=col>&lt;chr&gt;</th><th scope=col>&lt;chr&gt;</th><th scope=col>&lt;chr&gt;</th><th scope=col>&lt;chr&gt;</th><th scope=col>&lt;chr&gt;</th><th scope=col>&lt;chr&gt;</th><th scope=col>&lt;chr&gt;</th><th scope=col>&lt;chr&gt;</th><th scope=col>&lt;chr&gt;</th><th scope=col>&lt;chr&gt;</th><th scope=col>&lt;chr&gt;</th><th scope=col>&lt;int&gt;</th><th scope=col>&lt;chr&gt;</th><th scope=col>&lt;int&gt;</th><th scope=col>&lt;dbl&gt;</th><th scope=col>&lt;chr&gt;</th><th scope=col>&lt;chr&gt;</th><th scope=col>&lt;chr&gt;</th><th scope=col>&lt;chr&gt;</th><th scope=col>&lt;chr&gt;</th><th scope=col>&lt;int&gt;</th><th scope=col>&lt;dbl&gt;</th><th scope=col>&lt;chr&gt;</th><th scope=col>&lt;chr&gt;</th><th scope=col>&lt;chr&gt;</th><th scope=col>&lt;chr&gt;</th><th scope=col>&lt;chr&gt;</th><th scope=col>&lt;chr&gt;</th><th scope=col>&lt;chr&gt;</th><th scope=col>&lt;int&gt;</th><th scope=col>&lt;chr&gt;</th><th scope=col>&lt;int&gt;</th><th scope=col>&lt;dbl&gt;</th><th scope=col>&lt;dbl&gt;</th><th scope=col>&lt;dbl&gt;</th><th scope=col>&lt;dbl&gt;</th><th scope=col>&lt;int&gt;</th><th scope=col>&lt;int&gt;</th><th scope=col>&lt;dbl&gt;</th><th scope=col>&lt;dbl&gt;</th><th scope=col>&lt;int&gt;</th><th scope=col>&lt;int&gt;</th><th scope=col>&lt;dbl&gt;</th><th scope=col>&lt;dbl&gt;</th><th scope=col>&lt;int&gt;</th><th scope=col>&lt;int&gt;</th><th scope=col>&lt;dbl&gt;</th><th scope=col>&lt;dbl&gt;</th><th scope=col>&lt;int&gt;</th><th scope=col>&lt;int&gt;</th><th scope=col>&lt;dbl&gt;</th><th scope=col>&lt;dbl&gt;</th><th scope=col>&lt;int&gt;</th><th scope=col>&lt;int&gt;</th><th scope=col>&lt;dbl&gt;</th><th scope=col>&lt;dbl&gt;</th><th scope=col>&lt;int&gt;</th><th scope=col>&lt;int&gt;</th><th scope=col>&lt;dbl&gt;</th><th scope=col>&lt;dbl&gt;</th><th scope=col>&lt;int&gt;</th><th scope=col>&lt;int&gt;</th><th scope=col>&lt;dbl&gt;</th><th scope=col>&lt;dbl&gt;</th><th scope=col>&lt;int&gt;</th><th scope=col>&lt;int&gt;</th><th scope=col>&lt;dbl&gt;</th><th scope=col>&lt;dbl&gt;</th><th scope=col>&lt;int&gt;</th><th scope=col>&lt;int&gt;</th></tr>\n",
       "</thead>\n",
       "<tbody>\n",
       "\t<tr><th scope=row>1</th><td>ESCC001</td><td>Male</td><td>60</td><td>Middle</td><td>never</td><td>never</td><td>T3</td><td>N0</td><td>M0</td><td>Ⅱb</td><td>G2</td><td>No</td><td>2016-05-26</td><td>42949</td><td>NA</td><td>NA</td><td>0</td><td>14</td><td>无</td><td>无</td><td>无</td><td>ESCC001N</td><td>Multi_region</td><td>17</td><td>0.08947368</td><td>TGTGCGAGACAAACACACTCACGTTTTTCGTGGAGGGACCTCTACGGTTTGGACGTCTGG                  </td><td>CARQTHSRFSWRDLYGLDVW      </td><td>IGHV4-39*01</td><td>IGHD3-10*01</td><td>IGHJ4*02</td><td>IGHG1</td><td>assemble2   </td><td>0</td><td>N</td><td>14</td><td>2.482157</td><td>0.05945309</td><td>0.1428571</td><td>0.175</td><td>2</td><td>14</td><td>0</td><td>0</td><td>0</td><td>0</td><td>0.5</td><td>0.425</td><td>7</td><td>34</td><td>0.07142857</td><td>0.0625</td><td>1</td><td>5</td><td>0.2142857</td><td>0.3</td><td>3</td><td>24</td><td>0.07142857</td><td>0.0375</td><td>1</td><td>3</td><td>0</td><td>0</td><td>0</td><td>0</td><td>0</td><td>0</td><td>0</td><td>0</td><td>0</td><td>0</td><td>0</td><td>0</td></tr>\n",
       "\t<tr><th scope=row>2</th><td>ESCC001</td><td>Male</td><td>60</td><td>Middle</td><td>never</td><td>never</td><td>T3</td><td>N0</td><td>M0</td><td>Ⅱb</td><td>G2</td><td>No</td><td>2016-05-26</td><td>42949</td><td>NA</td><td>NA</td><td>0</td><td>14</td><td>无</td><td>无</td><td>无</td><td>ESCC001N</td><td>Multi_region</td><td> 9</td><td>0.04736842</td><td>TGTGCGAGACGCCGGACGTATAACTGGAACGACCGGTACTTTGACTACTGG                           </td><td>CARRRTYNWNDRYFDYW         </td><td>IGHV4-59*01</td><td>IGHD1-20*01</td><td>IGHJ4*02</td><td>IGHM </td><td>assemble12  </td><td>1</td><td>N</td><td>14</td><td>2.482157</td><td>0.05945309</td><td>0.1428571</td><td>0.175</td><td>2</td><td>14</td><td>0</td><td>0</td><td>0</td><td>0</td><td>0.5</td><td>0.425</td><td>7</td><td>34</td><td>0.07142857</td><td>0.0625</td><td>1</td><td>5</td><td>0.2142857</td><td>0.3</td><td>3</td><td>24</td><td>0.07142857</td><td>0.0375</td><td>1</td><td>3</td><td>0</td><td>0</td><td>0</td><td>0</td><td>0</td><td>0</td><td>0</td><td>0</td><td>0</td><td>0</td><td>0</td><td>0</td></tr>\n",
       "\t<tr><th scope=row>3</th><td>ESCC001</td><td>Male</td><td>60</td><td>Middle</td><td>never</td><td>never</td><td>T3</td><td>N0</td><td>M0</td><td>Ⅱb</td><td>G2</td><td>No</td><td>2016-05-26</td><td>42949</td><td>NA</td><td>NA</td><td>0</td><td>14</td><td>无</td><td>无</td><td>无</td><td>ESCC001N</td><td>Multi_region</td><td> 8</td><td>0.04210526</td><td>TGTGCGAGACATGAGCGTCAGAAACGGGGGTGGATACCAGCTGCCCCTCGGTTCGACCCCTGG               </td><td>CARHERQKRGWIPAAPRFDPW     </td><td>IGHV4-39*01</td><td>IGHD5-18*01</td><td>IGHJ5*02</td><td>IGHA1</td><td>assemble3   </td><td>0</td><td>N</td><td>14</td><td>2.482157</td><td>0.05945309</td><td>0.1428571</td><td>0.175</td><td>2</td><td>14</td><td>0</td><td>0</td><td>0</td><td>0</td><td>0.5</td><td>0.425</td><td>7</td><td>34</td><td>0.07142857</td><td>0.0625</td><td>1</td><td>5</td><td>0.2142857</td><td>0.3</td><td>3</td><td>24</td><td>0.07142857</td><td>0.0375</td><td>1</td><td>3</td><td>0</td><td>0</td><td>0</td><td>0</td><td>0</td><td>0</td><td>0</td><td>0</td><td>0</td><td>0</td><td>0</td><td>0</td></tr>\n",
       "\t<tr><th scope=row>4</th><td>ESCC001</td><td>Male</td><td>60</td><td>Middle</td><td>never</td><td>never</td><td>T3</td><td>N0</td><td>M0</td><td>Ⅱb</td><td>G2</td><td>No</td><td>2016-05-26</td><td>42949</td><td>NA</td><td>NA</td><td>0</td><td>14</td><td>无</td><td>无</td><td>无</td><td>ESCC001N</td><td>Multi_region</td><td> 6</td><td>0.03157895</td><td>TGTGGTAGACATAAACCCCACCTCCTAGGGGTACTGGTGGTCGCTGCTACTGCATTTGACTACTGG            </td><td>CGRHKPHLLGVLVVAATAFDYW    </td><td>IGHV4-39*01</td><td>IGHD2-15*01</td><td>IGHJ4*02</td><td>IGHA1</td><td>assemble141 </td><td>0</td><td>N</td><td>14</td><td>2.482157</td><td>0.05945309</td><td>0.1428571</td><td>0.175</td><td>2</td><td>14</td><td>0</td><td>0</td><td>0</td><td>0</td><td>0.5</td><td>0.425</td><td>7</td><td>34</td><td>0.07142857</td><td>0.0625</td><td>1</td><td>5</td><td>0.2142857</td><td>0.3</td><td>3</td><td>24</td><td>0.07142857</td><td>0.0375</td><td>1</td><td>3</td><td>0</td><td>0</td><td>0</td><td>0</td><td>0</td><td>0</td><td>0</td><td>0</td><td>0</td><td>0</td><td>0</td><td>0</td></tr>\n",
       "\t<tr><th scope=row>5</th><td>ESCC001</td><td>Male</td><td>60</td><td>Middle</td><td>never</td><td>never</td><td>T3</td><td>N0</td><td>M0</td><td>Ⅱb</td><td>G2</td><td>No</td><td>2016-05-26</td><td>42949</td><td>NA</td><td>NA</td><td>0</td><td>14</td><td>无</td><td>无</td><td>无</td><td>ESCC001N</td><td>Multi_region</td><td> 6</td><td>0.03157895</td><td>TGTGCGAGAGATGCATCCCGGTTCGACCCCTGG                                             </td><td>CARDASRFDPW               </td><td>IGHV4-59*01</td><td>IGHD5-24*01</td><td>IGHJ5*02</td><td>IGHA1</td><td>assemble1310</td><td>0</td><td>N</td><td>14</td><td>2.482157</td><td>0.05945309</td><td>0.1428571</td><td>0.175</td><td>2</td><td>14</td><td>0</td><td>0</td><td>0</td><td>0</td><td>0.5</td><td>0.425</td><td>7</td><td>34</td><td>0.07142857</td><td>0.0625</td><td>1</td><td>5</td><td>0.2142857</td><td>0.3</td><td>3</td><td>24</td><td>0.07142857</td><td>0.0375</td><td>1</td><td>3</td><td>0</td><td>0</td><td>0</td><td>0</td><td>0</td><td>0</td><td>0</td><td>0</td><td>0</td><td>0</td><td>0</td><td>0</td></tr>\n",
       "\t<tr><th scope=row>6</th><td>ESCC001</td><td>Male</td><td>60</td><td>Middle</td><td>never</td><td>never</td><td>T3</td><td>N0</td><td>M0</td><td>Ⅱb</td><td>G2</td><td>No</td><td>2016-05-26</td><td>42949</td><td>NA</td><td>NA</td><td>0</td><td>14</td><td>无</td><td>无</td><td>无</td><td>ESCC001N</td><td>Multi_region</td><td> 5</td><td>0.02631579</td><td>TGTGCGAGGTCCAGTAGAGCAGCTGGACTCGACCGCGTATGGAAGGGTTTCTACTACTACTACTACATGGACGTCTGG</td><td>CARSSRAAGLDRVWKGFYYYYYMDVW</td><td>IGHV3-11*06</td><td>IGHD6-6*01 </td><td>IGHJ6*04</td><td>IGHM </td><td>assemble362 </td><td>0</td><td>N</td><td>14</td><td>2.482157</td><td>0.05945309</td><td>0.1428571</td><td>0.175</td><td>2</td><td>14</td><td>0</td><td>0</td><td>0</td><td>0</td><td>0.5</td><td>0.425</td><td>7</td><td>34</td><td>0.07142857</td><td>0.0625</td><td>1</td><td>5</td><td>0.2142857</td><td>0.3</td><td>3</td><td>24</td><td>0.07142857</td><td>0.0375</td><td>1</td><td>3</td><td>0</td><td>0</td><td>0</td><td>0</td><td>0</td><td>0</td><td>0</td><td>0</td><td>0</td><td>0</td><td>0</td><td>0</td></tr>\n",
       "</tbody>\n",
       "</table>\n"
      ],
      "text/latex": [
       "A data.frame: 6 × 73\n",
       "\\begin{tabular}{r|lllllllllllllllllllllllllllllllllllllllllllllllllllllllllllllllllllllllll}\n",
       "  & Patient\\_ID & Gender & Age & Location & Smoking\\_status & Drinking\\_status & T & N & M & TNM & Tumor\\_grade & Lymphatic\\_metastasis & Surgery\\_date & Follow-up\\_date & Followup\\_death\\_date1 & Death\\_date & Survival\\_status & Survival\\_time & Chemotherapy & Radiotherapy & Other\\_therapy & ID & Cohort & Count & Frequency & CDR3nt & CDR3aa & V & D & J & C & cid & cid\\_full\\_length & type & s\\_richness & s\\_shannon & s\\_clonality & IGHM\\_proportion\\_unique & IGHM\\_proportion\\_redundant & s\\_richness\\_IGHM & s\\_count\\_IGHM & IGHD\\_proportion\\_unique & IGHD\\_proportion\\_redundant & s\\_richness\\_IGHD & s\\_count\\_IGHD & IGHA1\\_proportion\\_unique & IGHA1\\_proportion\\_redundant & s\\_richness\\_IGHA1 & s\\_count\\_IGHA1 & IGHA2\\_proportion\\_unique & IGHA2\\_proportion\\_redundant & s\\_richness\\_IGHA2 & s\\_count\\_IGHA2 & IGHG1\\_proportion\\_unique & IGHG1\\_proportion\\_redundant & s\\_richness\\_IGHG1 & s\\_count\\_IGHG1 & IGHG2\\_proportion\\_unique & IGHG2\\_proportion\\_redundant & s\\_richness\\_IGHG2 & s\\_count\\_IGHG2 & IGHG3\\_proportion\\_unique & IGHG3\\_proportion\\_redundant & s\\_richness\\_IGHG3 & s\\_count\\_IGHG3 & IGHG4\\_proportion\\_unique & IGHG4\\_proportion\\_redundant & s\\_richness\\_IGHG4 & s\\_count\\_IGHG4 & IGHE\\_proportion\\_unique & IGHE\\_proportion\\_redundant & s\\_richness\\_IGHE & s\\_count\\_IGHE\\\\\n",
       "  & <chr> & <chr> & <int> & <chr> & <chr> & <chr> & <chr> & <chr> & <chr> & <chr> & <chr> & <chr> & <chr> & <chr> & <int> & <chr> & <int> & <dbl> & <chr> & <chr> & <chr> & <chr> & <chr> & <int> & <dbl> & <chr> & <chr> & <chr> & <chr> & <chr> & <chr> & <chr> & <int> & <chr> & <int> & <dbl> & <dbl> & <dbl> & <dbl> & <int> & <int> & <dbl> & <dbl> & <int> & <int> & <dbl> & <dbl> & <int> & <int> & <dbl> & <dbl> & <int> & <int> & <dbl> & <dbl> & <int> & <int> & <dbl> & <dbl> & <int> & <int> & <dbl> & <dbl> & <int> & <int> & <dbl> & <dbl> & <int> & <int> & <dbl> & <dbl> & <int> & <int>\\\\\n",
       "\\hline\n",
       "\t1 & ESCC001 & Male & 60 & Middle & never & never & T3 & N0 & M0 & Ⅱb & G2 & No & 2016-05-26 & 42949 & NA & NA & 0 & 14 & 无 & 无 & 无 & ESCC001N & Multi\\_region & 17 & 0.08947368 & TGTGCGAGACAAACACACTCACGTTTTTCGTGGAGGGACCTCTACGGTTTGGACGTCTGG                   & CARQTHSRFSWRDLYGLDVW       & IGHV4-39*01 & IGHD3-10*01 & IGHJ4*02 & IGHG1 & assemble2    & 0 & N & 14 & 2.482157 & 0.05945309 & 0.1428571 & 0.175 & 2 & 14 & 0 & 0 & 0 & 0 & 0.5 & 0.425 & 7 & 34 & 0.07142857 & 0.0625 & 1 & 5 & 0.2142857 & 0.3 & 3 & 24 & 0.07142857 & 0.0375 & 1 & 3 & 0 & 0 & 0 & 0 & 0 & 0 & 0 & 0 & 0 & 0 & 0 & 0\\\\\n",
       "\t2 & ESCC001 & Male & 60 & Middle & never & never & T3 & N0 & M0 & Ⅱb & G2 & No & 2016-05-26 & 42949 & NA & NA & 0 & 14 & 无 & 无 & 无 & ESCC001N & Multi\\_region &  9 & 0.04736842 & TGTGCGAGACGCCGGACGTATAACTGGAACGACCGGTACTTTGACTACTGG                            & CARRRTYNWNDRYFDYW          & IGHV4-59*01 & IGHD1-20*01 & IGHJ4*02 & IGHM  & assemble12   & 1 & N & 14 & 2.482157 & 0.05945309 & 0.1428571 & 0.175 & 2 & 14 & 0 & 0 & 0 & 0 & 0.5 & 0.425 & 7 & 34 & 0.07142857 & 0.0625 & 1 & 5 & 0.2142857 & 0.3 & 3 & 24 & 0.07142857 & 0.0375 & 1 & 3 & 0 & 0 & 0 & 0 & 0 & 0 & 0 & 0 & 0 & 0 & 0 & 0\\\\\n",
       "\t3 & ESCC001 & Male & 60 & Middle & never & never & T3 & N0 & M0 & Ⅱb & G2 & No & 2016-05-26 & 42949 & NA & NA & 0 & 14 & 无 & 无 & 无 & ESCC001N & Multi\\_region &  8 & 0.04210526 & TGTGCGAGACATGAGCGTCAGAAACGGGGGTGGATACCAGCTGCCCCTCGGTTCGACCCCTGG                & CARHERQKRGWIPAAPRFDPW      & IGHV4-39*01 & IGHD5-18*01 & IGHJ5*02 & IGHA1 & assemble3    & 0 & N & 14 & 2.482157 & 0.05945309 & 0.1428571 & 0.175 & 2 & 14 & 0 & 0 & 0 & 0 & 0.5 & 0.425 & 7 & 34 & 0.07142857 & 0.0625 & 1 & 5 & 0.2142857 & 0.3 & 3 & 24 & 0.07142857 & 0.0375 & 1 & 3 & 0 & 0 & 0 & 0 & 0 & 0 & 0 & 0 & 0 & 0 & 0 & 0\\\\\n",
       "\t4 & ESCC001 & Male & 60 & Middle & never & never & T3 & N0 & M0 & Ⅱb & G2 & No & 2016-05-26 & 42949 & NA & NA & 0 & 14 & 无 & 无 & 无 & ESCC001N & Multi\\_region &  6 & 0.03157895 & TGTGGTAGACATAAACCCCACCTCCTAGGGGTACTGGTGGTCGCTGCTACTGCATTTGACTACTGG             & CGRHKPHLLGVLVVAATAFDYW     & IGHV4-39*01 & IGHD2-15*01 & IGHJ4*02 & IGHA1 & assemble141  & 0 & N & 14 & 2.482157 & 0.05945309 & 0.1428571 & 0.175 & 2 & 14 & 0 & 0 & 0 & 0 & 0.5 & 0.425 & 7 & 34 & 0.07142857 & 0.0625 & 1 & 5 & 0.2142857 & 0.3 & 3 & 24 & 0.07142857 & 0.0375 & 1 & 3 & 0 & 0 & 0 & 0 & 0 & 0 & 0 & 0 & 0 & 0 & 0 & 0\\\\\n",
       "\t5 & ESCC001 & Male & 60 & Middle & never & never & T3 & N0 & M0 & Ⅱb & G2 & No & 2016-05-26 & 42949 & NA & NA & 0 & 14 & 无 & 无 & 无 & ESCC001N & Multi\\_region &  6 & 0.03157895 & TGTGCGAGAGATGCATCCCGGTTCGACCCCTGG                                              & CARDASRFDPW                & IGHV4-59*01 & IGHD5-24*01 & IGHJ5*02 & IGHA1 & assemble1310 & 0 & N & 14 & 2.482157 & 0.05945309 & 0.1428571 & 0.175 & 2 & 14 & 0 & 0 & 0 & 0 & 0.5 & 0.425 & 7 & 34 & 0.07142857 & 0.0625 & 1 & 5 & 0.2142857 & 0.3 & 3 & 24 & 0.07142857 & 0.0375 & 1 & 3 & 0 & 0 & 0 & 0 & 0 & 0 & 0 & 0 & 0 & 0 & 0 & 0\\\\\n",
       "\t6 & ESCC001 & Male & 60 & Middle & never & never & T3 & N0 & M0 & Ⅱb & G2 & No & 2016-05-26 & 42949 & NA & NA & 0 & 14 & 无 & 无 & 无 & ESCC001N & Multi\\_region &  5 & 0.02631579 & TGTGCGAGGTCCAGTAGAGCAGCTGGACTCGACCGCGTATGGAAGGGTTTCTACTACTACTACTACATGGACGTCTGG & CARSSRAAGLDRVWKGFYYYYYMDVW & IGHV3-11*06 & IGHD6-6*01  & IGHJ6*04 & IGHM  & assemble362  & 0 & N & 14 & 2.482157 & 0.05945309 & 0.1428571 & 0.175 & 2 & 14 & 0 & 0 & 0 & 0 & 0.5 & 0.425 & 7 & 34 & 0.07142857 & 0.0625 & 1 & 5 & 0.2142857 & 0.3 & 3 & 24 & 0.07142857 & 0.0375 & 1 & 3 & 0 & 0 & 0 & 0 & 0 & 0 & 0 & 0 & 0 & 0 & 0 & 0\\\\\n",
       "\\end{tabular}\n"
      ],
      "text/markdown": [
       "\n",
       "A data.frame: 6 × 73\n",
       "\n",
       "| <!--/--> | Patient_ID &lt;chr&gt; | Gender &lt;chr&gt; | Age &lt;int&gt; | Location &lt;chr&gt; | Smoking_status &lt;chr&gt; | Drinking_status &lt;chr&gt; | T &lt;chr&gt; | N &lt;chr&gt; | M &lt;chr&gt; | TNM &lt;chr&gt; | Tumor_grade &lt;chr&gt; | Lymphatic_metastasis &lt;chr&gt; | Surgery_date &lt;chr&gt; | Follow-up_date &lt;chr&gt; | Followup_death_date1 &lt;int&gt; | Death_date &lt;chr&gt; | Survival_status &lt;int&gt; | Survival_time &lt;dbl&gt; | Chemotherapy &lt;chr&gt; | Radiotherapy &lt;chr&gt; | Other_therapy &lt;chr&gt; | ID &lt;chr&gt; | Cohort &lt;chr&gt; | Count &lt;int&gt; | Frequency &lt;dbl&gt; | CDR3nt &lt;chr&gt; | CDR3aa &lt;chr&gt; | V &lt;chr&gt; | D &lt;chr&gt; | J &lt;chr&gt; | C &lt;chr&gt; | cid &lt;chr&gt; | cid_full_length &lt;int&gt; | type &lt;chr&gt; | s_richness &lt;int&gt; | s_shannon &lt;dbl&gt; | s_clonality &lt;dbl&gt; | IGHM_proportion_unique &lt;dbl&gt; | IGHM_proportion_redundant &lt;dbl&gt; | s_richness_IGHM &lt;int&gt; | s_count_IGHM &lt;int&gt; | IGHD_proportion_unique &lt;dbl&gt; | IGHD_proportion_redundant &lt;dbl&gt; | s_richness_IGHD &lt;int&gt; | s_count_IGHD &lt;int&gt; | IGHA1_proportion_unique &lt;dbl&gt; | IGHA1_proportion_redundant &lt;dbl&gt; | s_richness_IGHA1 &lt;int&gt; | s_count_IGHA1 &lt;int&gt; | IGHA2_proportion_unique &lt;dbl&gt; | IGHA2_proportion_redundant &lt;dbl&gt; | s_richness_IGHA2 &lt;int&gt; | s_count_IGHA2 &lt;int&gt; | IGHG1_proportion_unique &lt;dbl&gt; | IGHG1_proportion_redundant &lt;dbl&gt; | s_richness_IGHG1 &lt;int&gt; | s_count_IGHG1 &lt;int&gt; | IGHG2_proportion_unique &lt;dbl&gt; | IGHG2_proportion_redundant &lt;dbl&gt; | s_richness_IGHG2 &lt;int&gt; | s_count_IGHG2 &lt;int&gt; | IGHG3_proportion_unique &lt;dbl&gt; | IGHG3_proportion_redundant &lt;dbl&gt; | s_richness_IGHG3 &lt;int&gt; | s_count_IGHG3 &lt;int&gt; | IGHG4_proportion_unique &lt;dbl&gt; | IGHG4_proportion_redundant &lt;dbl&gt; | s_richness_IGHG4 &lt;int&gt; | s_count_IGHG4 &lt;int&gt; | IGHE_proportion_unique &lt;dbl&gt; | IGHE_proportion_redundant &lt;dbl&gt; | s_richness_IGHE &lt;int&gt; | s_count_IGHE &lt;int&gt; |\n",
       "|---|---|---|---|---|---|---|---|---|---|---|---|---|---|---|---|---|---|---|---|---|---|---|---|---|---|---|---|---|---|---|---|---|---|---|---|---|---|---|---|---|---|---|---|---|---|---|---|---|---|---|---|---|---|---|---|---|---|---|---|---|---|---|---|---|---|---|---|---|---|---|---|---|---|\n",
       "| 1 | ESCC001 | Male | 60 | Middle | never | never | T3 | N0 | M0 | Ⅱb | G2 | No | 2016-05-26 | 42949 | NA | NA | 0 | 14 | 无 | 无 | 无 | ESCC001N | Multi_region | 17 | 0.08947368 | TGTGCGAGACAAACACACTCACGTTTTTCGTGGAGGGACCTCTACGGTTTGGACGTCTGG                   | CARQTHSRFSWRDLYGLDVW       | IGHV4-39*01 | IGHD3-10*01 | IGHJ4*02 | IGHG1 | assemble2    | 0 | N | 14 | 2.482157 | 0.05945309 | 0.1428571 | 0.175 | 2 | 14 | 0 | 0 | 0 | 0 | 0.5 | 0.425 | 7 | 34 | 0.07142857 | 0.0625 | 1 | 5 | 0.2142857 | 0.3 | 3 | 24 | 0.07142857 | 0.0375 | 1 | 3 | 0 | 0 | 0 | 0 | 0 | 0 | 0 | 0 | 0 | 0 | 0 | 0 |\n",
       "| 2 | ESCC001 | Male | 60 | Middle | never | never | T3 | N0 | M0 | Ⅱb | G2 | No | 2016-05-26 | 42949 | NA | NA | 0 | 14 | 无 | 无 | 无 | ESCC001N | Multi_region |  9 | 0.04736842 | TGTGCGAGACGCCGGACGTATAACTGGAACGACCGGTACTTTGACTACTGG                            | CARRRTYNWNDRYFDYW          | IGHV4-59*01 | IGHD1-20*01 | IGHJ4*02 | IGHM  | assemble12   | 1 | N | 14 | 2.482157 | 0.05945309 | 0.1428571 | 0.175 | 2 | 14 | 0 | 0 | 0 | 0 | 0.5 | 0.425 | 7 | 34 | 0.07142857 | 0.0625 | 1 | 5 | 0.2142857 | 0.3 | 3 | 24 | 0.07142857 | 0.0375 | 1 | 3 | 0 | 0 | 0 | 0 | 0 | 0 | 0 | 0 | 0 | 0 | 0 | 0 |\n",
       "| 3 | ESCC001 | Male | 60 | Middle | never | never | T3 | N0 | M0 | Ⅱb | G2 | No | 2016-05-26 | 42949 | NA | NA | 0 | 14 | 无 | 无 | 无 | ESCC001N | Multi_region |  8 | 0.04210526 | TGTGCGAGACATGAGCGTCAGAAACGGGGGTGGATACCAGCTGCCCCTCGGTTCGACCCCTGG                | CARHERQKRGWIPAAPRFDPW      | IGHV4-39*01 | IGHD5-18*01 | IGHJ5*02 | IGHA1 | assemble3    | 0 | N | 14 | 2.482157 | 0.05945309 | 0.1428571 | 0.175 | 2 | 14 | 0 | 0 | 0 | 0 | 0.5 | 0.425 | 7 | 34 | 0.07142857 | 0.0625 | 1 | 5 | 0.2142857 | 0.3 | 3 | 24 | 0.07142857 | 0.0375 | 1 | 3 | 0 | 0 | 0 | 0 | 0 | 0 | 0 | 0 | 0 | 0 | 0 | 0 |\n",
       "| 4 | ESCC001 | Male | 60 | Middle | never | never | T3 | N0 | M0 | Ⅱb | G2 | No | 2016-05-26 | 42949 | NA | NA | 0 | 14 | 无 | 无 | 无 | ESCC001N | Multi_region |  6 | 0.03157895 | TGTGGTAGACATAAACCCCACCTCCTAGGGGTACTGGTGGTCGCTGCTACTGCATTTGACTACTGG             | CGRHKPHLLGVLVVAATAFDYW     | IGHV4-39*01 | IGHD2-15*01 | IGHJ4*02 | IGHA1 | assemble141  | 0 | N | 14 | 2.482157 | 0.05945309 | 0.1428571 | 0.175 | 2 | 14 | 0 | 0 | 0 | 0 | 0.5 | 0.425 | 7 | 34 | 0.07142857 | 0.0625 | 1 | 5 | 0.2142857 | 0.3 | 3 | 24 | 0.07142857 | 0.0375 | 1 | 3 | 0 | 0 | 0 | 0 | 0 | 0 | 0 | 0 | 0 | 0 | 0 | 0 |\n",
       "| 5 | ESCC001 | Male | 60 | Middle | never | never | T3 | N0 | M0 | Ⅱb | G2 | No | 2016-05-26 | 42949 | NA | NA | 0 | 14 | 无 | 无 | 无 | ESCC001N | Multi_region |  6 | 0.03157895 | TGTGCGAGAGATGCATCCCGGTTCGACCCCTGG                                              | CARDASRFDPW                | IGHV4-59*01 | IGHD5-24*01 | IGHJ5*02 | IGHA1 | assemble1310 | 0 | N | 14 | 2.482157 | 0.05945309 | 0.1428571 | 0.175 | 2 | 14 | 0 | 0 | 0 | 0 | 0.5 | 0.425 | 7 | 34 | 0.07142857 | 0.0625 | 1 | 5 | 0.2142857 | 0.3 | 3 | 24 | 0.07142857 | 0.0375 | 1 | 3 | 0 | 0 | 0 | 0 | 0 | 0 | 0 | 0 | 0 | 0 | 0 | 0 |\n",
       "| 6 | ESCC001 | Male | 60 | Middle | never | never | T3 | N0 | M0 | Ⅱb | G2 | No | 2016-05-26 | 42949 | NA | NA | 0 | 14 | 无 | 无 | 无 | ESCC001N | Multi_region |  5 | 0.02631579 | TGTGCGAGGTCCAGTAGAGCAGCTGGACTCGACCGCGTATGGAAGGGTTTCTACTACTACTACTACATGGACGTCTGG | CARSSRAAGLDRVWKGFYYYYYMDVW | IGHV3-11*06 | IGHD6-6*01  | IGHJ6*04 | IGHM  | assemble362  | 0 | N | 14 | 2.482157 | 0.05945309 | 0.1428571 | 0.175 | 2 | 14 | 0 | 0 | 0 | 0 | 0.5 | 0.425 | 7 | 34 | 0.07142857 | 0.0625 | 1 | 5 | 0.2142857 | 0.3 | 3 | 24 | 0.07142857 | 0.0375 | 1 | 3 | 0 | 0 | 0 | 0 | 0 | 0 | 0 | 0 | 0 | 0 | 0 | 0 |\n",
       "\n"
      ],
      "text/plain": [
       "  Patient_ID Gender Age Location Smoking_status Drinking_status T  N  M  TNM\n",
       "1 ESCC001    Male   60  Middle   never          never           T3 N0 M0 Ⅱb \n",
       "2 ESCC001    Male   60  Middle   never          never           T3 N0 M0 Ⅱb \n",
       "3 ESCC001    Male   60  Middle   never          never           T3 N0 M0 Ⅱb \n",
       "4 ESCC001    Male   60  Middle   never          never           T3 N0 M0 Ⅱb \n",
       "5 ESCC001    Male   60  Middle   never          never           T3 N0 M0 Ⅱb \n",
       "6 ESCC001    Male   60  Middle   never          never           T3 N0 M0 Ⅱb \n",
       "  Tumor_grade Lymphatic_metastasis Surgery_date Follow-up_date\n",
       "1 G2          No                   2016-05-26   42949         \n",
       "2 G2          No                   2016-05-26   42949         \n",
       "3 G2          No                   2016-05-26   42949         \n",
       "4 G2          No                   2016-05-26   42949         \n",
       "5 G2          No                   2016-05-26   42949         \n",
       "6 G2          No                   2016-05-26   42949         \n",
       "  Followup_death_date1 Death_date Survival_status Survival_time Chemotherapy\n",
       "1 NA                   NA         0               14            无          \n",
       "2 NA                   NA         0               14            无          \n",
       "3 NA                   NA         0               14            无          \n",
       "4 NA                   NA         0               14            无          \n",
       "5 NA                   NA         0               14            无          \n",
       "6 NA                   NA         0               14            无          \n",
       "  Radiotherapy Other_therapy ID       Cohort       Count Frequency \n",
       "1 无           无            ESCC001N Multi_region 17    0.08947368\n",
       "2 无           无            ESCC001N Multi_region  9    0.04736842\n",
       "3 无           无            ESCC001N Multi_region  8    0.04210526\n",
       "4 无           无            ESCC001N Multi_region  6    0.03157895\n",
       "5 无           无            ESCC001N Multi_region  6    0.03157895\n",
       "6 无           无            ESCC001N Multi_region  5    0.02631579\n",
       "  CDR3nt                                                                        \n",
       "1 TGTGCGAGACAAACACACTCACGTTTTTCGTGGAGGGACCTCTACGGTTTGGACGTCTGG                  \n",
       "2 TGTGCGAGACGCCGGACGTATAACTGGAACGACCGGTACTTTGACTACTGG                           \n",
       "3 TGTGCGAGACATGAGCGTCAGAAACGGGGGTGGATACCAGCTGCCCCTCGGTTCGACCCCTGG               \n",
       "4 TGTGGTAGACATAAACCCCACCTCCTAGGGGTACTGGTGGTCGCTGCTACTGCATTTGACTACTGG            \n",
       "5 TGTGCGAGAGATGCATCCCGGTTCGACCCCTGG                                             \n",
       "6 TGTGCGAGGTCCAGTAGAGCAGCTGGACTCGACCGCGTATGGAAGGGTTTCTACTACTACTACTACATGGACGTCTGG\n",
       "  CDR3aa                     V           D           J        C    \n",
       "1 CARQTHSRFSWRDLYGLDVW       IGHV4-39*01 IGHD3-10*01 IGHJ4*02 IGHG1\n",
       "2 CARRRTYNWNDRYFDYW          IGHV4-59*01 IGHD1-20*01 IGHJ4*02 IGHM \n",
       "3 CARHERQKRGWIPAAPRFDPW      IGHV4-39*01 IGHD5-18*01 IGHJ5*02 IGHA1\n",
       "4 CGRHKPHLLGVLVVAATAFDYW     IGHV4-39*01 IGHD2-15*01 IGHJ4*02 IGHA1\n",
       "5 CARDASRFDPW                IGHV4-59*01 IGHD5-24*01 IGHJ5*02 IGHA1\n",
       "6 CARSSRAAGLDRVWKGFYYYYYMDVW IGHV3-11*06 IGHD6-6*01  IGHJ6*04 IGHM \n",
       "  cid          cid_full_length type s_richness s_shannon s_clonality\n",
       "1 assemble2    0               N    14         2.482157  0.05945309 \n",
       "2 assemble12   1               N    14         2.482157  0.05945309 \n",
       "3 assemble3    0               N    14         2.482157  0.05945309 \n",
       "4 assemble141  0               N    14         2.482157  0.05945309 \n",
       "5 assemble1310 0               N    14         2.482157  0.05945309 \n",
       "6 assemble362  0               N    14         2.482157  0.05945309 \n",
       "  IGHM_proportion_unique IGHM_proportion_redundant s_richness_IGHM s_count_IGHM\n",
       "1 0.1428571              0.175                     2               14          \n",
       "2 0.1428571              0.175                     2               14          \n",
       "3 0.1428571              0.175                     2               14          \n",
       "4 0.1428571              0.175                     2               14          \n",
       "5 0.1428571              0.175                     2               14          \n",
       "6 0.1428571              0.175                     2               14          \n",
       "  IGHD_proportion_unique IGHD_proportion_redundant s_richness_IGHD s_count_IGHD\n",
       "1 0                      0                         0               0           \n",
       "2 0                      0                         0               0           \n",
       "3 0                      0                         0               0           \n",
       "4 0                      0                         0               0           \n",
       "5 0                      0                         0               0           \n",
       "6 0                      0                         0               0           \n",
       "  IGHA1_proportion_unique IGHA1_proportion_redundant s_richness_IGHA1\n",
       "1 0.5                     0.425                      7               \n",
       "2 0.5                     0.425                      7               \n",
       "3 0.5                     0.425                      7               \n",
       "4 0.5                     0.425                      7               \n",
       "5 0.5                     0.425                      7               \n",
       "6 0.5                     0.425                      7               \n",
       "  s_count_IGHA1 IGHA2_proportion_unique IGHA2_proportion_redundant\n",
       "1 34            0.07142857              0.0625                    \n",
       "2 34            0.07142857              0.0625                    \n",
       "3 34            0.07142857              0.0625                    \n",
       "4 34            0.07142857              0.0625                    \n",
       "5 34            0.07142857              0.0625                    \n",
       "6 34            0.07142857              0.0625                    \n",
       "  s_richness_IGHA2 s_count_IGHA2 IGHG1_proportion_unique\n",
       "1 1                5             0.2142857              \n",
       "2 1                5             0.2142857              \n",
       "3 1                5             0.2142857              \n",
       "4 1                5             0.2142857              \n",
       "5 1                5             0.2142857              \n",
       "6 1                5             0.2142857              \n",
       "  IGHG1_proportion_redundant s_richness_IGHG1 s_count_IGHG1\n",
       "1 0.3                        3                24           \n",
       "2 0.3                        3                24           \n",
       "3 0.3                        3                24           \n",
       "4 0.3                        3                24           \n",
       "5 0.3                        3                24           \n",
       "6 0.3                        3                24           \n",
       "  IGHG2_proportion_unique IGHG2_proportion_redundant s_richness_IGHG2\n",
       "1 0.07142857              0.0375                     1               \n",
       "2 0.07142857              0.0375                     1               \n",
       "3 0.07142857              0.0375                     1               \n",
       "4 0.07142857              0.0375                     1               \n",
       "5 0.07142857              0.0375                     1               \n",
       "6 0.07142857              0.0375                     1               \n",
       "  s_count_IGHG2 IGHG3_proportion_unique IGHG3_proportion_redundant\n",
       "1 3             0                       0                         \n",
       "2 3             0                       0                         \n",
       "3 3             0                       0                         \n",
       "4 3             0                       0                         \n",
       "5 3             0                       0                         \n",
       "6 3             0                       0                         \n",
       "  s_richness_IGHG3 s_count_IGHG3 IGHG4_proportion_unique\n",
       "1 0                0             0                      \n",
       "2 0                0             0                      \n",
       "3 0                0             0                      \n",
       "4 0                0             0                      \n",
       "5 0                0             0                      \n",
       "6 0                0             0                      \n",
       "  IGHG4_proportion_redundant s_richness_IGHG4 s_count_IGHG4\n",
       "1 0                          0                0            \n",
       "2 0                          0                0            \n",
       "3 0                          0                0            \n",
       "4 0                          0                0            \n",
       "5 0                          0                0            \n",
       "6 0                          0                0            \n",
       "  IGHE_proportion_unique IGHE_proportion_redundant s_richness_IGHE s_count_IGHE\n",
       "1 0                      0                         0               0           \n",
       "2 0                      0                         0               0           \n",
       "3 0                      0                         0               0           \n",
       "4 0                      0                         0               0           \n",
       "5 0                      0                         0               0           \n",
       "6 0                      0                         0               0           "
      ]
     },
     "metadata": {},
     "output_type": "display_data"
    }
   ],
   "source": [
    "meta_multi_region_merged_diversity<-read.csv(\"meta_multi_region_merged_diversity_IGH.csv\",header=TRUE,quote = \"\\\"\", skipNul = TRUE,check.names=FALSE)\n",
    "\n",
    "#meta_multi_region_merged_diversity$V<-str_extract(meta_multi_region_merged_diversity$V,pattern = \".*(?=\\\\*)\")\n",
    "#meta_multi_region_merged_diversity$J<-str_extract(meta_multi_region_merged_diversity$J,pattern = \".*(?=\\\\*)\")\n",
    "head(meta_multi_region_merged_diversity)\n",
    "\n",
    "meta_multi_region_merged_diversity<-meta_multi_region_merged_diversity[meta_multi_region_merged_diversity$V!=\".\" & meta_multi_region_merged_diversity$J != \".\",]\n",
    "multi_region_cdr3_VJ_type<-meta_multi_region_merged_diversity[,c('CDR3aa','V','J','C','type','ID')]"
   ]
  },
  {
   "cell_type": "code",
   "execution_count": 17,
   "metadata": {
    "vscode": {
     "languageId": "r"
    }
   },
   "outputs": [],
   "source": [
    "IGHV_genes<-str_replace(meta_multi_region_merged_diversity$V, pattern='\\\\*\\\\d\\\\d',replacement=\"\") %>% table() %>% prop.table()\n",
    "high_freq_IGHVs_MR<-names(IGHV_genes)[IGHV_genes>0.01] #select 0.1%+ V genes\n",
    "\n",
    "#V 基因去除alleles\n",
    "multi_region_cdr3_VJ_type$V<-str_replace(meta_multi_region_merged_diversity$V, pattern='\\\\*\\\\d\\\\d',replacement=\"\")\n",
    "multi_region_cdr3_VJ_type$V[!multi_region_cdr3_VJ_type$V %in% high_freq_IGHVs_MR]<-\"Others\"\n",
    "\n",
    "#J 基因去除alleles\n",
    "multi_region_cdr3_VJ_type$J<-str_replace(meta_multi_region_merged_diversity$J, pattern='\\\\*\\\\d\\\\d',replacement=\"\")\n"
   ]
  },
  {
   "attachments": {},
   "cell_type": "markdown",
   "metadata": {},
   "source": [
    "### 2.1.1 计算各个V基因的P值"
   ]
  },
  {
   "cell_type": "code",
   "execution_count": 18,
   "metadata": {
    "vscode": {
     "languageId": "r"
    }
   },
   "outputs": [
    {
     "data": {
      "text/html": [
       "<table class=\"dataframe\">\n",
       "<caption>A rstatix_test: 6 × 15</caption>\n",
       "<thead>\n",
       "\t<tr><th scope=col>V_Genes</th><th scope=col>.y.</th><th scope=col>group1</th><th scope=col>group2</th><th scope=col>n1</th><th scope=col>n2</th><th scope=col>statistic</th><th scope=col>p</th><th scope=col>p.adj</th><th scope=col>p.adj.signif</th><th scope=col>y.position</th><th scope=col>groups</th><th scope=col>x</th><th scope=col>xmin</th><th scope=col>xmax</th></tr>\n",
       "\t<tr><th scope=col>&lt;fct&gt;</th><th scope=col>&lt;chr&gt;</th><th scope=col>&lt;chr&gt;</th><th scope=col>&lt;chr&gt;</th><th scope=col>&lt;int&gt;</th><th scope=col>&lt;int&gt;</th><th scope=col>&lt;dbl&gt;</th><th scope=col>&lt;dbl&gt;</th><th scope=col>&lt;dbl&gt;</th><th scope=col>&lt;chr&gt;</th><th scope=col>&lt;dbl&gt;</th><th scope=col>&lt;named list&gt;</th><th scope=col>&lt;dbl&gt;</th><th scope=col>&lt;dbl&gt;</th><th scope=col>&lt;dbl&gt;</th></tr>\n",
       "</thead>\n",
       "<tbody>\n",
       "\t<tr><td>IGHV1-18</td><td>Frequency</td><td>T</td><td>N</td><td>496</td><td>107</td><td>27844.5</td><td>0.424</td><td>1.000</td><td>ns</td><td>0.614</td><td>T, N</td><td>1</td><td>0.7333333</td><td>1.000000</td></tr>\n",
       "\t<tr><td>IGHV1-18</td><td>Frequency</td><td>T</td><td>L</td><td>496</td><td> 48</td><td>11042.0</td><td>0.407</td><td>1.000</td><td>ns</td><td>0.785</td><td>T, L</td><td>1</td><td>0.7333333</td><td>1.266667</td></tr>\n",
       "\t<tr><td>IGHV1-18</td><td>Frequency</td><td>N</td><td>L</td><td>107</td><td> 48</td><td> 2242.5</td><td>0.208</td><td>1.000</td><td>ns</td><td>0.956</td><td>N, L</td><td>1</td><td>1.0000000</td><td>1.266667</td></tr>\n",
       "\t<tr><td>IGHV1-2 </td><td>Frequency</td><td>T</td><td>N</td><td>496</td><td>107</td><td>30966.5</td><td>0.006</td><td>0.486</td><td>ns</td><td>0.447</td><td>T, N</td><td>2</td><td>1.7333333</td><td>2.000000</td></tr>\n",
       "\t<tr><td>IGHV1-2 </td><td>Frequency</td><td>T</td><td>L</td><td>496</td><td> 48</td><td>11788.5</td><td>0.911</td><td>1.000</td><td>ns</td><td>0.618</td><td>T, L</td><td>2</td><td>1.7333333</td><td>2.266667</td></tr>\n",
       "\t<tr><td>IGHV1-2 </td><td>Frequency</td><td>N</td><td>L</td><td>107</td><td> 48</td><td> 2051.5</td><td>0.042</td><td>1.000</td><td>ns</td><td>0.789</td><td>N, L</td><td>2</td><td>2.0000000</td><td>2.266667</td></tr>\n",
       "</tbody>\n",
       "</table>\n"
      ],
      "text/latex": [
       "A rstatix\\_test: 6 × 15\n",
       "\\begin{tabular}{lllllllllllllll}\n",
       " V\\_Genes & .y. & group1 & group2 & n1 & n2 & statistic & p & p.adj & p.adj.signif & y.position & groups & x & xmin & xmax\\\\\n",
       " <fct> & <chr> & <chr> & <chr> & <int> & <int> & <dbl> & <dbl> & <dbl> & <chr> & <dbl> & <named list> & <dbl> & <dbl> & <dbl>\\\\\n",
       "\\hline\n",
       "\t IGHV1-18 & Frequency & T & N & 496 & 107 & 27844.5 & 0.424 & 1.000 & ns & 0.614 & T, N & 1 & 0.7333333 & 1.000000\\\\\n",
       "\t IGHV1-18 & Frequency & T & L & 496 &  48 & 11042.0 & 0.407 & 1.000 & ns & 0.785 & T, L & 1 & 0.7333333 & 1.266667\\\\\n",
       "\t IGHV1-18 & Frequency & N & L & 107 &  48 &  2242.5 & 0.208 & 1.000 & ns & 0.956 & N, L & 1 & 1.0000000 & 1.266667\\\\\n",
       "\t IGHV1-2  & Frequency & T & N & 496 & 107 & 30966.5 & 0.006 & 0.486 & ns & 0.447 & T, N & 2 & 1.7333333 & 2.000000\\\\\n",
       "\t IGHV1-2  & Frequency & T & L & 496 &  48 & 11788.5 & 0.911 & 1.000 & ns & 0.618 & T, L & 2 & 1.7333333 & 2.266667\\\\\n",
       "\t IGHV1-2  & Frequency & N & L & 107 &  48 &  2051.5 & 0.042 & 1.000 & ns & 0.789 & N, L & 2 & 2.0000000 & 2.266667\\\\\n",
       "\\end{tabular}\n"
      ],
      "text/markdown": [
       "\n",
       "A rstatix_test: 6 × 15\n",
       "\n",
       "| V_Genes &lt;fct&gt; | .y. &lt;chr&gt; | group1 &lt;chr&gt; | group2 &lt;chr&gt; | n1 &lt;int&gt; | n2 &lt;int&gt; | statistic &lt;dbl&gt; | p &lt;dbl&gt; | p.adj &lt;dbl&gt; | p.adj.signif &lt;chr&gt; | y.position &lt;dbl&gt; | groups &lt;named list&gt; | x &lt;dbl&gt; | xmin &lt;dbl&gt; | xmax &lt;dbl&gt; |\n",
       "|---|---|---|---|---|---|---|---|---|---|---|---|---|---|---|\n",
       "| IGHV1-18 | Frequency | T | N | 496 | 107 | 27844.5 | 0.424 | 1.000 | ns | 0.614 | T, N | 1 | 0.7333333 | 1.000000 |\n",
       "| IGHV1-18 | Frequency | T | L | 496 |  48 | 11042.0 | 0.407 | 1.000 | ns | 0.785 | T, L | 1 | 0.7333333 | 1.266667 |\n",
       "| IGHV1-18 | Frequency | N | L | 107 |  48 |  2242.5 | 0.208 | 1.000 | ns | 0.956 | N, L | 1 | 1.0000000 | 1.266667 |\n",
       "| IGHV1-2  | Frequency | T | N | 496 | 107 | 30966.5 | 0.006 | 0.486 | ns | 0.447 | T, N | 2 | 1.7333333 | 2.000000 |\n",
       "| IGHV1-2  | Frequency | T | L | 496 |  48 | 11788.5 | 0.911 | 1.000 | ns | 0.618 | T, L | 2 | 1.7333333 | 2.266667 |\n",
       "| IGHV1-2  | Frequency | N | L | 107 |  48 |  2051.5 | 0.042 | 1.000 | ns | 0.789 | N, L | 2 | 2.0000000 | 2.266667 |\n",
       "\n"
      ],
      "text/plain": [
       "  V_Genes  .y.       group1 group2 n1  n2  statistic p     p.adj p.adj.signif\n",
       "1 IGHV1-18 Frequency T      N      496 107 27844.5   0.424 1.000 ns          \n",
       "2 IGHV1-18 Frequency T      L      496  48 11042.0   0.407 1.000 ns          \n",
       "3 IGHV1-18 Frequency N      L      107  48  2242.5   0.208 1.000 ns          \n",
       "4 IGHV1-2  Frequency T      N      496 107 30966.5   0.006 0.486 ns          \n",
       "5 IGHV1-2  Frequency T      L      496  48 11788.5   0.911 1.000 ns          \n",
       "6 IGHV1-2  Frequency N      L      107  48  2051.5   0.042 1.000 ns          \n",
       "  y.position groups x xmin      xmax    \n",
       "1 0.614      T, N   1 0.7333333 1.000000\n",
       "2 0.785      T, L   1 0.7333333 1.266667\n",
       "3 0.956      N, L   1 1.0000000 1.266667\n",
       "4 0.447      T, N   2 1.7333333 2.000000\n",
       "5 0.618      T, L   2 1.7333333 2.266667\n",
       "6 0.789      N, L   2 2.0000000 2.266667"
      ]
     },
     "metadata": {},
     "output_type": "display_data"
    }
   ],
   "source": [
    "library(rstatix)\n",
    "#IGH_Roe_mat<-table(multi_region_cdr3_VJ_type$V,multi_region_cdr3_VJ_type$type) #count  Reo\n",
    "IGH_Roe_mat<-prop.table(table(multi_region_cdr3_VJ_type$V,multi_region_cdr3_VJ_type$ID),margin=2)#frequency to calc Reo\n",
    "\n",
    "#IGH_Roe_mat<-IGH_Roe_mat[high_freq_IGHVs,]\n",
    "#dim(IGH_Roe_mat)\n",
    "## 各病人的V基因使用箱型图\n",
    "library(reshape2)\n",
    "IGH_Roe_mat_long<-melt(IGH_Roe_mat,value.name=\"Frequency\")\n",
    "colnames(IGH_Roe_mat_long)<-c(\"V_Genes\",\"ID\",\"Frequency\")\n",
    "\n",
    "IGH_Roe_mat_long$type<-str_sub(IGH_Roe_mat_long$ID,8,8)\n",
    "\n",
    "IGH_Roe_mat_long$type<-factor(IGH_Roe_mat_long$type, levels = c(\"T\",\"N\",\"L\"))\n",
    "\n",
    "#增加P值，参考：https://www.datanovia.com/en/blog/how-to-add-p-values-onto-a-grouped-ggplot-using-the-ggpubr-r-package/\n",
    "stat.test <- IGH_Roe_mat_long[,-2] %>%\n",
    "  group_by(V_Genes) %>%\n",
    "  wilcox_test(Frequency ~ type) %>%\n",
    "  #adjust_pvalue(method = \"BH\") %>%\n",
    "  adjust_pvalue(method = \"bonferroni\") %>%\n",
    "  add_significance(\"p.adj\")\n",
    "\n",
    "stat.test <- stat.test %>%\n",
    "  add_xy_position(x = \"V_Genes\", dodge = 0.8)\n",
    "\n",
    "head(stat.test)\n"
   ]
  },
  {
   "cell_type": "code",
   "execution_count": 19,
   "metadata": {
    "vscode": {
     "languageId": "r"
    }
   },
   "outputs": [
    {
     "data": {
      "text/html": [
       "<table class=\"dataframe\">\n",
       "<caption>A rstatix_test: 6 × 15</caption>\n",
       "<thead>\n",
       "\t<tr><th scope=col>V_Genes</th><th scope=col>.y.</th><th scope=col>group1</th><th scope=col>group2</th><th scope=col>n1</th><th scope=col>n2</th><th scope=col>statistic</th><th scope=col>p</th><th scope=col>p.adj</th><th scope=col>p.adj.signif</th><th scope=col>y.position</th><th scope=col>groups</th><th scope=col>x</th><th scope=col>xmin</th><th scope=col>xmax</th></tr>\n",
       "\t<tr><th scope=col>&lt;fct&gt;</th><th scope=col>&lt;chr&gt;</th><th scope=col>&lt;chr&gt;</th><th scope=col>&lt;chr&gt;</th><th scope=col>&lt;int&gt;</th><th scope=col>&lt;int&gt;</th><th scope=col>&lt;dbl&gt;</th><th scope=col>&lt;dbl&gt;</th><th scope=col>&lt;dbl&gt;</th><th scope=col>&lt;chr&gt;</th><th scope=col>&lt;dbl&gt;</th><th scope=col>&lt;named list&gt;</th><th scope=col>&lt;dbl&gt;</th><th scope=col>&lt;dbl&gt;</th><th scope=col>&lt;dbl&gt;</th></tr>\n",
       "</thead>\n",
       "<tbody>\n",
       "\t<tr><td>IGHV1-18</td><td>Frequency</td><td>T</td><td>N</td><td>496</td><td>107</td><td>27844.5</td><td>0.424</td><td>1.000</td><td>ns</td><td>0.614</td><td>T, N</td><td>1</td><td>0.7333333</td><td>1.000000</td></tr>\n",
       "\t<tr><td>IGHV1-18</td><td>Frequency</td><td>T</td><td>L</td><td>496</td><td> 48</td><td>11042.0</td><td>0.407</td><td>1.000</td><td>ns</td><td>0.785</td><td>T, L</td><td>1</td><td>0.7333333</td><td>1.266667</td></tr>\n",
       "\t<tr><td>IGHV1-18</td><td>Frequency</td><td>N</td><td>L</td><td>107</td><td> 48</td><td> 2242.5</td><td>0.208</td><td>1.000</td><td>ns</td><td>0.956</td><td>N, L</td><td>1</td><td>1.0000000</td><td>1.266667</td></tr>\n",
       "\t<tr><td>IGHV1-2 </td><td>Frequency</td><td>T</td><td>N</td><td>496</td><td>107</td><td>30966.5</td><td>0.006</td><td>0.486</td><td>ns</td><td>0.447</td><td>T, N</td><td>2</td><td>1.7333333</td><td>2.000000</td></tr>\n",
       "\t<tr><td>IGHV1-2 </td><td>Frequency</td><td>T</td><td>L</td><td>496</td><td> 48</td><td>11788.5</td><td>0.911</td><td>1.000</td><td>ns</td><td>0.618</td><td>T, L</td><td>2</td><td>1.7333333</td><td>2.266667</td></tr>\n",
       "\t<tr><td>IGHV1-2 </td><td>Frequency</td><td>N</td><td>L</td><td>107</td><td> 48</td><td> 2051.5</td><td>0.042</td><td>1.000</td><td>ns</td><td>0.789</td><td>N, L</td><td>2</td><td>2.0000000</td><td>2.266667</td></tr>\n",
       "</tbody>\n",
       "</table>\n"
      ],
      "text/latex": [
       "A rstatix\\_test: 6 × 15\n",
       "\\begin{tabular}{lllllllllllllll}\n",
       " V\\_Genes & .y. & group1 & group2 & n1 & n2 & statistic & p & p.adj & p.adj.signif & y.position & groups & x & xmin & xmax\\\\\n",
       " <fct> & <chr> & <chr> & <chr> & <int> & <int> & <dbl> & <dbl> & <dbl> & <chr> & <dbl> & <named list> & <dbl> & <dbl> & <dbl>\\\\\n",
       "\\hline\n",
       "\t IGHV1-18 & Frequency & T & N & 496 & 107 & 27844.5 & 0.424 & 1.000 & ns & 0.614 & T, N & 1 & 0.7333333 & 1.000000\\\\\n",
       "\t IGHV1-18 & Frequency & T & L & 496 &  48 & 11042.0 & 0.407 & 1.000 & ns & 0.785 & T, L & 1 & 0.7333333 & 1.266667\\\\\n",
       "\t IGHV1-18 & Frequency & N & L & 107 &  48 &  2242.5 & 0.208 & 1.000 & ns & 0.956 & N, L & 1 & 1.0000000 & 1.266667\\\\\n",
       "\t IGHV1-2  & Frequency & T & N & 496 & 107 & 30966.5 & 0.006 & 0.486 & ns & 0.447 & T, N & 2 & 1.7333333 & 2.000000\\\\\n",
       "\t IGHV1-2  & Frequency & T & L & 496 &  48 & 11788.5 & 0.911 & 1.000 & ns & 0.618 & T, L & 2 & 1.7333333 & 2.266667\\\\\n",
       "\t IGHV1-2  & Frequency & N & L & 107 &  48 &  2051.5 & 0.042 & 1.000 & ns & 0.789 & N, L & 2 & 2.0000000 & 2.266667\\\\\n",
       "\\end{tabular}\n"
      ],
      "text/markdown": [
       "\n",
       "A rstatix_test: 6 × 15\n",
       "\n",
       "| V_Genes &lt;fct&gt; | .y. &lt;chr&gt; | group1 &lt;chr&gt; | group2 &lt;chr&gt; | n1 &lt;int&gt; | n2 &lt;int&gt; | statistic &lt;dbl&gt; | p &lt;dbl&gt; | p.adj &lt;dbl&gt; | p.adj.signif &lt;chr&gt; | y.position &lt;dbl&gt; | groups &lt;named list&gt; | x &lt;dbl&gt; | xmin &lt;dbl&gt; | xmax &lt;dbl&gt; |\n",
       "|---|---|---|---|---|---|---|---|---|---|---|---|---|---|---|\n",
       "| IGHV1-18 | Frequency | T | N | 496 | 107 | 27844.5 | 0.424 | 1.000 | ns | 0.614 | T, N | 1 | 0.7333333 | 1.000000 |\n",
       "| IGHV1-18 | Frequency | T | L | 496 |  48 | 11042.0 | 0.407 | 1.000 | ns | 0.785 | T, L | 1 | 0.7333333 | 1.266667 |\n",
       "| IGHV1-18 | Frequency | N | L | 107 |  48 |  2242.5 | 0.208 | 1.000 | ns | 0.956 | N, L | 1 | 1.0000000 | 1.266667 |\n",
       "| IGHV1-2  | Frequency | T | N | 496 | 107 | 30966.5 | 0.006 | 0.486 | ns | 0.447 | T, N | 2 | 1.7333333 | 2.000000 |\n",
       "| IGHV1-2  | Frequency | T | L | 496 |  48 | 11788.5 | 0.911 | 1.000 | ns | 0.618 | T, L | 2 | 1.7333333 | 2.266667 |\n",
       "| IGHV1-2  | Frequency | N | L | 107 |  48 |  2051.5 | 0.042 | 1.000 | ns | 0.789 | N, L | 2 | 2.0000000 | 2.266667 |\n",
       "\n"
      ],
      "text/plain": [
       "  V_Genes  .y.       group1 group2 n1  n2  statistic p     p.adj p.adj.signif\n",
       "1 IGHV1-18 Frequency T      N      496 107 27844.5   0.424 1.000 ns          \n",
       "2 IGHV1-18 Frequency T      L      496  48 11042.0   0.407 1.000 ns          \n",
       "3 IGHV1-18 Frequency N      L      107  48  2242.5   0.208 1.000 ns          \n",
       "4 IGHV1-2  Frequency T      N      496 107 30966.5   0.006 0.486 ns          \n",
       "5 IGHV1-2  Frequency T      L      496  48 11788.5   0.911 1.000 ns          \n",
       "6 IGHV1-2  Frequency N      L      107  48  2051.5   0.042 1.000 ns          \n",
       "  y.position groups x xmin      xmax    \n",
       "1 0.614      T, N   1 0.7333333 1.000000\n",
       "2 0.785      T, L   1 0.7333333 1.266667\n",
       "3 0.956      N, L   1 1.0000000 1.266667\n",
       "4 0.447      T, N   2 1.7333333 2.000000\n",
       "5 0.618      T, L   2 1.7333333 2.266667\n",
       "6 0.789      N, L   2 2.0000000 2.266667"
      ]
     },
     "metadata": {},
     "output_type": "display_data"
    }
   ],
   "source": [
    "#IGH_Roe_mat<-table(multi_region_cdr3_VJ_type$V,multi_region_cdr3_VJ_type$type) #count  Reo\n",
    "IGH_Roe_mat<-prop.table(table(multi_region_cdr3_VJ_type$V,multi_region_cdr3_VJ_type$ID),margin=2)#frequency to calc Reo\n",
    "\n",
    "#IGH_Roe_mat<-IGH_Roe_mat[high_freq_IGHVs,]\n",
    "#dim(IGH_Roe_mat)\n",
    "## 各病人的V基因使用箱型图\n",
    "library(reshape2)\n",
    "IGH_Roe_mat_long<-melt(IGH_Roe_mat,value.name=\"Frequency\")\n",
    "colnames(IGH_Roe_mat_long)<-c(\"V_Genes\",\"ID\",\"Frequency\")\n",
    "\n",
    "IGH_Roe_mat_long$type<-str_sub(IGH_Roe_mat_long$ID,8,8)\n",
    "\n",
    "IGH_Roe_mat_long$type<-factor(IGH_Roe_mat_long$type, levels = c(\"T\",\"N\",\"L\"))\n",
    "\n",
    "#增加P值，参考：https://www.datanovia.com/en/blog/how-to-add-p-values-onto-a-grouped-ggplot-using-the-ggpubr-r-package/\n",
    "stat.test <- IGH_Roe_mat_long[,-2] %>%\n",
    "  group_by(V_Genes) %>%\n",
    "  wilcox_test(Frequency ~ type) %>%\n",
    "  #adjust_pvalue(method = \"BH\") %>%\n",
    "  adjust_pvalue(method = \"bonferroni\") %>%\n",
    "  add_significance(\"p.adj\")\n",
    "\n",
    "stat.test <- stat.test %>%\n",
    "  add_xy_position(x = \"V_Genes\", dodge = 0.8)\n",
    "\n",
    "head(stat.test)\n"
   ]
  },
  {
   "attachments": {},
   "cell_type": "markdown",
   "metadata": {},
   "source": [
    "## Fig2A"
   ]
  },
  {
   "attachments": {},
   "cell_type": "markdown",
   "metadata": {},
   "source": [
    "### 2.1.2 V基因作图"
   ]
  },
  {
   "cell_type": "code",
   "execution_count": 21,
   "metadata": {
    "vscode": {
     "languageId": "r"
    }
   },
   "outputs": [
    {
     "data": {
      "text/html": [
       "<table class=\"dataframe\">\n",
       "<caption>A data.frame: 3 × 4</caption>\n",
       "<thead>\n",
       "\t<tr><th></th><th scope=col>V_Genes</th><th scope=col>ID</th><th scope=col>Frequency</th><th scope=col>type</th></tr>\n",
       "\t<tr><th></th><th scope=col>&lt;fct&gt;</th><th scope=col>&lt;fct&gt;</th><th scope=col>&lt;dbl&gt;</th><th scope=col>&lt;fct&gt;</th></tr>\n",
       "</thead>\n",
       "<tbody>\n",
       "\t<tr><th scope=row>1</th><td>IGHV1-18</td><td>ESCC001N</td><td>0.07142857</td><td>N</td></tr>\n",
       "\t<tr><th scope=row>2</th><td>IGHV1-2 </td><td>ESCC001N</td><td>0.00000000</td><td>N</td></tr>\n",
       "\t<tr><th scope=row>3</th><td>IGHV1-3 </td><td>ESCC001N</td><td>0.00000000</td><td>N</td></tr>\n",
       "</tbody>\n",
       "</table>\n"
      ],
      "text/latex": [
       "A data.frame: 3 × 4\n",
       "\\begin{tabular}{r|llll}\n",
       "  & V\\_Genes & ID & Frequency & type\\\\\n",
       "  & <fct> & <fct> & <dbl> & <fct>\\\\\n",
       "\\hline\n",
       "\t1 & IGHV1-18 & ESCC001N & 0.07142857 & N\\\\\n",
       "\t2 & IGHV1-2  & ESCC001N & 0.00000000 & N\\\\\n",
       "\t3 & IGHV1-3  & ESCC001N & 0.00000000 & N\\\\\n",
       "\\end{tabular}\n"
      ],
      "text/markdown": [
       "\n",
       "A data.frame: 3 × 4\n",
       "\n",
       "| <!--/--> | V_Genes &lt;fct&gt; | ID &lt;fct&gt; | Frequency &lt;dbl&gt; | type &lt;fct&gt; |\n",
       "|---|---|---|---|---|\n",
       "| 1 | IGHV1-18 | ESCC001N | 0.07142857 | N |\n",
       "| 2 | IGHV1-2  | ESCC001N | 0.00000000 | N |\n",
       "| 3 | IGHV1-3  | ESCC001N | 0.00000000 | N |\n",
       "\n"
      ],
      "text/plain": [
       "  V_Genes  ID       Frequency  type\n",
       "1 IGHV1-18 ESCC001N 0.07142857 N   \n",
       "2 IGHV1-2  ESCC001N 0.00000000 N   \n",
       "3 IGHV1-3  ESCC001N 0.00000000 N   "
      ]
     },
     "metadata": {},
     "output_type": "display_data"
    }
   ],
   "source": [
    "IGH_Roe_mat_long[1:3,]\n",
    "write.csv(IGH_Roe_mat_long,\"Fig2A.csv\",row.names=FALSE,quote=FALSE)\n"
   ]
  },
  {
   "cell_type": "code",
   "execution_count": 19,
   "metadata": {
    "vscode": {
     "languageId": "r"
    }
   },
   "outputs": [
    {
     "name": "stderr",
     "output_type": "stream",
     "text": [
      "Warning message:\n",
      "\"\u001b[1m\u001b[22mRemoved 1 rows containing non-finite values (`stat_boxplot()`).\"\n"
     ]
    },
    {
     "data": {
      "image/png": "[encoded data removed]",
      "text/plain": [
       "plot without title"
      ]
     },
     "metadata": {
      "image/png": {
       "height": 240,
       "width": 720
      }
     },
     "output_type": "display_data"
    }
   ],
   "source": [
    "stat.test1<-stat.test[stat.test$p.adj.signif!=\"ns\",]\n",
    "\n",
    "stat.test1$y.position[stat.test1$y.position > 0.7]<-stat.test1$y.position[stat.test1$y.position > 0.7]-0.3\n",
    "stat.test1$y.position[stat.test1$y.position < 0.2]<-stat.test1$y.position[stat.test1$y.position < 0.2]+0.2\n",
    "\n",
    "options(repr.plot.width = 12, repr.plot.height = 4)\n",
    "g_v<-ggplot(IGH_Roe_mat_long,aes(x=V_Genes,y=Frequency,col=type))+\n",
    "    geom_boxplot(outlier.size = .1)+\n",
    "    theme_classic()+\n",
    "    #labs(x='CDR3 Length',y='Proportion')+\n",
    "    scale_color_manual(values=mypal)+\n",
    "    theme(panel.border = element_rect(fill=NA,color=\"black\",size=0.5,linetype=\"solid\"))+\n",
    "    theme(axis.text.x=element_text(angle=90,hjust=1,vjust=.5))+\n",
    "    theme(axis.text=element_text(size=16))+\n",
    "    stat_pvalue_manual( stat.test1,  label = \"p.adj.signif\",hide.ns = TRUE, tip.length = 0.02 )+\n",
    "    ylim(0,0.6)\n",
    "\n",
    "g_v"
   ]
  },
  {
   "attachments": {},
   "cell_type": "markdown",
   "metadata": {},
   "source": [
    "### 2.1.3 计算各个J基因的P值"
   ]
  },
  {
   "cell_type": "code",
   "execution_count": 22,
   "metadata": {
    "vscode": {
     "languageId": "r"
    }
   },
   "outputs": [
    {
     "data": {
      "text/html": [
       "<table class=\"dataframe\">\n",
       "<caption>A rstatix_test: 6 × 15</caption>\n",
       "<thead>\n",
       "\t<tr><th scope=col>J_Genes</th><th scope=col>.y.</th><th scope=col>group1</th><th scope=col>group2</th><th scope=col>n1</th><th scope=col>n2</th><th scope=col>statistic</th><th scope=col>p</th><th scope=col>p.adj</th><th scope=col>p.adj.signif</th><th scope=col>y.position</th><th scope=col>groups</th><th scope=col>x</th><th scope=col>xmin</th><th scope=col>xmax</th></tr>\n",
       "\t<tr><th scope=col>&lt;fct&gt;</th><th scope=col>&lt;chr&gt;</th><th scope=col>&lt;chr&gt;</th><th scope=col>&lt;chr&gt;</th><th scope=col>&lt;int&gt;</th><th scope=col>&lt;int&gt;</th><th scope=col>&lt;dbl&gt;</th><th scope=col>&lt;dbl&gt;</th><th scope=col>&lt;dbl&gt;</th><th scope=col>&lt;chr&gt;</th><th scope=col>&lt;dbl&gt;</th><th scope=col>&lt;named list&gt;</th><th scope=col>&lt;dbl&gt;</th><th scope=col>&lt;dbl&gt;</th><th scope=col>&lt;dbl&gt;</th></tr>\n",
       "</thead>\n",
       "<tbody>\n",
       "\t<tr><td>IGHJ1</td><td>Frequency</td><td>T</td><td>N</td><td>496</td><td>107</td><td>27919.5</td><td>0.397</td><td>1</td><td>ns</td><td>0.35932</td><td>T, N</td><td>1</td><td>0.7333333</td><td>1.000000</td></tr>\n",
       "\t<tr><td>IGHJ1</td><td>Frequency</td><td>T</td><td>L</td><td>496</td><td> 48</td><td>12918.0</td><td>0.329</td><td>1</td><td>ns</td><td>0.52330</td><td>T, L</td><td>1</td><td>0.7333333</td><td>1.266667</td></tr>\n",
       "\t<tr><td>IGHJ1</td><td>Frequency</td><td>N</td><td>L</td><td>107</td><td> 48</td><td> 2592.5</td><td>0.926</td><td>1</td><td>ns</td><td>0.68728</td><td>N, L</td><td>1</td><td>1.0000000</td><td>1.266667</td></tr>\n",
       "\t<tr><td>IGHJ2</td><td>Frequency</td><td>T</td><td>N</td><td>496</td><td>107</td><td>23759.5</td><td>0.089</td><td>1</td><td>ns</td><td>0.60932</td><td>T, N</td><td>2</td><td>1.7333333</td><td>2.000000</td></tr>\n",
       "\t<tr><td>IGHJ2</td><td>Frequency</td><td>T</td><td>L</td><td>496</td><td> 48</td><td>11307.5</td><td>0.566</td><td>1</td><td>ns</td><td>0.77330</td><td>T, L</td><td>2</td><td>1.7333333</td><td>2.266667</td></tr>\n",
       "\t<tr><td>IGHJ2</td><td>Frequency</td><td>N</td><td>L</td><td>107</td><td> 48</td><td> 2699.0</td><td>0.613</td><td>1</td><td>ns</td><td>0.93728</td><td>N, L</td><td>2</td><td>2.0000000</td><td>2.266667</td></tr>\n",
       "</tbody>\n",
       "</table>\n"
      ],
      "text/latex": [
       "A rstatix\\_test: 6 × 15\n",
       "\\begin{tabular}{lllllllllllllll}\n",
       " J\\_Genes & .y. & group1 & group2 & n1 & n2 & statistic & p & p.adj & p.adj.signif & y.position & groups & x & xmin & xmax\\\\\n",
       " <fct> & <chr> & <chr> & <chr> & <int> & <int> & <dbl> & <dbl> & <dbl> & <chr> & <dbl> & <named list> & <dbl> & <dbl> & <dbl>\\\\\n",
       "\\hline\n",
       "\t IGHJ1 & Frequency & T & N & 496 & 107 & 27919.5 & 0.397 & 1 & ns & 0.35932 & T, N & 1 & 0.7333333 & 1.000000\\\\\n",
       "\t IGHJ1 & Frequency & T & L & 496 &  48 & 12918.0 & 0.329 & 1 & ns & 0.52330 & T, L & 1 & 0.7333333 & 1.266667\\\\\n",
       "\t IGHJ1 & Frequency & N & L & 107 &  48 &  2592.5 & 0.926 & 1 & ns & 0.68728 & N, L & 1 & 1.0000000 & 1.266667\\\\\n",
       "\t IGHJ2 & Frequency & T & N & 496 & 107 & 23759.5 & 0.089 & 1 & ns & 0.60932 & T, N & 2 & 1.7333333 & 2.000000\\\\\n",
       "\t IGHJ2 & Frequency & T & L & 496 &  48 & 11307.5 & 0.566 & 1 & ns & 0.77330 & T, L & 2 & 1.7333333 & 2.266667\\\\\n",
       "\t IGHJ2 & Frequency & N & L & 107 &  48 &  2699.0 & 0.613 & 1 & ns & 0.93728 & N, L & 2 & 2.0000000 & 2.266667\\\\\n",
       "\\end{tabular}\n"
      ],
      "text/markdown": [
       "\n",
       "A rstatix_test: 6 × 15\n",
       "\n",
       "| J_Genes &lt;fct&gt; | .y. &lt;chr&gt; | group1 &lt;chr&gt; | group2 &lt;chr&gt; | n1 &lt;int&gt; | n2 &lt;int&gt; | statistic &lt;dbl&gt; | p &lt;dbl&gt; | p.adj &lt;dbl&gt; | p.adj.signif &lt;chr&gt; | y.position &lt;dbl&gt; | groups &lt;named list&gt; | x &lt;dbl&gt; | xmin &lt;dbl&gt; | xmax &lt;dbl&gt; |\n",
       "|---|---|---|---|---|---|---|---|---|---|---|---|---|---|---|\n",
       "| IGHJ1 | Frequency | T | N | 496 | 107 | 27919.5 | 0.397 | 1 | ns | 0.35932 | T, N | 1 | 0.7333333 | 1.000000 |\n",
       "| IGHJ1 | Frequency | T | L | 496 |  48 | 12918.0 | 0.329 | 1 | ns | 0.52330 | T, L | 1 | 0.7333333 | 1.266667 |\n",
       "| IGHJ1 | Frequency | N | L | 107 |  48 |  2592.5 | 0.926 | 1 | ns | 0.68728 | N, L | 1 | 1.0000000 | 1.266667 |\n",
       "| IGHJ2 | Frequency | T | N | 496 | 107 | 23759.5 | 0.089 | 1 | ns | 0.60932 | T, N | 2 | 1.7333333 | 2.000000 |\n",
       "| IGHJ2 | Frequency | T | L | 496 |  48 | 11307.5 | 0.566 | 1 | ns | 0.77330 | T, L | 2 | 1.7333333 | 2.266667 |\n",
       "| IGHJ2 | Frequency | N | L | 107 |  48 |  2699.0 | 0.613 | 1 | ns | 0.93728 | N, L | 2 | 2.0000000 | 2.266667 |\n",
       "\n"
      ],
      "text/plain": [
       "  J_Genes .y.       group1 group2 n1  n2  statistic p     p.adj p.adj.signif\n",
       "1 IGHJ1   Frequency T      N      496 107 27919.5   0.397 1     ns          \n",
       "2 IGHJ1   Frequency T      L      496  48 12918.0   0.329 1     ns          \n",
       "3 IGHJ1   Frequency N      L      107  48  2592.5   0.926 1     ns          \n",
       "4 IGHJ2   Frequency T      N      496 107 23759.5   0.089 1     ns          \n",
       "5 IGHJ2   Frequency T      L      496  48 11307.5   0.566 1     ns          \n",
       "6 IGHJ2   Frequency N      L      107  48  2699.0   0.613 1     ns          \n",
       "  y.position groups x xmin      xmax    \n",
       "1 0.35932    T, N   1 0.7333333 1.000000\n",
       "2 0.52330    T, L   1 0.7333333 1.266667\n",
       "3 0.68728    N, L   1 1.0000000 1.266667\n",
       "4 0.60932    T, N   2 1.7333333 2.000000\n",
       "5 0.77330    T, L   2 1.7333333 2.266667\n",
       "6 0.93728    N, L   2 2.0000000 2.266667"
      ]
     },
     "metadata": {},
     "output_type": "display_data"
    }
   ],
   "source": [
    "#IGH_Roe_mat<-table(multi_region_cdr3_VJ_type$V,multi_region_cdr3_VJ_type$type) #count  Reo\n",
    "IGH_Roe_mat<-prop.table(table(multi_region_cdr3_VJ_type$J,multi_region_cdr3_VJ_type$ID),margin=2)#frequency to calc Reo\n",
    "\n",
    "#IGH_Roe_mat<-IGH_Roe_mat[high_freq_IGHVs,]\n",
    "#dim(IGH_Roe_mat)\n",
    "## 各病人的J基因使用箱型图\n",
    "library(reshape2)\n",
    "IGH_Roe_mat_long<-melt(IGH_Roe_mat,value.name=\"Frequency\")\n",
    "colnames(IGH_Roe_mat_long)<-c(\"J_Genes\",\"ID\",\"Frequency\")\n",
    "\n",
    "IGH_Roe_mat_long$type<-str_sub(IGH_Roe_mat_long$ID,8,8)\n",
    "\n",
    "IGH_Roe_mat_long$type<-factor(IGH_Roe_mat_long$type, levels = c(\"T\",\"N\",\"L\"))\n",
    "\n",
    "#增加P值，参考：https://www.datanovia.com/en/blog/how-to-add-p-values-onto-a-grouped-ggplot-using-the-ggpubr-r-package/\n",
    "stat.test <- IGH_Roe_mat_long[,-2] %>%\n",
    "  group_by(J_Genes) %>%\n",
    "  wilcox_test(Frequency ~ type) %>%\n",
    "  #adjust_pvalue(method = \"BH\") %>%\n",
    "  adjust_pvalue(method = \"bonferroni\") %>%\n",
    "  add_significance(\"p.adj\")\n",
    "\n",
    "stat.test <- stat.test %>%\n",
    "  add_xy_position(x = \"J_Genes\", dodge = 0.8)\n",
    "\n",
    "head(stat.test)\n"
   ]
  },
  {
   "attachments": {},
   "cell_type": "markdown",
   "metadata": {},
   "source": [
    "## Fig2C"
   ]
  },
  {
   "attachments": {},
   "cell_type": "markdown",
   "metadata": {},
   "source": [
    "### 2.1.4 J 基因作图"
   ]
  },
  {
   "cell_type": "code",
   "execution_count": 23,
   "metadata": {
    "vscode": {
     "languageId": "r"
    }
   },
   "outputs": [
    {
     "data": {
      "text/html": [
       "<table class=\"dataframe\">\n",
       "<caption>A data.frame: 3 × 4</caption>\n",
       "<thead>\n",
       "\t<tr><th></th><th scope=col>J_Genes</th><th scope=col>ID</th><th scope=col>Frequency</th><th scope=col>type</th></tr>\n",
       "\t<tr><th></th><th scope=col>&lt;fct&gt;</th><th scope=col>&lt;fct&gt;</th><th scope=col>&lt;dbl&gt;</th><th scope=col>&lt;fct&gt;</th></tr>\n",
       "</thead>\n",
       "<tbody>\n",
       "\t<tr><th scope=row>1</th><td>IGHJ1</td><td>ESCC001N</td><td>0.00000000</td><td>N</td></tr>\n",
       "\t<tr><th scope=row>2</th><td>IGHJ2</td><td>ESCC001N</td><td>0.07142857</td><td>N</td></tr>\n",
       "\t<tr><th scope=row>3</th><td>IGHJ3</td><td>ESCC001N</td><td>0.07142857</td><td>N</td></tr>\n",
       "</tbody>\n",
       "</table>\n"
      ],
      "text/latex": [
       "A data.frame: 3 × 4\n",
       "\\begin{tabular}{r|llll}\n",
       "  & J\\_Genes & ID & Frequency & type\\\\\n",
       "  & <fct> & <fct> & <dbl> & <fct>\\\\\n",
       "\\hline\n",
       "\t1 & IGHJ1 & ESCC001N & 0.00000000 & N\\\\\n",
       "\t2 & IGHJ2 & ESCC001N & 0.07142857 & N\\\\\n",
       "\t3 & IGHJ3 & ESCC001N & 0.07142857 & N\\\\\n",
       "\\end{tabular}\n"
      ],
      "text/markdown": [
       "\n",
       "A data.frame: 3 × 4\n",
       "\n",
       "| <!--/--> | J_Genes &lt;fct&gt; | ID &lt;fct&gt; | Frequency &lt;dbl&gt; | type &lt;fct&gt; |\n",
       "|---|---|---|---|---|\n",
       "| 1 | IGHJ1 | ESCC001N | 0.00000000 | N |\n",
       "| 2 | IGHJ2 | ESCC001N | 0.07142857 | N |\n",
       "| 3 | IGHJ3 | ESCC001N | 0.07142857 | N |\n",
       "\n"
      ],
      "text/plain": [
       "  J_Genes ID       Frequency  type\n",
       "1 IGHJ1   ESCC001N 0.00000000 N   \n",
       "2 IGHJ2   ESCC001N 0.07142857 N   \n",
       "3 IGHJ3   ESCC001N 0.07142857 N   "
      ]
     },
     "metadata": {},
     "output_type": "display_data"
    }
   ],
   "source": [
    "IGH_Roe_mat_long[1:3,]\n",
    "write.csv(IGH_Roe_mat_long,\"Fig2C.csv\",row.names=FALSE,quote=FALSE)\n"
   ]
  },
  {
   "cell_type": "code",
   "execution_count": 21,
   "metadata": {
    "vscode": {
     "languageId": "r"
    }
   },
   "outputs": [
    {
     "data": {
      "text/html": [
       "<table class=\"dataframe\">\n",
       "<caption>A rstatix_test: 1 × 15</caption>\n",
       "<thead>\n",
       "\t<tr><th scope=col>J_Genes</th><th scope=col>.y.</th><th scope=col>group1</th><th scope=col>group2</th><th scope=col>n1</th><th scope=col>n2</th><th scope=col>statistic</th><th scope=col>p</th><th scope=col>p.adj</th><th scope=col>p.adj.signif</th><th scope=col>y.position</th><th scope=col>groups</th><th scope=col>x</th><th scope=col>xmin</th><th scope=col>xmax</th></tr>\n",
       "\t<tr><th scope=col>&lt;fct&gt;</th><th scope=col>&lt;chr&gt;</th><th scope=col>&lt;chr&gt;</th><th scope=col>&lt;chr&gt;</th><th scope=col>&lt;int&gt;</th><th scope=col>&lt;int&gt;</th><th scope=col>&lt;dbl&gt;</th><th scope=col>&lt;dbl&gt;</th><th scope=col>&lt;dbl&gt;</th><th scope=col>&lt;chr&gt;</th><th scope=col>&lt;dbl&gt;</th><th scope=col>&lt;named list&gt;</th><th scope=col>&lt;dbl&gt;</th><th scope=col>&lt;dbl&gt;</th><th scope=col>&lt;dbl&gt;</th></tr>\n",
       "</thead>\n",
       "<tbody>\n",
       "\t<tr><td>IGHJ6</td><td>Frequency</td><td>T</td><td>N</td><td>496</td><td>107</td><td>33502</td><td>2.03e-05</td><td>0.0003654</td><td>***</td><td>0.77632</td><td>T, N</td><td>6</td><td>5.733333</td><td>6</td></tr>\n",
       "</tbody>\n",
       "</table>\n"
      ],
      "text/latex": [
       "A rstatix\\_test: 1 × 15\n",
       "\\begin{tabular}{lllllllllllllll}\n",
       " J\\_Genes & .y. & group1 & group2 & n1 & n2 & statistic & p & p.adj & p.adj.signif & y.position & groups & x & xmin & xmax\\\\\n",
       " <fct> & <chr> & <chr> & <chr> & <int> & <int> & <dbl> & <dbl> & <dbl> & <chr> & <dbl> & <named list> & <dbl> & <dbl> & <dbl>\\\\\n",
       "\\hline\n",
       "\t IGHJ6 & Frequency & T & N & 496 & 107 & 33502 & 2.03e-05 & 0.0003654 & *** & 0.77632 & T, N & 6 & 5.733333 & 6\\\\\n",
       "\\end{tabular}\n"
      ],
      "text/markdown": [
       "\n",
       "A rstatix_test: 1 × 15\n",
       "\n",
       "| J_Genes &lt;fct&gt; | .y. &lt;chr&gt; | group1 &lt;chr&gt; | group2 &lt;chr&gt; | n1 &lt;int&gt; | n2 &lt;int&gt; | statistic &lt;dbl&gt; | p &lt;dbl&gt; | p.adj &lt;dbl&gt; | p.adj.signif &lt;chr&gt; | y.position &lt;dbl&gt; | groups &lt;named list&gt; | x &lt;dbl&gt; | xmin &lt;dbl&gt; | xmax &lt;dbl&gt; |\n",
       "|---|---|---|---|---|---|---|---|---|---|---|---|---|---|---|\n",
       "| IGHJ6 | Frequency | T | N | 496 | 107 | 33502 | 2.03e-05 | 0.0003654 | *** | 0.77632 | T, N | 6 | 5.733333 | 6 |\n",
       "\n"
      ],
      "text/plain": [
       "  J_Genes .y.       group1 group2 n1  n2  statistic p        p.adj    \n",
       "1 IGHJ6   Frequency T      N      496 107 33502     2.03e-05 0.0003654\n",
       "  p.adj.signif y.position groups x xmin     xmax\n",
       "1 ***          0.77632    T, N   6 5.733333 6   "
      ]
     },
     "metadata": {},
     "output_type": "display_data"
    }
   ],
   "source": [
    "stat.test1<-stat.test[stat.test$p.adj.signif!=\"ns\",]\n",
    "head(stat.test1)\n",
    "stat.test1$y.position[stat.test1$y.position > 0.7]<-stat.test1$y.position[stat.test1$y.position > 0.7]-0.1\n",
    "\n",
    "options(repr.plot.width = 5, repr.plot.height = 4)\n",
    "g_j<-ggplot(IGH_Roe_mat_long,aes(x=J_Genes,y=Frequency,col=type))+\n",
    "    geom_boxplot(outlier.size = .1)+\n",
    "    theme_classic()+\n",
    "    #labs(x='CDR3 Length',y='Proportion')+\n",
    "    scale_color_manual(values=mypal)+\n",
    "    theme(panel.border = element_rect(fill=NA,color=\"black\",size=0.5,linetype=\"solid\"))+\n",
    "    theme(axis.text.x=element_text(angle=90,hjust=1,vjust=.5))+\n",
    "    theme(axis.text=element_text(size=16))+\n",
    "    stat_pvalue_manual( stat.test1,  label = \"p.adj.signif\",hide.ns = TRUE, tip.length = 0.02 )+\n",
    "    ylim(0,0.9)"
   ]
  },
  {
   "cell_type": "code",
   "execution_count": 23,
   "metadata": {
    "vscode": {
     "languageId": "r"
    }
   },
   "outputs": [
    {
     "name": "stderr",
     "output_type": "stream",
     "text": [
      "Warning message:\n",
      "\"\u001b[1m\u001b[22mRemoved 1 rows containing non-finite values (`stat_boxplot()`).\"\n",
      "Warning message:\n",
      "\"\u001b[1m\u001b[22mRemoved 1 rows containing non-finite values (`stat_boxplot()`).\"\n",
      "Warning message:\n",
      "\"\u001b[1m\u001b[22mRemoved 1 rows containing non-finite values (`stat_boxplot()`).\"\n",
      "Warning message:\n",
      "\"\u001b[1m\u001b[22mRemoved 1 rows containing non-finite values (`stat_boxplot()`).\"\n"
     ]
    },
    {
     "data": {
      "text/html": [
       "<strong>png:</strong> 2"
      ],
      "text/latex": [
       "\\textbf{png:} 2"
      ],
      "text/markdown": [
       "**png:** 2"
      ],
      "text/plain": [
       "png \n",
       "  2 "
      ]
     },
     "metadata": {},
     "output_type": "display_data"
    },
    {
     "data": {
      "image/png": "[encoded data removed]",
      "text/plain": [
       "plot without title"
      ]
     },
     "metadata": {
      "image/png": {
       "height": 540,
       "width": 720
      }
     },
     "output_type": "display_data"
    }
   ],
   "source": [
    "options(repr.plot.width = 12  , repr.plot.height = 9)\n",
    "g_v+g_j+plot_layout(nrow=2)\n",
    "pdf(\"Fig2.VJ_MR_usage.pdf\",8,6)\n",
    "g_v+g_j+plot_layout(nrow=2)\n",
    "dev.off()"
   ]
  }
 ],
 "metadata": {
  "kernelspec": {
   "display_name": "R",
   "language": "R",
   "name": "ir"
  },
  "language_info": {
   "codemirror_mode": "r",
   "file_extension": ".r",
   "mimetype": "text/x-r-source",
   "name": "R",
   "pygments_lexer": "r",
   "version": "4.1.3"
  },
  "orig_nbformat": 4
 },
 "nbformat": 4,
 "nbformat_minor": 2
}

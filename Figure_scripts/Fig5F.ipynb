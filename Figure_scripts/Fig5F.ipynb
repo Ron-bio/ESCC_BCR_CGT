{
 "cells": [
  {
   "cell_type": "code",
   "execution_count": 9,
   "metadata": {
    "vscode": {
     "languageId": "r"
    }
   },
   "outputs": [],
   "source": [
    "library(ggplot2)\n",
    "library(plyr)\n",
    "library(dplyr)\n",
    "library(data.table)\n",
    "library(tidyr)\n",
    "library(tidyverse)\n",
    "library(ggplot2)\n",
    "library(ggsignif) \n",
    "library(ggpubr) \n",
    "library(reshape2)\n",
    "library(ggsci) \n",
    "library(stringr)\n",
    "library(ggvenn)\n",
    "library(ggpubr)\n",
    "\n",
    "options(repr.matrix.max.rows=600, repr.matrix.max.cols=200) \n",
    "options(repr.plot.width = 6, repr.plot.height = 6)"
   ]
  },
  {
   "cell_type": "code",
   "execution_count": 4,
   "metadata": {
    "vscode": {
     "languageId": "r"
    }
   },
   "outputs": [
    {
     "data": {
      "text/html": [
       "<table class=\"dataframe\">\n",
       "<caption>A data.frame: 3 × 5</caption>\n",
       "<thead>\n",
       "\t<tr><th></th><th scope=col>sample</th><th scope=col>closest_sample</th><th scope=col>type</th><th scope=col>closest_pos</th><th scope=col>sHIG</th></tr>\n",
       "\t<tr><th></th><th scope=col>&lt;chr&gt;</th><th scope=col>&lt;chr&gt;</th><th scope=col>&lt;chr&gt;</th><th scope=col>&lt;chr&gt;</th><th scope=col>&lt;dbl&gt;</th></tr>\n",
       "</thead>\n",
       "<tbody>\n",
       "\t<tr><th scope=row>1</th><td>ESCC001T1</td><td>ESCC001T5</td><td>T1</td><td>T5</td><td>0.9412713</td></tr>\n",
       "\t<tr><th scope=row>2</th><td>ESCC001T2</td><td>ESCC001T3</td><td>T2</td><td>T3</td><td>0.9447720</td></tr>\n",
       "\t<tr><th scope=row>3</th><td>ESCC001T3</td><td>ESCC001T5</td><td>T3</td><td>T5</td><td>0.9381510</td></tr>\n",
       "</tbody>\n",
       "</table>\n"
      ],
      "text/latex": [
       "A data.frame: 3 × 5\n",
       "\\begin{tabular}{r|lllll}\n",
       "  & sample & closest\\_sample & type & closest\\_pos & sHIG\\\\\n",
       "  & <chr> & <chr> & <chr> & <chr> & <dbl>\\\\\n",
       "\\hline\n",
       "\t1 & ESCC001T1 & ESCC001T5 & T1 & T5 & 0.9412713\\\\\n",
       "\t2 & ESCC001T2 & ESCC001T3 & T2 & T3 & 0.9447720\\\\\n",
       "\t3 & ESCC001T3 & ESCC001T5 & T3 & T5 & 0.9381510\\\\\n",
       "\\end{tabular}\n"
      ],
      "text/markdown": [
       "\n",
       "A data.frame: 3 × 5\n",
       "\n",
       "| <!--/--> | sample &lt;chr&gt; | closest_sample &lt;chr&gt; | type &lt;chr&gt; | closest_pos &lt;chr&gt; | sHIG &lt;dbl&gt; |\n",
       "|---|---|---|---|---|---|\n",
       "| 1 | ESCC001T1 | ESCC001T5 | T1 | T5 | 0.9412713 |\n",
       "| 2 | ESCC001T2 | ESCC001T3 | T2 | T3 | 0.9447720 |\n",
       "| 3 | ESCC001T3 | ESCC001T5 | T3 | T5 | 0.9381510 |\n",
       "\n"
      ],
      "text/plain": [
       "  sample    closest_sample type closest_pos sHIG     \n",
       "1 ESCC001T1 ESCC001T5      T1   T5          0.9412713\n",
       "2 ESCC001T2 ESCC001T3      T2   T3          0.9447720\n",
       "3 ESCC001T3 ESCC001T5      T3   T5          0.9381510"
      ]
     },
     "metadata": {},
     "output_type": "display_data"
    }
   ],
   "source": [
    "# 利用k nearest挖掘T1-T5,各自最接近的部位\n",
    "\n",
    "jac_long<-fread(\"Fig5F.sample_seq_overlap_addflag.csv\") %>% as.data.frame()\n",
    "jac_LoT<-jac_long[jac_long$flag==\"self.ToT\",]\n",
    "\n",
    "Single_T_jac_level<-tibble()\n",
    "samples<-unique(jac_LoT$sample1)[order(unique(jac_LoT$sample1),decreasing = FALSE)]\n",
    "for (s in samples){\n",
    "    data_s<-jac_LoT[jac_LoT$sample1==s,]\n",
    "    row_s<-c(s,mean(data_s$jaccard_index),median(data_s$jaccard_index),data_s$sample2[order(data_s$jaccard_index,decreasing = TRUE)[1]])\n",
    "    Single_T_jac_level<-rbind(Single_T_jac_level,row_s)\n",
    "}\n",
    "\n",
    "colnames(Single_T_jac_level)<-c(\"sample\",\"average_jaccard\",\"median_jaccard\",\"closest_sample\")\n",
    "\n",
    "Single_T_jac_level$closest_pos<-substr(Single_T_jac_level$closest_sample,8,9)\n",
    "Single_T_jac_level$type<-substr(Single_T_jac_level$sample,8,9)\n",
    "\n",
    "Single_T_jac_level$sHIG=1-as.numeric(Single_T_jac_level$average_jaccard)\n",
    "\n",
    "sHIG_closest_pos<-Single_T_jac_level[,c(1,4,6,5,7)]\n",
    "\n",
    "sHIG_closest_pos[1:3,]\n",
    "colnames(sHIG_closest_pos)=c('sample','sample.nearest','position','position.nearest','sHIG')\n",
    "#write.csv(sHIG_closest_pos,\"Sup.table_sHIG_closest_pos.csv\",quote=FALSE,row.names=FALSE)\n",
    "\n"
   ]
  },
  {
   "attachments": {},
   "cell_type": "markdown",
   "metadata": {},
   "source": [
    "### 【***】计算Single_T_jac_level中average_jaccard与哪些基因相关"
   ]
  },
  {
   "attachments": {},
   "cell_type": "markdown",
   "metadata": {},
   "source": [
    "## Fig5F"
   ]
  },
  {
   "cell_type": "code",
   "execution_count": 11,
   "metadata": {
    "vscode": {
     "languageId": "r"
    }
   },
   "outputs": [
    {
     "data": {
      "text/html": [
       "<style>\n",
       ".list-inline {list-style: none; margin:0; padding: 0}\n",
       ".list-inline>li {display: inline-block}\n",
       ".list-inline>li:not(:last-child)::after {content: \"\\00b7\"; padding: 0 .5ex}\n",
       "</style>\n",
       "<ol class=list-inline><li>4130</li><li>4</li></ol>\n"
      ],
      "text/latex": [
       "\\begin{enumerate*}\n",
       "\\item 4130\n",
       "\\item 4\n",
       "\\end{enumerate*}\n"
      ],
      "text/markdown": [
       "1. 4130\n",
       "2. 4\n",
       "\n",
       "\n"
      ],
      "text/plain": [
       "[1] 4130    4"
      ]
     },
     "metadata": {},
     "output_type": "display_data"
    },
    {
     "data": {
      "text/html": [
       "<style>\n",
       ".list-inline {list-style: none; margin:0; padding: 0}\n",
       ".list-inline>li {display: inline-block}\n",
       ".list-inline>li:not(:last-child)::after {content: \"\\00b7\"; padding: 0 .5ex}\n",
       "</style>\n",
       "<ol class=list-inline><li>1858</li><li>4</li></ol>\n"
      ],
      "text/latex": [
       "\\begin{enumerate*}\n",
       "\\item 1858\n",
       "\\item 4\n",
       "\\end{enumerate*}\n"
      ],
      "text/markdown": [
       "1. 1858\n",
       "2. 4\n",
       "\n",
       "\n"
      ],
      "text/plain": [
       "[1] 1858    4"
      ]
     },
     "metadata": {},
     "output_type": "display_data"
    },
    {
     "data": {
      "image/png": "[encoded data removed]",
      "text/plain": [
       "plot without title"
      ]
     },
     "metadata": {
      "image/png": {
       "height": 360,
       "width": 360
      }
     },
     "output_type": "display_data"
    }
   ],
   "source": [
    "jac_long<-fread(\"Fig5F.sample_seq_overlap_addflag.csv\") %>% as.data.frame()\n",
    "jac_long_self<-jac_long[-grep(\"between\",jac_long$flag),]\n",
    "\n",
    "dim(jac_long_self)\n",
    "jac_long_self1<-jac_long_self[jac_long_self$flag==\"self.ToT\",]\n",
    "dim(jac_long_self1)\n",
    "jac_long_self1$patient<-substr(jac_long_self1$sample1,1,7)\n",
    "\n",
    "patient_jac_level<-tibble()\n",
    "for(p in sort(unique(jac_long_self1$patient))){\n",
    "    data_p<-jac_long_self1[jac_long_self1$patient==p,]\n",
    "    row_p<-c(p,median(data_p$jaccard_index),mean(data_p$jaccard_index))\n",
    "    patient_jac_level<-rbind(patient_jac_level,row_p)\n",
    "}\n",
    "\n",
    "colnames(patient_jac_level)<-c(\"patient\",\"median_jaccard\",\"mean_jaccard\")\n",
    "options(repr.plot.width = 6, repr.plot.height = 6)\n",
    "\n",
    "library(survival)\n",
    "library(survminer)\n",
    "\n",
    "MR_survival_gene_data<-fread(\"Fig5F.MR_survival_gene_data.test.csv\") %>% as.data.frame(check.names=FALSE)\n",
    "rows_selected<-!duplicated(MR_survival_gene_data$Patient_ID)\n",
    "cols_selected<-colnames(MR_survival_gene_data) %in% c('Patient_ID','Gender','Age','Location','Smoking_status','Drinking_status','T','N','M','TNM','Tumor_grade','Lymphatic_metastasis','Survival_status','Survival_time')\n",
    "MR_survival_data<-MR_survival_gene_data[rows_selected,cols_selected]\n",
    "colnames(MR_survival_data)[1]<-\"patient\"\n",
    "\n",
    "MR_survival_data_jaccard<-merge(MR_survival_data,patient_jac_level,by=\"patient\")\n",
    "T_survival_gene<-MR_survival_data_jaccard\n",
    "\n",
    "gene=\"mean_jaccard\" \n",
    "T_survival_gene$gene_flag[T_survival_gene[,gene]>median(T_survival_gene[,gene])]<-\"high\"# heterogeneity low\n",
    "T_survival_gene$gene_flag[T_survival_gene[,gene]<=median(T_survival_gene[,gene])]<-\"low\"# heterogeneity high\n",
    "\n",
    "fit<-survfit(Surv(Survival_time,Survival_status) ~gene_flag, data=T_survival_gene)\n",
    "\n",
    "xx<-ggsurvplot(fit, data = T_survival_gene,\n",
    "           conf.int = FALSE,\n",
    "           pval = TRUE,\n",
    "           fun = \"pct\",\n",
    "           risk.table = TRUE,\n",
    "           size = 1,\n",
    "           linetype = \"strata\",\n",
    "           palette = c(rgb(234,123,11,maxColorValue=255),rgb(121,23,234,maxColorValue=255)),\n",
    "           legend = \"bottom\",\n",
    "           legend.labs = c(\"Heterogeneity Low\",\"Heterogeneity High\"),\n",
    "           legend.title=(\"Tumor Heterogeneity\"),\n",
    "           add.title=(\"Tumor Heterogeneity\")\n",
    "           )\n",
    "print(xx)\n"
   ]
  },
  {
   "cell_type": "code",
   "execution_count": 15,
   "metadata": {
    "vscode": {
     "languageId": "r"
    }
   },
   "outputs": [
    {
     "data": {
      "text/html": [
       "<table class=\"dataframe\">\n",
       "<caption>A data.frame: 3 × 6</caption>\n",
       "<thead>\n",
       "\t<tr><th></th><th scope=col>patient</th><th scope=col>Survival_status</th><th scope=col>Survival_time</th><th scope=col>median_jaccard</th><th scope=col>mean_jaccard</th><th scope=col>Patient_heterogenity_flag</th></tr>\n",
       "\t<tr><th></th><th scope=col>&lt;chr&gt;</th><th scope=col>&lt;int&gt;</th><th scope=col>&lt;dbl&gt;</th><th scope=col>&lt;chr&gt;</th><th scope=col>&lt;chr&gt;</th><th scope=col>&lt;chr&gt;</th></tr>\n",
       "</thead>\n",
       "<tbody>\n",
       "\t<tr><th scope=row>1</th><td>ESCC001</td><td>0</td><td>14</td><td>0.0549113596591341</td><td>0.0560223044132808 </td><td>low</td></tr>\n",
       "\t<tr><th scope=row>2</th><td>ESCC002</td><td>0</td><td>13</td><td>0                 </td><td>0.00401104664166154</td><td>low</td></tr>\n",
       "\t<tr><th scope=row>3</th><td>ESCC004</td><td>0</td><td>32</td><td>0                 </td><td>0                  </td><td>low</td></tr>\n",
       "</tbody>\n",
       "</table>\n"
      ],
      "text/latex": [
       "A data.frame: 3 × 6\n",
       "\\begin{tabular}{r|llllll}\n",
       "  & patient & Survival\\_status & Survival\\_time & median\\_jaccard & mean\\_jaccard & Patient\\_heterogenity\\_flag\\\\\n",
       "  & <chr> & <int> & <dbl> & <chr> & <chr> & <chr>\\\\\n",
       "\\hline\n",
       "\t1 & ESCC001 & 0 & 14 & 0.0549113596591341 & 0.0560223044132808  & low\\\\\n",
       "\t2 & ESCC002 & 0 & 13 & 0                  & 0.00401104664166154 & low\\\\\n",
       "\t3 & ESCC004 & 0 & 32 & 0                  & 0                   & low\\\\\n",
       "\\end{tabular}\n"
      ],
      "text/markdown": [
       "\n",
       "A data.frame: 3 × 6\n",
       "\n",
       "| <!--/--> | patient &lt;chr&gt; | Survival_status &lt;int&gt; | Survival_time &lt;dbl&gt; | median_jaccard &lt;chr&gt; | mean_jaccard &lt;chr&gt; | Patient_heterogenity_flag &lt;chr&gt; |\n",
       "|---|---|---|---|---|---|---|\n",
       "| 1 | ESCC001 | 0 | 14 | 0.0549113596591341 | 0.0560223044132808  | low |\n",
       "| 2 | ESCC002 | 0 | 13 | 0                  | 0.00401104664166154 | low |\n",
       "| 3 | ESCC004 | 0 | 32 | 0                  | 0                   | low |\n",
       "\n"
      ],
      "text/plain": [
       "  patient Survival_status Survival_time median_jaccard     mean_jaccard       \n",
       "1 ESCC001 0               14            0.0549113596591341 0.0560223044132808 \n",
       "2 ESCC002 0               13            0                  0.00401104664166154\n",
       "3 ESCC004 0               32            0                  0                  \n",
       "  Patient_heterogenity_flag\n",
       "1 low                      \n",
       "2 low                      \n",
       "3 low                      "
      ]
     },
     "metadata": {},
     "output_type": "display_data"
    }
   ],
   "source": [
    "colnames(T_survival_gene)[ncol(T_survival_gene)]<-\"Patient_heterogenity_flag\"\n",
    "T_survival_gene_selected<-T_survival_gene[,c(1,13,14,15,16,17)]\n",
    "T_survival_gene_selected[1:3,]\n",
    "write.csv(T_survival_gene_selected,\"Fig5F.csv\",row.names=FALSE,)"
   ]
  },
  {
   "cell_type": "code",
   "execution_count": 5,
   "metadata": {
    "vscode": {
     "languageId": "r"
    }
   },
   "outputs": [
    {
     "data": {
      "image/png": "[encoded data removed]",
      "text/plain": [
       "plot without title"
      ]
     },
     "metadata": {
      "image/png": {
       "height": 360,
       "width": 360
      }
     },
     "output_type": "display_data"
    }
   ],
   "source": [
    "library(survival)\n",
    "library(survminer)\n",
    "\n",
    "MR_survival_gene_data<-fread(\"Fig5F.MR_survival_gene_data.test.csv\") %>% as.data.frame(check.names=FALSE)\n",
    "rows_selected<-!duplicated(MR_survival_gene_data$Patient_ID)\n",
    "cols_selected<-colnames(MR_survival_gene_data) %in% c('Patient_ID','Gender','Age','Location','Smoking_status','Drinking_status','T','N','M','TNM','Tumor_grade','Lymphatic_metastasis','Survival_status','Survival_time')\n",
    "MR_survival_data<-MR_survival_gene_data[rows_selected,cols_selected]\n",
    "colnames(MR_survival_data)[1]<-\"patient\"\n",
    "\n",
    "Single_T_jac_level$patient<-substr(Single_T_jac_level$sample,1,7)\n",
    "MR_survival_data_jaccard<-merge(MR_survival_data,Single_T_jac_level,by=\"patient\")\n",
    "T_survival_gene<-MR_survival_data_jaccard\n",
    "T_survival_gene$average_jaccard<-as.numeric(T_survival_gene$average_jaccard)\n",
    "\n",
    "gene=\"average_jaccard\" \n",
    "T_survival_gene$gene_flag[T_survival_gene[,gene]>median(T_survival_gene[,gene])]<-\"high\"# heterogeneity low\n",
    "T_survival_gene$gene_flag[T_survival_gene[,gene]<=median(T_survival_gene[,gene])]<-\"low\"# heterogeneity high\n",
    "\n",
    "fit<-survfit(Surv(Survival_time,Survival_status) ~gene_flag, data=T_survival_gene)\n",
    "\n",
    "xx<-ggsurvplot(fit, data = T_survival_gene,\n",
    "           conf.int = FALSE,\n",
    "           pval = TRUE,\n",
    "           fun = \"pct\",\n",
    "           risk.table = TRUE,\n",
    "           size = 1,\n",
    "           linetype = \"strata\",\n",
    "           palette = c(rgb(234,123,11,maxColorValue=255),rgb(121,23,234,maxColorValue=255)),\n",
    "           legend = \"bottom\",\n",
    "           legend.labs = c(\"Heterogeneity Low\",\"Heterogeneity High\"),\n",
    "           legend.title=(\"Tumor Heterogeneity\"),\n",
    "           add.title=(\"Tumor Heterogeneity\")\n",
    "           )\n",
    "print(xx)\n",
    "\n"
   ]
  }
 ],
 "metadata": {
  "kernelspec": {
   "display_name": "R",
   "language": "R",
   "name": "ir"
  },
  "language_info": {
   "codemirror_mode": "r",
   "file_extension": ".r",
   "mimetype": "text/x-r-source",
   "name": "R",
   "pygments_lexer": "r",
   "version": "4.1.3"
  },
  "orig_nbformat": 4
 },
 "nbformat": 4,
 "nbformat_minor": 2
}

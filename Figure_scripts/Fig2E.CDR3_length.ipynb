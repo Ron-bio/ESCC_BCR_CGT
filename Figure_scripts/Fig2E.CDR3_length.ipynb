{
 "cells": [
  {
   "cell_type": "code",
   "execution_count": 1,
   "metadata": {
    "vscode": {
     "languageId": "r"
    }
   },
   "outputs": [
    {
     "name": "stderr",
     "output_type": "stream",
     "text": [
      "\n",
      "载入程辑包：'dplyr'\n",
      "\n",
      "\n",
      "The following objects are masked from 'package:plyr':\n",
      "\n",
      "    arrange, count, desc, failwith, id, mutate, rename, summarise,\n",
      "    summarize\n",
      "\n",
      "\n",
      "The following objects are masked from 'package:stats':\n",
      "\n",
      "    filter, lag\n",
      "\n",
      "\n",
      "The following objects are masked from 'package:base':\n",
      "\n",
      "    intersect, setdiff, setequal, union\n",
      "\n",
      "\n",
      "\n",
      "载入程辑包：'data.table'\n",
      "\n",
      "\n",
      "The following objects are masked from 'package:dplyr':\n",
      "\n",
      "    between, first, last\n",
      "\n",
      "\n",
      "-- \u001b[1mAttaching core tidyverse packages\u001b[22m ------------------------ tidyverse 2.0.0 --\n",
      "\u001b[32mv\u001b[39m \u001b[34mforcats  \u001b[39m 1.0.0     \u001b[32mv\u001b[39m \u001b[34mreadr    \u001b[39m 2.1.4\n",
      "\u001b[32mv\u001b[39m \u001b[34mlubridate\u001b[39m 1.9.2     \u001b[32mv\u001b[39m \u001b[34mstringr  \u001b[39m 1.5.0\n",
      "\u001b[32mv\u001b[39m \u001b[34mpurrr    \u001b[39m 1.0.1     \u001b[32mv\u001b[39m \u001b[34mtibble   \u001b[39m 3.2.1\n",
      "-- \u001b[1mConflicts\u001b[22m ------------------------------------------ tidyverse_conflicts() --\n",
      "\u001b[31mx\u001b[39m \u001b[34mdplyr\u001b[39m::\u001b[32marrange()\u001b[39m      masks \u001b[34mplyr\u001b[39m::arrange()\n",
      "\u001b[31mx\u001b[39m \u001b[34mdata.table\u001b[39m::\u001b[32mbetween()\u001b[39m masks \u001b[34mdplyr\u001b[39m::between()\n",
      "\u001b[31mx\u001b[39m \u001b[34mpurrr\u001b[39m::\u001b[32mcompact()\u001b[39m      masks \u001b[34mplyr\u001b[39m::compact()\n",
      "\u001b[31mx\u001b[39m \u001b[34mdplyr\u001b[39m::\u001b[32mcount()\u001b[39m        masks \u001b[34mplyr\u001b[39m::count()\n",
      "\u001b[31mx\u001b[39m \u001b[34mdplyr\u001b[39m::\u001b[32mdesc()\u001b[39m         masks \u001b[34mplyr\u001b[39m::desc()\n",
      "\u001b[31mx\u001b[39m \u001b[34mdplyr\u001b[39m::\u001b[32mfailwith()\u001b[39m     masks \u001b[34mplyr\u001b[39m::failwith()\n",
      "\u001b[31mx\u001b[39m \u001b[34mdplyr\u001b[39m::\u001b[32mfilter()\u001b[39m       masks \u001b[34mstats\u001b[39m::filter()\n",
      "\u001b[31mx\u001b[39m \u001b[34mdata.table\u001b[39m::\u001b[32mfirst()\u001b[39m   masks \u001b[34mdplyr\u001b[39m::first()\n",
      "\u001b[31mx\u001b[39m \u001b[34mlubridate\u001b[39m::\u001b[32mhour()\u001b[39m     masks \u001b[34mdata.table\u001b[39m::hour()\n",
      "\u001b[31mx\u001b[39m \u001b[34mdplyr\u001b[39m::\u001b[32mid()\u001b[39m           masks \u001b[34mplyr\u001b[39m::id()\n",
      "\u001b[31mx\u001b[39m \u001b[34mlubridate\u001b[39m::\u001b[32misoweek()\u001b[39m  masks \u001b[34mdata.table\u001b[39m::isoweek()\n",
      "\u001b[31mx\u001b[39m \u001b[34mdplyr\u001b[39m::\u001b[32mlag()\u001b[39m          masks \u001b[34mstats\u001b[39m::lag()\n",
      "\u001b[31mx\u001b[39m \u001b[34mdata.table\u001b[39m::\u001b[32mlast()\u001b[39m    masks \u001b[34mdplyr\u001b[39m::last()\n",
      "\u001b[31mx\u001b[39m \u001b[34mlubridate\u001b[39m::\u001b[32mmday()\u001b[39m     masks \u001b[34mdata.table\u001b[39m::mday()\n",
      "\u001b[31mx\u001b[39m \u001b[34mlubridate\u001b[39m::\u001b[32mminute()\u001b[39m   masks \u001b[34mdata.table\u001b[39m::minute()\n",
      "\u001b[31mx\u001b[39m \u001b[34mlubridate\u001b[39m::\u001b[32mmonth()\u001b[39m    masks \u001b[34mdata.table\u001b[39m::month()\n",
      "\u001b[31mx\u001b[39m \u001b[34mdplyr\u001b[39m::\u001b[32mmutate()\u001b[39m       masks \u001b[34mplyr\u001b[39m::mutate()\n",
      "\u001b[31mx\u001b[39m \u001b[34mlubridate\u001b[39m::\u001b[32mquarter()\u001b[39m  masks \u001b[34mdata.table\u001b[39m::quarter()\n",
      "\u001b[31mx\u001b[39m \u001b[34mdplyr\u001b[39m::\u001b[32mrename()\u001b[39m       masks \u001b[34mplyr\u001b[39m::rename()\n",
      "\u001b[31mx\u001b[39m \u001b[34mlubridate\u001b[39m::\u001b[32msecond()\u001b[39m   masks \u001b[34mdata.table\u001b[39m::second()\n",
      "\u001b[31mx\u001b[39m \u001b[34mdplyr\u001b[39m::\u001b[32msummarise()\u001b[39m    masks \u001b[34mplyr\u001b[39m::summarise()\n",
      "\u001b[31mx\u001b[39m \u001b[34mdplyr\u001b[39m::\u001b[32msummarize()\u001b[39m    masks \u001b[34mplyr\u001b[39m::summarize()\n",
      "\u001b[31mx\u001b[39m \u001b[34mpurrr\u001b[39m::\u001b[32mtranspose()\u001b[39m    masks \u001b[34mdata.table\u001b[39m::transpose()\n",
      "\u001b[31mx\u001b[39m \u001b[34mlubridate\u001b[39m::\u001b[32mwday()\u001b[39m     masks \u001b[34mdata.table\u001b[39m::wday()\n",
      "\u001b[31mx\u001b[39m \u001b[34mlubridate\u001b[39m::\u001b[32mweek()\u001b[39m     masks \u001b[34mdata.table\u001b[39m::week()\n",
      "\u001b[31mx\u001b[39m \u001b[34mlubridate\u001b[39m::\u001b[32myday()\u001b[39m     masks \u001b[34mdata.table\u001b[39m::yday()\n",
      "\u001b[31mx\u001b[39m \u001b[34mlubridate\u001b[39m::\u001b[32myear()\u001b[39m     masks \u001b[34mdata.table\u001b[39m::year()\n",
      "\u001b[36mi\u001b[39m Use the conflicted package (\u001b[3m\u001b[34m<http://conflicted.r-lib.org/>\u001b[39m\u001b[23m) to force all conflicts to become errors\n",
      "\n",
      "载入程辑包：'gridExtra'\n",
      "\n",
      "\n",
      "The following object is masked from 'package:dplyr':\n",
      "\n",
      "    combine\n",
      "\n",
      "\n",
      "载入需要的程辑包：ggpubr\n",
      "\n",
      "\n",
      "载入程辑包：'ggpubr'\n",
      "\n",
      "\n",
      "The following object is masked from 'package:plyr':\n",
      "\n",
      "    mutate\n",
      "\n",
      "\n",
      "\n",
      "载入程辑包：'survminer'\n",
      "\n",
      "\n",
      "The following object is masked from 'package:survival':\n",
      "\n",
      "    myeloma\n",
      "\n",
      "\n"
     ]
    }
   ],
   "source": [
    "library(ggplot2)\n",
    "library(plyr)\n",
    "library(dplyr)\n",
    "library(data.table)\n",
    "library(readxl)\n",
    "library(tidyr)\n",
    "library(tidyverse)\n",
    "library(grid)\n",
    "library(gridExtra)\n",
    "library(survival)\n",
    "library(survminer)\n",
    "library(stringr)\n",
    "library(patchwork)\n",
    "\n",
    "options(repr.matrix.max.rows=600, repr.matrix.max.cols=200) \n",
    "options(repr.plot.width = 6, repr.plot.height = 6)"
   ]
  },
  {
   "attachments": {},
   "cell_type": "markdown",
   "metadata": {},
   "source": [
    "## read Multi Region data"
   ]
  },
  {
   "cell_type": "code",
   "execution_count": 2,
   "metadata": {
    "vscode": {
     "languageId": "r"
    }
   },
   "outputs": [
    {
     "data": {
      "text/html": [
       "<table class=\"dataframe\">\n",
       "<caption>A data.frame: 6 × 73</caption>\n",
       "<thead>\n",
       "\t<tr><th></th><th scope=col>Patient_ID</th><th scope=col>Gender</th><th scope=col>Age</th><th scope=col>Location</th><th scope=col>Smoking_status</th><th scope=col>Drinking_status</th><th scope=col>T</th><th scope=col>N</th><th scope=col>M</th><th scope=col>TNM</th><th scope=col>Tumor_grade</th><th scope=col>Lymphatic_metastasis</th><th scope=col>Surgery_date</th><th scope=col>Follow-up_date</th><th scope=col>Followup_death_date1</th><th scope=col>Death_date</th><th scope=col>Survival_status</th><th scope=col>Survival_time</th><th scope=col>Chemotherapy</th><th scope=col>Radiotherapy</th><th scope=col>Other_therapy</th><th scope=col>ID</th><th scope=col>Cohort</th><th scope=col>Count</th><th scope=col>Frequency</th><th scope=col>CDR3nt</th><th scope=col>CDR3aa</th><th scope=col>V</th><th scope=col>D</th><th scope=col>J</th><th scope=col>C</th><th scope=col>cid</th><th scope=col>cid_full_length</th><th scope=col>type</th><th scope=col>s_richness</th><th scope=col>s_shannon</th><th scope=col>s_clonality</th><th scope=col>IGHM_proportion_unique</th><th scope=col>IGHM_proportion_redundant</th><th scope=col>s_richness_IGHM</th><th scope=col>s_count_IGHM</th><th scope=col>IGHD_proportion_unique</th><th scope=col>IGHD_proportion_redundant</th><th scope=col>s_richness_IGHD</th><th scope=col>s_count_IGHD</th><th scope=col>IGHA1_proportion_unique</th><th scope=col>IGHA1_proportion_redundant</th><th scope=col>s_richness_IGHA1</th><th scope=col>s_count_IGHA1</th><th scope=col>IGHA2_proportion_unique</th><th scope=col>IGHA2_proportion_redundant</th><th scope=col>s_richness_IGHA2</th><th scope=col>s_count_IGHA2</th><th scope=col>IGHG1_proportion_unique</th><th scope=col>IGHG1_proportion_redundant</th><th scope=col>s_richness_IGHG1</th><th scope=col>s_count_IGHG1</th><th scope=col>IGHG2_proportion_unique</th><th scope=col>IGHG2_proportion_redundant</th><th scope=col>s_richness_IGHG2</th><th scope=col>s_count_IGHG2</th><th scope=col>IGHG3_proportion_unique</th><th scope=col>IGHG3_proportion_redundant</th><th scope=col>s_richness_IGHG3</th><th scope=col>s_count_IGHG3</th><th scope=col>IGHG4_proportion_unique</th><th scope=col>IGHG4_proportion_redundant</th><th scope=col>s_richness_IGHG4</th><th scope=col>s_count_IGHG4</th><th scope=col>IGHE_proportion_unique</th><th scope=col>IGHE_proportion_redundant</th><th scope=col>s_richness_IGHE</th><th scope=col>s_count_IGHE</th></tr>\n",
       "\t<tr><th></th><th scope=col>&lt;chr&gt;</th><th scope=col>&lt;chr&gt;</th><th scope=col>&lt;int&gt;</th><th scope=col>&lt;chr&gt;</th><th scope=col>&lt;chr&gt;</th><th scope=col>&lt;chr&gt;</th><th scope=col>&lt;chr&gt;</th><th scope=col>&lt;chr&gt;</th><th scope=col>&lt;chr&gt;</th><th scope=col>&lt;chr&gt;</th><th scope=col>&lt;chr&gt;</th><th scope=col>&lt;chr&gt;</th><th scope=col>&lt;chr&gt;</th><th scope=col>&lt;chr&gt;</th><th scope=col>&lt;int&gt;</th><th scope=col>&lt;chr&gt;</th><th scope=col>&lt;int&gt;</th><th scope=col>&lt;dbl&gt;</th><th scope=col>&lt;chr&gt;</th><th scope=col>&lt;chr&gt;</th><th scope=col>&lt;chr&gt;</th><th scope=col>&lt;chr&gt;</th><th scope=col>&lt;chr&gt;</th><th scope=col>&lt;int&gt;</th><th scope=col>&lt;dbl&gt;</th><th scope=col>&lt;chr&gt;</th><th scope=col>&lt;chr&gt;</th><th scope=col>&lt;chr&gt;</th><th scope=col>&lt;chr&gt;</th><th scope=col>&lt;chr&gt;</th><th scope=col>&lt;chr&gt;</th><th scope=col>&lt;chr&gt;</th><th scope=col>&lt;int&gt;</th><th scope=col>&lt;fct&gt;</th><th scope=col>&lt;int&gt;</th><th scope=col>&lt;dbl&gt;</th><th scope=col>&lt;dbl&gt;</th><th scope=col>&lt;dbl&gt;</th><th scope=col>&lt;dbl&gt;</th><th scope=col>&lt;int&gt;</th><th scope=col>&lt;int&gt;</th><th scope=col>&lt;dbl&gt;</th><th scope=col>&lt;dbl&gt;</th><th scope=col>&lt;int&gt;</th><th scope=col>&lt;int&gt;</th><th scope=col>&lt;dbl&gt;</th><th scope=col>&lt;dbl&gt;</th><th scope=col>&lt;int&gt;</th><th scope=col>&lt;int&gt;</th><th scope=col>&lt;dbl&gt;</th><th scope=col>&lt;dbl&gt;</th><th scope=col>&lt;int&gt;</th><th scope=col>&lt;int&gt;</th><th scope=col>&lt;dbl&gt;</th><th scope=col>&lt;dbl&gt;</th><th scope=col>&lt;int&gt;</th><th scope=col>&lt;int&gt;</th><th scope=col>&lt;dbl&gt;</th><th scope=col>&lt;dbl&gt;</th><th scope=col>&lt;int&gt;</th><th scope=col>&lt;int&gt;</th><th scope=col>&lt;dbl&gt;</th><th scope=col>&lt;dbl&gt;</th><th scope=col>&lt;int&gt;</th><th scope=col>&lt;int&gt;</th><th scope=col>&lt;dbl&gt;</th><th scope=col>&lt;dbl&gt;</th><th scope=col>&lt;int&gt;</th><th scope=col>&lt;int&gt;</th><th scope=col>&lt;dbl&gt;</th><th scope=col>&lt;dbl&gt;</th><th scope=col>&lt;int&gt;</th><th scope=col>&lt;int&gt;</th></tr>\n",
       "</thead>\n",
       "<tbody>\n",
       "\t<tr><th scope=row>1</th><td>ESCC001</td><td>Male</td><td>60</td><td>Middle</td><td>never</td><td>never</td><td>T3</td><td>N0</td><td>M0</td><td>Ⅱb</td><td>G2</td><td>No</td><td>2016-05-26</td><td>42949</td><td>NA</td><td>NA</td><td>0</td><td>14</td><td>无</td><td>无</td><td>无</td><td>ESCC001N</td><td>Multi_region</td><td>17</td><td>0.08947368</td><td>TGTGCGAGACAAACACACTCACGTTTTTCGTGGAGGGACCTCTACGGTTTGGACGTCTGG                  </td><td>CARQTHSRFSWRDLYGLDVW      </td><td>IGHV4-39</td><td>IGHD3-10*01</td><td>IGHJ4</td><td>IGHG1</td><td>assemble2   </td><td>0</td><td>N</td><td>14</td><td>2.482157</td><td>0.05945309</td><td>0.1428571</td><td>0.175</td><td>2</td><td>14</td><td>0</td><td>0</td><td>0</td><td>0</td><td>0.5</td><td>0.425</td><td>7</td><td>34</td><td>0.07142857</td><td>0.0625</td><td>1</td><td>5</td><td>0.2142857</td><td>0.3</td><td>3</td><td>24</td><td>0.07142857</td><td>0.0375</td><td>1</td><td>3</td><td>0</td><td>0</td><td>0</td><td>0</td><td>0</td><td>0</td><td>0</td><td>0</td><td>0</td><td>0</td><td>0</td><td>0</td></tr>\n",
       "\t<tr><th scope=row>2</th><td>ESCC001</td><td>Male</td><td>60</td><td>Middle</td><td>never</td><td>never</td><td>T3</td><td>N0</td><td>M0</td><td>Ⅱb</td><td>G2</td><td>No</td><td>2016-05-26</td><td>42949</td><td>NA</td><td>NA</td><td>0</td><td>14</td><td>无</td><td>无</td><td>无</td><td>ESCC001N</td><td>Multi_region</td><td> 9</td><td>0.04736842</td><td>TGTGCGAGACGCCGGACGTATAACTGGAACGACCGGTACTTTGACTACTGG                           </td><td>CARRRTYNWNDRYFDYW         </td><td>IGHV4-59</td><td>IGHD1-20*01</td><td>IGHJ4</td><td>IGHM </td><td>assemble12  </td><td>1</td><td>N</td><td>14</td><td>2.482157</td><td>0.05945309</td><td>0.1428571</td><td>0.175</td><td>2</td><td>14</td><td>0</td><td>0</td><td>0</td><td>0</td><td>0.5</td><td>0.425</td><td>7</td><td>34</td><td>0.07142857</td><td>0.0625</td><td>1</td><td>5</td><td>0.2142857</td><td>0.3</td><td>3</td><td>24</td><td>0.07142857</td><td>0.0375</td><td>1</td><td>3</td><td>0</td><td>0</td><td>0</td><td>0</td><td>0</td><td>0</td><td>0</td><td>0</td><td>0</td><td>0</td><td>0</td><td>0</td></tr>\n",
       "\t<tr><th scope=row>3</th><td>ESCC001</td><td>Male</td><td>60</td><td>Middle</td><td>never</td><td>never</td><td>T3</td><td>N0</td><td>M0</td><td>Ⅱb</td><td>G2</td><td>No</td><td>2016-05-26</td><td>42949</td><td>NA</td><td>NA</td><td>0</td><td>14</td><td>无</td><td>无</td><td>无</td><td>ESCC001N</td><td>Multi_region</td><td> 8</td><td>0.04210526</td><td>TGTGCGAGACATGAGCGTCAGAAACGGGGGTGGATACCAGCTGCCCCTCGGTTCGACCCCTGG               </td><td>CARHERQKRGWIPAAPRFDPW     </td><td>IGHV4-39</td><td>IGHD5-18*01</td><td>IGHJ5</td><td>IGHA1</td><td>assemble3   </td><td>0</td><td>N</td><td>14</td><td>2.482157</td><td>0.05945309</td><td>0.1428571</td><td>0.175</td><td>2</td><td>14</td><td>0</td><td>0</td><td>0</td><td>0</td><td>0.5</td><td>0.425</td><td>7</td><td>34</td><td>0.07142857</td><td>0.0625</td><td>1</td><td>5</td><td>0.2142857</td><td>0.3</td><td>3</td><td>24</td><td>0.07142857</td><td>0.0375</td><td>1</td><td>3</td><td>0</td><td>0</td><td>0</td><td>0</td><td>0</td><td>0</td><td>0</td><td>0</td><td>0</td><td>0</td><td>0</td><td>0</td></tr>\n",
       "\t<tr><th scope=row>4</th><td>ESCC001</td><td>Male</td><td>60</td><td>Middle</td><td>never</td><td>never</td><td>T3</td><td>N0</td><td>M0</td><td>Ⅱb</td><td>G2</td><td>No</td><td>2016-05-26</td><td>42949</td><td>NA</td><td>NA</td><td>0</td><td>14</td><td>无</td><td>无</td><td>无</td><td>ESCC001N</td><td>Multi_region</td><td> 6</td><td>0.03157895</td><td>TGTGGTAGACATAAACCCCACCTCCTAGGGGTACTGGTGGTCGCTGCTACTGCATTTGACTACTGG            </td><td>CGRHKPHLLGVLVVAATAFDYW    </td><td>IGHV4-39</td><td>IGHD2-15*01</td><td>IGHJ4</td><td>IGHA1</td><td>assemble141 </td><td>0</td><td>N</td><td>14</td><td>2.482157</td><td>0.05945309</td><td>0.1428571</td><td>0.175</td><td>2</td><td>14</td><td>0</td><td>0</td><td>0</td><td>0</td><td>0.5</td><td>0.425</td><td>7</td><td>34</td><td>0.07142857</td><td>0.0625</td><td>1</td><td>5</td><td>0.2142857</td><td>0.3</td><td>3</td><td>24</td><td>0.07142857</td><td>0.0375</td><td>1</td><td>3</td><td>0</td><td>0</td><td>0</td><td>0</td><td>0</td><td>0</td><td>0</td><td>0</td><td>0</td><td>0</td><td>0</td><td>0</td></tr>\n",
       "\t<tr><th scope=row>5</th><td>ESCC001</td><td>Male</td><td>60</td><td>Middle</td><td>never</td><td>never</td><td>T3</td><td>N0</td><td>M0</td><td>Ⅱb</td><td>G2</td><td>No</td><td>2016-05-26</td><td>42949</td><td>NA</td><td>NA</td><td>0</td><td>14</td><td>无</td><td>无</td><td>无</td><td>ESCC001N</td><td>Multi_region</td><td> 6</td><td>0.03157895</td><td>TGTGCGAGAGATGCATCCCGGTTCGACCCCTGG                                             </td><td>CARDASRFDPW               </td><td>IGHV4-59</td><td>IGHD5-24*01</td><td>IGHJ5</td><td>IGHA1</td><td>assemble1310</td><td>0</td><td>N</td><td>14</td><td>2.482157</td><td>0.05945309</td><td>0.1428571</td><td>0.175</td><td>2</td><td>14</td><td>0</td><td>0</td><td>0</td><td>0</td><td>0.5</td><td>0.425</td><td>7</td><td>34</td><td>0.07142857</td><td>0.0625</td><td>1</td><td>5</td><td>0.2142857</td><td>0.3</td><td>3</td><td>24</td><td>0.07142857</td><td>0.0375</td><td>1</td><td>3</td><td>0</td><td>0</td><td>0</td><td>0</td><td>0</td><td>0</td><td>0</td><td>0</td><td>0</td><td>0</td><td>0</td><td>0</td></tr>\n",
       "\t<tr><th scope=row>6</th><td>ESCC001</td><td>Male</td><td>60</td><td>Middle</td><td>never</td><td>never</td><td>T3</td><td>N0</td><td>M0</td><td>Ⅱb</td><td>G2</td><td>No</td><td>2016-05-26</td><td>42949</td><td>NA</td><td>NA</td><td>0</td><td>14</td><td>无</td><td>无</td><td>无</td><td>ESCC001N</td><td>Multi_region</td><td> 5</td><td>0.02631579</td><td>TGTGCGAGGTCCAGTAGAGCAGCTGGACTCGACCGCGTATGGAAGGGTTTCTACTACTACTACTACATGGACGTCTGG</td><td>CARSSRAAGLDRVWKGFYYYYYMDVW</td><td>IGHV3-11</td><td>IGHD6-6*01 </td><td>IGHJ6</td><td>IGHM </td><td>assemble362 </td><td>0</td><td>N</td><td>14</td><td>2.482157</td><td>0.05945309</td><td>0.1428571</td><td>0.175</td><td>2</td><td>14</td><td>0</td><td>0</td><td>0</td><td>0</td><td>0.5</td><td>0.425</td><td>7</td><td>34</td><td>0.07142857</td><td>0.0625</td><td>1</td><td>5</td><td>0.2142857</td><td>0.3</td><td>3</td><td>24</td><td>0.07142857</td><td>0.0375</td><td>1</td><td>3</td><td>0</td><td>0</td><td>0</td><td>0</td><td>0</td><td>0</td><td>0</td><td>0</td><td>0</td><td>0</td><td>0</td><td>0</td></tr>\n",
       "</tbody>\n",
       "</table>\n"
      ],
      "text/latex": [
       "A data.frame: 6 × 73\n",
       "\\begin{tabular}{r|lllllllllllllllllllllllllllllllllllllllllllllllllllllllllllllllllllllllll}\n",
       "  & Patient\\_ID & Gender & Age & Location & Smoking\\_status & Drinking\\_status & T & N & M & TNM & Tumor\\_grade & Lymphatic\\_metastasis & Surgery\\_date & Follow-up\\_date & Followup\\_death\\_date1 & Death\\_date & Survival\\_status & Survival\\_time & Chemotherapy & Radiotherapy & Other\\_therapy & ID & Cohort & Count & Frequency & CDR3nt & CDR3aa & V & D & J & C & cid & cid\\_full\\_length & type & s\\_richness & s\\_shannon & s\\_clonality & IGHM\\_proportion\\_unique & IGHM\\_proportion\\_redundant & s\\_richness\\_IGHM & s\\_count\\_IGHM & IGHD\\_proportion\\_unique & IGHD\\_proportion\\_redundant & s\\_richness\\_IGHD & s\\_count\\_IGHD & IGHA1\\_proportion\\_unique & IGHA1\\_proportion\\_redundant & s\\_richness\\_IGHA1 & s\\_count\\_IGHA1 & IGHA2\\_proportion\\_unique & IGHA2\\_proportion\\_redundant & s\\_richness\\_IGHA2 & s\\_count\\_IGHA2 & IGHG1\\_proportion\\_unique & IGHG1\\_proportion\\_redundant & s\\_richness\\_IGHG1 & s\\_count\\_IGHG1 & IGHG2\\_proportion\\_unique & IGHG2\\_proportion\\_redundant & s\\_richness\\_IGHG2 & s\\_count\\_IGHG2 & IGHG3\\_proportion\\_unique & IGHG3\\_proportion\\_redundant & s\\_richness\\_IGHG3 & s\\_count\\_IGHG3 & IGHG4\\_proportion\\_unique & IGHG4\\_proportion\\_redundant & s\\_richness\\_IGHG4 & s\\_count\\_IGHG4 & IGHE\\_proportion\\_unique & IGHE\\_proportion\\_redundant & s\\_richness\\_IGHE & s\\_count\\_IGHE\\\\\n",
       "  & <chr> & <chr> & <int> & <chr> & <chr> & <chr> & <chr> & <chr> & <chr> & <chr> & <chr> & <chr> & <chr> & <chr> & <int> & <chr> & <int> & <dbl> & <chr> & <chr> & <chr> & <chr> & <chr> & <int> & <dbl> & <chr> & <chr> & <chr> & <chr> & <chr> & <chr> & <chr> & <int> & <fct> & <int> & <dbl> & <dbl> & <dbl> & <dbl> & <int> & <int> & <dbl> & <dbl> & <int> & <int> & <dbl> & <dbl> & <int> & <int> & <dbl> & <dbl> & <int> & <int> & <dbl> & <dbl> & <int> & <int> & <dbl> & <dbl> & <int> & <int> & <dbl> & <dbl> & <int> & <int> & <dbl> & <dbl> & <int> & <int> & <dbl> & <dbl> & <int> & <int>\\\\\n",
       "\\hline\n",
       "\t1 & ESCC001 & Male & 60 & Middle & never & never & T3 & N0 & M0 & Ⅱb & G2 & No & 2016-05-26 & 42949 & NA & NA & 0 & 14 & 无 & 无 & 无 & ESCC001N & Multi\\_region & 17 & 0.08947368 & TGTGCGAGACAAACACACTCACGTTTTTCGTGGAGGGACCTCTACGGTTTGGACGTCTGG                   & CARQTHSRFSWRDLYGLDVW       & IGHV4-39 & IGHD3-10*01 & IGHJ4 & IGHG1 & assemble2    & 0 & N & 14 & 2.482157 & 0.05945309 & 0.1428571 & 0.175 & 2 & 14 & 0 & 0 & 0 & 0 & 0.5 & 0.425 & 7 & 34 & 0.07142857 & 0.0625 & 1 & 5 & 0.2142857 & 0.3 & 3 & 24 & 0.07142857 & 0.0375 & 1 & 3 & 0 & 0 & 0 & 0 & 0 & 0 & 0 & 0 & 0 & 0 & 0 & 0\\\\\n",
       "\t2 & ESCC001 & Male & 60 & Middle & never & never & T3 & N0 & M0 & Ⅱb & G2 & No & 2016-05-26 & 42949 & NA & NA & 0 & 14 & 无 & 无 & 无 & ESCC001N & Multi\\_region &  9 & 0.04736842 & TGTGCGAGACGCCGGACGTATAACTGGAACGACCGGTACTTTGACTACTGG                            & CARRRTYNWNDRYFDYW          & IGHV4-59 & IGHD1-20*01 & IGHJ4 & IGHM  & assemble12   & 1 & N & 14 & 2.482157 & 0.05945309 & 0.1428571 & 0.175 & 2 & 14 & 0 & 0 & 0 & 0 & 0.5 & 0.425 & 7 & 34 & 0.07142857 & 0.0625 & 1 & 5 & 0.2142857 & 0.3 & 3 & 24 & 0.07142857 & 0.0375 & 1 & 3 & 0 & 0 & 0 & 0 & 0 & 0 & 0 & 0 & 0 & 0 & 0 & 0\\\\\n",
       "\t3 & ESCC001 & Male & 60 & Middle & never & never & T3 & N0 & M0 & Ⅱb & G2 & No & 2016-05-26 & 42949 & NA & NA & 0 & 14 & 无 & 无 & 无 & ESCC001N & Multi\\_region &  8 & 0.04210526 & TGTGCGAGACATGAGCGTCAGAAACGGGGGTGGATACCAGCTGCCCCTCGGTTCGACCCCTGG                & CARHERQKRGWIPAAPRFDPW      & IGHV4-39 & IGHD5-18*01 & IGHJ5 & IGHA1 & assemble3    & 0 & N & 14 & 2.482157 & 0.05945309 & 0.1428571 & 0.175 & 2 & 14 & 0 & 0 & 0 & 0 & 0.5 & 0.425 & 7 & 34 & 0.07142857 & 0.0625 & 1 & 5 & 0.2142857 & 0.3 & 3 & 24 & 0.07142857 & 0.0375 & 1 & 3 & 0 & 0 & 0 & 0 & 0 & 0 & 0 & 0 & 0 & 0 & 0 & 0\\\\\n",
       "\t4 & ESCC001 & Male & 60 & Middle & never & never & T3 & N0 & M0 & Ⅱb & G2 & No & 2016-05-26 & 42949 & NA & NA & 0 & 14 & 无 & 无 & 无 & ESCC001N & Multi\\_region &  6 & 0.03157895 & TGTGGTAGACATAAACCCCACCTCCTAGGGGTACTGGTGGTCGCTGCTACTGCATTTGACTACTGG             & CGRHKPHLLGVLVVAATAFDYW     & IGHV4-39 & IGHD2-15*01 & IGHJ4 & IGHA1 & assemble141  & 0 & N & 14 & 2.482157 & 0.05945309 & 0.1428571 & 0.175 & 2 & 14 & 0 & 0 & 0 & 0 & 0.5 & 0.425 & 7 & 34 & 0.07142857 & 0.0625 & 1 & 5 & 0.2142857 & 0.3 & 3 & 24 & 0.07142857 & 0.0375 & 1 & 3 & 0 & 0 & 0 & 0 & 0 & 0 & 0 & 0 & 0 & 0 & 0 & 0\\\\\n",
       "\t5 & ESCC001 & Male & 60 & Middle & never & never & T3 & N0 & M0 & Ⅱb & G2 & No & 2016-05-26 & 42949 & NA & NA & 0 & 14 & 无 & 无 & 无 & ESCC001N & Multi\\_region &  6 & 0.03157895 & TGTGCGAGAGATGCATCCCGGTTCGACCCCTGG                                              & CARDASRFDPW                & IGHV4-59 & IGHD5-24*01 & IGHJ5 & IGHA1 & assemble1310 & 0 & N & 14 & 2.482157 & 0.05945309 & 0.1428571 & 0.175 & 2 & 14 & 0 & 0 & 0 & 0 & 0.5 & 0.425 & 7 & 34 & 0.07142857 & 0.0625 & 1 & 5 & 0.2142857 & 0.3 & 3 & 24 & 0.07142857 & 0.0375 & 1 & 3 & 0 & 0 & 0 & 0 & 0 & 0 & 0 & 0 & 0 & 0 & 0 & 0\\\\\n",
       "\t6 & ESCC001 & Male & 60 & Middle & never & never & T3 & N0 & M0 & Ⅱb & G2 & No & 2016-05-26 & 42949 & NA & NA & 0 & 14 & 无 & 无 & 无 & ESCC001N & Multi\\_region &  5 & 0.02631579 & TGTGCGAGGTCCAGTAGAGCAGCTGGACTCGACCGCGTATGGAAGGGTTTCTACTACTACTACTACATGGACGTCTGG & CARSSRAAGLDRVWKGFYYYYYMDVW & IGHV3-11 & IGHD6-6*01  & IGHJ6 & IGHM  & assemble362  & 0 & N & 14 & 2.482157 & 0.05945309 & 0.1428571 & 0.175 & 2 & 14 & 0 & 0 & 0 & 0 & 0.5 & 0.425 & 7 & 34 & 0.07142857 & 0.0625 & 1 & 5 & 0.2142857 & 0.3 & 3 & 24 & 0.07142857 & 0.0375 & 1 & 3 & 0 & 0 & 0 & 0 & 0 & 0 & 0 & 0 & 0 & 0 & 0 & 0\\\\\n",
       "\\end{tabular}\n"
      ],
      "text/markdown": [
       "\n",
       "A data.frame: 6 × 73\n",
       "\n",
       "| <!--/--> | Patient_ID &lt;chr&gt; | Gender &lt;chr&gt; | Age &lt;int&gt; | Location &lt;chr&gt; | Smoking_status &lt;chr&gt; | Drinking_status &lt;chr&gt; | T &lt;chr&gt; | N &lt;chr&gt; | M &lt;chr&gt; | TNM &lt;chr&gt; | Tumor_grade &lt;chr&gt; | Lymphatic_metastasis &lt;chr&gt; | Surgery_date &lt;chr&gt; | Follow-up_date &lt;chr&gt; | Followup_death_date1 &lt;int&gt; | Death_date &lt;chr&gt; | Survival_status &lt;int&gt; | Survival_time &lt;dbl&gt; | Chemotherapy &lt;chr&gt; | Radiotherapy &lt;chr&gt; | Other_therapy &lt;chr&gt; | ID &lt;chr&gt; | Cohort &lt;chr&gt; | Count &lt;int&gt; | Frequency &lt;dbl&gt; | CDR3nt &lt;chr&gt; | CDR3aa &lt;chr&gt; | V &lt;chr&gt; | D &lt;chr&gt; | J &lt;chr&gt; | C &lt;chr&gt; | cid &lt;chr&gt; | cid_full_length &lt;int&gt; | type &lt;fct&gt; | s_richness &lt;int&gt; | s_shannon &lt;dbl&gt; | s_clonality &lt;dbl&gt; | IGHM_proportion_unique &lt;dbl&gt; | IGHM_proportion_redundant &lt;dbl&gt; | s_richness_IGHM &lt;int&gt; | s_count_IGHM &lt;int&gt; | IGHD_proportion_unique &lt;dbl&gt; | IGHD_proportion_redundant &lt;dbl&gt; | s_richness_IGHD &lt;int&gt; | s_count_IGHD &lt;int&gt; | IGHA1_proportion_unique &lt;dbl&gt; | IGHA1_proportion_redundant &lt;dbl&gt; | s_richness_IGHA1 &lt;int&gt; | s_count_IGHA1 &lt;int&gt; | IGHA2_proportion_unique &lt;dbl&gt; | IGHA2_proportion_redundant &lt;dbl&gt; | s_richness_IGHA2 &lt;int&gt; | s_count_IGHA2 &lt;int&gt; | IGHG1_proportion_unique &lt;dbl&gt; | IGHG1_proportion_redundant &lt;dbl&gt; | s_richness_IGHG1 &lt;int&gt; | s_count_IGHG1 &lt;int&gt; | IGHG2_proportion_unique &lt;dbl&gt; | IGHG2_proportion_redundant &lt;dbl&gt; | s_richness_IGHG2 &lt;int&gt; | s_count_IGHG2 &lt;int&gt; | IGHG3_proportion_unique &lt;dbl&gt; | IGHG3_proportion_redundant &lt;dbl&gt; | s_richness_IGHG3 &lt;int&gt; | s_count_IGHG3 &lt;int&gt; | IGHG4_proportion_unique &lt;dbl&gt; | IGHG4_proportion_redundant &lt;dbl&gt; | s_richness_IGHG4 &lt;int&gt; | s_count_IGHG4 &lt;int&gt; | IGHE_proportion_unique &lt;dbl&gt; | IGHE_proportion_redundant &lt;dbl&gt; | s_richness_IGHE &lt;int&gt; | s_count_IGHE &lt;int&gt; |\n",
       "|---|---|---|---|---|---|---|---|---|---|---|---|---|---|---|---|---|---|---|---|---|---|---|---|---|---|---|---|---|---|---|---|---|---|---|---|---|---|---|---|---|---|---|---|---|---|---|---|---|---|---|---|---|---|---|---|---|---|---|---|---|---|---|---|---|---|---|---|---|---|---|---|---|---|\n",
       "| 1 | ESCC001 | Male | 60 | Middle | never | never | T3 | N0 | M0 | Ⅱb | G2 | No | 2016-05-26 | 42949 | NA | NA | 0 | 14 | 无 | 无 | 无 | ESCC001N | Multi_region | 17 | 0.08947368 | TGTGCGAGACAAACACACTCACGTTTTTCGTGGAGGGACCTCTACGGTTTGGACGTCTGG                   | CARQTHSRFSWRDLYGLDVW       | IGHV4-39 | IGHD3-10*01 | IGHJ4 | IGHG1 | assemble2    | 0 | N | 14 | 2.482157 | 0.05945309 | 0.1428571 | 0.175 | 2 | 14 | 0 | 0 | 0 | 0 | 0.5 | 0.425 | 7 | 34 | 0.07142857 | 0.0625 | 1 | 5 | 0.2142857 | 0.3 | 3 | 24 | 0.07142857 | 0.0375 | 1 | 3 | 0 | 0 | 0 | 0 | 0 | 0 | 0 | 0 | 0 | 0 | 0 | 0 |\n",
       "| 2 | ESCC001 | Male | 60 | Middle | never | never | T3 | N0 | M0 | Ⅱb | G2 | No | 2016-05-26 | 42949 | NA | NA | 0 | 14 | 无 | 无 | 无 | ESCC001N | Multi_region |  9 | 0.04736842 | TGTGCGAGACGCCGGACGTATAACTGGAACGACCGGTACTTTGACTACTGG                            | CARRRTYNWNDRYFDYW          | IGHV4-59 | IGHD1-20*01 | IGHJ4 | IGHM  | assemble12   | 1 | N | 14 | 2.482157 | 0.05945309 | 0.1428571 | 0.175 | 2 | 14 | 0 | 0 | 0 | 0 | 0.5 | 0.425 | 7 | 34 | 0.07142857 | 0.0625 | 1 | 5 | 0.2142857 | 0.3 | 3 | 24 | 0.07142857 | 0.0375 | 1 | 3 | 0 | 0 | 0 | 0 | 0 | 0 | 0 | 0 | 0 | 0 | 0 | 0 |\n",
       "| 3 | ESCC001 | Male | 60 | Middle | never | never | T3 | N0 | M0 | Ⅱb | G2 | No | 2016-05-26 | 42949 | NA | NA | 0 | 14 | 无 | 无 | 无 | ESCC001N | Multi_region |  8 | 0.04210526 | TGTGCGAGACATGAGCGTCAGAAACGGGGGTGGATACCAGCTGCCCCTCGGTTCGACCCCTGG                | CARHERQKRGWIPAAPRFDPW      | IGHV4-39 | IGHD5-18*01 | IGHJ5 | IGHA1 | assemble3    | 0 | N | 14 | 2.482157 | 0.05945309 | 0.1428571 | 0.175 | 2 | 14 | 0 | 0 | 0 | 0 | 0.5 | 0.425 | 7 | 34 | 0.07142857 | 0.0625 | 1 | 5 | 0.2142857 | 0.3 | 3 | 24 | 0.07142857 | 0.0375 | 1 | 3 | 0 | 0 | 0 | 0 | 0 | 0 | 0 | 0 | 0 | 0 | 0 | 0 |\n",
       "| 4 | ESCC001 | Male | 60 | Middle | never | never | T3 | N0 | M0 | Ⅱb | G2 | No | 2016-05-26 | 42949 | NA | NA | 0 | 14 | 无 | 无 | 无 | ESCC001N | Multi_region |  6 | 0.03157895 | TGTGGTAGACATAAACCCCACCTCCTAGGGGTACTGGTGGTCGCTGCTACTGCATTTGACTACTGG             | CGRHKPHLLGVLVVAATAFDYW     | IGHV4-39 | IGHD2-15*01 | IGHJ4 | IGHA1 | assemble141  | 0 | N | 14 | 2.482157 | 0.05945309 | 0.1428571 | 0.175 | 2 | 14 | 0 | 0 | 0 | 0 | 0.5 | 0.425 | 7 | 34 | 0.07142857 | 0.0625 | 1 | 5 | 0.2142857 | 0.3 | 3 | 24 | 0.07142857 | 0.0375 | 1 | 3 | 0 | 0 | 0 | 0 | 0 | 0 | 0 | 0 | 0 | 0 | 0 | 0 |\n",
       "| 5 | ESCC001 | Male | 60 | Middle | never | never | T3 | N0 | M0 | Ⅱb | G2 | No | 2016-05-26 | 42949 | NA | NA | 0 | 14 | 无 | 无 | 无 | ESCC001N | Multi_region |  6 | 0.03157895 | TGTGCGAGAGATGCATCCCGGTTCGACCCCTGG                                              | CARDASRFDPW                | IGHV4-59 | IGHD5-24*01 | IGHJ5 | IGHA1 | assemble1310 | 0 | N | 14 | 2.482157 | 0.05945309 | 0.1428571 | 0.175 | 2 | 14 | 0 | 0 | 0 | 0 | 0.5 | 0.425 | 7 | 34 | 0.07142857 | 0.0625 | 1 | 5 | 0.2142857 | 0.3 | 3 | 24 | 0.07142857 | 0.0375 | 1 | 3 | 0 | 0 | 0 | 0 | 0 | 0 | 0 | 0 | 0 | 0 | 0 | 0 |\n",
       "| 6 | ESCC001 | Male | 60 | Middle | never | never | T3 | N0 | M0 | Ⅱb | G2 | No | 2016-05-26 | 42949 | NA | NA | 0 | 14 | 无 | 无 | 无 | ESCC001N | Multi_region |  5 | 0.02631579 | TGTGCGAGGTCCAGTAGAGCAGCTGGACTCGACCGCGTATGGAAGGGTTTCTACTACTACTACTACATGGACGTCTGG | CARSSRAAGLDRVWKGFYYYYYMDVW | IGHV3-11 | IGHD6-6*01  | IGHJ6 | IGHM  | assemble362  | 0 | N | 14 | 2.482157 | 0.05945309 | 0.1428571 | 0.175 | 2 | 14 | 0 | 0 | 0 | 0 | 0.5 | 0.425 | 7 | 34 | 0.07142857 | 0.0625 | 1 | 5 | 0.2142857 | 0.3 | 3 | 24 | 0.07142857 | 0.0375 | 1 | 3 | 0 | 0 | 0 | 0 | 0 | 0 | 0 | 0 | 0 | 0 | 0 | 0 |\n",
       "\n"
      ],
      "text/plain": [
       "  Patient_ID Gender Age Location Smoking_status Drinking_status T  N  M  TNM\n",
       "1 ESCC001    Male   60  Middle   never          never           T3 N0 M0 Ⅱb \n",
       "2 ESCC001    Male   60  Middle   never          never           T3 N0 M0 Ⅱb \n",
       "3 ESCC001    Male   60  Middle   never          never           T3 N0 M0 Ⅱb \n",
       "4 ESCC001    Male   60  Middle   never          never           T3 N0 M0 Ⅱb \n",
       "5 ESCC001    Male   60  Middle   never          never           T3 N0 M0 Ⅱb \n",
       "6 ESCC001    Male   60  Middle   never          never           T3 N0 M0 Ⅱb \n",
       "  Tumor_grade Lymphatic_metastasis Surgery_date Follow-up_date\n",
       "1 G2          No                   2016-05-26   42949         \n",
       "2 G2          No                   2016-05-26   42949         \n",
       "3 G2          No                   2016-05-26   42949         \n",
       "4 G2          No                   2016-05-26   42949         \n",
       "5 G2          No                   2016-05-26   42949         \n",
       "6 G2          No                   2016-05-26   42949         \n",
       "  Followup_death_date1 Death_date Survival_status Survival_time Chemotherapy\n",
       "1 NA                   NA         0               14            无          \n",
       "2 NA                   NA         0               14            无          \n",
       "3 NA                   NA         0               14            无          \n",
       "4 NA                   NA         0               14            无          \n",
       "5 NA                   NA         0               14            无          \n",
       "6 NA                   NA         0               14            无          \n",
       "  Radiotherapy Other_therapy ID       Cohort       Count Frequency \n",
       "1 无           无            ESCC001N Multi_region 17    0.08947368\n",
       "2 无           无            ESCC001N Multi_region  9    0.04736842\n",
       "3 无           无            ESCC001N Multi_region  8    0.04210526\n",
       "4 无           无            ESCC001N Multi_region  6    0.03157895\n",
       "5 无           无            ESCC001N Multi_region  6    0.03157895\n",
       "6 无           无            ESCC001N Multi_region  5    0.02631579\n",
       "  CDR3nt                                                                        \n",
       "1 TGTGCGAGACAAACACACTCACGTTTTTCGTGGAGGGACCTCTACGGTTTGGACGTCTGG                  \n",
       "2 TGTGCGAGACGCCGGACGTATAACTGGAACGACCGGTACTTTGACTACTGG                           \n",
       "3 TGTGCGAGACATGAGCGTCAGAAACGGGGGTGGATACCAGCTGCCCCTCGGTTCGACCCCTGG               \n",
       "4 TGTGGTAGACATAAACCCCACCTCCTAGGGGTACTGGTGGTCGCTGCTACTGCATTTGACTACTGG            \n",
       "5 TGTGCGAGAGATGCATCCCGGTTCGACCCCTGG                                             \n",
       "6 TGTGCGAGGTCCAGTAGAGCAGCTGGACTCGACCGCGTATGGAAGGGTTTCTACTACTACTACTACATGGACGTCTGG\n",
       "  CDR3aa                     V        D           J     C     cid         \n",
       "1 CARQTHSRFSWRDLYGLDVW       IGHV4-39 IGHD3-10*01 IGHJ4 IGHG1 assemble2   \n",
       "2 CARRRTYNWNDRYFDYW          IGHV4-59 IGHD1-20*01 IGHJ4 IGHM  assemble12  \n",
       "3 CARHERQKRGWIPAAPRFDPW      IGHV4-39 IGHD5-18*01 IGHJ5 IGHA1 assemble3   \n",
       "4 CGRHKPHLLGVLVVAATAFDYW     IGHV4-39 IGHD2-15*01 IGHJ4 IGHA1 assemble141 \n",
       "5 CARDASRFDPW                IGHV4-59 IGHD5-24*01 IGHJ5 IGHA1 assemble1310\n",
       "6 CARSSRAAGLDRVWKGFYYYYYMDVW IGHV3-11 IGHD6-6*01  IGHJ6 IGHM  assemble362 \n",
       "  cid_full_length type s_richness s_shannon s_clonality IGHM_proportion_unique\n",
       "1 0               N    14         2.482157  0.05945309  0.1428571             \n",
       "2 1               N    14         2.482157  0.05945309  0.1428571             \n",
       "3 0               N    14         2.482157  0.05945309  0.1428571             \n",
       "4 0               N    14         2.482157  0.05945309  0.1428571             \n",
       "5 0               N    14         2.482157  0.05945309  0.1428571             \n",
       "6 0               N    14         2.482157  0.05945309  0.1428571             \n",
       "  IGHM_proportion_redundant s_richness_IGHM s_count_IGHM IGHD_proportion_unique\n",
       "1 0.175                     2               14           0                     \n",
       "2 0.175                     2               14           0                     \n",
       "3 0.175                     2               14           0                     \n",
       "4 0.175                     2               14           0                     \n",
       "5 0.175                     2               14           0                     \n",
       "6 0.175                     2               14           0                     \n",
       "  IGHD_proportion_redundant s_richness_IGHD s_count_IGHD\n",
       "1 0                         0               0           \n",
       "2 0                         0               0           \n",
       "3 0                         0               0           \n",
       "4 0                         0               0           \n",
       "5 0                         0               0           \n",
       "6 0                         0               0           \n",
       "  IGHA1_proportion_unique IGHA1_proportion_redundant s_richness_IGHA1\n",
       "1 0.5                     0.425                      7               \n",
       "2 0.5                     0.425                      7               \n",
       "3 0.5                     0.425                      7               \n",
       "4 0.5                     0.425                      7               \n",
       "5 0.5                     0.425                      7               \n",
       "6 0.5                     0.425                      7               \n",
       "  s_count_IGHA1 IGHA2_proportion_unique IGHA2_proportion_redundant\n",
       "1 34            0.07142857              0.0625                    \n",
       "2 34            0.07142857              0.0625                    \n",
       "3 34            0.07142857              0.0625                    \n",
       "4 34            0.07142857              0.0625                    \n",
       "5 34            0.07142857              0.0625                    \n",
       "6 34            0.07142857              0.0625                    \n",
       "  s_richness_IGHA2 s_count_IGHA2 IGHG1_proportion_unique\n",
       "1 1                5             0.2142857              \n",
       "2 1                5             0.2142857              \n",
       "3 1                5             0.2142857              \n",
       "4 1                5             0.2142857              \n",
       "5 1                5             0.2142857              \n",
       "6 1                5             0.2142857              \n",
       "  IGHG1_proportion_redundant s_richness_IGHG1 s_count_IGHG1\n",
       "1 0.3                        3                24           \n",
       "2 0.3                        3                24           \n",
       "3 0.3                        3                24           \n",
       "4 0.3                        3                24           \n",
       "5 0.3                        3                24           \n",
       "6 0.3                        3                24           \n",
       "  IGHG2_proportion_unique IGHG2_proportion_redundant s_richness_IGHG2\n",
       "1 0.07142857              0.0375                     1               \n",
       "2 0.07142857              0.0375                     1               \n",
       "3 0.07142857              0.0375                     1               \n",
       "4 0.07142857              0.0375                     1               \n",
       "5 0.07142857              0.0375                     1               \n",
       "6 0.07142857              0.0375                     1               \n",
       "  s_count_IGHG2 IGHG3_proportion_unique IGHG3_proportion_redundant\n",
       "1 3             0                       0                         \n",
       "2 3             0                       0                         \n",
       "3 3             0                       0                         \n",
       "4 3             0                       0                         \n",
       "5 3             0                       0                         \n",
       "6 3             0                       0                         \n",
       "  s_richness_IGHG3 s_count_IGHG3 IGHG4_proportion_unique\n",
       "1 0                0             0                      \n",
       "2 0                0             0                      \n",
       "3 0                0             0                      \n",
       "4 0                0             0                      \n",
       "5 0                0             0                      \n",
       "6 0                0             0                      \n",
       "  IGHG4_proportion_redundant s_richness_IGHG4 s_count_IGHG4\n",
       "1 0                          0                0            \n",
       "2 0                          0                0            \n",
       "3 0                          0                0            \n",
       "4 0                          0                0            \n",
       "5 0                          0                0            \n",
       "6 0                          0                0            \n",
       "  IGHE_proportion_unique IGHE_proportion_redundant s_richness_IGHE s_count_IGHE\n",
       "1 0                      0                         0               0           \n",
       "2 0                      0                         0               0           \n",
       "3 0                      0                         0               0           \n",
       "4 0                      0                         0               0           \n",
       "5 0                      0                         0               0           \n",
       "6 0                      0                         0               0           "
      ]
     },
     "metadata": {},
     "output_type": "display_data"
    }
   ],
   "source": [
    "meta_multi_region_merged_diversity<-read.csv(\"meta_multi_region_merged_diversity_IGH.csv\",header=TRUE,quote = \"\\\"\", skipNul = TRUE,check.names=FALSE)\n",
    "\n",
    "meta_multi_region_merged_diversity$V<-str_extract(meta_multi_region_merged_diversity$V,pattern = \".*(?=\\\\*)\")\n",
    "meta_multi_region_merged_diversity$J<-str_extract(meta_multi_region_merged_diversity$J,pattern = \".*(?=\\\\*)\")\n",
    "meta_multi_region_merged_diversity$type<-factor(meta_multi_region_merged_diversity$type,levels=c(\"T1\",\"T2\",\"T3\",\"T4\",\"T5\",\"N\",\"L1\",\"L2\",\"L3\",\"L4\"))\n",
    "head(meta_multi_region_merged_diversity)"
   ]
  },
  {
   "cell_type": "code",
   "execution_count": 3,
   "metadata": {
    "vscode": {
     "languageId": "r"
    }
   },
   "outputs": [],
   "source": [
    "#IG类型比较\n",
    "mypal <- ggsci::pal_npg(palette =\"nrc\", alpha = 0.7)(10)\n",
    "mypal2<-ggsci::pal_jama(palette =\"default\", alpha = 0.7)(6)\n",
    "mypal3<-ggsci::pal_lancet(palette =\"lanonc\", alpha = 0.7)(9)\n",
    "mypal4 <- ggsci::pal_npg(palette =\"nrc\", alpha = 0.5)(10)\n",
    "mypal5<-ggsci::pal_jama(palette =\"default\", alpha = 0.5)(6)\n",
    "mypal6<-ggsci::pal_lancet(palette =\"lanonc\", alpha = 0.5)(9)\n",
    "mypal7 <- ggsci::pal_npg(palette =\"nrc\", alpha = 0.3)(10)\n",
    "mypal8<-ggsci::pal_jama(palette =\"default\", alpha = 0.3)(6)\n",
    "mypal9<-ggsci::pal_lancet(palette =\"lanonc\", alpha = 0.3)(9)\n",
    "\n",
    "mypal<-c(mypal3,mypal2,mypal,mypal6,mypal5,mypal4,mypal9,mypal8,mypal7)\n",
    "mypal[3]<-\"#FFBD7A\"\n"
   ]
  },
  {
   "attachments": {},
   "cell_type": "markdown",
   "metadata": {},
   "source": [
    "CDR3 length-MR"
   ]
  },
  {
   "attachments": {},
   "cell_type": "markdown",
   "metadata": {},
   "source": [
    "## 长度分布计算，mean+-SE"
   ]
  },
  {
   "cell_type": "code",
   "execution_count": 4,
   "metadata": {
    "vscode": {
     "languageId": "r"
    }
   },
   "outputs": [],
   "source": [
    "data=meta_multi_region_merged_diversity\n",
    "data$cdr3_length=str_length(data$CDR3aa)\n",
    "data$type=substr(data$type,1,1)"
   ]
  },
  {
   "cell_type": "code",
   "execution_count": 5,
   "metadata": {
    "vscode": {
     "languageId": "r"
    }
   },
   "outputs": [
    {
     "data": {
      "text/html": [
       "<style>\n",
       ".list-inline {list-style: none; margin:0; padding: 0}\n",
       ".list-inline>li {display: inline-block}\n",
       ".list-inline>li:not(:last-child)::after {content: \"\\00b7\"; padding: 0 .5ex}\n",
       "</style>\n",
       "<ol class=list-inline><li>'7'</li><li>'8'</li><li>'9'</li><li>'10'</li><li>'11'</li><li>'12'</li><li>'13'</li><li>'14'</li><li>'15'</li><li>'16'</li><li>'17'</li><li>'18'</li><li>'19'</li><li>'20'</li><li>'21'</li><li>'22'</li><li>'23'</li><li>'24'</li><li>'25'</li><li>'26'</li><li>'27'</li><li>'28'</li><li>'30'</li><li>'31'</li><li>'32'</li><li>'35'</li><li>'29'</li><li>'33'</li><li>'6'</li><li>'37'</li><li>'54'</li><li>'57'</li><li>'34'</li><li>'41'</li><li>'50'</li><li>'46'</li><li>'36'</li><li>'38'</li><li>'42'</li><li>'39'</li><li>'44'</li><li>'48'</li><li>'43'</li><li>'40'</li><li>'47'</li></ol>\n"
      ],
      "text/latex": [
       "\\begin{enumerate*}\n",
       "\\item '7'\n",
       "\\item '8'\n",
       "\\item '9'\n",
       "\\item '10'\n",
       "\\item '11'\n",
       "\\item '12'\n",
       "\\item '13'\n",
       "\\item '14'\n",
       "\\item '15'\n",
       "\\item '16'\n",
       "\\item '17'\n",
       "\\item '18'\n",
       "\\item '19'\n",
       "\\item '20'\n",
       "\\item '21'\n",
       "\\item '22'\n",
       "\\item '23'\n",
       "\\item '24'\n",
       "\\item '25'\n",
       "\\item '26'\n",
       "\\item '27'\n",
       "\\item '28'\n",
       "\\item '30'\n",
       "\\item '31'\n",
       "\\item '32'\n",
       "\\item '35'\n",
       "\\item '29'\n",
       "\\item '33'\n",
       "\\item '6'\n",
       "\\item '37'\n",
       "\\item '54'\n",
       "\\item '57'\n",
       "\\item '34'\n",
       "\\item '41'\n",
       "\\item '50'\n",
       "\\item '46'\n",
       "\\item '36'\n",
       "\\item '38'\n",
       "\\item '42'\n",
       "\\item '39'\n",
       "\\item '44'\n",
       "\\item '48'\n",
       "\\item '43'\n",
       "\\item '40'\n",
       "\\item '47'\n",
       "\\end{enumerate*}\n"
      ],
      "text/markdown": [
       "1. '7'\n",
       "2. '8'\n",
       "3. '9'\n",
       "4. '10'\n",
       "5. '11'\n",
       "6. '12'\n",
       "7. '13'\n",
       "8. '14'\n",
       "9. '15'\n",
       "10. '16'\n",
       "11. '17'\n",
       "12. '18'\n",
       "13. '19'\n",
       "14. '20'\n",
       "15. '21'\n",
       "16. '22'\n",
       "17. '23'\n",
       "18. '24'\n",
       "19. '25'\n",
       "20. '26'\n",
       "21. '27'\n",
       "22. '28'\n",
       "23. '30'\n",
       "24. '31'\n",
       "25. '32'\n",
       "26. '35'\n",
       "27. '29'\n",
       "28. '33'\n",
       "29. '6'\n",
       "30. '37'\n",
       "31. '54'\n",
       "32. '57'\n",
       "33. '34'\n",
       "34. '41'\n",
       "35. '50'\n",
       "36. '46'\n",
       "37. '36'\n",
       "38. '38'\n",
       "39. '42'\n",
       "40. '39'\n",
       "41. '44'\n",
       "42. '48'\n",
       "43. '43'\n",
       "44. '40'\n",
       "45. '47'\n",
       "\n",
       "\n"
      ],
      "text/plain": [
       " [1] \"7\"  \"8\"  \"9\"  \"10\" \"11\" \"12\" \"13\" \"14\" \"15\" \"16\" \"17\" \"18\" \"19\" \"20\" \"21\"\n",
       "[16] \"22\" \"23\" \"24\" \"25\" \"26\" \"27\" \"28\" \"30\" \"31\" \"32\" \"35\" \"29\" \"33\" \"6\"  \"37\"\n",
       "[31] \"54\" \"57\" \"34\" \"41\" \"50\" \"46\" \"36\" \"38\" \"42\" \"39\" \"44\" \"48\" \"43\" \"40\" \"47\""
      ]
     },
     "metadata": {},
     "output_type": "display_data"
    },
    {
     "data": {
      "text/html": [
       "<style>\n",
       ".list-inline {list-style: none; margin:0; padding: 0}\n",
       ".list-inline>li {display: inline-block}\n",
       ".list-inline>li:not(:last-child)::after {content: \"\\00b7\"; padding: 0 .5ex}\n",
       "</style>\n",
       "<ol class=list-inline><li>'6'</li><li>'7'</li><li>'8'</li><li>'9'</li><li>'10'</li><li>'11'</li><li>'12'</li><li>'13'</li><li>'14'</li><li>'15'</li><li>'16'</li><li>'17'</li><li>'18'</li><li>'19'</li><li>'20'</li><li>'21'</li><li>'22'</li><li>'23'</li><li>'24'</li><li>'25'</li><li>'26'</li><li>'27'</li><li>'28'</li><li>'29'</li><li>'30'</li><li>'31'</li><li>'32'</li><li>'33'</li><li>'34'</li><li>'35'</li><li>'36'</li><li>'37'</li><li>'38'</li><li>'39'</li><li>'40'</li><li>'41'</li><li>'42'</li><li>'43'</li><li>'44'</li><li>'46'</li><li>'47'</li><li>'48'</li><li>'50'</li><li>'54'</li><li>'57'</li></ol>\n"
      ],
      "text/latex": [
       "\\begin{enumerate*}\n",
       "\\item '6'\n",
       "\\item '7'\n",
       "\\item '8'\n",
       "\\item '9'\n",
       "\\item '10'\n",
       "\\item '11'\n",
       "\\item '12'\n",
       "\\item '13'\n",
       "\\item '14'\n",
       "\\item '15'\n",
       "\\item '16'\n",
       "\\item '17'\n",
       "\\item '18'\n",
       "\\item '19'\n",
       "\\item '20'\n",
       "\\item '21'\n",
       "\\item '22'\n",
       "\\item '23'\n",
       "\\item '24'\n",
       "\\item '25'\n",
       "\\item '26'\n",
       "\\item '27'\n",
       "\\item '28'\n",
       "\\item '29'\n",
       "\\item '30'\n",
       "\\item '31'\n",
       "\\item '32'\n",
       "\\item '33'\n",
       "\\item '34'\n",
       "\\item '35'\n",
       "\\item '36'\n",
       "\\item '37'\n",
       "\\item '38'\n",
       "\\item '39'\n",
       "\\item '40'\n",
       "\\item '41'\n",
       "\\item '42'\n",
       "\\item '43'\n",
       "\\item '44'\n",
       "\\item '46'\n",
       "\\item '47'\n",
       "\\item '48'\n",
       "\\item '50'\n",
       "\\item '54'\n",
       "\\item '57'\n",
       "\\end{enumerate*}\n"
      ],
      "text/markdown": [
       "1. '6'\n",
       "2. '7'\n",
       "3. '8'\n",
       "4. '9'\n",
       "5. '10'\n",
       "6. '11'\n",
       "7. '12'\n",
       "8. '13'\n",
       "9. '14'\n",
       "10. '15'\n",
       "11. '16'\n",
       "12. '17'\n",
       "13. '18'\n",
       "14. '19'\n",
       "15. '20'\n",
       "16. '21'\n",
       "17. '22'\n",
       "18. '23'\n",
       "19. '24'\n",
       "20. '25'\n",
       "21. '26'\n",
       "22. '27'\n",
       "23. '28'\n",
       "24. '29'\n",
       "25. '30'\n",
       "26. '31'\n",
       "27. '32'\n",
       "28. '33'\n",
       "29. '34'\n",
       "30. '35'\n",
       "31. '36'\n",
       "32. '37'\n",
       "33. '38'\n",
       "34. '39'\n",
       "35. '40'\n",
       "36. '41'\n",
       "37. '42'\n",
       "38. '43'\n",
       "39. '44'\n",
       "40. '46'\n",
       "41. '47'\n",
       "42. '48'\n",
       "43. '50'\n",
       "44. '54'\n",
       "45. '57'\n",
       "\n",
       "\n"
      ],
      "text/plain": [
       " [1] \"6\"  \"7\"  \"8\"  \"9\"  \"10\" \"11\" \"12\" \"13\" \"14\" \"15\" \"16\" \"17\" \"18\" \"19\" \"20\"\n",
       "[16] \"21\" \"22\" \"23\" \"24\" \"25\" \"26\" \"27\" \"28\" \"29\" \"30\" \"31\" \"32\" \"33\" \"34\" \"35\"\n",
       "[31] \"36\" \"37\" \"38\" \"39\" \"40\" \"41\" \"42\" \"43\" \"44\" \"46\" \"47\" \"48\" \"50\" \"54\" \"57\""
      ]
     },
     "metadata": {},
     "output_type": "display_data"
    }
   ],
   "source": [
    "len_distr_all_long<-tibble()\n",
    "for (p in unique(data$Patient_ID)){\n",
    "data_p<-data[data$Patient_ID==p,]\n",
    "\n",
    "len_distr<-table(data_p$type,data_p$cdr3_length) %>% as.data.frame()\n",
    "len_distr$Patient_ID=p\n",
    "colnames(len_distr)<-c(\"type\",\"CDR3aa_length\",\"Freq\",\"Patient_ID\")\n",
    "len_distr_all_long<-rbind(len_distr_all_long,len_distr)\n",
    "}\n",
    "\n",
    "len_distr_all_long$type<-factor(len_distr_all_long$type,levels=c(\"T\",\"N\",\"L\"))\n",
    "\n",
    "levels(len_distr_all_long$CDR3aa_length)\n",
    "levels(len_distr_all_long$CDR3aa_length)<-levels(len_distr_all_long$CDR3aa_length)[order(as.numeric(levels(len_distr_all_long$CDR3aa_length)))]\n",
    "levels(len_distr_all_long$CDR3aa_length)\n",
    "\n",
    "p<- ggplot(len_distr_all_long, aes(x = CDR3aa_length, y = Freq, fill = type,col=type,group=type)) +\n",
    "      geom_point(stat = \"summary\", fun = mean,  position = position_dodge()) +\n",
    "      geom_line(stat = \"summary\", fun = mean, position = position_dodge()) +\n",
    "      stat_summary(fun.data = 'mean_se', geom = \"errorbar\", colour = \"black\",\n",
    "                             width = 0.25,position = position_dodge( .9))"
   ]
  },
  {
   "cell_type": "code",
   "execution_count": 6,
   "metadata": {
    "vscode": {
     "languageId": "r"
    }
   },
   "outputs": [
    {
     "data": {
      "text/html": [
       "<style>\n",
       ".list-inline {list-style: none; margin:0; padding: 0}\n",
       ".list-inline>li {display: inline-block}\n",
       ".list-inline>li:not(:last-child)::after {content: \"\\00b7\"; padding: 0 .5ex}\n",
       "</style>\n",
       "<ol class=list-inline><li>'7'</li><li>'8'</li><li>'9'</li><li>'10'</li><li>'11'</li><li>'12'</li><li>'13'</li><li>'14'</li><li>'15'</li><li>'16'</li><li>'17'</li><li>'18'</li><li>'19'</li><li>'20'</li><li>'21'</li><li>'22'</li><li>'23'</li><li>'24'</li><li>'25'</li><li>'26'</li><li>'27'</li><li>'28'</li><li>'30'</li><li>'31'</li><li>'32'</li><li>'35'</li><li>'29'</li><li>'33'</li><li>'6'</li><li>'37'</li><li>'54'</li><li>'57'</li><li>'34'</li><li>'41'</li><li>'50'</li><li>'46'</li><li>'36'</li><li>'38'</li><li>'42'</li><li>'39'</li><li>'44'</li><li>'48'</li><li>'43'</li><li>'40'</li><li>'47'</li></ol>\n"
      ],
      "text/latex": [
       "\\begin{enumerate*}\n",
       "\\item '7'\n",
       "\\item '8'\n",
       "\\item '9'\n",
       "\\item '10'\n",
       "\\item '11'\n",
       "\\item '12'\n",
       "\\item '13'\n",
       "\\item '14'\n",
       "\\item '15'\n",
       "\\item '16'\n",
       "\\item '17'\n",
       "\\item '18'\n",
       "\\item '19'\n",
       "\\item '20'\n",
       "\\item '21'\n",
       "\\item '22'\n",
       "\\item '23'\n",
       "\\item '24'\n",
       "\\item '25'\n",
       "\\item '26'\n",
       "\\item '27'\n",
       "\\item '28'\n",
       "\\item '30'\n",
       "\\item '31'\n",
       "\\item '32'\n",
       "\\item '35'\n",
       "\\item '29'\n",
       "\\item '33'\n",
       "\\item '6'\n",
       "\\item '37'\n",
       "\\item '54'\n",
       "\\item '57'\n",
       "\\item '34'\n",
       "\\item '41'\n",
       "\\item '50'\n",
       "\\item '46'\n",
       "\\item '36'\n",
       "\\item '38'\n",
       "\\item '42'\n",
       "\\item '39'\n",
       "\\item '44'\n",
       "\\item '48'\n",
       "\\item '43'\n",
       "\\item '40'\n",
       "\\item '47'\n",
       "\\end{enumerate*}\n"
      ],
      "text/markdown": [
       "1. '7'\n",
       "2. '8'\n",
       "3. '9'\n",
       "4. '10'\n",
       "5. '11'\n",
       "6. '12'\n",
       "7. '13'\n",
       "8. '14'\n",
       "9. '15'\n",
       "10. '16'\n",
       "11. '17'\n",
       "12. '18'\n",
       "13. '19'\n",
       "14. '20'\n",
       "15. '21'\n",
       "16. '22'\n",
       "17. '23'\n",
       "18. '24'\n",
       "19. '25'\n",
       "20. '26'\n",
       "21. '27'\n",
       "22. '28'\n",
       "23. '30'\n",
       "24. '31'\n",
       "25. '32'\n",
       "26. '35'\n",
       "27. '29'\n",
       "28. '33'\n",
       "29. '6'\n",
       "30. '37'\n",
       "31. '54'\n",
       "32. '57'\n",
       "33. '34'\n",
       "34. '41'\n",
       "35. '50'\n",
       "36. '46'\n",
       "37. '36'\n",
       "38. '38'\n",
       "39. '42'\n",
       "40. '39'\n",
       "41. '44'\n",
       "42. '48'\n",
       "43. '43'\n",
       "44. '40'\n",
       "45. '47'\n",
       "\n",
       "\n"
      ],
      "text/plain": [
       " [1] \"7\"  \"8\"  \"9\"  \"10\" \"11\" \"12\" \"13\" \"14\" \"15\" \"16\" \"17\" \"18\" \"19\" \"20\" \"21\"\n",
       "[16] \"22\" \"23\" \"24\" \"25\" \"26\" \"27\" \"28\" \"30\" \"31\" \"32\" \"35\" \"29\" \"33\" \"6\"  \"37\"\n",
       "[31] \"54\" \"57\" \"34\" \"41\" \"50\" \"46\" \"36\" \"38\" \"42\" \"39\" \"44\" \"48\" \"43\" \"40\" \"47\""
      ]
     },
     "metadata": {},
     "output_type": "display_data"
    },
    {
     "data": {
      "text/html": [
       "<style>\n",
       ".list-inline {list-style: none; margin:0; padding: 0}\n",
       ".list-inline>li {display: inline-block}\n",
       ".list-inline>li:not(:last-child)::after {content: \"\\00b7\"; padding: 0 .5ex}\n",
       "</style>\n",
       "<ol class=list-inline><li>'6'</li><li>'7'</li><li>'8'</li><li>'9'</li><li>'10'</li><li>'11'</li><li>'12'</li><li>'13'</li><li>'14'</li><li>'15'</li><li>'16'</li><li>'17'</li><li>'18'</li><li>'19'</li><li>'20'</li><li>'21'</li><li>'22'</li><li>'23'</li><li>'24'</li><li>'25'</li><li>'26'</li><li>'27'</li><li>'28'</li><li>'29'</li><li>'30'</li><li>'31'</li><li>'32'</li><li>'33'</li><li>'34'</li><li>'35'</li><li>'36'</li><li>'37'</li><li>'38'</li><li>'39'</li><li>'40'</li><li>'41'</li><li>'42'</li><li>'43'</li><li>'44'</li><li>'46'</li><li>'47'</li><li>'48'</li><li>'50'</li><li>'54'</li><li>'57'</li></ol>\n"
      ],
      "text/latex": [
       "\\begin{enumerate*}\n",
       "\\item '6'\n",
       "\\item '7'\n",
       "\\item '8'\n",
       "\\item '9'\n",
       "\\item '10'\n",
       "\\item '11'\n",
       "\\item '12'\n",
       "\\item '13'\n",
       "\\item '14'\n",
       "\\item '15'\n",
       "\\item '16'\n",
       "\\item '17'\n",
       "\\item '18'\n",
       "\\item '19'\n",
       "\\item '20'\n",
       "\\item '21'\n",
       "\\item '22'\n",
       "\\item '23'\n",
       "\\item '24'\n",
       "\\item '25'\n",
       "\\item '26'\n",
       "\\item '27'\n",
       "\\item '28'\n",
       "\\item '29'\n",
       "\\item '30'\n",
       "\\item '31'\n",
       "\\item '32'\n",
       "\\item '33'\n",
       "\\item '34'\n",
       "\\item '35'\n",
       "\\item '36'\n",
       "\\item '37'\n",
       "\\item '38'\n",
       "\\item '39'\n",
       "\\item '40'\n",
       "\\item '41'\n",
       "\\item '42'\n",
       "\\item '43'\n",
       "\\item '44'\n",
       "\\item '46'\n",
       "\\item '47'\n",
       "\\item '48'\n",
       "\\item '50'\n",
       "\\item '54'\n",
       "\\item '57'\n",
       "\\end{enumerate*}\n"
      ],
      "text/markdown": [
       "1. '6'\n",
       "2. '7'\n",
       "3. '8'\n",
       "4. '9'\n",
       "5. '10'\n",
       "6. '11'\n",
       "7. '12'\n",
       "8. '13'\n",
       "9. '14'\n",
       "10. '15'\n",
       "11. '16'\n",
       "12. '17'\n",
       "13. '18'\n",
       "14. '19'\n",
       "15. '20'\n",
       "16. '21'\n",
       "17. '22'\n",
       "18. '23'\n",
       "19. '24'\n",
       "20. '25'\n",
       "21. '26'\n",
       "22. '27'\n",
       "23. '28'\n",
       "24. '29'\n",
       "25. '30'\n",
       "26. '31'\n",
       "27. '32'\n",
       "28. '33'\n",
       "29. '34'\n",
       "30. '35'\n",
       "31. '36'\n",
       "32. '37'\n",
       "33. '38'\n",
       "34. '39'\n",
       "35. '40'\n",
       "36. '41'\n",
       "37. '42'\n",
       "38. '43'\n",
       "39. '44'\n",
       "40. '46'\n",
       "41. '47'\n",
       "42. '48'\n",
       "43. '50'\n",
       "44. '54'\n",
       "45. '57'\n",
       "\n",
       "\n"
      ],
      "text/plain": [
       " [1] \"6\"  \"7\"  \"8\"  \"9\"  \"10\" \"11\" \"12\" \"13\" \"14\" \"15\" \"16\" \"17\" \"18\" \"19\" \"20\"\n",
       "[16] \"21\" \"22\" \"23\" \"24\" \"25\" \"26\" \"27\" \"28\" \"29\" \"30\" \"31\" \"32\" \"33\" \"34\" \"35\"\n",
       "[31] \"36\" \"37\" \"38\" \"39\" \"40\" \"41\" \"42\" \"43\" \"44\" \"46\" \"47\" \"48\" \"50\" \"54\" \"57\""
      ]
     },
     "metadata": {},
     "output_type": "display_data"
    }
   ],
   "source": [
    "len_distr_all_long<-tibble()\n",
    "for (p in unique(data$Patient_ID)){\n",
    "data_p<-data[data$Patient_ID==p,]\n",
    "\n",
    "len_distr<-prop.table(table(data_p$type,data_p$cdr3_length),margin=1) %>% as.data.frame()\n",
    "len_distr$Patient_ID=p\n",
    "colnames(len_distr)<-c(\"type\",\"CDR3aa_length\",\"Freq\",\"Patient_ID\")\n",
    "len_distr_all_long<-rbind(len_distr_all_long,len_distr)\n",
    "}\n",
    "\n",
    "len_distr_all_long$type<-factor(len_distr_all_long$type,levels=c(\"T\",\"N\",\"L\"))\n",
    "\n",
    "levels(len_distr_all_long$CDR3aa_length)\n",
    "levels(len_distr_all_long$CDR3aa_length)<-levels(len_distr_all_long$CDR3aa_length)[order(as.numeric(levels(len_distr_all_long$CDR3aa_length)))]\n",
    "levels(len_distr_all_long$CDR3aa_length)"
   ]
  },
  {
   "cell_type": "code",
   "execution_count": 9,
   "metadata": {
    "vscode": {
     "languageId": "r"
    }
   },
   "outputs": [
    {
     "name": "stderr",
     "output_type": "stream",
     "text": [
      "Warning message:\n",
      "\"\u001b[1m\u001b[22m`funs()` was deprecated in dplyr 0.8.0.\n",
      "\u001b[36mi\u001b[39m Please use a list of either functions or lambdas:\n",
      "\n",
      "# Simple named list: list(mean = mean, median = median)\n",
      "\n",
      "# Auto named with `tibble::lst()`: tibble::lst(mean, median)\n",
      "\n",
      "# Using lambdas list(~ mean(., trim = .2), ~ median(., na.rm = TRUE))\"\n"
     ]
    }
   ],
   "source": [
    "#跳过~\n",
    "c2b<-len_distr_all_long %>% group_by(type,CDR3aa_length) %>% summarise_at(.vars = colnames(.)[3],funs(mean,sd,length))\n",
    "c2b$se=c2b$sd/sqrt(c2b$length)"
   ]
  },
  {
   "attachments": {},
   "cell_type": "markdown",
   "metadata": {},
   "source": [
    "#### TNL长度分布差异检验"
   ]
  },
  {
   "cell_type": "code",
   "execution_count": 10,
   "metadata": {
    "vscode": {
     "languageId": "r"
    }
   },
   "outputs": [
    {
     "data": {
      "text/html": [
       "<table class=\"dataframe\">\n",
       "<caption>A data.frame: 3 × 4</caption>\n",
       "<thead>\n",
       "\t<tr><th></th><th scope=col>type</th><th scope=col>CDR3aa_length</th><th scope=col>Freq</th><th scope=col>Patient_ID</th></tr>\n",
       "\t<tr><th></th><th scope=col>&lt;fct&gt;</th><th scope=col>&lt;fct&gt;</th><th scope=col>&lt;dbl&gt;</th><th scope=col>&lt;chr&gt;</th></tr>\n",
       "</thead>\n",
       "<tbody>\n",
       "\t<tr><th scope=row>1</th><td>N</td><td>6</td><td>0.0000000000</td><td>ESCC001</td></tr>\n",
       "\t<tr><th scope=row>2</th><td>T</td><td>6</td><td>0.0005688282</td><td>ESCC001</td></tr>\n",
       "\t<tr><th scope=row>3</th><td>N</td><td>7</td><td>0.0000000000</td><td>ESCC001</td></tr>\n",
       "</tbody>\n",
       "</table>\n"
      ],
      "text/latex": [
       "A data.frame: 3 × 4\n",
       "\\begin{tabular}{r|llll}\n",
       "  & type & CDR3aa\\_length & Freq & Patient\\_ID\\\\\n",
       "  & <fct> & <fct> & <dbl> & <chr>\\\\\n",
       "\\hline\n",
       "\t1 & N & 6 & 0.0000000000 & ESCC001\\\\\n",
       "\t2 & T & 6 & 0.0005688282 & ESCC001\\\\\n",
       "\t3 & N & 7 & 0.0000000000 & ESCC001\\\\\n",
       "\\end{tabular}\n"
      ],
      "text/markdown": [
       "\n",
       "A data.frame: 3 × 4\n",
       "\n",
       "| <!--/--> | type &lt;fct&gt; | CDR3aa_length &lt;fct&gt; | Freq &lt;dbl&gt; | Patient_ID &lt;chr&gt; |\n",
       "|---|---|---|---|---|\n",
       "| 1 | N | 6 | 0.0000000000 | ESCC001 |\n",
       "| 2 | T | 6 | 0.0005688282 | ESCC001 |\n",
       "| 3 | N | 7 | 0.0000000000 | ESCC001 |\n",
       "\n"
      ],
      "text/plain": [
       "  type CDR3aa_length Freq         Patient_ID\n",
       "1 N    6             0.0000000000 ESCC001   \n",
       "2 T    6             0.0005688282 ESCC001   \n",
       "3 N    7             0.0000000000 ESCC001   "
      ]
     },
     "metadata": {},
     "output_type": "display_data"
    }
   ],
   "source": [
    "write.csv(len_distr_all_long,\"Fig2E.csv\",row.names=FALSE,quote=FALSE)\n",
    "len_distr_all_long[1:3,]"
   ]
  },
  {
   "cell_type": "code",
   "execution_count": 7,
   "metadata": {
    "vscode": {
     "languageId": "r"
    }
   },
   "outputs": [
    {
     "name": "stderr",
     "output_type": "stream",
     "text": [
      "Warning message:\n",
      "\"\u001b[1m\u001b[22m`funs()` was deprecated in dplyr 0.8.0.\n",
      "\u001b[36mi\u001b[39m Please use a list of either functions or lambdas:\n",
      "\n",
      "# Simple named list: list(mean = mean, median = median)\n",
      "\n",
      "# Auto named with `tibble::lst()`: tibble::lst(mean, median)\n",
      "\n",
      "# Using lambdas list(~ mean(., trim = .2), ~ median(., na.rm = TRUE))\"\n",
      "Warning message in ks.test(x, y):\n",
      "\"cannot compute exact p-value with ties\"\n",
      "Warning message in ks.test(x, y):\n",
      "\"cannot compute exact p-value with ties\"\n",
      "Warning message in ks.test(x, y):\n",
      "\"cannot compute exact p-value with ties\"\n"
     ]
    },
    {
     "name": "stdout",
     "output_type": "stream",
     "text": [
      "[1] 0.026\n",
      "[1] 0.274\n",
      "[1] 0.737\n"
     ]
    },
    {
     "name": "stderr",
     "output_type": "stream",
     "text": [
      "Warning message:\n",
      "\"\u001b[1m\u001b[22mRemoved 496 rows containing non-finite values (`stat_summary()`).\"\n",
      "Warning message:\n",
      "\"\u001b[1m\u001b[22mRemoved 496 rows containing non-finite values (`stat_summary()`).\"\n"
     ]
    },
    {
     "data": {
      "text/html": [
       "<strong>null device:</strong> 1"
      ],
      "text/latex": [
       "\\textbf{null device:} 1"
      ],
      "text/markdown": [
       "**null device:** 1"
      ],
      "text/plain": [
       "null device \n",
       "          1 "
      ]
     },
     "metadata": {},
     "output_type": "display_data"
    },
    {
     "data": {
      "image/png": "[encoded data removed]",
      "text/plain": [
       "plot without title"
      ]
     },
     "metadata": {
      "image/png": {
       "height": 300,
       "width": 1200
      }
     },
     "output_type": "display_data"
    }
   ],
   "source": [
    "options(repr.plot.width = 20, repr.plot.height = 5)\n",
    "\n",
    "temp<-len_distr_all_long\n",
    "temp$CDR3aa_length<-as.numeric(as.character(temp$CDR3aa_length))\n",
    "\n",
    "#Kolmogorov-Smirnov test\n",
    "c2b<-len_distr_all_long %>% group_by(type,CDR3aa_length) %>% summarise_at(.vars = colnames(.)[3],funs(mean,sd,length))\n",
    "x=c2b$mean[c2b$type==\"T\"]\n",
    "y=c2b$mean[c2b$type==\"N\"]\n",
    "TvN<-ks.test(x,y)$p.value%>% round(.,digit=3)\n",
    "\n",
    "\n",
    "x=c2b$mean[c2b$type==\"T\"]\n",
    "y=c2b$mean[c2b$type==\"L\"]\n",
    "TvL<-ks.test(x,y)$p.value%>% round(.,digit=3)\n",
    "\n",
    "x=c2b$mean[c2b$type==\"N\"]\n",
    "y=c2b$mean[c2b$type==\"L\"]\n",
    "NvL<-ks.test(x,y)$p.value %>% round(.,digit=3)\n",
    "\n",
    "print(TvN)\n",
    "print(TvL)\n",
    "print(NvL)\n",
    "\n",
    "p<- ggplot(temp, aes(x = CDR3aa_length, y = Freq, fill = type,col=type,group=type)) +\n",
    "      geom_bar(stat = \"summary\", fun = mean, colour = \"black\", position = position_dodge(0.7),width = .6) +\n",
    "      #geom_line(stat = \"summary\", fun = mean, position = position_dodge(0.9),size=1) +\n",
    "      stat_summary(fun.data = 'mean_se', geom = \"errorbar\", colour = \"black\",\n",
    "                             width = 0.25,position = position_dodge( .7))+    \n",
    "      scale_fill_manual(values=mypal)+\n",
    "      labs(x='CDR3 Length',y='Proportion')+\n",
    "      theme_classic()+\n",
    "      annotate(\"text\", size=4, x=22, y=0.1, label=paste(\"Tumor vs Normal: ks.test p=\",TvN,\"\\n\",\"Tumor vs Lymphnoid: ks.test p=\",TvL,\"\\n\",\"Normal vs Lymphnoid: ks.test p=\",NvL,sep=\"\"))+\n",
    "      #theme(panel.border = element_rect(fill=NA,color=\"black\",size=0.5,linetype=\"solid\"))+\n",
    "      theme(axis.text = element_text(size = 12))+\n",
    "    scale_x_continuous(breaks=seq(5,30,1),limits = c(5,30.5))\n",
    "    \n",
    "p\n",
    "#pdf(\"Fig2.CDR3_length_MR_5_30.pdf\",8,2)\n",
    "#p\n",
    "dev.off()"
   ]
  },
  {
   "cell_type": "code",
   "execution_count": 14,
   "metadata": {
    "vscode": {
     "languageId": "r"
    }
   },
   "outputs": [
    {
     "name": "stderr",
     "output_type": "stream",
     "text": [
      "Warning message:\n",
      "\"\u001b[1m\u001b[22mThe `size` argument of `element_rect()` is deprecated as of ggplot2 3.4.0.\n",
      "\u001b[36mi\u001b[39m Please use the `linewidth` argument instead.\"\n",
      "Warning message:\n",
      "\"\u001b[1m\u001b[22mRemoved 5524 rows containing non-finite values (`stat_summary()`).\"\n",
      "Warning message:\n",
      "\"\u001b[1m\u001b[22mRemoved 5524 rows containing non-finite values (`stat_summary()`).\"\n",
      "Warning message:\n",
      "\"\u001b[1m\u001b[22mRemoved 5524 rows containing non-finite values (`stat_summary()`).\"\n",
      "Warning message:\n",
      "\"\u001b[1m\u001b[22mRemoved 5524 rows containing non-finite values (`stat_summary()`).\"\n"
     ]
    },
    {
     "data": {
      "text/html": [
       "<strong>png:</strong> 2"
      ],
      "text/latex": [
       "\\textbf{png:} 2"
      ],
      "text/markdown": [
       "**png:** 2"
      ],
      "text/plain": [
       "png \n",
       "  2 "
      ]
     },
     "metadata": {},
     "output_type": "display_data"
    },
    {
     "data": {
      "image/png": "[encoded data removed]",
      "text/plain": [
       "plot without title"
      ]
     },
     "metadata": {
      "image/png": {
       "height": 300,
       "width": 1200
      }
     },
     "output_type": "display_data"
    }
   ],
   "source": [
    "options(repr.plot.width = 20, repr.plot.height = 5)\n",
    "\n",
    "temp<-len_distr_all_long\n",
    "temp$CDR3aa_length<-as.numeric(as.character(temp$CDR3aa_length))\n",
    "\n",
    "p<- ggplot(temp, aes(x = CDR3aa_length, y = Freq, fill = type,col=type,group=type)) +\n",
    "      geom_bar(stat = \"summary\", fun = mean, colour = \"black\", position = position_dodge(0.7),width = .6) +\n",
    "      #geom_line(stat = \"summary\", fun = mean, position = position_dodge(0.9),size=1) +\n",
    "      stat_summary(fun.data = 'mean_se', geom = \"errorbar\", colour = \"black\",\n",
    "                             width = 0.25,position = position_dodge( .7))+    \n",
    "      scale_fill_manual(values=mypal)+\n",
    "      labs(x='CDR3 Length',y='Proportion')+\n",
    "      theme_classic()+\n",
    "      theme(panel.border = element_rect(fill=NA,color=\"black\",size=0.5,linetype=\"solid\"))+\n",
    "      theme(axis.text = element_text(size = 11))+\n",
    "    scale_x_continuous(breaks=seq(30,58,1),limits = c(29.5,57.5))\n",
    "\n",
    "p\n",
    "pdf(\"CDR3_length_MR_30_57.pdf\",7,3)\n",
    "p\n",
    "dev.off()"
   ]
  }
 ],
 "metadata": {
  "kernelspec": {
   "display_name": "R",
   "language": "R",
   "name": "ir"
  },
  "language_info": {
   "codemirror_mode": "r",
   "file_extension": ".r",
   "mimetype": "text/x-r-source",
   "name": "R",
   "pygments_lexer": "r",
   "version": "4.1.3"
  },
  "orig_nbformat": 4,
  "vscode": {
   "interpreter": {
    "hash": "b585a70d5ba3366bec34bcef3abe5897366cb631c247f87a4b6d516df4dc3fe2"
   }
  }
 },
 "nbformat": 4,
 "nbformat_minor": 2
}

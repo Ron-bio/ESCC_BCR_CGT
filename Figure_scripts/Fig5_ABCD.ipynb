{
 "cells": [
  {
   "cell_type": "code",
   "execution_count": 1,
   "metadata": {
    "vscode": {
     "languageId": "r"
    }
   },
   "outputs": [
    {
     "name": "stderr",
     "output_type": "stream",
     "text": [
      "\n",
      "载入程辑包：'dplyr'\n",
      "\n",
      "\n",
      "The following objects are masked from 'package:plyr':\n",
      "\n",
      "    arrange, count, desc, failwith, id, mutate, rename, summarise,\n",
      "    summarize\n",
      "\n",
      "\n",
      "The following objects are masked from 'package:stats':\n",
      "\n",
      "    filter, lag\n",
      "\n",
      "\n",
      "The following objects are masked from 'package:base':\n",
      "\n",
      "    intersect, setdiff, setequal, union\n",
      "\n",
      "\n",
      "\n",
      "载入程辑包：'data.table'\n",
      "\n",
      "\n",
      "The following objects are masked from 'package:dplyr':\n",
      "\n",
      "    between, first, last\n",
      "\n",
      "\n",
      "-- \u001b[1mAttaching core tidyverse packages\u001b[22m ------------------------ tidyverse 2.0.0 --\n",
      "\u001b[32mv\u001b[39m \u001b[34mforcats  \u001b[39m 1.0.0     \u001b[32mv\u001b[39m \u001b[34mreadr    \u001b[39m 2.1.4\n",
      "\u001b[32mv\u001b[39m \u001b[34mlubridate\u001b[39m 1.9.2     \u001b[32mv\u001b[39m \u001b[34mstringr  \u001b[39m 1.5.0\n",
      "\u001b[32mv\u001b[39m \u001b[34mpurrr    \u001b[39m 1.0.1     \u001b[32mv\u001b[39m \u001b[34mtibble   \u001b[39m 3.2.1\n",
      "-- \u001b[1mConflicts\u001b[22m ------------------------------------------ tidyverse_conflicts() --\n",
      "\u001b[31mx\u001b[39m \u001b[34mdplyr\u001b[39m::\u001b[32marrange()\u001b[39m      masks \u001b[34mplyr\u001b[39m::arrange()\n",
      "\u001b[31mx\u001b[39m \u001b[34mdata.table\u001b[39m::\u001b[32mbetween()\u001b[39m masks \u001b[34mdplyr\u001b[39m::between()\n",
      "\u001b[31mx\u001b[39m \u001b[34mpurrr\u001b[39m::\u001b[32mcompact()\u001b[39m      masks \u001b[34mplyr\u001b[39m::compact()\n",
      "\u001b[31mx\u001b[39m \u001b[34mdplyr\u001b[39m::\u001b[32mcount()\u001b[39m        masks \u001b[34mplyr\u001b[39m::count()\n",
      "\u001b[31mx\u001b[39m \u001b[34mdplyr\u001b[39m::\u001b[32mdesc()\u001b[39m         masks \u001b[34mplyr\u001b[39m::desc()\n",
      "\u001b[31mx\u001b[39m \u001b[34mdplyr\u001b[39m::\u001b[32mfailwith()\u001b[39m     masks \u001b[34mplyr\u001b[39m::failwith()\n",
      "\u001b[31mx\u001b[39m \u001b[34mdplyr\u001b[39m::\u001b[32mfilter()\u001b[39m       masks \u001b[34mstats\u001b[39m::filter()\n",
      "\u001b[31mx\u001b[39m \u001b[34mdata.table\u001b[39m::\u001b[32mfirst()\u001b[39m   masks \u001b[34mdplyr\u001b[39m::first()\n",
      "\u001b[31mx\u001b[39m \u001b[34mlubridate\u001b[39m::\u001b[32mhour()\u001b[39m     masks \u001b[34mdata.table\u001b[39m::hour()\n",
      "\u001b[31mx\u001b[39m \u001b[34mdplyr\u001b[39m::\u001b[32mid()\u001b[39m           masks \u001b[34mplyr\u001b[39m::id()\n",
      "\u001b[31mx\u001b[39m \u001b[34mlubridate\u001b[39m::\u001b[32misoweek()\u001b[39m  masks \u001b[34mdata.table\u001b[39m::isoweek()\n",
      "\u001b[31mx\u001b[39m \u001b[34mdplyr\u001b[39m::\u001b[32mlag()\u001b[39m          masks \u001b[34mstats\u001b[39m::lag()\n",
      "\u001b[31mx\u001b[39m \u001b[34mdata.table\u001b[39m::\u001b[32mlast()\u001b[39m    masks \u001b[34mdplyr\u001b[39m::last()\n",
      "\u001b[31mx\u001b[39m \u001b[34mlubridate\u001b[39m::\u001b[32mmday()\u001b[39m     masks \u001b[34mdata.table\u001b[39m::mday()\n",
      "\u001b[31mx\u001b[39m \u001b[34mlubridate\u001b[39m::\u001b[32mminute()\u001b[39m   masks \u001b[34mdata.table\u001b[39m::minute()\n",
      "\u001b[31mx\u001b[39m \u001b[34mlubridate\u001b[39m::\u001b[32mmonth()\u001b[39m    masks \u001b[34mdata.table\u001b[39m::month()\n",
      "\u001b[31mx\u001b[39m \u001b[34mdplyr\u001b[39m::\u001b[32mmutate()\u001b[39m       masks \u001b[34mplyr\u001b[39m::mutate()\n",
      "\u001b[31mx\u001b[39m \u001b[34mlubridate\u001b[39m::\u001b[32mquarter()\u001b[39m  masks \u001b[34mdata.table\u001b[39m::quarter()\n",
      "\u001b[31mx\u001b[39m \u001b[34mdplyr\u001b[39m::\u001b[32mrename()\u001b[39m       masks \u001b[34mplyr\u001b[39m::rename()\n",
      "\u001b[31mx\u001b[39m \u001b[34mlubridate\u001b[39m::\u001b[32msecond()\u001b[39m   masks \u001b[34mdata.table\u001b[39m::second()\n",
      "\u001b[31mx\u001b[39m \u001b[34mdplyr\u001b[39m::\u001b[32msummarise()\u001b[39m    masks \u001b[34mplyr\u001b[39m::summarise()\n",
      "\u001b[31mx\u001b[39m \u001b[34mdplyr\u001b[39m::\u001b[32msummarize()\u001b[39m    masks \u001b[34mplyr\u001b[39m::summarize()\n",
      "\u001b[31mx\u001b[39m \u001b[34mpurrr\u001b[39m::\u001b[32mtranspose()\u001b[39m    masks \u001b[34mdata.table\u001b[39m::transpose()\n",
      "\u001b[31mx\u001b[39m \u001b[34mlubridate\u001b[39m::\u001b[32mwday()\u001b[39m     masks \u001b[34mdata.table\u001b[39m::wday()\n",
      "\u001b[31mx\u001b[39m \u001b[34mlubridate\u001b[39m::\u001b[32mweek()\u001b[39m     masks \u001b[34mdata.table\u001b[39m::week()\n",
      "\u001b[31mx\u001b[39m \u001b[34mlubridate\u001b[39m::\u001b[32myday()\u001b[39m     masks \u001b[34mdata.table\u001b[39m::yday()\n",
      "\u001b[31mx\u001b[39m \u001b[34mlubridate\u001b[39m::\u001b[32myear()\u001b[39m     masks \u001b[34mdata.table\u001b[39m::year()\n",
      "\u001b[36mi\u001b[39m Use the conflicted package (\u001b[3m\u001b[34m<http://conflicted.r-lib.org/>\u001b[39m\u001b[23m) to force all conflicts to become errors\n",
      "\n",
      "载入程辑包：'ggpubr'\n",
      "\n",
      "\n",
      "The following object is masked from 'package:plyr':\n",
      "\n",
      "    mutate\n",
      "\n",
      "\n",
      "\n",
      "载入程辑包：'reshape2'\n",
      "\n",
      "\n",
      "The following object is masked from 'package:tidyr':\n",
      "\n",
      "    smiths\n",
      "\n",
      "\n",
      "The following objects are masked from 'package:data.table':\n",
      "\n",
      "    dcast, melt\n",
      "\n",
      "\n",
      "载入需要的程辑包：grid\n",
      "\n"
     ]
    }
   ],
   "source": [
    "library(ggplot2)\n",
    "library(plyr)\n",
    "library(dplyr)\n",
    "library(data.table)\n",
    "library(tidyr)\n",
    "library(tidyverse)\n",
    "library(ggplot2)\n",
    "library(ggsignif) \n",
    "library(ggpubr) \n",
    "library(reshape2)\n",
    "library(ggsci) \n",
    "library(stringr)\n",
    "library(ggvenn)\n",
    "library(ggpubr)\n",
    "\n",
    "options(repr.matrix.max.rows=600, repr.matrix.max.cols=200) \n",
    "options(repr.plot.width = 6, repr.plot.height = 6)"
   ]
  },
  {
   "cell_type": "code",
   "execution_count": 2,
   "metadata": {
    "vscode": {
     "languageId": "r"
    }
   },
   "outputs": [],
   "source": [
    "db<-fread(\"all3up_clone-pass_germ-pass_mutation-pass_selected_rows.tsv\")%>%as.data.frame()"
   ]
  },
  {
   "attachments": {},
   "cell_type": "markdown",
   "metadata": {},
   "source": [
    "# add group infor"
   ]
  },
  {
   "cell_type": "code",
   "execution_count": 3,
   "metadata": {
    "vscode": {
     "languageId": "r"
    }
   },
   "outputs": [],
   "source": [
    "#IG类型比较\n",
    "mypal <- ggsci::pal_npg(palette =\"nrc\", alpha = 0.7)(10)\n",
    "mypal2<-ggsci::pal_jama(palette =\"default\", alpha = 0.7)(6)\n",
    "mypal3<-ggsci::pal_lancet(palette =\"lanonc\", alpha = 0.7)(9)\n",
    "mypal4 <- ggsci::pal_npg(palette =\"nrc\", alpha = 0.5)(10)\n",
    "mypal5<-ggsci::pal_jama(palette =\"default\", alpha = 0.5)(6)\n",
    "mypal6<-ggsci::pal_lancet(palette =\"lanonc\", alpha = 0.5)(9)\n",
    "mypal7 <- ggsci::pal_npg(palette =\"nrc\", alpha = 0.3)(10)\n",
    "mypal8<-ggsci::pal_jama(palette =\"default\", alpha = 1)(6)\n",
    "mypal9<-ggsci::pal_lancet(palette =\"lanonc\", alpha = 1)(9)\n",
    "\n",
    "mypal<-c(mypal3,mypal2,mypal,mypal6,mypal5,mypal4,mypal9,mypal8,mypal7)\n",
    "\n",
    "mypal[3]<-\"#FFBD7A\""
   ]
  },
  {
   "attachments": {},
   "cell_type": "markdown",
   "metadata": {},
   "source": [
    "### 读取TNL shared clone"
   ]
  },
  {
   "cell_type": "code",
   "execution_count": 5,
   "metadata": {
    "vscode": {
     "languageId": "r"
    }
   },
   "outputs": [],
   "source": [
    "Patients_clone_overlap_TNL<-fread(\"Fig5A-D.Patients_clone_overlap_TNL.csv\") %>% as.data.frame()"
   ]
  },
  {
   "attachments": {},
   "cell_type": "markdown",
   "metadata": {},
   "source": [
    "## Fig5D"
   ]
  },
  {
   "cell_type": "code",
   "execution_count": 7,
   "metadata": {
    "vscode": {
     "languageId": "r"
    }
   },
   "outputs": [],
   "source": [
    "write.csv(Patients_clone_overlap_TNL_long,\"Fig5D.csv\",quote=FALSE,row.names=FALSE)"
   ]
  },
  {
   "cell_type": "code",
   "execution_count": 6,
   "metadata": {
    "vscode": {
     "languageId": "r"
    }
   },
   "outputs": [
    {
     "name": "stderr",
     "output_type": "stream",
     "text": [
      "Warning message:\n",
      "\"\u001b[1m\u001b[22mThe `<scale>` argument of `guides()` cannot be `FALSE`. Use \"none\" instead as\n",
      "of ggplot2 3.3.4.\"\n",
      "Warning message in wilcox.test.default(c(0.0333780815230657, 0.131722525331255, :\n",
      "\"cannot compute exact p-value with ties\"\n",
      "Warning message in wilcox.test.default(c(0.0333780815230657, 0.131722525331255, :\n",
      "\"cannot compute exact p-value with ties\"\n",
      "Warning message in wilcox.test.default(c(0.124783051050332, 0.543849526886684, 0.121272365805169, :\n",
      "\"cannot compute exact p-value with ties\"\n"
     ]
    },
    {
     "data": {
      "image/png": "[encoded data removed]",
      "text/plain": [
       "plot without title"
      ]
     },
     "metadata": {
      "image/png": {
       "height": 240,
       "width": 360
      }
     },
     "output_type": "display_data"
    },
    {
     "data": {
      "text/plain": [
       "<ScaleContinuousPosition>\n",
       " Range:  \n",
       " Limits:    0 --  0.9"
      ]
     },
     "metadata": {},
     "output_type": "display_data"
    },
    {
     "data": {
      "image/png": "[encoded data removed]",
      "text/plain": [
       "plot without title"
      ]
     },
     "metadata": {
      "image/png": {
       "height": 240,
       "width": 360
      }
     },
     "output_type": "display_data"
    }
   ],
   "source": [
    "options(repr.plot.width = 6, repr.plot.height = 4)\n",
    "Patients_clone_overlap_TNL_long<-melt(Patients_clone_overlap_TNL, id.vars = c(\"patient\"))\n",
    "#pdf(\"overlap_TNL.pdf\",4,4)\n",
    "Clone_TNL_jac<-ggplot(Patients_clone_overlap_TNL_long,aes(x=variable,y=value,fill=variable))+geom_line(aes(group=patient),stat=\"identity\",alpha=.1)+\n",
    "    geom_violin()+\n",
    "    geom_boxplot(fill=\"white\",width=.05)+\n",
    "    geom_signif(comparisons = list(c(\"ToN\", \"ToL\"),c(\"ToN\", \"NoL\"),c(\"ToL\",\"NoL\")),\n",
    "              map_signif_level=T,\n",
    "              textsize=4,test=wilcox.test,step_increase=0.1,vjust=1.5,tip_length=0.02)+\n",
    "    scale_fill_manual(values=c(\"#BF7C8B\",\"#83BBA1\",\"#B9AB82\"))+\n",
    "    theme_classic()+\n",
    "#    theme(panel.border = element_rect(fill=NA,color=\"black\",size=0.5,linetype=\"solid\"))+\n",
    "    theme(axis.text =element_text(size=12))+\n",
    "    xlab(\"\")+ylab(\"Jaccard Index\")+labs(fill=\"Shared Type\")+guides(fill=FALSE)+\n",
    "    ylim(0,0.9)\n",
    "    Clone_TNL_jac\n",
    "#dev.off()\n",
    "\n",
    "ggplot(Patients_clone_overlap_TNL_long,aes(x=variable,y=value,group=patient)) + geom_line(stat=\"identity\")+\n",
    "    theme_classic()+\n",
    "    #theme(panel.border = element_rect(fill=NA,color=\"black\",size=0.5,linetype=\"solid\"))+\n",
    "    theme(axis.text =element_text(size=16))+\n",
    "    xlab(\"\")+ylab(\"Jaccard Index\")+ggtitle(\"Clone Lineage Overlap\")\n",
    "    ylim(0,0.9)\n",
    "#dev.off()\n"
   ]
  },
  {
   "attachments": {},
   "cell_type": "markdown",
   "metadata": {},
   "source": [
    "### Fig5D.TNL_clone_overlap.pdf"
   ]
  },
  {
   "cell_type": "code",
   "execution_count": 9,
   "metadata": {
    "vscode": {
     "languageId": "r"
    }
   },
   "outputs": [
    {
     "name": "stderr",
     "output_type": "stream",
     "text": [
      "Warning message in wilcox.test.default(c(0.0333780815230657, 0.131722525331255, :\n",
      "\"cannot compute exact p-value with ties\"\n",
      "Warning message in wilcox.test.default(c(0.0333780815230657, 0.131722525331255, :\n",
      "\"cannot compute exact p-value with ties\"\n",
      "Warning message in wilcox.test.default(c(0.124783051050332, 0.543849526886684, 0.121272365805169, :\n",
      "\"cannot compute exact p-value with ties\"\n"
     ]
    },
    {
     "data": {
      "text/html": [
       "<strong>png:</strong> 2"
      ],
      "text/latex": [
       "\\textbf{png:} 2"
      ],
      "text/markdown": [
       "**png:** 2"
      ],
      "text/plain": [
       "png \n",
       "  2 "
      ]
     },
     "metadata": {},
     "output_type": "display_data"
    }
   ],
   "source": [
    "pdf(\"Fig5D.TNL_clone_overlap.pdf\",4,3)\n",
    "Clone_TNL_jac\n",
    "dev.off()"
   ]
  },
  {
   "attachments": {},
   "cell_type": "markdown",
   "metadata": {},
   "source": [
    "#### 2.3.4 【***】读取添加flag后的jaccard表格"
   ]
  },
  {
   "cell_type": "code",
   "execution_count": 9,
   "metadata": {
    "vscode": {
     "languageId": "r"
    }
   },
   "outputs": [],
   "source": [
    "jac_long<-fread(\"Fig5A-D.sample_seq_overlap_addflag.csv\") %>% as.data.frame()"
   ]
  },
  {
   "attachments": {},
   "cell_type": "markdown",
   "metadata": {},
   "source": [
    "#### 2.3.5 筛选每个病人自身样本的jaccard"
   ]
  },
  {
   "cell_type": "code",
   "execution_count": 10,
   "metadata": {
    "vscode": {
     "languageId": "r"
    }
   },
   "outputs": [],
   "source": [
    "jac_long_self<-jac_long[-grep(\"between\",jac_long$flag),]"
   ]
  },
  {
   "attachments": {},
   "cell_type": "markdown",
   "metadata": {},
   "source": [
    "### 计算self不同组织类型间overlap程度"
   ]
  },
  {
   "cell_type": "code",
   "execution_count": 11,
   "metadata": {
    "vscode": {
     "languageId": "r"
    }
   },
   "outputs": [],
   "source": [
    "jac_long$flag<-gsub(jac_long$flag,pattern=\"between\",replacement = \"Inter\")\n",
    "jac_long$flag<-gsub(jac_long$flag,pattern=\"self\",replacement = \"Intra\")"
   ]
  },
  {
   "attachments": {},
   "cell_type": "markdown",
   "metadata": {},
   "source": [
    "## Fig5C"
   ]
  },
  {
   "cell_type": "code",
   "execution_count": 12,
   "metadata": {
    "vscode": {
     "languageId": "r"
    }
   },
   "outputs": [],
   "source": [
    "library(\"ggsignif\")\n",
    "options(repr.plot.width = 6, repr.plot.height = 4)\n",
    "\n",
    "data1<-jac_long\n",
    "\n",
    "data1$flag<-gsub(data1$flag,pattern = \"LoT\",replacement = \"ToL\")\n",
    "data1$flag<-gsub(data1$flag,pattern = \"LoN\",replacement = \"NoL\")\n",
    "data1$flag<-gsub(data1$flag,pattern = \"NoT\",replacement = \"ToN\")\n",
    "\n",
    "data1$flag<-factor(data1$flag,levels=c(\"Intra.ToT\",\"Intra.ToN\",\"Intra.ToL\",\"Intra.LoL\",\"Intra.NoL\"))\n",
    "\n",
    "intra_jac<-ggplot(data1[grep(\"Intra\",data1$flag),],aes(x=flag,y=jaccard_index))+\n",
    "  geom_violin(aes(x=flag,y=jaccard_index,fill=flag),width=1.5)+\n",
    "  geom_boxplot(aes(x=flag,y=jaccard_index),width=.1,outlier.size = .01,)+\n",
    "  geom_signif(comparisons = list(c(\"Intra.ToT\",\"Intra.ToN\"),\n",
    "                                c(\"Intra.ToT\",\"Intra.ToL\"),\n",
    "                                c(\"Intra.ToL\",\"Intra.ToN\"),\n",
    "                                c(\"Intra.LoL\",\"Intra.ToN\"),\n",
    "                                c(\"Intra.ToN\",\"Intra.NoL\"),\n",
    "                                c(\"Intra.LoL\",\"Intra.ToL\"),\n",
    "                                c(\"Intra.ToL\",\"Intra.NoL\")),\n",
    "              map_signif_level=T,\n",
    "              textsize=4,test=wilcox.test,step_increase=0.1,vjust=1.5,tip_length=0.02)+\n",
    "  theme_classic2()+\n",
    "    #theme(panel.border = element_rect(fill=NA,color=\"black\",size=0.5,linetype=\"solid\"))+\n",
    "        xlab(\"\")+ylab(\"Jaccard Index\")+\n",
    "    theme(axis.text =element_text(size=12),\n",
    "      axis.text.x =element_text(angle=90,size=12))+\n",
    "    scale_fill_manual(values=mypal5)+\n",
    "    guides(fill=FALSE)#+\n",
    "    #ylim(0,0.8)\n"
   ]
  },
  {
   "cell_type": "code",
   "execution_count": 14,
   "metadata": {
    "vscode": {
     "languageId": "r"
    }
   },
   "outputs": [],
   "source": [
    "write.csv(data1[grep(\"Intra\",data1$flag),],\"Fig5C.csv\",quote=FALSE,row.names=FALSE)"
   ]
  },
  {
   "cell_type": "code",
   "execution_count": 19,
   "metadata": {
    "vscode": {
     "languageId": "r"
    }
   },
   "outputs": [
    {
     "name": "stderr",
     "output_type": "stream",
     "text": [
      "Warning message:\n",
      "\"\u001b[1m\u001b[22m`position_dodge()` requires non-overlapping \u001b[32mx\u001b[39m intervals\"\n"
     ]
    },
    {
     "data": {
      "image/png": "[encoded data removed]",
      "text/plain": [
       "plot without title"
      ]
     },
     "metadata": {
      "image/png": {
       "height": 240,
       "width": 360
      }
     },
     "output_type": "display_data"
    }
   ],
   "source": [
    "intra_jac\n",
    "\n",
    "pdf(\"Fig5C.Intra_jac_boxplot.pdf\",4,2)\n",
    "intra_jac\n",
    "dev.off()"
   ]
  },
  {
   "attachments": {},
   "cell_type": "markdown",
   "metadata": {},
   "source": [
    "## Fig5AB"
   ]
  },
  {
   "cell_type": "code",
   "execution_count": 15,
   "metadata": {
    "vscode": {
     "languageId": "r"
    }
   },
   "outputs": [
    {
     "name": "stderr",
     "output_type": "stream",
     "text": [
      "Warning message:\n",
      "\"\u001b[1m\u001b[22mTransformation introduced infinite values in continuous y-axis\"\n",
      "Warning message:\n",
      "\"\u001b[1m\u001b[22mTransformation introduced infinite values in continuous y-axis\"\n",
      "Warning message:\n",
      "\"\u001b[1m\u001b[22mTransformation introduced infinite values in continuous y-axis\"\n",
      "Warning message:\n",
      "\"\u001b[1m\u001b[22mRemoved 418352 rows containing non-finite values (`stat_ydensity()`).\"\n",
      "Warning message:\n",
      "\"\u001b[1m\u001b[22mRemoved 418352 rows containing non-finite values (`stat_boxplot()`).\"\n",
      "Warning message:\n",
      "\"\u001b[1m\u001b[22mRemoved 418352 rows containing non-finite values (`stat_signif()`).\"\n"
     ]
    },
    {
     "data": {
      "image/png": "[encoded data removed]",
      "text/plain": [
       "plot without title"
      ]
     },
     "metadata": {
      "image/png": {
       "height": 240,
       "width": 240
      }
     },
     "output_type": "display_data"
    }
   ],
   "source": [
    "options(repr.plot.width = 4, repr.plot.height = 4)\n",
    "\n",
    "data1<-jac_long\n",
    "\n",
    "data1<-data1[-grep(\"same\",data1$flag),]\n",
    "data1$flag[grep(\"Intra\",data1$flag)]<-\"Intra\"\n",
    "data1$flag[grep(\"Inter\",data1$flag)]<-\"Inter\"\n",
    "\n",
    "# mean(data1$jaccard_index[data1$jaccard_index>0 & data1$flag==\"Intra\"])\n",
    "# mean(data1$jaccard_index[data1$jaccard_index>0 & data1$flag==\"Inter\"])\n",
    "m1<-paste0(\"Average Intra-patient = \",mean(data1$jaccard_index[data1$jaccard_index>0 & data1$flag==\"Intra\"]))\n",
    "m2<-paste0(\"Average Intra-patient = \",mean(data1$jaccard_index[data1$jaccard_index>0 & data1$flag==\"Inter\"]))\n",
    "\n",
    "\n",
    "inter_intra_boxplot<-ggplot(data1,aes(x=flag,y=jaccard_index))+\n",
    "  geom_violin(aes(x=flag,y=jaccard_index,fill=flag),width=1)+\n",
    "  geom_boxplot(aes(x=flag,y=jaccard_index),width=.1,outlier.size = .1)+\n",
    "  geom_signif(comparisons = list(c(\"Intra\",\"Inter\")),\n",
    "              map_signif_level=T,\n",
    "              textsize=4,test=wilcox.test,step_increase=0.1,vjust=2,tip_length=0.02)+\n",
    "    theme_classic()+\n",
    "    annotate(\"text\",x=Inf,y=Inf,vjust=c(1.5,3.5),hjust=c(1,1),label=c(m1,m2))+\n",
    "    #theme(panel.border = element_rect(fill=NA,color=\"black\",size=0.5,linetype=\"solid\"))+\n",
    "    xlab(\"\")+ylab(\"Jaccard Index\")+\n",
    "    scale_y_log10()+\n",
    "    theme(axis.text =element_text(size=12),\n",
    "    axis.text.x =element_text(angle=90,size=12))+\n",
    "    scale_fill_manual(values=mypal)\n",
    "\n",
    "inter_intra_boxplot"
   ]
  },
  {
   "cell_type": "code",
   "execution_count": 16,
   "metadata": {
    "vscode": {
     "languageId": "r"
    }
   },
   "outputs": [],
   "source": [
    "write.csv(data1,\"Fig5A.csv\",quote=FALSE,row.names=FALSE)"
   ]
  },
  {
   "cell_type": "code",
   "execution_count": 17,
   "metadata": {
    "vscode": {
     "languageId": "r"
    }
   },
   "outputs": [
    {
     "name": "stderr",
     "output_type": "stream",
     "text": [
      "Warning message:\n",
      "\"\u001b[1m\u001b[22mUsing `size` aesthetic for lines was deprecated in ggplot2 3.4.0.\n",
      "\u001b[36mi\u001b[39m Please use `linewidth` instead.\"\n"
     ]
    },
    {
     "data": {
      "image/png": "[encoded data removed]",
      "text/plain": [
       "plot without title"
      ]
     },
     "metadata": {
      "image/png": {
       "height": 240,
       "width": 210
      }
     },
     "output_type": "display_data"
    }
   ],
   "source": [
    "options(repr.plot.width = 3.5, repr.plot.height = 4)\n",
    "data1<-jac_long\n",
    "\n",
    "data1<-data1[-grep(\"same\",data1$flag),]\n",
    "data1$flag[grep(\"Intra\",data1$flag)]<-\"Intra\"\n",
    "data1$flag[grep(\"Inter\",data1$flag)]<-\"Inter\"\n",
    "\n",
    "data1$overlap=\"\"\n",
    "data1$overlap[data1$jaccard_index>0]<-\"Yes\"\n",
    "data1$overlap[data1$jaccard_index==0]<-\"No\"\n",
    "\n",
    "#IG类型比较\n",
    "\n",
    "Cellratio<-prop.table(table(data1$flag,data1$overlap),margin=1)\n",
    "Cellratio<- as.data.frame(Cellratio)\n",
    "colnames(Cellratio)<-c(\"Flag\",\"Overlap\",\"Freq\")\n",
    "Cellratio$Overlap<-factor(Cellratio$Overlap,levels=c(\"Yes\",\"No\"))\n",
    "\n",
    "Cellratio$label=round(Cellratio$Freq,digits=3)\n",
    "\n",
    "ce<-ddply(Cellratio,\"Flag\",transform,label_y=cumsum(Freq)-0.5*Freq)\n",
    "\n",
    "\n",
    "inter_intra_barplot<-ggplot(ce,aes(x=Flag,y=Freq,fill=Overlap))+\n",
    "    geom_bar(aes(x=Flag,y=Freq,fill=Overlap),stat=\"identity\",width=0.7,size=0.5,colour=\"#222222\")+\n",
    "    theme_classic()+\n",
    "    labs(x='',y='Ratio')+\n",
    "    scale_fill_manual(values=c(\"#ED0000B2\",\"darkgrey\"))+\n",
    "    geom_text(aes(label = label,y=label_y),colour=\"white\",vjust=1)+\n",
    "#    theme(panel.border = element_rect(fill=NA,color=\"black\",size=0.5,linetype=\"solid\"))+\n",
    "    theme(axis.text =element_text(size=12),\n",
    "      axis.text.x =element_text(angle=90,size=12))\n",
    "\n",
    "inter_intra_barplot"
   ]
  },
  {
   "cell_type": "code",
   "execution_count": 19,
   "metadata": {
    "vscode": {
     "languageId": "r"
    }
   },
   "outputs": [],
   "source": [
    "write.csv(ce,\"Fig5B.csv\",quote=FALSE,row.names=FALSE)"
   ]
  },
  {
   "cell_type": "code",
   "execution_count": 38,
   "metadata": {
    "vscode": {
     "languageId": "r"
    }
   },
   "outputs": [
    {
     "name": "stderr",
     "output_type": "stream",
     "text": [
      "Warning message:\n",
      "\"position_dodge requires non-overlapping x intervals\"\n",
      "Warning message:\n",
      "\"Transformation introduced infinite values in continuous y-axis\"\n",
      "Warning message:\n",
      "\"Transformation introduced infinite values in continuous y-axis\"\n",
      "Warning message:\n",
      "\"Transformation introduced infinite values in continuous y-axis\"\n",
      "Warning message:\n",
      "\"Removed 255972 rows containing non-finite values (stat_ydensity).\"\n",
      "Warning message:\n",
      "\"Removed 255972 rows containing non-finite values (stat_boxplot).\"\n",
      "Warning message:\n",
      "\"Removed 255972 rows containing non-finite values (stat_signif).\"\n",
      "Warning message:\n",
      "\"position_dodge requires non-overlapping x intervals\"\n"
     ]
    },
    {
     "data": {
      "text/html": [
       "<strong>png:</strong> 2"
      ],
      "text/latex": [
       "\\textbf{png:} 2"
      ],
      "text/markdown": [
       "**png:** 2"
      ],
      "text/plain": [
       "png \n",
       "  2 "
      ]
     },
     "metadata": {},
     "output_type": "display_data"
    }
   ],
   "source": [
    "pdf(\"Fig5AB.inter_intra.row2.pdf\",9,3.5)\n",
    "intra_jac+Inter_jac+plot_layout(nrow=1,width=c(2,1))\n",
    "dev.off()"
   ]
  }
 ],
 "metadata": {
  "kernelspec": {
   "display_name": "R",
   "language": "R",
   "name": "ir"
  },
  "language_info": {
   "codemirror_mode": "r",
   "file_extension": ".r",
   "mimetype": "text/x-r-source",
   "name": "R",
   "pygments_lexer": "r",
   "version": "4.1.3"
  },
  "orig_nbformat": 4
 },
 "nbformat": 4,
 "nbformat_minor": 2
}

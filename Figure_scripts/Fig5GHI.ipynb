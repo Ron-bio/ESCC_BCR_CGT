{
 "cells": [
  {
   "cell_type": "code",
   "execution_count": 1,
   "metadata": {
    "vscode": {
     "languageId": "r"
    }
   },
   "outputs": [
    {
     "name": "stderr",
     "output_type": "stream",
     "text": [
      "\n",
      "载入程辑包：'dplyr'\n",
      "\n",
      "\n",
      "The following objects are masked from 'package:plyr':\n",
      "\n",
      "    arrange, count, desc, failwith, id, mutate, rename, summarise,\n",
      "    summarize\n",
      "\n",
      "\n",
      "The following objects are masked from 'package:stats':\n",
      "\n",
      "    filter, lag\n",
      "\n",
      "\n",
      "The following objects are masked from 'package:base':\n",
      "\n",
      "    intersect, setdiff, setequal, union\n",
      "\n",
      "\n",
      "\n",
      "载入程辑包：'data.table'\n",
      "\n",
      "\n",
      "The following objects are masked from 'package:dplyr':\n",
      "\n",
      "    between, first, last\n",
      "\n",
      "\n",
      "-- \u001b[1mAttaching core tidyverse packages\u001b[22m ------------------------ tidyverse 2.0.0 --\n",
      "\u001b[32mv\u001b[39m \u001b[34mforcats  \u001b[39m 1.0.0     \u001b[32mv\u001b[39m \u001b[34mreadr    \u001b[39m 2.1.4\n",
      "\u001b[32mv\u001b[39m \u001b[34mlubridate\u001b[39m 1.9.2     \u001b[32mv\u001b[39m \u001b[34mstringr  \u001b[39m 1.5.0\n",
      "\u001b[32mv\u001b[39m \u001b[34mpurrr    \u001b[39m 1.0.1     \u001b[32mv\u001b[39m \u001b[34mtibble   \u001b[39m 3.2.1\n",
      "-- \u001b[1mConflicts\u001b[22m ------------------------------------------ tidyverse_conflicts() --\n",
      "\u001b[31mx\u001b[39m \u001b[34mdplyr\u001b[39m::\u001b[32marrange()\u001b[39m      masks \u001b[34mplyr\u001b[39m::arrange()\n",
      "\u001b[31mx\u001b[39m \u001b[34mdata.table\u001b[39m::\u001b[32mbetween()\u001b[39m masks \u001b[34mdplyr\u001b[39m::between()\n",
      "\u001b[31mx\u001b[39m \u001b[34mpurrr\u001b[39m::\u001b[32mcompact()\u001b[39m      masks \u001b[34mplyr\u001b[39m::compact()\n",
      "\u001b[31mx\u001b[39m \u001b[34mdplyr\u001b[39m::\u001b[32mcount()\u001b[39m        masks \u001b[34mplyr\u001b[39m::count()\n",
      "\u001b[31mx\u001b[39m \u001b[34mdplyr\u001b[39m::\u001b[32mdesc()\u001b[39m         masks \u001b[34mplyr\u001b[39m::desc()\n",
      "\u001b[31mx\u001b[39m \u001b[34mdplyr\u001b[39m::\u001b[32mfailwith()\u001b[39m     masks \u001b[34mplyr\u001b[39m::failwith()\n",
      "\u001b[31mx\u001b[39m \u001b[34mdplyr\u001b[39m::\u001b[32mfilter()\u001b[39m       masks \u001b[34mstats\u001b[39m::filter()\n",
      "\u001b[31mx\u001b[39m \u001b[34mdata.table\u001b[39m::\u001b[32mfirst()\u001b[39m   masks \u001b[34mdplyr\u001b[39m::first()\n",
      "\u001b[31mx\u001b[39m \u001b[34mlubridate\u001b[39m::\u001b[32mhour()\u001b[39m     masks \u001b[34mdata.table\u001b[39m::hour()\n",
      "\u001b[31mx\u001b[39m \u001b[34mdplyr\u001b[39m::\u001b[32mid()\u001b[39m           masks \u001b[34mplyr\u001b[39m::id()\n",
      "\u001b[31mx\u001b[39m \u001b[34mlubridate\u001b[39m::\u001b[32misoweek()\u001b[39m  masks \u001b[34mdata.table\u001b[39m::isoweek()\n",
      "\u001b[31mx\u001b[39m \u001b[34mdplyr\u001b[39m::\u001b[32mlag()\u001b[39m          masks \u001b[34mstats\u001b[39m::lag()\n",
      "\u001b[31mx\u001b[39m \u001b[34mdata.table\u001b[39m::\u001b[32mlast()\u001b[39m    masks \u001b[34mdplyr\u001b[39m::last()\n",
      "\u001b[31mx\u001b[39m \u001b[34mlubridate\u001b[39m::\u001b[32mmday()\u001b[39m     masks \u001b[34mdata.table\u001b[39m::mday()\n",
      "\u001b[31mx\u001b[39m \u001b[34mlubridate\u001b[39m::\u001b[32mminute()\u001b[39m   masks \u001b[34mdata.table\u001b[39m::minute()\n",
      "\u001b[31mx\u001b[39m \u001b[34mlubridate\u001b[39m::\u001b[32mmonth()\u001b[39m    masks \u001b[34mdata.table\u001b[39m::month()\n",
      "\u001b[31mx\u001b[39m \u001b[34mdplyr\u001b[39m::\u001b[32mmutate()\u001b[39m       masks \u001b[34mplyr\u001b[39m::mutate()\n",
      "\u001b[31mx\u001b[39m \u001b[34mlubridate\u001b[39m::\u001b[32mquarter()\u001b[39m  masks \u001b[34mdata.table\u001b[39m::quarter()\n",
      "\u001b[31mx\u001b[39m \u001b[34mdplyr\u001b[39m::\u001b[32mrename()\u001b[39m       masks \u001b[34mplyr\u001b[39m::rename()\n",
      "\u001b[31mx\u001b[39m \u001b[34mlubridate\u001b[39m::\u001b[32msecond()\u001b[39m   masks \u001b[34mdata.table\u001b[39m::second()\n",
      "\u001b[31mx\u001b[39m \u001b[34mdplyr\u001b[39m::\u001b[32msummarise()\u001b[39m    masks \u001b[34mplyr\u001b[39m::summarise()\n",
      "\u001b[31mx\u001b[39m \u001b[34mdplyr\u001b[39m::\u001b[32msummarize()\u001b[39m    masks \u001b[34mplyr\u001b[39m::summarize()\n",
      "\u001b[31mx\u001b[39m \u001b[34mpurrr\u001b[39m::\u001b[32mtranspose()\u001b[39m    masks \u001b[34mdata.table\u001b[39m::transpose()\n",
      "\u001b[31mx\u001b[39m \u001b[34mlubridate\u001b[39m::\u001b[32mwday()\u001b[39m     masks \u001b[34mdata.table\u001b[39m::wday()\n",
      "\u001b[31mx\u001b[39m \u001b[34mlubridate\u001b[39m::\u001b[32mweek()\u001b[39m     masks \u001b[34mdata.table\u001b[39m::week()\n",
      "\u001b[31mx\u001b[39m \u001b[34mlubridate\u001b[39m::\u001b[32myday()\u001b[39m     masks \u001b[34mdata.table\u001b[39m::yday()\n",
      "\u001b[31mx\u001b[39m \u001b[34mlubridate\u001b[39m::\u001b[32myear()\u001b[39m     masks \u001b[34mdata.table\u001b[39m::year()\n",
      "\u001b[36mi\u001b[39m Use the conflicted package (\u001b[3m\u001b[34m<http://conflicted.r-lib.org/>\u001b[39m\u001b[23m) to force all conflicts to become errors\n",
      "\n",
      "载入程辑包：'ggpubr'\n",
      "\n",
      "\n",
      "The following object is masked from 'package:plyr':\n",
      "\n",
      "    mutate\n",
      "\n",
      "\n",
      "\n",
      "载入程辑包：'reshape2'\n",
      "\n",
      "\n",
      "The following object is masked from 'package:tidyr':\n",
      "\n",
      "    smiths\n",
      "\n",
      "\n",
      "The following objects are masked from 'package:data.table':\n",
      "\n",
      "    dcast, melt\n",
      "\n",
      "\n",
      "载入需要的程辑包：grid\n",
      "\n"
     ]
    }
   ],
   "source": [
    "library(ggplot2)\n",
    "library(plyr)\n",
    "library(dplyr)\n",
    "library(data.table)\n",
    "library(tidyr)\n",
    "library(tidyverse)\n",
    "library(ggplot2)\n",
    "library(ggsignif) \n",
    "library(ggpubr) \n",
    "library(reshape2)\n",
    "library(ggsci) \n",
    "library(stringr)\n",
    "library(ggvenn)\n",
    "library(ggpubr)\n",
    "\n",
    "options(repr.matrix.max.rows=600, repr.matrix.max.cols=200) \n",
    "options(repr.plot.width = 6, repr.plot.height = 6)"
   ]
  },
  {
   "cell_type": "code",
   "execution_count": 2,
   "metadata": {
    "vscode": {
     "languageId": "r"
    }
   },
   "outputs": [],
   "source": [
    "db<-fread(\"all3up_clone-pass_germ-pass_mutation-pass_selected_rows.tsv\")%>%as.data.frame()"
   ]
  },
  {
   "attachments": {},
   "cell_type": "markdown",
   "metadata": {},
   "source": [
    "# add group infor"
   ]
  },
  {
   "cell_type": "code",
   "execution_count": 3,
   "metadata": {
    "vscode": {
     "languageId": "r"
    }
   },
   "outputs": [],
   "source": [
    "#IG类型比较\n",
    "mypal <- ggsci::pal_npg(palette =\"nrc\", alpha = 0.7)(10)\n",
    "mypal2<-ggsci::pal_jama(palette =\"default\", alpha = 0.7)(6)\n",
    "mypal3<-ggsci::pal_lancet(palette =\"lanonc\", alpha = 0.7)(9)\n",
    "mypal4 <- ggsci::pal_npg(palette =\"nrc\", alpha = 0.5)(10)\n",
    "mypal5<-ggsci::pal_jama(palette =\"default\", alpha = 0.5)(6)\n",
    "mypal6<-ggsci::pal_lancet(palette =\"lanonc\", alpha = 0.5)(9)\n",
    "mypal7 <- ggsci::pal_npg(palette =\"nrc\", alpha = 0.3)(10)\n",
    "mypal8<-ggsci::pal_jama(palette =\"default\", alpha = 1)(6)\n",
    "mypal9<-ggsci::pal_lancet(palette =\"lanonc\", alpha = 1)(9)\n",
    "\n",
    "mypal<-c(mypal3,mypal2,mypal,mypal6,mypal5,mypal4,mypal9,mypal8,mypal7)\n",
    "\n",
    "mypal[3]<-\"#FFBD7A\"\n"
   ]
  },
  {
   "cell_type": "code",
   "execution_count": 4,
   "metadata": {
    "vscode": {
     "languageId": "r"
    }
   },
   "outputs": [
    {
     "ename": "ERROR",
     "evalue": "Error in db$patient %in% patients_with_L: 找不到对象'patients_with_L'\n",
     "output_type": "error",
     "traceback": [
      "Error in db$patient %in% patients_with_L: 找不到对象'patients_with_L'\nTraceback:\n",
      "1. db[db$patient %in% patients_with_L, ]",
      "2. `[.data.frame`(db, db$patient %in% patients_with_L, )",
      "3. db$patient %in% patients_with_L"
     ]
    }
   ],
   "source": [
    "#筛选有L的病人\n",
    "\n",
    "db_L<-db[db$patient %in% patients_with_L,]"
   ]
  },
  {
   "attachments": {},
   "cell_type": "markdown",
   "metadata": {},
   "source": [
    "### 2.2.2 读取TNL shared clone"
   ]
  },
  {
   "cell_type": "code",
   "execution_count": 5,
   "metadata": {
    "vscode": {
     "languageId": "r"
    }
   },
   "outputs": [],
   "source": [
    "Patients_clone_overlap_TNL<-fread(\"Fig5G-I.Patients_clone_overlap_TNL.csv\") %>% as.data.frame()"
   ]
  },
  {
   "attachments": {},
   "cell_type": "markdown",
   "metadata": {},
   "source": [
    "# 3.1 异质性"
   ]
  },
  {
   "attachments": {},
   "cell_type": "markdown",
   "metadata": {},
   "source": [
    "## 3.1.1 计算单个肿瘤样本异质性"
   ]
  },
  {
   "cell_type": "code",
   "execution_count": 6,
   "metadata": {
    "vscode": {
     "languageId": "r"
    }
   },
   "outputs": [
    {
     "data": {
      "text/html": [
       "<table class=\"dataframe\">\n",
       "<caption>A data.frame: 5 × 3</caption>\n",
       "<thead>\n",
       "\t<tr><th></th><th scope=col>sample</th><th scope=col>average_jaccard</th><th scope=col>median_jaccard</th></tr>\n",
       "\t<tr><th></th><th scope=col>&lt;chr&gt;</th><th scope=col>&lt;chr&gt;</th><th scope=col>&lt;chr&gt;</th></tr>\n",
       "</thead>\n",
       "<tbody>\n",
       "\t<tr><th scope=row>1</th><td>ESCC001T1</td><td>0.0587287485338841</td><td>0.0601634805246379</td></tr>\n",
       "\t<tr><th scope=row>2</th><td>ESCC001T2</td><td>0.0552279654470114</td><td>0.0549113596591341</td></tr>\n",
       "\t<tr><th scope=row>3</th><td>ESCC001T3</td><td>0.061849046794245 </td><td>0.0573663018790006</td></tr>\n",
       "\t<tr><th scope=row>4</th><td>ESCC001T4</td><td>0.0378655203906984</td><td>0.0314404583774315</td></tr>\n",
       "\t<tr><th scope=row>5</th><td>ESCC001T5</td><td>0.0664402409005651</td><td>0.0648094895758447</td></tr>\n",
       "</tbody>\n",
       "</table>\n"
      ],
      "text/latex": [
       "A data.frame: 5 × 3\n",
       "\\begin{tabular}{r|lll}\n",
       "  & sample & average\\_jaccard & median\\_jaccard\\\\\n",
       "  & <chr> & <chr> & <chr>\\\\\n",
       "\\hline\n",
       "\t1 & ESCC001T1 & 0.0587287485338841 & 0.0601634805246379\\\\\n",
       "\t2 & ESCC001T2 & 0.0552279654470114 & 0.0549113596591341\\\\\n",
       "\t3 & ESCC001T3 & 0.061849046794245  & 0.0573663018790006\\\\\n",
       "\t4 & ESCC001T4 & 0.0378655203906984 & 0.0314404583774315\\\\\n",
       "\t5 & ESCC001T5 & 0.0664402409005651 & 0.0648094895758447\\\\\n",
       "\\end{tabular}\n"
      ],
      "text/markdown": [
       "\n",
       "A data.frame: 5 × 3\n",
       "\n",
       "| <!--/--> | sample &lt;chr&gt; | average_jaccard &lt;chr&gt; | median_jaccard &lt;chr&gt; |\n",
       "|---|---|---|---|\n",
       "| 1 | ESCC001T1 | 0.0587287485338841 | 0.0601634805246379 |\n",
       "| 2 | ESCC001T2 | 0.0552279654470114 | 0.0549113596591341 |\n",
       "| 3 | ESCC001T3 | 0.061849046794245  | 0.0573663018790006 |\n",
       "| 4 | ESCC001T4 | 0.0378655203906984 | 0.0314404583774315 |\n",
       "| 5 | ESCC001T5 | 0.0664402409005651 | 0.0648094895758447 |\n",
       "\n"
      ],
      "text/plain": [
       "  sample    average_jaccard    median_jaccard    \n",
       "1 ESCC001T1 0.0587287485338841 0.0601634805246379\n",
       "2 ESCC001T2 0.0552279654470114 0.0549113596591341\n",
       "3 ESCC001T3 0.061849046794245  0.0573663018790006\n",
       "4 ESCC001T4 0.0378655203906984 0.0314404583774315\n",
       "5 ESCC001T5 0.0664402409005651 0.0648094895758447"
      ]
     },
     "metadata": {},
     "output_type": "display_data"
    }
   ],
   "source": [
    "options(repr.plot.width = 6, repr.plot.height = 6)\n",
    "\n",
    "\n",
    "jac_long<-fread(\"Fig5G-I.sample_seq_overlap_addflag.csv\") %>% as.data.frame()\n",
    "jac_LoT<-jac_long[jac_long$flag==\"self.ToT\",]\n",
    "\n",
    "Single_T_jac_level<-tibble()\n",
    "samples<-unique(jac_LoT$sample1)[order(unique(jac_LoT$sample1),decreasing = FALSE)]\n",
    "for (s in samples){\n",
    "    data_s<-jac_LoT[jac_LoT$sample1==s,]\n",
    "    row_s<-c(s,mean(data_s$jaccard_index),median(data_s$jaccard_index))\n",
    "    Single_T_jac_level<-rbind(Single_T_jac_level,row_s)\n",
    "}\n",
    "\n",
    "colnames(Single_T_jac_level)<-c(\"sample\",\"average_jaccard\",\"median_jaccard\")\n",
    "Single_T_jac_level[1:5,]"
   ]
  },
  {
   "attachments": {},
   "cell_type": "markdown",
   "metadata": {},
   "source": [
    "### 3.1.1 计算取样距离与Jaccard之间的相关性\n",
    "\n",
    "T5-T1~T4 =1\n",
    "T1-T2、T4 =1\n",
    "T1-T3 = 2\n",
    "T2-T4= 2"
   ]
  },
  {
   "cell_type": "code",
   "execution_count": 7,
   "metadata": {
    "vscode": {
     "languageId": "r"
    }
   },
   "outputs": [
    {
     "data": {
      "text/html": [
       "<table class=\"dataframe\">\n",
       "<caption>A data.frame: 5 × 4</caption>\n",
       "<thead>\n",
       "\t<tr><th></th><th scope=col>sample1</th><th scope=col>sample2</th><th scope=col>jaccard_index</th><th scope=col>flag</th></tr>\n",
       "\t<tr><th></th><th scope=col>&lt;chr&gt;</th><th scope=col>&lt;chr&gt;</th><th scope=col>&lt;dbl&gt;</th><th scope=col>&lt;chr&gt;</th></tr>\n",
       "</thead>\n",
       "<tbody>\n",
       "\t<tr><th scope=row>2045</th><td>ESCC081T4</td><td>ESCC081T3</td><td>0.09668169</td><td>self.ToT</td></tr>\n",
       "\t<tr><th scope=row>2367</th><td>ESCC081T4</td><td>ESCC081T2</td><td>0.32505981</td><td>self.ToT</td></tr>\n",
       "\t<tr><th scope=row>2368</th><td>ESCC081T4</td><td>ESCC081T5</td><td>0.26170599</td><td>self.ToT</td></tr>\n",
       "\t<tr><th scope=row>2384</th><td>ESCC081T4</td><td>ESCC081T1</td><td>0.32904806</td><td>self.ToT</td></tr>\n",
       "\t<tr><th scope=row>2614</th><td>ESCC039T1</td><td>ESCC039T4</td><td>0.18275154</td><td>self.ToT</td></tr>\n",
       "</tbody>\n",
       "</table>\n"
      ],
      "text/latex": [
       "A data.frame: 5 × 4\n",
       "\\begin{tabular}{r|llll}\n",
       "  & sample1 & sample2 & jaccard\\_index & flag\\\\\n",
       "  & <chr> & <chr> & <dbl> & <chr>\\\\\n",
       "\\hline\n",
       "\t2045 & ESCC081T4 & ESCC081T3 & 0.09668169 & self.ToT\\\\\n",
       "\t2367 & ESCC081T4 & ESCC081T2 & 0.32505981 & self.ToT\\\\\n",
       "\t2368 & ESCC081T4 & ESCC081T5 & 0.26170599 & self.ToT\\\\\n",
       "\t2384 & ESCC081T4 & ESCC081T1 & 0.32904806 & self.ToT\\\\\n",
       "\t2614 & ESCC039T1 & ESCC039T4 & 0.18275154 & self.ToT\\\\\n",
       "\\end{tabular}\n"
      ],
      "text/markdown": [
       "\n",
       "A data.frame: 5 × 4\n",
       "\n",
       "| <!--/--> | sample1 &lt;chr&gt; | sample2 &lt;chr&gt; | jaccard_index &lt;dbl&gt; | flag &lt;chr&gt; |\n",
       "|---|---|---|---|---|\n",
       "| 2045 | ESCC081T4 | ESCC081T3 | 0.09668169 | self.ToT |\n",
       "| 2367 | ESCC081T4 | ESCC081T2 | 0.32505981 | self.ToT |\n",
       "| 2368 | ESCC081T4 | ESCC081T5 | 0.26170599 | self.ToT |\n",
       "| 2384 | ESCC081T4 | ESCC081T1 | 0.32904806 | self.ToT |\n",
       "| 2614 | ESCC039T1 | ESCC039T4 | 0.18275154 | self.ToT |\n",
       "\n"
      ],
      "text/plain": [
       "     sample1   sample2   jaccard_index flag    \n",
       "2045 ESCC081T4 ESCC081T3 0.09668169    self.ToT\n",
       "2367 ESCC081T4 ESCC081T2 0.32505981    self.ToT\n",
       "2368 ESCC081T4 ESCC081T5 0.26170599    self.ToT\n",
       "2384 ESCC081T4 ESCC081T1 0.32904806    self.ToT\n",
       "2614 ESCC039T1 ESCC039T4 0.18275154    self.ToT"
      ]
     },
     "metadata": {},
     "output_type": "display_data"
    },
    {
     "data": {
      "text/html": [
       "<table class=\"dataframe\">\n",
       "<caption>A data.frame: 5 × 7</caption>\n",
       "<thead>\n",
       "\t<tr><th></th><th scope=col>sample1</th><th scope=col>sample2</th><th scope=col>jaccard_index</th><th scope=col>flag</th><th scope=col>type1</th><th scope=col>type2</th><th scope=col>distance</th></tr>\n",
       "\t<tr><th></th><th scope=col>&lt;chr&gt;</th><th scope=col>&lt;chr&gt;</th><th scope=col>&lt;dbl&gt;</th><th scope=col>&lt;chr&gt;</th><th scope=col>&lt;chr&gt;</th><th scope=col>&lt;chr&gt;</th><th scope=col>&lt;chr&gt;</th></tr>\n",
       "</thead>\n",
       "<tbody>\n",
       "\t<tr><th scope=row>2045</th><td>ESCC081T4</td><td>ESCC081T3</td><td>0.09668169</td><td>self.ToT</td><td>T4</td><td>T3</td><td>Adjacent </td></tr>\n",
       "\t<tr><th scope=row>2367</th><td>ESCC081T4</td><td>ESCC081T2</td><td>0.32505981</td><td>self.ToT</td><td>T4</td><td>T2</td><td>Separated</td></tr>\n",
       "\t<tr><th scope=row>2368</th><td>ESCC081T4</td><td>ESCC081T5</td><td>0.26170599</td><td>self.ToT</td><td>T4</td><td>T5</td><td>Adjacent </td></tr>\n",
       "\t<tr><th scope=row>2384</th><td>ESCC081T4</td><td>ESCC081T1</td><td>0.32904806</td><td>self.ToT</td><td>T4</td><td>T1</td><td>Adjacent </td></tr>\n",
       "\t<tr><th scope=row>2614</th><td>ESCC039T1</td><td>ESCC039T4</td><td>0.18275154</td><td>self.ToT</td><td>T1</td><td>T4</td><td>Adjacent </td></tr>\n",
       "</tbody>\n",
       "</table>\n"
      ],
      "text/latex": [
       "A data.frame: 5 × 7\n",
       "\\begin{tabular}{r|lllllll}\n",
       "  & sample1 & sample2 & jaccard\\_index & flag & type1 & type2 & distance\\\\\n",
       "  & <chr> & <chr> & <dbl> & <chr> & <chr> & <chr> & <chr>\\\\\n",
       "\\hline\n",
       "\t2045 & ESCC081T4 & ESCC081T3 & 0.09668169 & self.ToT & T4 & T3 & Adjacent \\\\\n",
       "\t2367 & ESCC081T4 & ESCC081T2 & 0.32505981 & self.ToT & T4 & T2 & Separated\\\\\n",
       "\t2368 & ESCC081T4 & ESCC081T5 & 0.26170599 & self.ToT & T4 & T5 & Adjacent \\\\\n",
       "\t2384 & ESCC081T4 & ESCC081T1 & 0.32904806 & self.ToT & T4 & T1 & Adjacent \\\\\n",
       "\t2614 & ESCC039T1 & ESCC039T4 & 0.18275154 & self.ToT & T1 & T4 & Adjacent \\\\\n",
       "\\end{tabular}\n"
      ],
      "text/markdown": [
       "\n",
       "A data.frame: 5 × 7\n",
       "\n",
       "| <!--/--> | sample1 &lt;chr&gt; | sample2 &lt;chr&gt; | jaccard_index &lt;dbl&gt; | flag &lt;chr&gt; | type1 &lt;chr&gt; | type2 &lt;chr&gt; | distance &lt;chr&gt; |\n",
       "|---|---|---|---|---|---|---|---|\n",
       "| 2045 | ESCC081T4 | ESCC081T3 | 0.09668169 | self.ToT | T4 | T3 | Adjacent  |\n",
       "| 2367 | ESCC081T4 | ESCC081T2 | 0.32505981 | self.ToT | T4 | T2 | Separated |\n",
       "| 2368 | ESCC081T4 | ESCC081T5 | 0.26170599 | self.ToT | T4 | T5 | Adjacent  |\n",
       "| 2384 | ESCC081T4 | ESCC081T1 | 0.32904806 | self.ToT | T4 | T1 | Adjacent  |\n",
       "| 2614 | ESCC039T1 | ESCC039T4 | 0.18275154 | self.ToT | T1 | T4 | Adjacent  |\n",
       "\n"
      ],
      "text/plain": [
       "     sample1   sample2   jaccard_index flag     type1 type2 distance \n",
       "2045 ESCC081T4 ESCC081T3 0.09668169    self.ToT T4    T3    Adjacent \n",
       "2367 ESCC081T4 ESCC081T2 0.32505981    self.ToT T4    T2    Separated\n",
       "2368 ESCC081T4 ESCC081T5 0.26170599    self.ToT T4    T5    Adjacent \n",
       "2384 ESCC081T4 ESCC081T1 0.32904806    self.ToT T4    T1    Adjacent \n",
       "2614 ESCC039T1 ESCC039T4 0.18275154    self.ToT T1    T4    Adjacent "
      ]
     },
     "metadata": {},
     "output_type": "display_data"
    },
    {
     "data": {
      "text/plain": [
       "\n",
       "\tWilcoxon rank sum test with continuity correction\n",
       "\n",
       "data:  jac_LoT$jaccard_index[jac_LoT$distance == \"Adjacent\"] and jac_LoT$jaccard_index[jac_LoT$distance == \"Separated\"]\n",
       "W = 285238, p-value = 0.4045\n",
       "alternative hypothesis: true location shift is not equal to 0\n"
      ]
     },
     "metadata": {},
     "output_type": "display_data"
    }
   ],
   "source": [
    "options(repr.plot.width = 4, repr.plot.height = 4)\n",
    "jac_LoT[1:5,]\n",
    "jac_LoT$type1=substr(jac_LoT$sample1,8,9)\n",
    "jac_LoT$type2=substr(jac_LoT$sample2,8,9)\n",
    "\n",
    "jac_LoT$distance=ifelse((jac_LoT$type1==\"T4\" & jac_LoT$type2==\"T2\")| \n",
    "                        (jac_LoT$type1==\"T2\" & jac_LoT$type2==\"T4\")|\n",
    "                        (jac_LoT$type1==\"T1\" & jac_LoT$type2==\"T3\")| \n",
    "                        (jac_LoT$type1==\"T3\" & jac_LoT$type2==\"T1\"),\n",
    "                        \"Separated\",\"Adjacent\")\n",
    "\n",
    "jac_LoT[1:5,]\n",
    "\n",
    "wilcox.test(jac_LoT$jaccard_index[jac_LoT$distance==\"Adjacent\"],jac_LoT$jaccard_index[jac_LoT$distance==\"Separated\"])\n",
    "\n",
    "Jac_neibor_apart<-ggplot(jac_LoT,aes(x=distance,y=jaccard_index))+\n",
    "    geom_violin(aes(x=distance,y=jaccard_index,fill=distance))+\n",
    "    geom_boxplot(aes(x=distance,y=jaccard_index),width=.1,outlier.size = .1)+\n",
    "    geom_signif(comparisons = list(c(\"Separated\",\"Adjacent\")),\n",
    "              map_signif_level=T,\n",
    "              textsize=4,test=wilcox.test,step_increase=0.1,vjust=2,tip_length=0.02)+\n",
    "    theme_classic()+\n",
    "    theme(text =element_text(size=14),axis.text.x =element_text(size=12,angle=30,vjust=-0.01))+\n",
    "    xlab(\"\")+ylab(\"Jaccard Index\")+\n",
    "    scale_fill_manual(values=mypal)"
   ]
  },
  {
   "cell_type": "code",
   "execution_count": 8,
   "metadata": {
    "vscode": {
     "languageId": "r"
    }
   },
   "outputs": [
    {
     "data": {
      "text/html": [
       "<table class=\"dataframe\">\n",
       "<caption>A data.frame: 5 × 7</caption>\n",
       "<thead>\n",
       "\t<tr><th></th><th scope=col>sample1</th><th scope=col>sample2</th><th scope=col>jaccard_index</th><th scope=col>flag</th><th scope=col>type1</th><th scope=col>type2</th><th scope=col>distance</th></tr>\n",
       "\t<tr><th></th><th scope=col>&lt;chr&gt;</th><th scope=col>&lt;chr&gt;</th><th scope=col>&lt;dbl&gt;</th><th scope=col>&lt;chr&gt;</th><th scope=col>&lt;chr&gt;</th><th scope=col>&lt;chr&gt;</th><th scope=col>&lt;chr&gt;</th></tr>\n",
       "</thead>\n",
       "<tbody>\n",
       "\t<tr><th scope=row>2045</th><td>ESCC081T4</td><td>ESCC081T3</td><td>0.09668169</td><td>self.ToT</td><td>T4</td><td>T3</td><td>Adjacent </td></tr>\n",
       "\t<tr><th scope=row>2367</th><td>ESCC081T4</td><td>ESCC081T2</td><td>0.32505981</td><td>self.ToT</td><td>T4</td><td>T2</td><td>Separated</td></tr>\n",
       "\t<tr><th scope=row>2368</th><td>ESCC081T4</td><td>ESCC081T5</td><td>0.26170599</td><td>self.ToT</td><td>T4</td><td>T5</td><td>Adjacent </td></tr>\n",
       "\t<tr><th scope=row>2384</th><td>ESCC081T4</td><td>ESCC081T1</td><td>0.32904806</td><td>self.ToT</td><td>T4</td><td>T1</td><td>Adjacent </td></tr>\n",
       "\t<tr><th scope=row>2614</th><td>ESCC039T1</td><td>ESCC039T4</td><td>0.18275154</td><td>self.ToT</td><td>T1</td><td>T4</td><td>Adjacent </td></tr>\n",
       "</tbody>\n",
       "</table>\n"
      ],
      "text/latex": [
       "A data.frame: 5 × 7\n",
       "\\begin{tabular}{r|lllllll}\n",
       "  & sample1 & sample2 & jaccard\\_index & flag & type1 & type2 & distance\\\\\n",
       "  & <chr> & <chr> & <dbl> & <chr> & <chr> & <chr> & <chr>\\\\\n",
       "\\hline\n",
       "\t2045 & ESCC081T4 & ESCC081T3 & 0.09668169 & self.ToT & T4 & T3 & Adjacent \\\\\n",
       "\t2367 & ESCC081T4 & ESCC081T2 & 0.32505981 & self.ToT & T4 & T2 & Separated\\\\\n",
       "\t2368 & ESCC081T4 & ESCC081T5 & 0.26170599 & self.ToT & T4 & T5 & Adjacent \\\\\n",
       "\t2384 & ESCC081T4 & ESCC081T1 & 0.32904806 & self.ToT & T4 & T1 & Adjacent \\\\\n",
       "\t2614 & ESCC039T1 & ESCC039T4 & 0.18275154 & self.ToT & T1 & T4 & Adjacent \\\\\n",
       "\\end{tabular}\n"
      ],
      "text/markdown": [
       "\n",
       "A data.frame: 5 × 7\n",
       "\n",
       "| <!--/--> | sample1 &lt;chr&gt; | sample2 &lt;chr&gt; | jaccard_index &lt;dbl&gt; | flag &lt;chr&gt; | type1 &lt;chr&gt; | type2 &lt;chr&gt; | distance &lt;chr&gt; |\n",
       "|---|---|---|---|---|---|---|---|\n",
       "| 2045 | ESCC081T4 | ESCC081T3 | 0.09668169 | self.ToT | T4 | T3 | Adjacent  |\n",
       "| 2367 | ESCC081T4 | ESCC081T2 | 0.32505981 | self.ToT | T4 | T2 | Separated |\n",
       "| 2368 | ESCC081T4 | ESCC081T5 | 0.26170599 | self.ToT | T4 | T5 | Adjacent  |\n",
       "| 2384 | ESCC081T4 | ESCC081T1 | 0.32904806 | self.ToT | T4 | T1 | Adjacent  |\n",
       "| 2614 | ESCC039T1 | ESCC039T4 | 0.18275154 | self.ToT | T1 | T4 | Adjacent  |\n",
       "\n"
      ],
      "text/plain": [
       "     sample1   sample2   jaccard_index flag     type1 type2 distance \n",
       "2045 ESCC081T4 ESCC081T3 0.09668169    self.ToT T4    T3    Adjacent \n",
       "2367 ESCC081T4 ESCC081T2 0.32505981    self.ToT T4    T2    Separated\n",
       "2368 ESCC081T4 ESCC081T5 0.26170599    self.ToT T4    T5    Adjacent \n",
       "2384 ESCC081T4 ESCC081T1 0.32904806    self.ToT T4    T1    Adjacent \n",
       "2614 ESCC039T1 ESCC039T4 0.18275154    self.ToT T1    T4    Adjacent "
      ]
     },
     "metadata": {},
     "output_type": "display_data"
    },
    {
     "data": {
      "image/png": "[encoded data removed]",
      "text/plain": [
       "plot without title"
      ]
     },
     "metadata": {
      "image/png": {
       "height": 240,
       "width": 480
      }
     },
     "output_type": "display_data"
    }
   ],
   "source": [
    "jac_LoT[1:5,]\n",
    "\n",
    "jac_LoT$type=paste0(jac_LoT$type1,\" vs \",jac_LoT$type2)\n",
    "\n",
    "selected_type=c(\"T1 vs T2\",\"T1 vs T3\",\"T1 vs T4\",\"T1 vs T5\",\n",
    "                \"T2 vs T3\",\"T2 vs T4\",\"T2 vs T5\",\n",
    "                \"T3 vs T4\",\"T3 vs T5\",\n",
    "                \"T4 vs T5\")\n",
    "\n",
    "jac_ToT<-jac_LoT[jac_LoT$type %in% selected_type,]\n",
    "options(repr.plot.width = 8, repr.plot.height = 4)\n",
    "g<-ggplot(jac_ToT,aes(x=type,y=jaccard_index,fill=type))+\n",
    "    geom_violin(aes(x=type,y=jaccard_index),fill=\"grey\",alpha=.5)+\n",
    "    geom_boxplot(aes(x=type,y=jaccard_index),width=.2,outlier.size = .1)+\n",
    "#    geom_signif(comparisons = list(c(\"T4.T5\",\"T1.T3\"),c(\"T1.T2\",\"T1.T4\")),\n",
    "#              map_signif_level=T,\n",
    "#              textsize=4,test=wilcox.test,step_increase=0.1,vjust=2,tip_length=0.02)+\n",
    "    theme_classic()+\n",
    "    theme(text =element_text(size=14),axis.text.x =element_text(size=12,angle=30,vjust=-0.01))+\n",
    "    xlab(\"\")+ylab(\"Jaccard Index\")+\n",
    "    scale_fill_manual(values=mypal)\n",
    "\n",
    "g"
   ]
  },
  {
   "cell_type": "code",
   "execution_count": 9,
   "metadata": {
    "vscode": {
     "languageId": "r"
    }
   },
   "outputs": [
    {
     "data": {
      "text/html": [
       "<table class=\"dataframe\">\n",
       "<caption>A data.frame: 5 × 8</caption>\n",
       "<thead>\n",
       "\t<tr><th></th><th scope=col>sample1</th><th scope=col>sample2</th><th scope=col>jaccard_index</th><th scope=col>flag</th><th scope=col>type1</th><th scope=col>type2</th><th scope=col>distance</th><th scope=col>type</th></tr>\n",
       "\t<tr><th></th><th scope=col>&lt;chr&gt;</th><th scope=col>&lt;chr&gt;</th><th scope=col>&lt;dbl&gt;</th><th scope=col>&lt;chr&gt;</th><th scope=col>&lt;chr&gt;</th><th scope=col>&lt;chr&gt;</th><th scope=col>&lt;chr&gt;</th><th scope=col>&lt;chr&gt;</th></tr>\n",
       "</thead>\n",
       "<tbody>\n",
       "\t<tr><th scope=row>2045</th><td>ESCC081T4</td><td>ESCC081T3</td><td>0.09668169</td><td>self.ToT</td><td>T4</td><td>T3</td><td>Adjacent </td><td>T4 vs T3</td></tr>\n",
       "\t<tr><th scope=row>2367</th><td>ESCC081T4</td><td>ESCC081T2</td><td>0.32505981</td><td>self.ToT</td><td>T4</td><td>T2</td><td>Separated</td><td>T4 vs T2</td></tr>\n",
       "\t<tr><th scope=row>2368</th><td>ESCC081T4</td><td>ESCC081T5</td><td>0.26170599</td><td>self.ToT</td><td>T4</td><td>T5</td><td>Adjacent </td><td>T4 vs T5</td></tr>\n",
       "\t<tr><th scope=row>2384</th><td>ESCC081T4</td><td>ESCC081T1</td><td>0.32904806</td><td>self.ToT</td><td>T4</td><td>T1</td><td>Adjacent </td><td>T4 vs T1</td></tr>\n",
       "\t<tr><th scope=row>2614</th><td>ESCC039T1</td><td>ESCC039T4</td><td>0.18275154</td><td>self.ToT</td><td>T1</td><td>T4</td><td>Adjacent </td><td>T1 vs T4</td></tr>\n",
       "</tbody>\n",
       "</table>\n"
      ],
      "text/latex": [
       "A data.frame: 5 × 8\n",
       "\\begin{tabular}{r|llllllll}\n",
       "  & sample1 & sample2 & jaccard\\_index & flag & type1 & type2 & distance & type\\\\\n",
       "  & <chr> & <chr> & <dbl> & <chr> & <chr> & <chr> & <chr> & <chr>\\\\\n",
       "\\hline\n",
       "\t2045 & ESCC081T4 & ESCC081T3 & 0.09668169 & self.ToT & T4 & T3 & Adjacent  & T4 vs T3\\\\\n",
       "\t2367 & ESCC081T4 & ESCC081T2 & 0.32505981 & self.ToT & T4 & T2 & Separated & T4 vs T2\\\\\n",
       "\t2368 & ESCC081T4 & ESCC081T5 & 0.26170599 & self.ToT & T4 & T5 & Adjacent  & T4 vs T5\\\\\n",
       "\t2384 & ESCC081T4 & ESCC081T1 & 0.32904806 & self.ToT & T4 & T1 & Adjacent  & T4 vs T1\\\\\n",
       "\t2614 & ESCC039T1 & ESCC039T4 & 0.18275154 & self.ToT & T1 & T4 & Adjacent  & T1 vs T4\\\\\n",
       "\\end{tabular}\n"
      ],
      "text/markdown": [
       "\n",
       "A data.frame: 5 × 8\n",
       "\n",
       "| <!--/--> | sample1 &lt;chr&gt; | sample2 &lt;chr&gt; | jaccard_index &lt;dbl&gt; | flag &lt;chr&gt; | type1 &lt;chr&gt; | type2 &lt;chr&gt; | distance &lt;chr&gt; | type &lt;chr&gt; |\n",
       "|---|---|---|---|---|---|---|---|---|\n",
       "| 2045 | ESCC081T4 | ESCC081T3 | 0.09668169 | self.ToT | T4 | T3 | Adjacent  | T4 vs T3 |\n",
       "| 2367 | ESCC081T4 | ESCC081T2 | 0.32505981 | self.ToT | T4 | T2 | Separated | T4 vs T2 |\n",
       "| 2368 | ESCC081T4 | ESCC081T5 | 0.26170599 | self.ToT | T4 | T5 | Adjacent  | T4 vs T5 |\n",
       "| 2384 | ESCC081T4 | ESCC081T1 | 0.32904806 | self.ToT | T4 | T1 | Adjacent  | T4 vs T1 |\n",
       "| 2614 | ESCC039T1 | ESCC039T4 | 0.18275154 | self.ToT | T1 | T4 | Adjacent  | T1 vs T4 |\n",
       "\n"
      ],
      "text/plain": [
       "     sample1   sample2   jaccard_index flag     type1 type2 distance  type    \n",
       "2045 ESCC081T4 ESCC081T3 0.09668169    self.ToT T4    T3    Adjacent  T4 vs T3\n",
       "2367 ESCC081T4 ESCC081T2 0.32505981    self.ToT T4    T2    Separated T4 vs T2\n",
       "2368 ESCC081T4 ESCC081T5 0.26170599    self.ToT T4    T5    Adjacent  T4 vs T5\n",
       "2384 ESCC081T4 ESCC081T1 0.32904806    self.ToT T4    T1    Adjacent  T4 vs T1\n",
       "2614 ESCC039T1 ESCC039T4 0.18275154    self.ToT T1    T4    Adjacent  T1 vs T4"
      ]
     },
     "metadata": {},
     "output_type": "display_data"
    },
    {
     "data": {
      "text/html": [
       "<table class=\"dataframe\">\n",
       "<caption>A data.frame: 5 × 8</caption>\n",
       "<thead>\n",
       "\t<tr><th></th><th scope=col>sample1</th><th scope=col>sample2</th><th scope=col>jaccard_index</th><th scope=col>flag</th><th scope=col>type1</th><th scope=col>type2</th><th scope=col>distance</th><th scope=col>type</th></tr>\n",
       "\t<tr><th></th><th scope=col>&lt;chr&gt;</th><th scope=col>&lt;chr&gt;</th><th scope=col>&lt;dbl&gt;</th><th scope=col>&lt;chr&gt;</th><th scope=col>&lt;chr&gt;</th><th scope=col>&lt;chr&gt;</th><th scope=col>&lt;dbl&gt;</th><th scope=col>&lt;chr&gt;</th></tr>\n",
       "</thead>\n",
       "<tbody>\n",
       "\t<tr><th scope=row>2045</th><td>ESCC081T4</td><td>ESCC081T3</td><td>0.09668169</td><td>self.ToT</td><td>T4</td><td>T3</td><td>1.41</td><td>T4 vs T3</td></tr>\n",
       "\t<tr><th scope=row>2367</th><td>ESCC081T4</td><td>ESCC081T2</td><td>0.32505981</td><td>self.ToT</td><td>T4</td><td>T2</td><td>2.00</td><td>T4 vs T2</td></tr>\n",
       "\t<tr><th scope=row>2368</th><td>ESCC081T4</td><td>ESCC081T5</td><td>0.26170599</td><td>self.ToT</td><td>T4</td><td>T5</td><td>1.00</td><td>T4 vs T5</td></tr>\n",
       "\t<tr><th scope=row>2384</th><td>ESCC081T4</td><td>ESCC081T1</td><td>0.32904806</td><td>self.ToT</td><td>T4</td><td>T1</td><td>1.41</td><td>T4 vs T1</td></tr>\n",
       "\t<tr><th scope=row>2614</th><td>ESCC039T1</td><td>ESCC039T4</td><td>0.18275154</td><td>self.ToT</td><td>T1</td><td>T4</td><td>1.41</td><td>T1 vs T4</td></tr>\n",
       "</tbody>\n",
       "</table>\n"
      ],
      "text/latex": [
       "A data.frame: 5 × 8\n",
       "\\begin{tabular}{r|llllllll}\n",
       "  & sample1 & sample2 & jaccard\\_index & flag & type1 & type2 & distance & type\\\\\n",
       "  & <chr> & <chr> & <dbl> & <chr> & <chr> & <chr> & <dbl> & <chr>\\\\\n",
       "\\hline\n",
       "\t2045 & ESCC081T4 & ESCC081T3 & 0.09668169 & self.ToT & T4 & T3 & 1.41 & T4 vs T3\\\\\n",
       "\t2367 & ESCC081T4 & ESCC081T2 & 0.32505981 & self.ToT & T4 & T2 & 2.00 & T4 vs T2\\\\\n",
       "\t2368 & ESCC081T4 & ESCC081T5 & 0.26170599 & self.ToT & T4 & T5 & 1.00 & T4 vs T5\\\\\n",
       "\t2384 & ESCC081T4 & ESCC081T1 & 0.32904806 & self.ToT & T4 & T1 & 1.41 & T4 vs T1\\\\\n",
       "\t2614 & ESCC039T1 & ESCC039T4 & 0.18275154 & self.ToT & T1 & T4 & 1.41 & T1 vs T4\\\\\n",
       "\\end{tabular}\n"
      ],
      "text/markdown": [
       "\n",
       "A data.frame: 5 × 8\n",
       "\n",
       "| <!--/--> | sample1 &lt;chr&gt; | sample2 &lt;chr&gt; | jaccard_index &lt;dbl&gt; | flag &lt;chr&gt; | type1 &lt;chr&gt; | type2 &lt;chr&gt; | distance &lt;dbl&gt; | type &lt;chr&gt; |\n",
       "|---|---|---|---|---|---|---|---|---|\n",
       "| 2045 | ESCC081T4 | ESCC081T3 | 0.09668169 | self.ToT | T4 | T3 | 1.41 | T4 vs T3 |\n",
       "| 2367 | ESCC081T4 | ESCC081T2 | 0.32505981 | self.ToT | T4 | T2 | 2.00 | T4 vs T2 |\n",
       "| 2368 | ESCC081T4 | ESCC081T5 | 0.26170599 | self.ToT | T4 | T5 | 1.00 | T4 vs T5 |\n",
       "| 2384 | ESCC081T4 | ESCC081T1 | 0.32904806 | self.ToT | T4 | T1 | 1.41 | T4 vs T1 |\n",
       "| 2614 | ESCC039T1 | ESCC039T4 | 0.18275154 | self.ToT | T1 | T4 | 1.41 | T1 vs T4 |\n",
       "\n"
      ],
      "text/plain": [
       "     sample1   sample2   jaccard_index flag     type1 type2 distance type    \n",
       "2045 ESCC081T4 ESCC081T3 0.09668169    self.ToT T4    T3    1.41     T4 vs T3\n",
       "2367 ESCC081T4 ESCC081T2 0.32505981    self.ToT T4    T2    2.00     T4 vs T2\n",
       "2368 ESCC081T4 ESCC081T5 0.26170599    self.ToT T4    T5    1.00     T4 vs T5\n",
       "2384 ESCC081T4 ESCC081T1 0.32904806    self.ToT T4    T1    1.41     T4 vs T1\n",
       "2614 ESCC039T1 ESCC039T4 0.18275154    self.ToT T1    T4    1.41     T1 vs T4"
      ]
     },
     "metadata": {},
     "output_type": "display_data"
    }
   ],
   "source": [
    "jac_LoT[1:5,]\n",
    "jac_LoT$type1=substr(jac_LoT$sample1,8,9)\n",
    "jac_LoT$type2=substr(jac_LoT$sample2,8,9)\n",
    "\n",
    "jac_LoT$distance=ifelse((jac_LoT$type1==\"T4\" & jac_LoT$type2==\"T2\")| \n",
    "                        (jac_LoT$type1==\"T2\" & jac_LoT$type2==\"T4\")|\n",
    "                        (jac_LoT$type1==\"T1\" & jac_LoT$type2==\"T3\")| \n",
    "                        (jac_LoT$type1==\"T3\" & jac_LoT$type2==\"T1\"),\n",
    "                        2,\n",
    "                        ifelse((jac_LoT$type1==\"T1\" & jac_LoT$type2==\"T2\")|\n",
    "                            (jac_LoT$type1==\"T2\" & jac_LoT$type2==\"T1\")|\n",
    "                            (jac_LoT$type1==\"T1\" & jac_LoT$type2==\"T4\")|\n",
    "                            (jac_LoT$type1==\"T4\" & jac_LoT$type2==\"T1\")|\n",
    "                            (jac_LoT$type1==\"T3\" & jac_LoT$type2==\"T2\")|\n",
    "                            (jac_LoT$type1==\"T2\" & jac_LoT$type2==\"T3\")|\n",
    "                            (jac_LoT$type1==\"T3\" & jac_LoT$type2==\"T4\")|\n",
    "                            (jac_LoT$type1==\"T4\" & jac_LoT$type2==\"T3\"),1.41,1))\n",
    "\n",
    "jac_LoT[1:5,]                        "
   ]
  },
  {
   "cell_type": "code",
   "execution_count": 10,
   "metadata": {
    "vscode": {
     "languageId": "r"
    }
   },
   "outputs": [],
   "source": [
    "# 利用k nearest挖掘T1-T5,各自最接近的部位\n",
    "\n",
    "jac_long<-fread(\"Fig5G-I.sample_seq_overlap_addflag.csv\") %>% as.data.frame()\n",
    "jac_LoT<-jac_long[jac_long$flag==\"self.ToT\",]\n",
    "\n",
    "Single_T_jac_level<-tibble()\n",
    "samples<-unique(jac_LoT$sample1)[order(unique(jac_LoT$sample1),decreasing = FALSE)]\n",
    "for (s in samples){\n",
    "    data_s<-jac_LoT[jac_LoT$sample1==s,]\n",
    "    row_s<-c(s,mean(data_s$jaccard_index),median(data_s$jaccard_index),data_s$sample2[order(data_s$jaccard_index,decreasing = TRUE)[1]])\n",
    "    Single_T_jac_level<-rbind(Single_T_jac_level,row_s)\n",
    "}\n",
    "\n",
    "colnames(Single_T_jac_level)<-c(\"sample\",\"average_jaccard\",\"median_jaccard\",\"closest_sample\")\n",
    "\n",
    "Single_T_jac_level$closest_pos<-substr(Single_T_jac_level$closest_sample,8,9)\n",
    "Single_T_jac_level$type<-substr(Single_T_jac_level$sample,8,9)"
   ]
  },
  {
   "attachments": {},
   "cell_type": "markdown",
   "metadata": {},
   "source": [
    "## Fig5G"
   ]
  },
  {
   "cell_type": "code",
   "execution_count": 11,
   "metadata": {
    "vscode": {
     "languageId": "r"
    }
   },
   "outputs": [
    {
     "data": {
      "text/html": [
       "<table class=\"dataframe\">\n",
       "<caption>A data.frame: 3 × 5</caption>\n",
       "<thead>\n",
       "\t<tr><th></th><th scope=col>sample</th><th scope=col>closest_sample</th><th scope=col>type</th><th scope=col>closest_pos</th><th scope=col>sHIG</th></tr>\n",
       "\t<tr><th></th><th scope=col>&lt;chr&gt;</th><th scope=col>&lt;chr&gt;</th><th scope=col>&lt;chr&gt;</th><th scope=col>&lt;chr&gt;</th><th scope=col>&lt;dbl&gt;</th></tr>\n",
       "</thead>\n",
       "<tbody>\n",
       "\t<tr><th scope=row>1</th><td>ESCC001T1</td><td>ESCC001T5</td><td>T1</td><td>T5</td><td>0.9412713</td></tr>\n",
       "\t<tr><th scope=row>2</th><td>ESCC001T2</td><td>ESCC001T3</td><td>T2</td><td>T3</td><td>0.9447720</td></tr>\n",
       "\t<tr><th scope=row>3</th><td>ESCC001T3</td><td>ESCC001T5</td><td>T3</td><td>T5</td><td>0.9381510</td></tr>\n",
       "</tbody>\n",
       "</table>\n"
      ],
      "text/latex": [
       "A data.frame: 3 × 5\n",
       "\\begin{tabular}{r|lllll}\n",
       "  & sample & closest\\_sample & type & closest\\_pos & sHIG\\\\\n",
       "  & <chr> & <chr> & <chr> & <chr> & <dbl>\\\\\n",
       "\\hline\n",
       "\t1 & ESCC001T1 & ESCC001T5 & T1 & T5 & 0.9412713\\\\\n",
       "\t2 & ESCC001T2 & ESCC001T3 & T2 & T3 & 0.9447720\\\\\n",
       "\t3 & ESCC001T3 & ESCC001T5 & T3 & T5 & 0.9381510\\\\\n",
       "\\end{tabular}\n"
      ],
      "text/markdown": [
       "\n",
       "A data.frame: 3 × 5\n",
       "\n",
       "| <!--/--> | sample &lt;chr&gt; | closest_sample &lt;chr&gt; | type &lt;chr&gt; | closest_pos &lt;chr&gt; | sHIG &lt;dbl&gt; |\n",
       "|---|---|---|---|---|---|\n",
       "| 1 | ESCC001T1 | ESCC001T5 | T1 | T5 | 0.9412713 |\n",
       "| 2 | ESCC001T2 | ESCC001T3 | T2 | T3 | 0.9447720 |\n",
       "| 3 | ESCC001T3 | ESCC001T5 | T3 | T5 | 0.9381510 |\n",
       "\n"
      ],
      "text/plain": [
       "  sample    closest_sample type closest_pos sHIG     \n",
       "1 ESCC001T1 ESCC001T5      T1   T5          0.9412713\n",
       "2 ESCC001T2 ESCC001T3      T2   T3          0.9447720\n",
       "3 ESCC001T3 ESCC001T5      T3   T5          0.9381510"
      ]
     },
     "metadata": {},
     "output_type": "display_data"
    },
    {
     "data": {
      "image/png": "[encoded data removed]",
      "text/plain": [
       "plot without title"
      ]
     },
     "metadata": {
      "image/png": {
       "height": 180,
       "width": 480
      }
     },
     "output_type": "display_data"
    },
    {
     "data": {
      "text/html": [
       "<strong>null device:</strong> 1"
      ],
      "text/latex": [
       "\\textbf{null device:} 1"
      ],
      "text/markdown": [
       "**null device:** 1"
      ],
      "text/plain": [
       "null device \n",
       "          1 "
      ]
     },
     "metadata": {},
     "output_type": "display_data"
    },
    {
     "data": {
      "image/png": "[encoded data removed]",
      "text/plain": [
       "plot without title"
      ]
     },
     "metadata": {
      "image/png": {
       "height": 180,
       "width": 480
      }
     },
     "output_type": "display_data"
    }
   ],
   "source": [
    "Single_T_jac_level$sHIG=1-as.numeric(Single_T_jac_level$average_jaccard)\n",
    "\n",
    "sHIG_closest_pos<-Single_T_jac_level[,c(1,4,6,5,7)]\n",
    "sHIG_closest_pos[1:3,]\n",
    "colnames(sHIG_closest_pos)=c('sample','sample.nearest','position','position.nearest','sHIG')\n",
    "#write.csv(sHIG_closest_pos,\"Sup.table_sHIG_closest_pos.csv\",quote=FALSE,row.names=FALSE)\n",
    "closest<-table(Single_T_jac_level$type,Single_T_jac_level$closest_pos) %>% as.data.frame()\n",
    "#data<-rbind(self,closest)\n",
    "#data<-data[data$Freq!=0,]\n",
    "\n",
    "options(repr.plot.width = 8, repr.plot.height = 3)\n",
    "closet_position<-ggplot(data=closest,aes(x=\"\",y=Freq,fill=Var2))+\n",
    "  geom_bar(width=0.5,stat = \"identity\", position = \"fill\")+\n",
    "  coord_polar(\"y\", start=0)+ facet_wrap(closest$Var1,nrow=1)+\n",
    "  labs(x=\"\",y=\"\")+scale_fill_manual(values=mypal)+\n",
    "  theme_minimal()\n",
    "  #+geom_text(aes(y=\"fill\",label=Freq),size=5)\n",
    "closet_position\n",
    "#pdf(\"Fig3.MR.het.closet_position.pdf\",6,3)\n",
    "#closet_position\n",
    "dev.off()\n"
   ]
  },
  {
   "cell_type": "code",
   "execution_count": 13,
   "metadata": {
    "vscode": {
     "languageId": "r"
    }
   },
   "outputs": [],
   "source": [
    "write.csv(closest,\"Fig5G.csv\",quote=FALSE,row.names=FALSE)"
   ]
  },
  {
   "attachments": {},
   "cell_type": "markdown",
   "metadata": {},
   "source": [
    "## Fig5H"
   ]
  },
  {
   "cell_type": "code",
   "execution_count": 14,
   "metadata": {
    "vscode": {
     "languageId": "r"
    }
   },
   "outputs": [
    {
     "data": {
      "text/plain": [
       "\n",
       "\tWilcoxon rank sum test with continuity correction\n",
       "\n",
       "data:  x and y\n",
       "W = 5225.5, p-value = 0.5791\n",
       "alternative hypothesis: true location shift is not equal to 0\n"
      ]
     },
     "metadata": {},
     "output_type": "display_data"
    },
    {
     "data": {
      "image/png": "[encoded data removed]",
      "text/plain": [
       "plot without title"
      ]
     },
     "metadata": {
      "image/png": {
       "height": 180,
       "width": 480
      }
     },
     "output_type": "display_data"
    }
   ],
   "source": [
    "Single_T_jac_level[,2:3]<-apply(Single_T_jac_level[,2:3],2,as.numeric)\n",
    "\n",
    "Single_T_jac_level$type=substr(Single_T_jac_level$sample,8,9)\n",
    "\n",
    "x=Single_T_jac_level$average_jaccard[Single_T_jac_level$type==\"T5\"]\n",
    "y=Single_T_jac_level$average_jaccard[Single_T_jac_level$type==\"T1\"]\n",
    "wilcox.test(x,y)\n",
    "\n",
    "\n",
    "Jac_T1_T5<-ggplot(Single_T_jac_level,aes(x=type,y=average_jaccard))+\n",
    "    geom_violin(aes(x=type,y=average_jaccard,fill=type))+\n",
    "    geom_boxplot(aes(x=type,y=average_jaccard),width=.1,outlier.size = .1)+\n",
    "   geom_signif(comparisons = list(c(\"T5\",\"T1\")),#,c(\"T5\",\"T2\"),c(\"T5\",\"T3\"),c(\"T5\",\"T4\")),\n",
    "             map_signif_level=T,\n",
    "             textsize=4,test=wilcox.test,step_increase=0.1,vjust=2,tip_length=0.02)+\n",
    "   theme_classic()+geom_hline(yintercept=mean(Single_T_jac_level$average_jaccard),col = \"red\")+\n",
    "   annotate(\"text\", x = Inf, y =mean(Single_T_jac_level$average_jaccard), \n",
    "           label = paste0(\"all.average = \",signif(mean(Single_T_jac_level$average_jaccard),digits=2)),\n",
    "           hjust = 1.2, vjust = -1,col=\"red\")+\n",
    "    theme(text =element_text(size=14),axis.text =element_text(size=14))+\n",
    "    xlab(\"\")+ylab(\"average_jaccard\")+\n",
    "    scale_fill_manual(values=mypal)\n",
    "Jac_T1_T5"
   ]
  },
  {
   "cell_type": "code",
   "execution_count": 15,
   "metadata": {
    "vscode": {
     "languageId": "r"
    }
   },
   "outputs": [],
   "source": [
    "write.csv(Single_T_jac_level,\"Fig5H.csv\",quote=FALSE,row.names=FALSE)"
   ]
  },
  {
   "attachments": {},
   "cell_type": "markdown",
   "metadata": {},
   "source": [
    "## Fig5I\n",
    "计算单个肿瘤样本的突变频率和相对于其他肿瘤的突变频率"
   ]
  },
  {
   "cell_type": "code",
   "execution_count": 17,
   "metadata": {
    "vscode": {
     "languageId": "r"
    }
   },
   "outputs": [
    {
     "data": {
      "text/html": [
       "27"
      ],
      "text/latex": [
       "27"
      ],
      "text/markdown": [
       "27"
      ],
      "text/plain": [
       "[1] 27"
      ]
     },
     "metadata": {},
     "output_type": "display_data"
    },
    {
     "data": {
      "text/html": [
       "<table class=\"dataframe\">\n",
       "<caption>A data.frame: 3 × 5</caption>\n",
       "<thead>\n",
       "\t<tr><th></th><th scope=col>sample</th><th scope=col>average_mutation</th><th scope=col>median_mutation</th><th scope=col>delta_average_mutation</th><th scope=col>delta_median_mutation</th></tr>\n",
       "\t<tr><th></th><th scope=col>&lt;chr&gt;</th><th scope=col>&lt;chr&gt;</th><th scope=col>&lt;chr&gt;</th><th scope=col>&lt;chr&gt;</th><th scope=col>&lt;chr&gt;</th></tr>\n",
       "</thead>\n",
       "<tbody>\n",
       "\t<tr><th scope=row>1</th><td>ESCC001T1</td><td>0.063905644572329 </td><td>0.0607142857142857</td><td>-0.00864156528314781 </td><td>-0.0113860277653381 </td></tr>\n",
       "\t<tr><th scope=row>2</th><td>ESCC001T2</td><td>0.0705095813460799</td><td>0.0708705357142857</td><td>-0.000896629822227421</td><td>6.15407532689044e-05</td></tr>\n",
       "\t<tr><th scope=row>3</th><td>ESCC001T3</td><td>0.0704791649909046</td><td>0.0701486949080017</td><td>-0.00135321972138021 </td><td>-0.00163582422483695</td></tr>\n",
       "</tbody>\n",
       "</table>\n"
      ],
      "text/latex": [
       "A data.frame: 3 × 5\n",
       "\\begin{tabular}{r|lllll}\n",
       "  & sample & average\\_mutation & median\\_mutation & delta\\_average\\_mutation & delta\\_median\\_mutation\\\\\n",
       "  & <chr> & <chr> & <chr> & <chr> & <chr>\\\\\n",
       "\\hline\n",
       "\t1 & ESCC001T1 & 0.063905644572329  & 0.0607142857142857 & -0.00864156528314781  & -0.0113860277653381 \\\\\n",
       "\t2 & ESCC001T2 & 0.0705095813460799 & 0.0708705357142857 & -0.000896629822227421 & 6.15407532689044e-05\\\\\n",
       "\t3 & ESCC001T3 & 0.0704791649909046 & 0.0701486949080017 & -0.00135321972138021  & -0.00163582422483695\\\\\n",
       "\\end{tabular}\n"
      ],
      "text/markdown": [
       "\n",
       "A data.frame: 3 × 5\n",
       "\n",
       "| <!--/--> | sample &lt;chr&gt; | average_mutation &lt;chr&gt; | median_mutation &lt;chr&gt; | delta_average_mutation &lt;chr&gt; | delta_median_mutation &lt;chr&gt; |\n",
       "|---|---|---|---|---|---|\n",
       "| 1 | ESCC001T1 | 0.063905644572329  | 0.0607142857142857 | -0.00864156528314781  | -0.0113860277653381  |\n",
       "| 2 | ESCC001T2 | 0.0705095813460799 | 0.0708705357142857 | -0.000896629822227421 | 6.15407532689044e-05 |\n",
       "| 3 | ESCC001T3 | 0.0704791649909046 | 0.0701486949080017 | -0.00135321972138021  | -0.00163582422483695 |\n",
       "\n"
      ],
      "text/plain": [
       "  sample    average_mutation   median_mutation    delta_average_mutation\n",
       "1 ESCC001T1 0.063905644572329  0.0607142857142857 -0.00864156528314781  \n",
       "2 ESCC001T2 0.0705095813460799 0.0708705357142857 -0.000896629822227421 \n",
       "3 ESCC001T3 0.0704791649909046 0.0701486949080017 -0.00135321972138021  \n",
       "  delta_median_mutation\n",
       "1 -0.0113860277653381  \n",
       "2 6.15407532689044e-05 \n",
       "3 -0.00163582422483695 "
      ]
     },
     "metadata": {},
     "output_type": "display_data"
    }
   ],
   "source": [
    "db<-fread(\"all3up_clone-pass_germ-pass_mutation-pass_selected_rows.tsv\")%>%as.data.frame()\n",
    "db$sample=str_split(db$sequence_id,\"_\",simplify = TRUE)[,1]\n",
    "db$patient=str_sub(db$sequence_id,1,7)\n",
    "db$tissue=str_sub(db$sequence_id,8,8)\n",
    "db$tissue<-factor(db$tissue,levels=c(\"T\",\"N\",\"L\"),ordered = TRUE)\n",
    "#db$c_call<-factor(db$c_call,levels=c(\"IGHD\",\"IGHM\",\"IGHA1\",\"IGHA2\",\"IGHG1\",\"IGHG2\",\"IGHG3\",\"IGHG4\",\"IGHE\"),ordered = TRUE)\n",
    "db$with_l<-\"\"\n",
    "patients_with_L<-db$patient[db$tissue==\"L\"] %>% unique()\n",
    "patients_with_L %>%length()\n",
    "\n",
    "db$with_l[db$patient %in% patients_with_L]<-\"with_L\"\n",
    "db$with_l[!db$patient %in% patients_with_L]<-\"without_L\"\n",
    "db_with_L<-db[db$with_l==\"with_L\",]\n",
    "\n",
    "### step1 计算所有T样本的平均和中位数突变频率\n",
    "T_data<-db[db$tissue==\"T\",]\n",
    "\n",
    "T_sample_mutation_level<-tibble()\n",
    "samples<-unique(T_data$sample)[order(unique(T_data$sample),decreasing = FALSE)]\n",
    "for (s in samples){\n",
    "    data_s<-T_data[T_data$sample==s,]\n",
    "    \n",
    "    p=substr(s,1,7)\n",
    "    data_T_other<-T_data[T_data$patient==p & T_data$sample!=s,]\n",
    "    meanT=mean(data_T_other$mu_freq)\n",
    "    medianT=median(data_T_other$mu_freq)\n",
    "\n",
    "    row_s<-c(s,mean(data_s$mu_freq),median(data_s$mu_freq),mean(data_s$mu_freq)-meanT,median(data_s$mu_freq)-medianT)\n",
    "    T_sample_mutation_level<-rbind(T_sample_mutation_level,row_s)\n",
    "}\n",
    "\n",
    "colnames(T_sample_mutation_level)<-c(\"sample\",\"average_mutation\",\"median_mutation\",\"delta_average_mutation\",\"delta_median_mutation\")\n",
    "T_sample_mutation_level[1:3,]\n",
    "\n",
    "#比较T1-T5各部位与其他部位突变频率的差值\n",
    "T_sample_mutation_level[,2:5]<-apply(T_sample_mutation_level[,2:5],2,as.numeric)\n",
    "\n",
    "T_sample_mutation_level$patient<-substr(T_sample_mutation_level$sample,1,7)\n",
    "T_sample_mutation_level$type<-substr(T_sample_mutation_level$sample,8,9)"
   ]
  },
  {
   "cell_type": "code",
   "execution_count": 18,
   "metadata": {
    "vscode": {
     "languageId": "r"
    }
   },
   "outputs": [
    {
     "data": {
      "image/png": "[encoded data removed]",
      "text/plain": [
       "plot without title"
      ]
     },
     "metadata": {
      "image/png": {
       "height": 180,
       "width": 480
      }
     },
     "output_type": "display_data"
    }
   ],
   "source": [
    "#ggplot(T_sample_mutation_level,aes(x=type,y=delta_average_mutation))+geom_violin()+geom_boxplot()\n",
    "data<-T_sample_mutation_level\n",
    "\n",
    "colnames(data)[grep(\"type\",colnames(data))]=\"Region\"\n",
    "data_summary <- data %>% group_by(Region) %>% summarise(mean_delta=mean(delta_average_mutation),\n",
    "                                        se_delta = sd(delta_average_mutation)/sqrt(n()),\n",
    "                                        )\n",
    "\n",
    "\n",
    "\n",
    "T1_T5_delta_mut<-ggplot(data,aes(x=Region,y=delta_average_mutation))+\n",
    "    geom_violin(aes(x=Region,y=delta_average_mutation,fill=Region))+\n",
    "    geom_boxplot(aes(x=Region,y=delta_average_mutation),width=.4,outlier.size = .1)+\n",
    "    geom_point(data = data_summary, aes(x = Region, y = mean_delta, group = Region),fill = \"black\", size = 1) +\n",
    "  geom_errorbar(data = data_summary, aes(x = Region, y = mean_delta, ymin = mean_delta - se_delta, ymax = mean_delta + se_delta), width = .5) +\n",
    "    geom_signif(comparisons = list(c(\"T5\",\"T1\"),c(\"T5\",\"T2\"),c(\"T5\",\"T3\"),c(\"T5\",\"T4\")),\n",
    "              map_signif_level=T,\n",
    "              textsize=4,test=wilcox.test,step_increase=0.1,vjust=2,tip_length=0.02)+\n",
    "    theme_classic()+geom_hline(yintercept=0,col = \"red\")+\n",
    "    theme(text =element_text(size=14),axis.text =element_text(size=14))+\n",
    "    xlab(\"\")+ylab(\"Mutation Difference\\n(Selected Region - The Other Regions)\")+\n",
    "    scale_fill_manual(values=mypal)\n",
    "\n",
    "    T1_T5_delta_mut"
   ]
  },
  {
   "cell_type": "code",
   "execution_count": 36,
   "metadata": {
    "vscode": {
     "languageId": "r"
    }
   },
   "outputs": [
    {
     "data": {
      "image/png": "[encoded data removed]",
      "text/plain": [
       "plot without title"
      ]
     },
     "metadata": {
      "image/png": {
       "height": 240,
       "width": 240
      }
     },
     "output_type": "display_data"
    },
    {
     "data": {
      "text/html": [
       "<strong>null device:</strong> 1"
      ],
      "text/latex": [
       "\\textbf{null device:} 1"
      ],
      "text/markdown": [
       "**null device:** 1"
      ],
      "text/plain": [
       "null device \n",
       "          1 "
      ]
     },
     "metadata": {},
     "output_type": "display_data"
    },
    {
     "data": {
      "image/png": "[encoded data removed]",
      "text/plain": [
       "plot without title"
      ]
     },
     "metadata": {
      "image/png": {
       "height": 240,
       "width": 240
      }
     },
     "output_type": "display_data"
    }
   ],
   "source": [
    "pdf(\"Fig5I.MR_het.delta_mutation.pdf\",5,3)\n",
    "T1_T5_delta_mut\n",
    "dev.off()"
   ]
  },
  {
   "cell_type": "code",
   "execution_count": 20,
   "metadata": {
    "vscode": {
     "languageId": "r"
    }
   },
   "outputs": [],
   "source": [
    "write.csv(data,\"Fig5I.csv\",quote=FALSE,row.names=FALSE)"
   ]
  }
 ],
 "metadata": {
  "kernelspec": {
   "display_name": "R",
   "language": "R",
   "name": "ir"
  },
  "language_info": {
   "codemirror_mode": "r",
   "file_extension": ".r",
   "mimetype": "text/x-r-source",
   "name": "R",
   "pygments_lexer": "r",
   "version": "4.1.3"
  },
  "orig_nbformat": 4
 },
 "nbformat": 4,
 "nbformat_minor": 2
}
